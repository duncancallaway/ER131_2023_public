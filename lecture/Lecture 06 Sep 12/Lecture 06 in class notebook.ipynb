{
 "cells": [
  {
   "cell_type": "markdown",
   "id": "bee8c0cd",
   "metadata": {},
   "source": [
    "### Lecture 06 notebook - EDA\n",
    "This notebook will follow the EDA notes in the Lecture 05 folder."
   ]
  },
  {
   "cell_type": "code",
   "execution_count": 2,
   "id": "9d107dc3",
   "metadata": {},
   "outputs": [],
   "source": [
    "import numpy as np\n",
    "import pandas as pd"
   ]
  },
  {
   "cell_type": "code",
   "execution_count": 3,
   "id": "b188e1b5",
   "metadata": {},
   "outputs": [
    {
     "name": "stdout",
     "output_type": "stream",
     "text": [
      "Alameda Gold Coast (outside) (37.767347 -122.267255) Primary Real Time 09_08_2021 09_07_2022.csv\r\n",
      "B59-Mech (outside) (37.875921 -122.253082) Primary Real Time 09_08_2021 09_07_2022.csv\r\n",
      "Backyard (outside) (37.826875 -122.245254) Primary Real Time 09_08_2021 09_07_2022.csv\r\n",
      "Bower House (outside) (37.803884 -122.297151) Primary Real Time 09_08_2021 09_07_2022.csv\r\n",
      "Moraga Ave (outside) (37.83023 -122.239963) Primary Real Time 09_08_2021 09_07_2022.csv\r\n",
      "manzanita at villanova (outside) (37.84099 -122.196456) Primary Real Time 09_08_2021 09_07_2022.csv\r\n"
     ]
    }
   ],
   "source": [
    "!ls data"
   ]
  },
  {
   "cell_type": "code",
   "execution_count": 4,
   "id": "30f3895a",
   "metadata": {},
   "outputs": [],
   "source": [
    "Bower = pd.read_csv('data/Bower House (outside) (37.803884 -122.297151) Primary Real Time 09_08_2021 09_07_2022.csv')"
   ]
  },
  {
   "cell_type": "code",
   "execution_count": 5,
   "id": "268b3b6c",
   "metadata": {},
   "outputs": [
    {
     "data": {
      "text/html": [
       "<div>\n",
       "<style scoped>\n",
       "    .dataframe tbody tr th:only-of-type {\n",
       "        vertical-align: middle;\n",
       "    }\n",
       "\n",
       "    .dataframe tbody tr th {\n",
       "        vertical-align: top;\n",
       "    }\n",
       "\n",
       "    .dataframe thead th {\n",
       "        text-align: right;\n",
       "    }\n",
       "</style>\n",
       "<table border=\"1\" class=\"dataframe\">\n",
       "  <thead>\n",
       "    <tr style=\"text-align: right;\">\n",
       "      <th></th>\n",
       "      <th>created_at</th>\n",
       "      <th>entry_id</th>\n",
       "      <th>PM1.0_CF1_ug/m3</th>\n",
       "      <th>PM2.5_CF1_ug/m3</th>\n",
       "      <th>PM10.0_CF1_ug/m3</th>\n",
       "      <th>UptimeMinutes</th>\n",
       "      <th>RSSI_dbm</th>\n",
       "      <th>Temperature_F</th>\n",
       "      <th>Humidity_%</th>\n",
       "      <th>PM2.5_ATM_ug/m3</th>\n",
       "      <th>Unnamed: 10</th>\n",
       "    </tr>\n",
       "  </thead>\n",
       "  <tbody>\n",
       "    <tr>\n",
       "      <th>0</th>\n",
       "      <td>2021-09-08 00:00:30 UTC</td>\n",
       "      <td>271065</td>\n",
       "      <td>14.34</td>\n",
       "      <td>29.12</td>\n",
       "      <td>38.14</td>\n",
       "      <td>40112.0</td>\n",
       "      <td>-71.0</td>\n",
       "      <td>84.0</td>\n",
       "      <td>38.0</td>\n",
       "      <td>28.73</td>\n",
       "      <td>NaN</td>\n",
       "    </tr>\n",
       "    <tr>\n",
       "      <th>1</th>\n",
       "      <td>2021-09-08 00:02:30 UTC</td>\n",
       "      <td>271066</td>\n",
       "      <td>15.74</td>\n",
       "      <td>29.59</td>\n",
       "      <td>37.28</td>\n",
       "      <td>40114.0</td>\n",
       "      <td>-70.0</td>\n",
       "      <td>84.0</td>\n",
       "      <td>38.0</td>\n",
       "      <td>29.15</td>\n",
       "      <td>NaN</td>\n",
       "    </tr>\n",
       "    <tr>\n",
       "      <th>2</th>\n",
       "      <td>2021-09-08 00:04:30 UTC</td>\n",
       "      <td>271067</td>\n",
       "      <td>13.86</td>\n",
       "      <td>28.89</td>\n",
       "      <td>41.70</td>\n",
       "      <td>40116.0</td>\n",
       "      <td>-75.0</td>\n",
       "      <td>84.0</td>\n",
       "      <td>37.0</td>\n",
       "      <td>28.64</td>\n",
       "      <td>NaN</td>\n",
       "    </tr>\n",
       "    <tr>\n",
       "      <th>3</th>\n",
       "      <td>2021-09-08 00:06:30 UTC</td>\n",
       "      <td>271068</td>\n",
       "      <td>14.43</td>\n",
       "      <td>28.59</td>\n",
       "      <td>45.93</td>\n",
       "      <td>40118.0</td>\n",
       "      <td>-76.0</td>\n",
       "      <td>84.0</td>\n",
       "      <td>37.0</td>\n",
       "      <td>28.41</td>\n",
       "      <td>NaN</td>\n",
       "    </tr>\n",
       "    <tr>\n",
       "      <th>4</th>\n",
       "      <td>2021-09-08 00:08:30 UTC</td>\n",
       "      <td>271069</td>\n",
       "      <td>13.00</td>\n",
       "      <td>27.02</td>\n",
       "      <td>41.47</td>\n",
       "      <td>40120.0</td>\n",
       "      <td>-70.0</td>\n",
       "      <td>84.0</td>\n",
       "      <td>36.0</td>\n",
       "      <td>27.02</td>\n",
       "      <td>NaN</td>\n",
       "    </tr>\n",
       "  </tbody>\n",
       "</table>\n",
       "</div>"
      ],
      "text/plain": [
       "                created_at  entry_id  PM1.0_CF1_ug/m3  PM2.5_CF1_ug/m3  \\\n",
       "0  2021-09-08 00:00:30 UTC    271065            14.34            29.12   \n",
       "1  2021-09-08 00:02:30 UTC    271066            15.74            29.59   \n",
       "2  2021-09-08 00:04:30 UTC    271067            13.86            28.89   \n",
       "3  2021-09-08 00:06:30 UTC    271068            14.43            28.59   \n",
       "4  2021-09-08 00:08:30 UTC    271069            13.00            27.02   \n",
       "\n",
       "   PM10.0_CF1_ug/m3  UptimeMinutes  RSSI_dbm  Temperature_F  Humidity_%  \\\n",
       "0             38.14        40112.0     -71.0           84.0        38.0   \n",
       "1             37.28        40114.0     -70.0           84.0        38.0   \n",
       "2             41.70        40116.0     -75.0           84.0        37.0   \n",
       "3             45.93        40118.0     -76.0           84.0        37.0   \n",
       "4             41.47        40120.0     -70.0           84.0        36.0   \n",
       "\n",
       "   PM2.5_ATM_ug/m3  Unnamed: 10  \n",
       "0            28.73          NaN  \n",
       "1            29.15          NaN  \n",
       "2            28.64          NaN  \n",
       "3            28.41          NaN  \n",
       "4            27.02          NaN  "
      ]
     },
     "execution_count": 5,
     "metadata": {},
     "output_type": "execute_result"
    }
   ],
   "source": [
    "Bower.head()"
   ]
  },
  {
   "cell_type": "code",
   "execution_count": 6,
   "id": "fcab65de",
   "metadata": {},
   "outputs": [
    {
     "data": {
      "text/html": [
       "<div>\n",
       "<style scoped>\n",
       "    .dataframe tbody tr th:only-of-type {\n",
       "        vertical-align: middle;\n",
       "    }\n",
       "\n",
       "    .dataframe tbody tr th {\n",
       "        vertical-align: top;\n",
       "    }\n",
       "\n",
       "    .dataframe thead th {\n",
       "        text-align: right;\n",
       "    }\n",
       "</style>\n",
       "<table border=\"1\" class=\"dataframe\">\n",
       "  <thead>\n",
       "    <tr style=\"text-align: right;\">\n",
       "      <th></th>\n",
       "      <th>entry_id</th>\n",
       "      <th>PM1.0_CF1_ug/m3</th>\n",
       "      <th>PM2.5_CF1_ug/m3</th>\n",
       "      <th>PM10.0_CF1_ug/m3</th>\n",
       "      <th>UptimeMinutes</th>\n",
       "      <th>RSSI_dbm</th>\n",
       "      <th>Temperature_F</th>\n",
       "      <th>Humidity_%</th>\n",
       "      <th>PM2.5_ATM_ug/m3</th>\n",
       "      <th>Unnamed: 10</th>\n",
       "    </tr>\n",
       "  </thead>\n",
       "  <tbody>\n",
       "    <tr>\n",
       "      <th>count</th>\n",
       "      <td>351942.000000</td>\n",
       "      <td>351942.000000</td>\n",
       "      <td>351942.000000</td>\n",
       "      <td>351942.000000</td>\n",
       "      <td>351942.000000</td>\n",
       "      <td>351942.000000</td>\n",
       "      <td>351942.000000</td>\n",
       "      <td>351942.000000</td>\n",
       "      <td>351942.000000</td>\n",
       "      <td>0.0</td>\n",
       "    </tr>\n",
       "    <tr>\n",
       "      <th>mean</th>\n",
       "      <td>390592.636500</td>\n",
       "      <td>7.703851</td>\n",
       "      <td>15.989965</td>\n",
       "      <td>24.196788</td>\n",
       "      <td>26747.629834</td>\n",
       "      <td>-70.180916</td>\n",
       "      <td>65.679018</td>\n",
       "      <td>50.249541</td>\n",
       "      <td>14.203361</td>\n",
       "      <td>NaN</td>\n",
       "    </tr>\n",
       "    <tr>\n",
       "      <th>std</th>\n",
       "      <td>68985.096555</td>\n",
       "      <td>9.894243</td>\n",
       "      <td>19.466634</td>\n",
       "      <td>24.491579</td>\n",
       "      <td>18879.817383</td>\n",
       "      <td>5.026611</td>\n",
       "      <td>11.876395</td>\n",
       "      <td>14.772064</td>\n",
       "      <td>14.610303</td>\n",
       "      <td>NaN</td>\n",
       "    </tr>\n",
       "    <tr>\n",
       "      <th>min</th>\n",
       "      <td>271065.000000</td>\n",
       "      <td>0.000000</td>\n",
       "      <td>0.000000</td>\n",
       "      <td>0.000000</td>\n",
       "      <td>1.000000</td>\n",
       "      <td>-93.000000</td>\n",
       "      <td>36.000000</td>\n",
       "      <td>5.000000</td>\n",
       "      <td>0.000000</td>\n",
       "      <td>NaN</td>\n",
       "    </tr>\n",
       "    <tr>\n",
       "      <th>25%</th>\n",
       "      <td>336116.000000</td>\n",
       "      <td>1.210000</td>\n",
       "      <td>3.590000</td>\n",
       "      <td>6.750000</td>\n",
       "      <td>10005.000000</td>\n",
       "      <td>-71.000000</td>\n",
       "      <td>58.000000</td>\n",
       "      <td>41.000000</td>\n",
       "      <td>3.590000</td>\n",
       "      <td>NaN</td>\n",
       "    </tr>\n",
       "    <tr>\n",
       "      <th>50%</th>\n",
       "      <td>380108.500000</td>\n",
       "      <td>3.760000</td>\n",
       "      <td>8.750000</td>\n",
       "      <td>16.410000</td>\n",
       "      <td>23995.500000</td>\n",
       "      <td>-69.000000</td>\n",
       "      <td>63.000000</td>\n",
       "      <td>55.000000</td>\n",
       "      <td>8.750000</td>\n",
       "      <td>NaN</td>\n",
       "    </tr>\n",
       "    <tr>\n",
       "      <th>75%</th>\n",
       "      <td>444398.750000</td>\n",
       "      <td>10.220000</td>\n",
       "      <td>20.280000</td>\n",
       "      <td>33.270000</td>\n",
       "      <td>41299.000000</td>\n",
       "      <td>-67.000000</td>\n",
       "      <td>71.000000</td>\n",
       "      <td>62.000000</td>\n",
       "      <td>20.270000</td>\n",
       "      <td>NaN</td>\n",
       "    </tr>\n",
       "    <tr>\n",
       "      <th>max</th>\n",
       "      <td>532384.000000</td>\n",
       "      <td>336.360000</td>\n",
       "      <td>1297.910000</td>\n",
       "      <td>1582.450000</td>\n",
       "      <td>71582.000000</td>\n",
       "      <td>-53.000000</td>\n",
       "      <td>126.000000</td>\n",
       "      <td>77.000000</td>\n",
       "      <td>865.120000</td>\n",
       "      <td>NaN</td>\n",
       "    </tr>\n",
       "  </tbody>\n",
       "</table>\n",
       "</div>"
      ],
      "text/plain": [
       "            entry_id  PM1.0_CF1_ug/m3  PM2.5_CF1_ug/m3  PM10.0_CF1_ug/m3  \\\n",
       "count  351942.000000    351942.000000    351942.000000     351942.000000   \n",
       "mean   390592.636500         7.703851        15.989965         24.196788   \n",
       "std     68985.096555         9.894243        19.466634         24.491579   \n",
       "min    271065.000000         0.000000         0.000000          0.000000   \n",
       "25%    336116.000000         1.210000         3.590000          6.750000   \n",
       "50%    380108.500000         3.760000         8.750000         16.410000   \n",
       "75%    444398.750000        10.220000        20.280000         33.270000   \n",
       "max    532384.000000       336.360000      1297.910000       1582.450000   \n",
       "\n",
       "       UptimeMinutes       RSSI_dbm  Temperature_F     Humidity_%  \\\n",
       "count  351942.000000  351942.000000  351942.000000  351942.000000   \n",
       "mean    26747.629834     -70.180916      65.679018      50.249541   \n",
       "std     18879.817383       5.026611      11.876395      14.772064   \n",
       "min         1.000000     -93.000000      36.000000       5.000000   \n",
       "25%     10005.000000     -71.000000      58.000000      41.000000   \n",
       "50%     23995.500000     -69.000000      63.000000      55.000000   \n",
       "75%     41299.000000     -67.000000      71.000000      62.000000   \n",
       "max     71582.000000     -53.000000     126.000000      77.000000   \n",
       "\n",
       "       PM2.5_ATM_ug/m3  Unnamed: 10  \n",
       "count    351942.000000          0.0  \n",
       "mean         14.203361          NaN  \n",
       "std          14.610303          NaN  \n",
       "min           0.000000          NaN  \n",
       "25%           3.590000          NaN  \n",
       "50%           8.750000          NaN  \n",
       "75%          20.270000          NaN  \n",
       "max         865.120000          NaN  "
      ]
     },
     "execution_count": 6,
     "metadata": {},
     "output_type": "execute_result"
    }
   ],
   "source": [
    "Bower.describe()"
   ]
  },
  {
   "cell_type": "code",
   "execution_count": 8,
   "id": "125447ff",
   "metadata": {},
   "outputs": [
    {
     "name": "stdout",
     "output_type": "stream",
     "text": [
      "Alameda Gold Coast (outside) (37.767347 -122.267255) Primary Real Time 09_08_2021 09_07_2022.csv\r\n",
      "B59-Mech (outside) (37.875921 -122.253082) Primary Real Time 09_08_2021 09_07_2022.csv\r\n",
      "Backyard (outside) (37.826875 -122.245254) Primary Real Time 09_08_2021 09_07_2022.csv\r\n",
      "Bower House (outside) (37.803884 -122.297151) Primary Real Time 09_08_2021 09_07_2022.csv\r\n",
      "Moraga Ave (outside) (37.83023 -122.239963) Primary Real Time 09_08_2021 09_07_2022.csv\r\n",
      "manzanita at villanova (outside) (37.84099 -122.196456) Primary Real Time 09_08_2021 09_07_2022.csv\r\n"
     ]
    }
   ],
   "source": [
    "!ls data"
   ]
  },
  {
   "cell_type": "code",
   "execution_count": 9,
   "id": "fa763e13",
   "metadata": {},
   "outputs": [],
   "source": [
    "alameda = pd.read_csv('data/Alameda Gold Coast (outside) (37.767347 -122.267255) Primary Real Time 09_08_2021 09_07_2022.csv')\n",
    "backyard = pd.read_csv('data/Backyard (outside) (37.826875 -122.245254) Primary Real Time 09_08_2021 09_07_2022.csv')\n",
    "moraga = pd.read_csv('data/Moraga Ave (outside) (37.83023 -122.239963) Primary Real Time 09_08_2021 09_07_2022.csv')\n",
    "manzanita = pd.read_csv('data/manzanita at villanova (outside) (37.84099 -122.196456) Primary Real Time 09_08_2021 09_07_2022.csv')"
   ]
  },
  {
   "cell_type": "markdown",
   "id": "c0992c81",
   "metadata": {},
   "source": [
    "# Let's look at averages in order of distance from bay:"
   ]
  },
  {
   "cell_type": "code",
   "execution_count": 10,
   "id": "2ffeb2ec",
   "metadata": {},
   "outputs": [
    {
     "data": {
      "text/plain": [
       "13.041692402454741"
      ]
     },
     "execution_count": 10,
     "metadata": {},
     "output_type": "execute_result"
    }
   ],
   "source": [
    "np.mean(alameda['PM2.5_CF1_ug/m3'])"
   ]
  },
  {
   "cell_type": "code",
   "execution_count": 11,
   "id": "427e7d8b",
   "metadata": {},
   "outputs": [
    {
     "data": {
      "text/plain": [
       "15.989965193128413"
      ]
     },
     "execution_count": 11,
     "metadata": {},
     "output_type": "execute_result"
    }
   ],
   "source": [
    "np.mean(Bower['PM2.5_CF1_ug/m3'])"
   ]
  },
  {
   "cell_type": "code",
   "execution_count": 12,
   "id": "33016ca2",
   "metadata": {},
   "outputs": [
    {
     "data": {
      "text/plain": [
       "11.776786947061435"
      ]
     },
     "execution_count": 12,
     "metadata": {},
     "output_type": "execute_result"
    }
   ],
   "source": [
    "np.mean(backyard['PM2.5_CF1_ug/m3'])"
   ]
  },
  {
   "cell_type": "code",
   "execution_count": 13,
   "id": "4a7f116b",
   "metadata": {},
   "outputs": [
    {
     "data": {
      "text/plain": [
       "10.18030246986375"
      ]
     },
     "execution_count": 13,
     "metadata": {},
     "output_type": "execute_result"
    }
   ],
   "source": [
    "np.mean(moraga['PM2.5_CF1_ug/m3'])"
   ]
  },
  {
   "cell_type": "code",
   "execution_count": 14,
   "id": "6bd02d78",
   "metadata": {},
   "outputs": [
    {
     "data": {
      "text/plain": [
       "8.031333700168869"
      ]
     },
     "execution_count": 14,
     "metadata": {},
     "output_type": "execute_result"
    }
   ],
   "source": [
    "np.mean(manzanita['PM2.5_CF1_ug/m3'])"
   ]
  },
  {
   "cell_type": "code",
   "execution_count": 15,
   "id": "831848d2",
   "metadata": {},
   "outputs": [],
   "source": [
    "Bowertime = pd.to_datetime(Bower['created_at'], utc =True)"
   ]
  },
  {
   "cell_type": "code",
   "execution_count": 20,
   "id": "7cb753c0",
   "metadata": {},
   "outputs": [
    {
     "data": {
      "text/plain": [
       "8"
      ]
     },
     "execution_count": 20,
     "metadata": {},
     "output_type": "execute_result"
    }
   ],
   "source": [
    "Bowertime[0].day"
   ]
  },
  {
   "cell_type": "code",
   "execution_count": 21,
   "id": "028e72ab",
   "metadata": {},
   "outputs": [
    {
     "data": {
      "text/plain": [
       "datetime64[ns, UTC]"
      ]
     },
     "execution_count": 21,
     "metadata": {},
     "output_type": "execute_result"
    }
   ],
   "source": [
    "Bowertime.dtype"
   ]
  },
  {
   "cell_type": "code",
   "execution_count": 22,
   "id": "f5799129",
   "metadata": {},
   "outputs": [
    {
     "data": {
      "text/plain": [
       "0        2021-09-08 00:00:30+00:00\n",
       "1        2021-09-08 00:02:30+00:00\n",
       "2        2021-09-08 00:04:30+00:00\n",
       "3        2021-09-08 00:06:30+00:00\n",
       "4        2021-09-08 00:08:30+00:00\n",
       "                    ...           \n",
       "351937   2022-09-07 23:50:17+00:00\n",
       "351938   2022-09-07 23:52:17+00:00\n",
       "351939   2022-09-07 23:54:17+00:00\n",
       "351940   2022-09-07 23:56:17+00:00\n",
       "351941   2022-09-07 23:58:17+00:00\n",
       "Name: created_at, Length: 351942, dtype: datetime64[ns, UTC]"
      ]
     },
     "execution_count": 22,
     "metadata": {},
     "output_type": "execute_result"
    }
   ],
   "source": [
    "Bowertime"
   ]
  },
  {
   "cell_type": "code",
   "execution_count": 23,
   "id": "8b87763b",
   "metadata": {},
   "outputs": [
    {
     "data": {
      "text/plain": [
       "Timestamp('2021-09-08 00:00:30+0000', tz='UTC')"
      ]
     },
     "execution_count": 23,
     "metadata": {},
     "output_type": "execute_result"
    }
   ],
   "source": [
    "Bowertime.min()"
   ]
  },
  {
   "cell_type": "code",
   "execution_count": 24,
   "id": "ba0edd94",
   "metadata": {},
   "outputs": [
    {
     "data": {
      "text/plain": [
       "Timestamp('2022-09-07 23:58:17+0000', tz='UTC')"
      ]
     },
     "execution_count": 24,
     "metadata": {},
     "output_type": "execute_result"
    }
   ],
   "source": [
    "Bowertime.max()"
   ]
  },
  {
   "cell_type": "code",
   "execution_count": 25,
   "id": "b1f40793",
   "metadata": {},
   "outputs": [
    {
     "data": {
      "text/html": [
       "<div>\n",
       "<style scoped>\n",
       "    .dataframe tbody tr th:only-of-type {\n",
       "        vertical-align: middle;\n",
       "    }\n",
       "\n",
       "    .dataframe tbody tr th {\n",
       "        vertical-align: top;\n",
       "    }\n",
       "\n",
       "    .dataframe thead th {\n",
       "        text-align: right;\n",
       "    }\n",
       "</style>\n",
       "<table border=\"1\" class=\"dataframe\">\n",
       "  <thead>\n",
       "    <tr style=\"text-align: right;\">\n",
       "      <th></th>\n",
       "      <th>entry_id</th>\n",
       "      <th>PM1.0_CF1_ug/m3</th>\n",
       "      <th>PM2.5_CF1_ug/m3</th>\n",
       "      <th>PM10.0_CF1_ug/m3</th>\n",
       "      <th>UptimeMinutes</th>\n",
       "      <th>RSSI_dbm</th>\n",
       "      <th>Temperature_F</th>\n",
       "      <th>Humidity_%</th>\n",
       "      <th>PM2.5_ATM_ug/m3</th>\n",
       "      <th>Unnamed: 10</th>\n",
       "    </tr>\n",
       "  </thead>\n",
       "  <tbody>\n",
       "    <tr>\n",
       "      <th>count</th>\n",
       "      <td>351942.000000</td>\n",
       "      <td>351942.000000</td>\n",
       "      <td>351942.000000</td>\n",
       "      <td>351942.000000</td>\n",
       "      <td>351942.000000</td>\n",
       "      <td>351942.000000</td>\n",
       "      <td>351942.000000</td>\n",
       "      <td>351942.000000</td>\n",
       "      <td>351942.000000</td>\n",
       "      <td>0.0</td>\n",
       "    </tr>\n",
       "    <tr>\n",
       "      <th>mean</th>\n",
       "      <td>390592.636500</td>\n",
       "      <td>7.703851</td>\n",
       "      <td>15.989965</td>\n",
       "      <td>24.196788</td>\n",
       "      <td>26747.629834</td>\n",
       "      <td>-70.180916</td>\n",
       "      <td>65.679018</td>\n",
       "      <td>50.249541</td>\n",
       "      <td>14.203361</td>\n",
       "      <td>NaN</td>\n",
       "    </tr>\n",
       "    <tr>\n",
       "      <th>std</th>\n",
       "      <td>68985.096555</td>\n",
       "      <td>9.894243</td>\n",
       "      <td>19.466634</td>\n",
       "      <td>24.491579</td>\n",
       "      <td>18879.817383</td>\n",
       "      <td>5.026611</td>\n",
       "      <td>11.876395</td>\n",
       "      <td>14.772064</td>\n",
       "      <td>14.610303</td>\n",
       "      <td>NaN</td>\n",
       "    </tr>\n",
       "    <tr>\n",
       "      <th>min</th>\n",
       "      <td>271065.000000</td>\n",
       "      <td>0.000000</td>\n",
       "      <td>0.000000</td>\n",
       "      <td>0.000000</td>\n",
       "      <td>1.000000</td>\n",
       "      <td>-93.000000</td>\n",
       "      <td>36.000000</td>\n",
       "      <td>5.000000</td>\n",
       "      <td>0.000000</td>\n",
       "      <td>NaN</td>\n",
       "    </tr>\n",
       "    <tr>\n",
       "      <th>25%</th>\n",
       "      <td>336116.000000</td>\n",
       "      <td>1.210000</td>\n",
       "      <td>3.590000</td>\n",
       "      <td>6.750000</td>\n",
       "      <td>10005.000000</td>\n",
       "      <td>-71.000000</td>\n",
       "      <td>58.000000</td>\n",
       "      <td>41.000000</td>\n",
       "      <td>3.590000</td>\n",
       "      <td>NaN</td>\n",
       "    </tr>\n",
       "    <tr>\n",
       "      <th>50%</th>\n",
       "      <td>380108.500000</td>\n",
       "      <td>3.760000</td>\n",
       "      <td>8.750000</td>\n",
       "      <td>16.410000</td>\n",
       "      <td>23995.500000</td>\n",
       "      <td>-69.000000</td>\n",
       "      <td>63.000000</td>\n",
       "      <td>55.000000</td>\n",
       "      <td>8.750000</td>\n",
       "      <td>NaN</td>\n",
       "    </tr>\n",
       "    <tr>\n",
       "      <th>75%</th>\n",
       "      <td>444398.750000</td>\n",
       "      <td>10.220000</td>\n",
       "      <td>20.280000</td>\n",
       "      <td>33.270000</td>\n",
       "      <td>41299.000000</td>\n",
       "      <td>-67.000000</td>\n",
       "      <td>71.000000</td>\n",
       "      <td>62.000000</td>\n",
       "      <td>20.270000</td>\n",
       "      <td>NaN</td>\n",
       "    </tr>\n",
       "    <tr>\n",
       "      <th>max</th>\n",
       "      <td>532384.000000</td>\n",
       "      <td>336.360000</td>\n",
       "      <td>1297.910000</td>\n",
       "      <td>1582.450000</td>\n",
       "      <td>71582.000000</td>\n",
       "      <td>-53.000000</td>\n",
       "      <td>126.000000</td>\n",
       "      <td>77.000000</td>\n",
       "      <td>865.120000</td>\n",
       "      <td>NaN</td>\n",
       "    </tr>\n",
       "  </tbody>\n",
       "</table>\n",
       "</div>"
      ],
      "text/plain": [
       "            entry_id  PM1.0_CF1_ug/m3  PM2.5_CF1_ug/m3  PM10.0_CF1_ug/m3  \\\n",
       "count  351942.000000    351942.000000    351942.000000     351942.000000   \n",
       "mean   390592.636500         7.703851        15.989965         24.196788   \n",
       "std     68985.096555         9.894243        19.466634         24.491579   \n",
       "min    271065.000000         0.000000         0.000000          0.000000   \n",
       "25%    336116.000000         1.210000         3.590000          6.750000   \n",
       "50%    380108.500000         3.760000         8.750000         16.410000   \n",
       "75%    444398.750000        10.220000        20.280000         33.270000   \n",
       "max    532384.000000       336.360000      1297.910000       1582.450000   \n",
       "\n",
       "       UptimeMinutes       RSSI_dbm  Temperature_F     Humidity_%  \\\n",
       "count  351942.000000  351942.000000  351942.000000  351942.000000   \n",
       "mean    26747.629834     -70.180916      65.679018      50.249541   \n",
       "std     18879.817383       5.026611      11.876395      14.772064   \n",
       "min         1.000000     -93.000000      36.000000       5.000000   \n",
       "25%     10005.000000     -71.000000      58.000000      41.000000   \n",
       "50%     23995.500000     -69.000000      63.000000      55.000000   \n",
       "75%     41299.000000     -67.000000      71.000000      62.000000   \n",
       "max     71582.000000     -53.000000     126.000000      77.000000   \n",
       "\n",
       "       PM2.5_ATM_ug/m3  Unnamed: 10  \n",
       "count    351942.000000          0.0  \n",
       "mean         14.203361          NaN  \n",
       "std          14.610303          NaN  \n",
       "min           0.000000          NaN  \n",
       "25%           3.590000          NaN  \n",
       "50%           8.750000          NaN  \n",
       "75%          20.270000          NaN  \n",
       "max         865.120000          NaN  "
      ]
     },
     "execution_count": 25,
     "metadata": {},
     "output_type": "execute_result"
    }
   ],
   "source": [
    "Bower.describe()"
   ]
  },
  {
   "cell_type": "code",
   "execution_count": null,
   "id": "3b78506c",
   "metadata": {},
   "outputs": [],
   "source": []
  }
 ],
 "metadata": {
  "kernelspec": {
   "display_name": "Python 3 (ipykernel)",
   "language": "python",
   "name": "python3"
  },
  "language_info": {
   "codemirror_mode": {
    "name": "ipython",
    "version": 3
   },
   "file_extension": ".py",
   "mimetype": "text/x-python",
   "name": "python",
   "nbconvert_exporter": "python",
   "pygments_lexer": "ipython3",
   "version": "3.11.4"
  }
 },
 "nbformat": 4,
 "nbformat_minor": 5
}
