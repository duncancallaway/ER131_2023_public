{
 "cells": [
  {
   "cell_type": "markdown",
   "metadata": {},
   "source": [
    "# Pandas .loc and .iloc\n",
    "Duncan Callaway\n",
    "\n",
    "My objective in this notebook is to teach people how to access the information in a Pandas dataframe."
   ]
  },
  {
   "cell_type": "code",
   "execution_count": 1,
   "metadata": {},
   "outputs": [],
   "source": [
    "import pandas as pd"
   ]
  },
  {
   "cell_type": "markdown",
   "metadata": {},
   "source": [
    "Let's load in the California ISO data we used last time"
   ]
  },
  {
   "cell_type": "code",
   "execution_count": 2,
   "metadata": {},
   "outputs": [],
   "source": [
    "caiso_data = pd.read_csv('CAISO_2017to2018.csv')"
   ]
  },
  {
   "cell_type": "code",
   "execution_count": 3,
   "metadata": {},
   "outputs": [
    {
     "data": {
      "text/html": [
       "<div>\n",
       "<style scoped>\n",
       "    .dataframe tbody tr th:only-of-type {\n",
       "        vertical-align: middle;\n",
       "    }\n",
       "\n",
       "    .dataframe tbody tr th {\n",
       "        vertical-align: top;\n",
       "    }\n",
       "\n",
       "    .dataframe thead th {\n",
       "        text-align: right;\n",
       "    }\n",
       "</style>\n",
       "<table border=\"1\" class=\"dataframe\">\n",
       "  <thead>\n",
       "    <tr style=\"text-align: right;\">\n",
       "      <th></th>\n",
       "      <th>Unnamed: 0</th>\n",
       "      <th>GEOTHERMAL</th>\n",
       "      <th>BIOMASS</th>\n",
       "      <th>BIOGAS</th>\n",
       "      <th>SMALL HYDRO</th>\n",
       "      <th>WIND TOTAL</th>\n",
       "      <th>SOLAR PV</th>\n",
       "      <th>SOLAR THERMAL</th>\n",
       "    </tr>\n",
       "  </thead>\n",
       "  <tbody>\n",
       "    <tr>\n",
       "      <th>0</th>\n",
       "      <td>2017-08-29 00:00:00</td>\n",
       "      <td>1181</td>\n",
       "      <td>340</td>\n",
       "      <td>156</td>\n",
       "      <td>324</td>\n",
       "      <td>1551</td>\n",
       "      <td>0</td>\n",
       "      <td>0</td>\n",
       "    </tr>\n",
       "    <tr>\n",
       "      <th>1</th>\n",
       "      <td>2017-08-29 01:00:00</td>\n",
       "      <td>1182</td>\n",
       "      <td>338</td>\n",
       "      <td>156</td>\n",
       "      <td>326</td>\n",
       "      <td>1556</td>\n",
       "      <td>0</td>\n",
       "      <td>0</td>\n",
       "    </tr>\n",
       "    <tr>\n",
       "      <th>2</th>\n",
       "      <td>2017-08-29 02:00:00</td>\n",
       "      <td>1183</td>\n",
       "      <td>337</td>\n",
       "      <td>156</td>\n",
       "      <td>337</td>\n",
       "      <td>1325</td>\n",
       "      <td>0</td>\n",
       "      <td>0</td>\n",
       "    </tr>\n",
       "    <tr>\n",
       "      <th>3</th>\n",
       "      <td>2017-08-29 03:00:00</td>\n",
       "      <td>1185</td>\n",
       "      <td>339</td>\n",
       "      <td>156</td>\n",
       "      <td>313</td>\n",
       "      <td>1158</td>\n",
       "      <td>0</td>\n",
       "      <td>0</td>\n",
       "    </tr>\n",
       "    <tr>\n",
       "      <th>4</th>\n",
       "      <td>2017-08-29 04:00:00</td>\n",
       "      <td>1190</td>\n",
       "      <td>344</td>\n",
       "      <td>156</td>\n",
       "      <td>320</td>\n",
       "      <td>1209</td>\n",
       "      <td>0</td>\n",
       "      <td>0</td>\n",
       "    </tr>\n",
       "  </tbody>\n",
       "</table>\n",
       "</div>"
      ],
      "text/plain": [
       "            Unnamed: 0  GEOTHERMAL  BIOMASS  BIOGAS  SMALL HYDRO  WIND TOTAL  \\\n",
       "0  2017-08-29 00:00:00        1181      340     156          324        1551   \n",
       "1  2017-08-29 01:00:00        1182      338     156          326        1556   \n",
       "2  2017-08-29 02:00:00        1183      337     156          337        1325   \n",
       "3  2017-08-29 03:00:00        1185      339     156          313        1158   \n",
       "4  2017-08-29 04:00:00        1190      344     156          320        1209   \n",
       "\n",
       "   SOLAR PV  SOLAR THERMAL  \n",
       "0         0              0  \n",
       "1         0              0  \n",
       "2         0              0  \n",
       "3         0              0  \n",
       "4         0              0  "
      ]
     },
     "execution_count": 3,
     "metadata": {},
     "output_type": "execute_result"
    }
   ],
   "source": [
    "caiso_data.head()"
   ]
  },
  {
   "cell_type": "markdown",
   "metadata": {},
   "source": [
    "### Q: What do you get if you call the dict of lists with a key?"
   ]
  },
  {
   "cell_type": "code",
   "execution_count": 4,
   "metadata": {},
   "outputs": [
    {
     "data": {
      "text/plain": [
       "0       156\n",
       "1       156\n",
       "2       156\n",
       "3       156\n",
       "4       156\n",
       "       ... \n",
       "8755    236\n",
       "8756    234\n",
       "8757    233\n",
       "8758    234\n",
       "8759    235\n",
       "Name: BIOGAS, Length: 8760, dtype: int64"
      ]
     },
     "execution_count": 4,
     "metadata": {},
     "output_type": "execute_result"
    }
   ],
   "source": [
    "caiso_data['BIOGAS']"
   ]
  },
  {
   "cell_type": "code",
   "execution_count": 5,
   "metadata": {},
   "outputs": [
    {
     "data": {
      "text/plain": [
       "pandas.core.series.Series"
      ]
     },
     "execution_count": 5,
     "metadata": {},
     "output_type": "execute_result"
    }
   ],
   "source": [
    "type(caiso_data['BIOGAS'])"
   ]
  },
  {
   "cell_type": "markdown",
   "metadata": {},
   "source": [
    "Ans: the list associated with the key.  This is called a pandas 'series'"
   ]
  },
  {
   "cell_type": "markdown",
   "metadata": {},
   "source": [
    "### Q: Figure out how to get solar production at 2pm on August 29 2017"
   ]
  },
  {
   "cell_type": "markdown",
   "metadata": {},
   "source": [
    "First let's check that we've got the right index for the time we want:"
   ]
  },
  {
   "cell_type": "code",
   "execution_count": 6,
   "metadata": {},
   "outputs": [
    {
     "data": {
      "text/plain": [
       "'2017-08-29 14:00:00'"
      ]
     },
     "execution_count": 6,
     "metadata": {},
     "output_type": "execute_result"
    }
   ],
   "source": [
    "caiso_data['Unnamed: 0'][14]"
   ]
  },
  {
   "cell_type": "markdown",
   "metadata": {},
   "source": [
    "Now call the `SOLAR PV` column"
   ]
  },
  {
   "cell_type": "code",
   "execution_count": 7,
   "metadata": {},
   "outputs": [
    {
     "data": {
      "text/plain": [
       "6820"
      ]
     },
     "execution_count": 7,
     "metadata": {},
     "output_type": "execute_result"
    }
   ],
   "source": [
    "caiso_data['SOLAR PV'][14]"
   ]
  },
  {
   "cell_type": "markdown",
   "metadata": {},
   "source": [
    "### Anatomy of the data frame.\n",
    "\n",
    "Let's talk a little about the anatomy of the data frame.\n",
    "\n",
    "<img src=\"dataframe_anatomy.png\" width=\"800px\" align=\"left\" float=\"left\"/>\n",
    "\n",
    "We have the following important attributes:\n",
    "1. Rows\n",
    "2. Columns\n",
    "2. Index\n",
    "3. Column names\n",
    "\n",
    "The \"index\" can be numeric, but as we'll see we can also make the indices strings.  "
   ]
  },
  {
   "cell_type": "code",
   "execution_count": 8,
   "metadata": {},
   "outputs": [
    {
     "data": {
      "text/plain": [
       "Index(['Unnamed: 0', 'GEOTHERMAL', 'BIOMASS', 'BIOGAS', 'SMALL HYDRO',\n",
       "       'WIND TOTAL', 'SOLAR PV', 'SOLAR THERMAL'],\n",
       "      dtype='object')"
      ]
     },
     "execution_count": 8,
     "metadata": {},
     "output_type": "execute_result"
    }
   ],
   "source": [
    "caiso_data = pd.read_csv('CAISO_2017to2018.csv')\n",
    "caiso_data.columns"
   ]
  },
  {
   "cell_type": "markdown",
   "metadata": {},
   "source": [
    "Note that we can't reassign easily because column and index names lists are immutable.  Here is the workaround:"
   ]
  },
  {
   "cell_type": "code",
   "execution_count": 9,
   "metadata": {},
   "outputs": [
    {
     "data": {
      "text/html": [
       "<div>\n",
       "<style scoped>\n",
       "    .dataframe tbody tr th:only-of-type {\n",
       "        vertical-align: middle;\n",
       "    }\n",
       "\n",
       "    .dataframe tbody tr th {\n",
       "        vertical-align: top;\n",
       "    }\n",
       "\n",
       "    .dataframe thead th {\n",
       "        text-align: right;\n",
       "    }\n",
       "</style>\n",
       "<table border=\"1\" class=\"dataframe\">\n",
       "  <thead>\n",
       "    <tr style=\"text-align: right;\">\n",
       "      <th></th>\n",
       "      <th>Date and time</th>\n",
       "      <th>GEOTHERMAL</th>\n",
       "      <th>BIOMASS</th>\n",
       "      <th>BIOGAS</th>\n",
       "      <th>SMALL HYDRO</th>\n",
       "      <th>WIND TOTAL</th>\n",
       "      <th>SOLAR PV</th>\n",
       "      <th>SOLAR THERMAL</th>\n",
       "    </tr>\n",
       "  </thead>\n",
       "  <tbody>\n",
       "    <tr>\n",
       "      <th>0</th>\n",
       "      <td>2017-08-29 00:00:00</td>\n",
       "      <td>1181</td>\n",
       "      <td>340</td>\n",
       "      <td>156</td>\n",
       "      <td>324</td>\n",
       "      <td>1551</td>\n",
       "      <td>0</td>\n",
       "      <td>0</td>\n",
       "    </tr>\n",
       "    <tr>\n",
       "      <th>1</th>\n",
       "      <td>2017-08-29 01:00:00</td>\n",
       "      <td>1182</td>\n",
       "      <td>338</td>\n",
       "      <td>156</td>\n",
       "      <td>326</td>\n",
       "      <td>1556</td>\n",
       "      <td>0</td>\n",
       "      <td>0</td>\n",
       "    </tr>\n",
       "    <tr>\n",
       "      <th>2</th>\n",
       "      <td>2017-08-29 02:00:00</td>\n",
       "      <td>1183</td>\n",
       "      <td>337</td>\n",
       "      <td>156</td>\n",
       "      <td>337</td>\n",
       "      <td>1325</td>\n",
       "      <td>0</td>\n",
       "      <td>0</td>\n",
       "    </tr>\n",
       "    <tr>\n",
       "      <th>3</th>\n",
       "      <td>2017-08-29 03:00:00</td>\n",
       "      <td>1185</td>\n",
       "      <td>339</td>\n",
       "      <td>156</td>\n",
       "      <td>313</td>\n",
       "      <td>1158</td>\n",
       "      <td>0</td>\n",
       "      <td>0</td>\n",
       "    </tr>\n",
       "    <tr>\n",
       "      <th>4</th>\n",
       "      <td>2017-08-29 04:00:00</td>\n",
       "      <td>1190</td>\n",
       "      <td>344</td>\n",
       "      <td>156</td>\n",
       "      <td>320</td>\n",
       "      <td>1209</td>\n",
       "      <td>0</td>\n",
       "      <td>0</td>\n",
       "    </tr>\n",
       "    <tr>\n",
       "      <th>...</th>\n",
       "      <td>...</td>\n",
       "      <td>...</td>\n",
       "      <td>...</td>\n",
       "      <td>...</td>\n",
       "      <td>...</td>\n",
       "      <td>...</td>\n",
       "      <td>...</td>\n",
       "      <td>...</td>\n",
       "    </tr>\n",
       "    <tr>\n",
       "      <th>8755</th>\n",
       "      <td>2018-08-28 19:00:00</td>\n",
       "      <td>962</td>\n",
       "      <td>332</td>\n",
       "      <td>236</td>\n",
       "      <td>581</td>\n",
       "      <td>3300</td>\n",
       "      <td>70</td>\n",
       "      <td>24</td>\n",
       "    </tr>\n",
       "    <tr>\n",
       "      <th>8756</th>\n",
       "      <td>2018-08-28 20:00:00</td>\n",
       "      <td>967</td>\n",
       "      <td>336</td>\n",
       "      <td>234</td>\n",
       "      <td>547</td>\n",
       "      <td>3468</td>\n",
       "      <td>0</td>\n",
       "      <td>17</td>\n",
       "    </tr>\n",
       "    <tr>\n",
       "      <th>8757</th>\n",
       "      <td>2018-08-28 21:00:00</td>\n",
       "      <td>972</td>\n",
       "      <td>336</td>\n",
       "      <td>233</td>\n",
       "      <td>502</td>\n",
       "      <td>3310</td>\n",
       "      <td>0</td>\n",
       "      <td>17</td>\n",
       "    </tr>\n",
       "    <tr>\n",
       "      <th>8758</th>\n",
       "      <td>2018-08-28 22:00:00</td>\n",
       "      <td>975</td>\n",
       "      <td>333</td>\n",
       "      <td>234</td>\n",
       "      <td>361</td>\n",
       "      <td>3068</td>\n",
       "      <td>0</td>\n",
       "      <td>0</td>\n",
       "    </tr>\n",
       "    <tr>\n",
       "      <th>8759</th>\n",
       "      <td>2018-08-28 23:00:00</td>\n",
       "      <td>977</td>\n",
       "      <td>333</td>\n",
       "      <td>235</td>\n",
       "      <td>262</td>\n",
       "      <td>2921</td>\n",
       "      <td>0</td>\n",
       "      <td>0</td>\n",
       "    </tr>\n",
       "  </tbody>\n",
       "</table>\n",
       "<p>8760 rows × 8 columns</p>\n",
       "</div>"
      ],
      "text/plain": [
       "            Date and time  GEOTHERMAL  BIOMASS  BIOGAS  SMALL HYDRO  \\\n",
       "0     2017-08-29 00:00:00        1181      340     156          324   \n",
       "1     2017-08-29 01:00:00        1182      338     156          326   \n",
       "2     2017-08-29 02:00:00        1183      337     156          337   \n",
       "3     2017-08-29 03:00:00        1185      339     156          313   \n",
       "4     2017-08-29 04:00:00        1190      344     156          320   \n",
       "...                   ...         ...      ...     ...          ...   \n",
       "8755  2018-08-28 19:00:00         962      332     236          581   \n",
       "8756  2018-08-28 20:00:00         967      336     234          547   \n",
       "8757  2018-08-28 21:00:00         972      336     233          502   \n",
       "8758  2018-08-28 22:00:00         975      333     234          361   \n",
       "8759  2018-08-28 23:00:00         977      333     235          262   \n",
       "\n",
       "      WIND TOTAL  SOLAR PV  SOLAR THERMAL  \n",
       "0           1551         0              0  \n",
       "1           1556         0              0  \n",
       "2           1325         0              0  \n",
       "3           1158         0              0  \n",
       "4           1209         0              0  \n",
       "...          ...       ...            ...  \n",
       "8755        3300        70             24  \n",
       "8756        3468         0             17  \n",
       "8757        3310         0             17  \n",
       "8758        3068         0              0  \n",
       "8759        2921         0              0  \n",
       "\n",
       "[8760 rows x 8 columns]"
      ]
     },
     "execution_count": 9,
     "metadata": {},
     "output_type": "execute_result"
    }
   ],
   "source": [
    "cols = caiso_data.columns.tolist()\n",
    "cols[0] = 'Date and time'\n",
    "caiso_data.columns = cols\n",
    "caiso_data"
   ]
  },
  {
   "cell_type": "markdown",
   "metadata": {},
   "source": [
    "Ok, that looks a little better for now.  \n",
    "\n",
    "As you can see, all the data are the same type of numeric value -- MWh.  \n",
    "\n",
    "In these cases, sometimes it's natural to \"stack\" the data.  \n",
    "\n",
    "We could do the stacking with a pandas command, `.stack`"
   ]
  },
  {
   "cell_type": "markdown",
   "metadata": {},
   "source": [
    "## Indexing and slicing in Pandas"
   ]
  },
  {
   "cell_type": "markdown",
   "metadata": {},
   "source": [
    "First let's figure out how to slice these data frames.\n",
    "\n",
    "`.iloc` allows us to index and slice on **i**nteger row and column positions, like numpy:"
   ]
  },
  {
   "cell_type": "code",
   "execution_count": 10,
   "metadata": {},
   "outputs": [
    {
     "data": {
      "text/plain": [
       "1182"
      ]
     },
     "execution_count": 10,
     "metadata": {},
     "output_type": "execute_result"
    }
   ],
   "source": [
    "caiso_data.iloc[1,1]"
   ]
  },
  {
   "cell_type": "markdown",
   "metadata": {},
   "source": [
    "But what's nice about `.iloc` is that you can also slice.  It works just like numpy.\n",
    "\n",
    "### Q: Take a slice of the `caiso_data` dataframe that grabs the first four columns of data and the first 10 rows"
   ]
  },
  {
   "cell_type": "code",
   "execution_count": 11,
   "metadata": {},
   "outputs": [
    {
     "data": {
      "text/html": [
       "<div>\n",
       "<style scoped>\n",
       "    .dataframe tbody tr th:only-of-type {\n",
       "        vertical-align: middle;\n",
       "    }\n",
       "\n",
       "    .dataframe tbody tr th {\n",
       "        vertical-align: top;\n",
       "    }\n",
       "\n",
       "    .dataframe thead th {\n",
       "        text-align: right;\n",
       "    }\n",
       "</style>\n",
       "<table border=\"1\" class=\"dataframe\">\n",
       "  <thead>\n",
       "    <tr style=\"text-align: right;\">\n",
       "      <th></th>\n",
       "      <th>Date and time</th>\n",
       "      <th>GEOTHERMAL</th>\n",
       "      <th>BIOMASS</th>\n",
       "      <th>BIOGAS</th>\n",
       "    </tr>\n",
       "  </thead>\n",
       "  <tbody>\n",
       "    <tr>\n",
       "      <th>0</th>\n",
       "      <td>2017-08-29 00:00:00</td>\n",
       "      <td>1181</td>\n",
       "      <td>340</td>\n",
       "      <td>156</td>\n",
       "    </tr>\n",
       "    <tr>\n",
       "      <th>1</th>\n",
       "      <td>2017-08-29 01:00:00</td>\n",
       "      <td>1182</td>\n",
       "      <td>338</td>\n",
       "      <td>156</td>\n",
       "    </tr>\n",
       "    <tr>\n",
       "      <th>2</th>\n",
       "      <td>2017-08-29 02:00:00</td>\n",
       "      <td>1183</td>\n",
       "      <td>337</td>\n",
       "      <td>156</td>\n",
       "    </tr>\n",
       "    <tr>\n",
       "      <th>3</th>\n",
       "      <td>2017-08-29 03:00:00</td>\n",
       "      <td>1185</td>\n",
       "      <td>339</td>\n",
       "      <td>156</td>\n",
       "    </tr>\n",
       "    <tr>\n",
       "      <th>4</th>\n",
       "      <td>2017-08-29 04:00:00</td>\n",
       "      <td>1190</td>\n",
       "      <td>344</td>\n",
       "      <td>156</td>\n",
       "    </tr>\n",
       "    <tr>\n",
       "      <th>5</th>\n",
       "      <td>2017-08-29 05:00:00</td>\n",
       "      <td>1194</td>\n",
       "      <td>351</td>\n",
       "      <td>157</td>\n",
       "    </tr>\n",
       "    <tr>\n",
       "      <th>6</th>\n",
       "      <td>2017-08-29 06:00:00</td>\n",
       "      <td>1196</td>\n",
       "      <td>359</td>\n",
       "      <td>155</td>\n",
       "    </tr>\n",
       "    <tr>\n",
       "      <th>7</th>\n",
       "      <td>2017-08-29 07:00:00</td>\n",
       "      <td>1194</td>\n",
       "      <td>363</td>\n",
       "      <td>153</td>\n",
       "    </tr>\n",
       "    <tr>\n",
       "      <th>8</th>\n",
       "      <td>2017-08-29 08:00:00</td>\n",
       "      <td>1187</td>\n",
       "      <td>364</td>\n",
       "      <td>153</td>\n",
       "    </tr>\n",
       "    <tr>\n",
       "      <th>9</th>\n",
       "      <td>2017-08-29 09:00:00</td>\n",
       "      <td>1189</td>\n",
       "      <td>367</td>\n",
       "      <td>157</td>\n",
       "    </tr>\n",
       "  </tbody>\n",
       "</table>\n",
       "</div>"
      ],
      "text/plain": [
       "         Date and time  GEOTHERMAL  BIOMASS  BIOGAS\n",
       "0  2017-08-29 00:00:00        1181      340     156\n",
       "1  2017-08-29 01:00:00        1182      338     156\n",
       "2  2017-08-29 02:00:00        1183      337     156\n",
       "3  2017-08-29 03:00:00        1185      339     156\n",
       "4  2017-08-29 04:00:00        1190      344     156\n",
       "5  2017-08-29 05:00:00        1194      351     157\n",
       "6  2017-08-29 06:00:00        1196      359     155\n",
       "7  2017-08-29 07:00:00        1194      363     153\n",
       "8  2017-08-29 08:00:00        1187      364     153\n",
       "9  2017-08-29 09:00:00        1189      367     157"
      ]
     },
     "execution_count": 11,
     "metadata": {},
     "output_type": "execute_result"
    }
   ],
   "source": [
    "caiso_data.iloc[0:10, :4]"
   ]
  },
  {
   "cell_type": "markdown",
   "metadata": {},
   "source": [
    "### Q: What would you do if you wanted to get the *last* 10 rows?"
   ]
  },
  {
   "cell_type": "code",
   "execution_count": 12,
   "metadata": {},
   "outputs": [
    {
     "data": {
      "text/html": [
       "<div>\n",
       "<style scoped>\n",
       "    .dataframe tbody tr th:only-of-type {\n",
       "        vertical-align: middle;\n",
       "    }\n",
       "\n",
       "    .dataframe tbody tr th {\n",
       "        vertical-align: top;\n",
       "    }\n",
       "\n",
       "    .dataframe thead th {\n",
       "        text-align: right;\n",
       "    }\n",
       "</style>\n",
       "<table border=\"1\" class=\"dataframe\">\n",
       "  <thead>\n",
       "    <tr style=\"text-align: right;\">\n",
       "      <th></th>\n",
       "      <th>Date and time</th>\n",
       "      <th>GEOTHERMAL</th>\n",
       "      <th>BIOMASS</th>\n",
       "      <th>BIOGAS</th>\n",
       "    </tr>\n",
       "  </thead>\n",
       "  <tbody>\n",
       "    <tr>\n",
       "      <th>8750</th>\n",
       "      <td>2018-08-28 14:00:00</td>\n",
       "      <td>933</td>\n",
       "      <td>338</td>\n",
       "      <td>240</td>\n",
       "    </tr>\n",
       "    <tr>\n",
       "      <th>8751</th>\n",
       "      <td>2018-08-28 15:00:00</td>\n",
       "      <td>933</td>\n",
       "      <td>338</td>\n",
       "      <td>238</td>\n",
       "    </tr>\n",
       "    <tr>\n",
       "      <th>8752</th>\n",
       "      <td>2018-08-28 16:00:00</td>\n",
       "      <td>934</td>\n",
       "      <td>337</td>\n",
       "      <td>239</td>\n",
       "    </tr>\n",
       "    <tr>\n",
       "      <th>8753</th>\n",
       "      <td>2018-08-28 17:00:00</td>\n",
       "      <td>934</td>\n",
       "      <td>336</td>\n",
       "      <td>235</td>\n",
       "    </tr>\n",
       "    <tr>\n",
       "      <th>8754</th>\n",
       "      <td>2018-08-28 18:00:00</td>\n",
       "      <td>955</td>\n",
       "      <td>337</td>\n",
       "      <td>237</td>\n",
       "    </tr>\n",
       "    <tr>\n",
       "      <th>8755</th>\n",
       "      <td>2018-08-28 19:00:00</td>\n",
       "      <td>962</td>\n",
       "      <td>332</td>\n",
       "      <td>236</td>\n",
       "    </tr>\n",
       "    <tr>\n",
       "      <th>8756</th>\n",
       "      <td>2018-08-28 20:00:00</td>\n",
       "      <td>967</td>\n",
       "      <td>336</td>\n",
       "      <td>234</td>\n",
       "    </tr>\n",
       "    <tr>\n",
       "      <th>8757</th>\n",
       "      <td>2018-08-28 21:00:00</td>\n",
       "      <td>972</td>\n",
       "      <td>336</td>\n",
       "      <td>233</td>\n",
       "    </tr>\n",
       "    <tr>\n",
       "      <th>8758</th>\n",
       "      <td>2018-08-28 22:00:00</td>\n",
       "      <td>975</td>\n",
       "      <td>333</td>\n",
       "      <td>234</td>\n",
       "    </tr>\n",
       "    <tr>\n",
       "      <th>8759</th>\n",
       "      <td>2018-08-28 23:00:00</td>\n",
       "      <td>977</td>\n",
       "      <td>333</td>\n",
       "      <td>235</td>\n",
       "    </tr>\n",
       "  </tbody>\n",
       "</table>\n",
       "</div>"
      ],
      "text/plain": [
       "            Date and time  GEOTHERMAL  BIOMASS  BIOGAS\n",
       "8750  2018-08-28 14:00:00         933      338     240\n",
       "8751  2018-08-28 15:00:00         933      338     238\n",
       "8752  2018-08-28 16:00:00         934      337     239\n",
       "8753  2018-08-28 17:00:00         934      336     235\n",
       "8754  2018-08-28 18:00:00         955      337     237\n",
       "8755  2018-08-28 19:00:00         962      332     236\n",
       "8756  2018-08-28 20:00:00         967      336     234\n",
       "8757  2018-08-28 21:00:00         972      336     233\n",
       "8758  2018-08-28 22:00:00         975      333     234\n",
       "8759  2018-08-28 23:00:00         977      333     235"
      ]
     },
     "execution_count": 12,
     "metadata": {},
     "output_type": "execute_result"
    }
   ],
   "source": [
    "caiso_data.iloc[-10:, :4]"
   ]
  },
  {
   "cell_type": "markdown",
   "metadata": {},
   "source": [
    "### Q: Can you print out the last ten rows in reverse order?"
   ]
  },
  {
   "cell_type": "code",
   "execution_count": 13,
   "metadata": {},
   "outputs": [
    {
     "data": {
      "text/html": [
       "<div>\n",
       "<style scoped>\n",
       "    .dataframe tbody tr th:only-of-type {\n",
       "        vertical-align: middle;\n",
       "    }\n",
       "\n",
       "    .dataframe tbody tr th {\n",
       "        vertical-align: top;\n",
       "    }\n",
       "\n",
       "    .dataframe thead th {\n",
       "        text-align: right;\n",
       "    }\n",
       "</style>\n",
       "<table border=\"1\" class=\"dataframe\">\n",
       "  <thead>\n",
       "    <tr style=\"text-align: right;\">\n",
       "      <th></th>\n",
       "      <th>Date and time</th>\n",
       "      <th>GEOTHERMAL</th>\n",
       "      <th>BIOMASS</th>\n",
       "      <th>BIOGAS</th>\n",
       "    </tr>\n",
       "  </thead>\n",
       "  <tbody>\n",
       "    <tr>\n",
       "      <th>8759</th>\n",
       "      <td>2018-08-28 23:00:00</td>\n",
       "      <td>977</td>\n",
       "      <td>333</td>\n",
       "      <td>235</td>\n",
       "    </tr>\n",
       "    <tr>\n",
       "      <th>8758</th>\n",
       "      <td>2018-08-28 22:00:00</td>\n",
       "      <td>975</td>\n",
       "      <td>333</td>\n",
       "      <td>234</td>\n",
       "    </tr>\n",
       "    <tr>\n",
       "      <th>8757</th>\n",
       "      <td>2018-08-28 21:00:00</td>\n",
       "      <td>972</td>\n",
       "      <td>336</td>\n",
       "      <td>233</td>\n",
       "    </tr>\n",
       "    <tr>\n",
       "      <th>8756</th>\n",
       "      <td>2018-08-28 20:00:00</td>\n",
       "      <td>967</td>\n",
       "      <td>336</td>\n",
       "      <td>234</td>\n",
       "    </tr>\n",
       "    <tr>\n",
       "      <th>8755</th>\n",
       "      <td>2018-08-28 19:00:00</td>\n",
       "      <td>962</td>\n",
       "      <td>332</td>\n",
       "      <td>236</td>\n",
       "    </tr>\n",
       "    <tr>\n",
       "      <th>8754</th>\n",
       "      <td>2018-08-28 18:00:00</td>\n",
       "      <td>955</td>\n",
       "      <td>337</td>\n",
       "      <td>237</td>\n",
       "    </tr>\n",
       "    <tr>\n",
       "      <th>8753</th>\n",
       "      <td>2018-08-28 17:00:00</td>\n",
       "      <td>934</td>\n",
       "      <td>336</td>\n",
       "      <td>235</td>\n",
       "    </tr>\n",
       "    <tr>\n",
       "      <th>8752</th>\n",
       "      <td>2018-08-28 16:00:00</td>\n",
       "      <td>934</td>\n",
       "      <td>337</td>\n",
       "      <td>239</td>\n",
       "    </tr>\n",
       "    <tr>\n",
       "      <th>8751</th>\n",
       "      <td>2018-08-28 15:00:00</td>\n",
       "      <td>933</td>\n",
       "      <td>338</td>\n",
       "      <td>238</td>\n",
       "    </tr>\n",
       "  </tbody>\n",
       "</table>\n",
       "</div>"
      ],
      "text/plain": [
       "            Date and time  GEOTHERMAL  BIOMASS  BIOGAS\n",
       "8759  2018-08-28 23:00:00         977      333     235\n",
       "8758  2018-08-28 22:00:00         975      333     234\n",
       "8757  2018-08-28 21:00:00         972      336     233\n",
       "8756  2018-08-28 20:00:00         967      336     234\n",
       "8755  2018-08-28 19:00:00         962      332     236\n",
       "8754  2018-08-28 18:00:00         955      337     237\n",
       "8753  2018-08-28 17:00:00         934      336     235\n",
       "8752  2018-08-28 16:00:00         934      337     239\n",
       "8751  2018-08-28 15:00:00         933      338     238"
      ]
     },
     "execution_count": 13,
     "metadata": {},
     "output_type": "execute_result"
    }
   ],
   "source": [
    "caiso_data.iloc[:-10:-1,:4]"
   ]
  },
  {
   "cell_type": "markdown",
   "metadata": {},
   "source": [
    "`.loc` is similar to `.iloc`, but it allows you to call the index and column names:"
   ]
  },
  {
   "cell_type": "code",
   "execution_count": 14,
   "metadata": {},
   "outputs": [
    {
     "data": {
      "text/plain": [
       "0    2017-08-29 00:00:00\n",
       "1    2017-08-29 01:00:00\n",
       "2    2017-08-29 02:00:00\n",
       "3    2017-08-29 03:00:00\n",
       "4    2017-08-29 04:00:00\n",
       "5    2017-08-29 05:00:00\n",
       "Name: Date and time, dtype: object"
      ]
     },
     "execution_count": 14,
     "metadata": {},
     "output_type": "execute_result"
    }
   ],
   "source": [
    "caiso_data.loc[0:5,'Date and time']"
   ]
  },
  {
   "cell_type": "markdown",
   "metadata": {},
   "source": [
    "You can even slice with column names:"
   ]
  },
  {
   "cell_type": "code",
   "execution_count": 15,
   "metadata": {},
   "outputs": [
    {
     "data": {
      "text/html": [
       "<div>\n",
       "<style scoped>\n",
       "    .dataframe tbody tr th:only-of-type {\n",
       "        vertical-align: middle;\n",
       "    }\n",
       "\n",
       "    .dataframe tbody tr th {\n",
       "        vertical-align: top;\n",
       "    }\n",
       "\n",
       "    .dataframe thead th {\n",
       "        text-align: right;\n",
       "    }\n",
       "</style>\n",
       "<table border=\"1\" class=\"dataframe\">\n",
       "  <thead>\n",
       "    <tr style=\"text-align: right;\">\n",
       "      <th></th>\n",
       "      <th>Date and time</th>\n",
       "      <th>GEOTHERMAL</th>\n",
       "      <th>BIOMASS</th>\n",
       "      <th>BIOGAS</th>\n",
       "    </tr>\n",
       "  </thead>\n",
       "  <tbody>\n",
       "    <tr>\n",
       "      <th>0</th>\n",
       "      <td>2017-08-29 00:00:00</td>\n",
       "      <td>1181</td>\n",
       "      <td>340</td>\n",
       "      <td>156</td>\n",
       "    </tr>\n",
       "    <tr>\n",
       "      <th>1</th>\n",
       "      <td>2017-08-29 01:00:00</td>\n",
       "      <td>1182</td>\n",
       "      <td>338</td>\n",
       "      <td>156</td>\n",
       "    </tr>\n",
       "    <tr>\n",
       "      <th>2</th>\n",
       "      <td>2017-08-29 02:00:00</td>\n",
       "      <td>1183</td>\n",
       "      <td>337</td>\n",
       "      <td>156</td>\n",
       "    </tr>\n",
       "    <tr>\n",
       "      <th>3</th>\n",
       "      <td>2017-08-29 03:00:00</td>\n",
       "      <td>1185</td>\n",
       "      <td>339</td>\n",
       "      <td>156</td>\n",
       "    </tr>\n",
       "    <tr>\n",
       "      <th>4</th>\n",
       "      <td>2017-08-29 04:00:00</td>\n",
       "      <td>1190</td>\n",
       "      <td>344</td>\n",
       "      <td>156</td>\n",
       "    </tr>\n",
       "    <tr>\n",
       "      <th>5</th>\n",
       "      <td>2017-08-29 05:00:00</td>\n",
       "      <td>1194</td>\n",
       "      <td>351</td>\n",
       "      <td>157</td>\n",
       "    </tr>\n",
       "  </tbody>\n",
       "</table>\n",
       "</div>"
      ],
      "text/plain": [
       "         Date and time  GEOTHERMAL  BIOMASS  BIOGAS\n",
       "0  2017-08-29 00:00:00        1181      340     156\n",
       "1  2017-08-29 01:00:00        1182      338     156\n",
       "2  2017-08-29 02:00:00        1183      337     156\n",
       "3  2017-08-29 03:00:00        1185      339     156\n",
       "4  2017-08-29 04:00:00        1190      344     156\n",
       "5  2017-08-29 05:00:00        1194      351     157"
      ]
     },
     "execution_count": 15,
     "metadata": {},
     "output_type": "execute_result"
    }
   ],
   "source": [
    "caiso_data.loc[0:5,'Date and time':'BIOGAS']"
   ]
  },
  {
   "cell_type": "markdown",
   "metadata": {},
   "source": [
    "### Q: Is .loc end-inclusive or exclusive when you slice?\n",
    "Ans: *inclusive*.  This is because it requires less knowledge about other rows in the DataFrame.\n",
    "\n",
    "Note that this is true for both the index and the column names."
   ]
  },
  {
   "cell_type": "markdown",
   "metadata": {},
   "source": [
    "## Recap\n",
    "* Pandas dataframes are sophisticated dicts of lists.\n",
    "    * They have attributes like columns and index that have special meaning in the pandas context.\n",
    "    * You can store any combination of data types in the dataframe\n",
    "* You can access information in them as though they are dicts of lists\n",
    "* But you can also use the .loc and .iloc methods to access information in a way similar to numpy, including clean slicing."
   ]
  }
 ],
 "metadata": {
  "kernelspec": {
   "display_name": "Python 3 (ipykernel)",
   "language": "python",
   "name": "python3"
  },
  "language_info": {
   "codemirror_mode": {
    "name": "ipython",
    "version": 3
   },
   "file_extension": ".py",
   "mimetype": "text/x-python",
   "name": "python",
   "nbconvert_exporter": "python",
   "pygments_lexer": "ipython3",
   "version": "3.11.4"
  }
 },
 "nbformat": 4,
 "nbformat_minor": 2
}
