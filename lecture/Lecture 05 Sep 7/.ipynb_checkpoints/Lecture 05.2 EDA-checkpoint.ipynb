{
 "cells": [
  {
   "cell_type": "markdown",
   "metadata": {},
   "source": [
    "# ER131: Data Cleaning and Exploratory Data Analysis\n",
    "\n",
    "Duncan Callaway\n",
    "\n",
    "In this notebook we'll work with PurpleAir data to explore the concepts of Structure, Granularity, Scope, Temporality and Faithfulness.  Along the way we'll talk about data cleaning as well.  \n",
    "\n",
    "[Here's PurpleAir's website](https://www.purpleair.com/map#1/25/-30) -- They have really cool maps!\n",
    "\n",
    "The way I developed this lecture was by pulling the data down and exploring it.  You'll see my (edited) process of examining the data.\n",
    "\n",
    "This began by me visiting [this website](https://www.purpleair.com/sensorlist) to look for data.  I used the Chrome browser to pull data (other browsers didn't work).\n",
    "\n",
    "The folks are PurpleAir also sent me a pdf describing their data, which is available from the instructors.  "
   ]
  },
  {
   "cell_type": "code",
   "execution_count": 1,
   "metadata": {},
   "outputs": [],
   "source": [
    "import numpy as np\n",
    "import pandas as pd\n",
    "import os"
   ]
  },
  {
   "cell_type": "markdown",
   "metadata": {},
   "source": [
    "## Structure: how are the data stored?  \n",
    "First let's look at what's in the data directory using `os.listdir` (remember this is a set of command line-style commands that work across platforms, i.e. mac, linux, windows)"
   ]
  },
  {
   "cell_type": "code",
   "execution_count": 2,
   "metadata": {},
   "outputs": [
    {
     "data": {
      "text/plain": [
       "['~$05 Pivot.pptx',\n",
       " '.DS_Store',\n",
       " 'CAISO_2017to2018_stack.csv',\n",
       " 'Lecture 05.1 Pivot.pdf',\n",
       " 'Lecture 05.2 EDA.ipynb',\n",
       " '.ipynb_checkpoints',\n",
       " 'US-EPA-PM2.5-AQI-Monitoring.png',\n",
       " 'data',\n",
       " '05 Pivot.pptx',\n",
       " '05-06 Data Cleaning, EDA.pptx',\n",
       " '~$05-06 Data Cleaning, EDA.pptx',\n",
       " 'Lecture 05.1 Pivot.ipynb']"
      ]
     },
     "execution_count": 2,
     "metadata": {},
     "output_type": "execute_result"
    }
   ],
   "source": [
    "os.listdir()"
   ]
  },
  {
   "cell_type": "code",
   "execution_count": 3,
   "metadata": {},
   "outputs": [
    {
     "name": "stdout",
     "output_type": "stream",
     "text": [
      "05 Pivot.pptx                   Lecture 05.2 EDA.ipynb\r\n",
      "05-06 Data Cleaning, EDA.pptx   US-EPA-PM2.5-AQI-Monitoring.png\r\n",
      "CAISO_2017to2018_stack.csv      \u001b[34mdata\u001b[m\u001b[m\r\n",
      "Lecture 05.1 Pivot.ipynb        ~$05 Pivot.pptx\r\n",
      "Lecture 05.1 Pivot.pdf          ~$05-06 Data Cleaning, EDA.pptx\r\n"
     ]
    }
   ],
   "source": [
    "!ls # this does the same thing"
   ]
  },
  {
   "cell_type": "markdown",
   "metadata": {},
   "source": [
    "Let's look in the data directory:"
   ]
  },
  {
   "cell_type": "code",
   "execution_count": 4,
   "metadata": {},
   "outputs": [
    {
     "data": {
      "text/plain": [
       "['Alameda Gold Coast (outside) (37.767347 -122.267255) Primary Real Time 09_08_2021 09_07_2022.csv',\n",
       " 'Bower House (outside) (37.803884 -122.297151) Primary Real Time 09_08_2021 09_07_2022.csv',\n",
       " 'Backyard (outside) (37.826875 -122.245254) Primary Real Time 09_08_2021 09_07_2022.csv',\n",
       " 'Moraga Ave (outside) (37.83023 -122.239963) Primary Real Time 09_08_2021 09_07_2022.csv',\n",
       " 'manzanita at villanova (outside) (37.84099 -122.196456) Primary Real Time 09_08_2021 09_07_2022.csv',\n",
       " 'B59-Mech (outside) (37.875921 -122.253082) Primary Real Time 09_08_2021 09_07_2022.csv']"
      ]
     },
     "execution_count": 4,
     "metadata": {},
     "output_type": "execute_result"
    }
   ],
   "source": [
    "os.listdir('data')"
   ]
  },
  {
   "cell_type": "markdown",
   "metadata": {},
   "source": [
    "### Q: What can we learn from these file names?\n",
    "* the sensor location appears to be provided in lat / lon coordinates in parens\n",
    "* the date range is listed\n",
    "* they are probably csv files.\n",
    "\n",
    "If you type the lat-lon values into google maps, you'll find they correspond to the locations of purple air sensors with the same name. [Here](https://www.google.com/maps/dir/37.803884,-122.297151/37.826875+-122.245254/37.83023+-122.239963/37.84099+-122.196456/@37.8242299,-122.2991142,12.42z/data=!4m15!4m14!1m0!1m3!2m2!1d-122.245254!2d37.826875!1m3!2m2!1d-122.239963!2d37.83023!1m3!2m2!1d-122.196456!2d37.84099!3e1) is a route through these sites. \n",
    "\n",
    "Before proceeding let's find the size of some of these files:"
   ]
  },
  {
   "cell_type": "code",
   "execution_count": 6,
   "metadata": {},
   "outputs": [
    {
     "data": {
      "text/plain": [
       "28354380"
      ]
     },
     "execution_count": 6,
     "metadata": {},
     "output_type": "execute_result"
    }
   ],
   "source": [
    "os.path.getsize('data/Bower House (outside) (37.803884 -122.297151) Primary Real Time 09_08_2021 09_07_2022.csv')"
   ]
  },
  {
   "cell_type": "markdown",
   "metadata": {},
   "source": [
    "What are the units?  Let's shift tab in to `getsize` to find out."
   ]
  },
  {
   "cell_type": "code",
   "execution_count": 9,
   "metadata": {},
   "outputs": [
    {
     "data": {
      "text/plain": [
       "<function genericpath.getsize(filename)>"
      ]
     },
     "execution_count": 9,
     "metadata": {},
     "output_type": "execute_result"
    }
   ],
   "source": [
    "os.path.getsize"
   ]
  },
  {
   "cell_type": "markdown",
   "metadata": {},
   "source": [
    "Not much information.  Google search reveals [this](https://docs.python.org/2/library/os.path.html) information page, which says the units are bytes."
   ]
  },
  {
   "cell_type": "code",
   "execution_count": 10,
   "metadata": {},
   "outputs": [
    {
     "data": {
      "text/plain": [
       "28.35438"
      ]
     },
     "execution_count": 10,
     "metadata": {},
     "output_type": "execute_result"
    }
   ],
   "source": [
    "1e-6*os.path.getsize('data/Bower House (outside) (37.803884 -122.297151) Primary Real Time 09_08_2021 09_07_2022.csv')"
   ]
  },
  {
   "cell_type": "markdown",
   "metadata": {},
   "source": [
    "SO 28 Mb. "
   ]
  },
  {
   "cell_type": "markdown",
   "metadata": {},
   "source": [
    "Let's read in one of the .csv files:"
   ]
  },
  {
   "cell_type": "code",
   "execution_count": 11,
   "metadata": {},
   "outputs": [],
   "source": [
    "Bower = pd.read_csv('data/Bower House (outside) (37.803884 -122.297151) Primary Real Time 09_08_2021 09_07_2022.csv')"
   ]
  },
  {
   "cell_type": "code",
   "execution_count": 12,
   "metadata": {},
   "outputs": [
    {
     "data": {
      "text/html": [
       "<div>\n",
       "<style scoped>\n",
       "    .dataframe tbody tr th:only-of-type {\n",
       "        vertical-align: middle;\n",
       "    }\n",
       "\n",
       "    .dataframe tbody tr th {\n",
       "        vertical-align: top;\n",
       "    }\n",
       "\n",
       "    .dataframe thead th {\n",
       "        text-align: right;\n",
       "    }\n",
       "</style>\n",
       "<table border=\"1\" class=\"dataframe\">\n",
       "  <thead>\n",
       "    <tr style=\"text-align: right;\">\n",
       "      <th></th>\n",
       "      <th>created_at</th>\n",
       "      <th>entry_id</th>\n",
       "      <th>PM1.0_CF1_ug/m3</th>\n",
       "      <th>PM2.5_CF1_ug/m3</th>\n",
       "      <th>PM10.0_CF1_ug/m3</th>\n",
       "      <th>UptimeMinutes</th>\n",
       "      <th>RSSI_dbm</th>\n",
       "      <th>Temperature_F</th>\n",
       "      <th>Humidity_%</th>\n",
       "      <th>PM2.5_ATM_ug/m3</th>\n",
       "      <th>Unnamed: 10</th>\n",
       "    </tr>\n",
       "  </thead>\n",
       "  <tbody>\n",
       "    <tr>\n",
       "      <th>0</th>\n",
       "      <td>2021-09-08 00:00:30 UTC</td>\n",
       "      <td>271065</td>\n",
       "      <td>14.34</td>\n",
       "      <td>29.12</td>\n",
       "      <td>38.14</td>\n",
       "      <td>40112.0</td>\n",
       "      <td>-71.0</td>\n",
       "      <td>84.0</td>\n",
       "      <td>38.0</td>\n",
       "      <td>28.73</td>\n",
       "      <td>NaN</td>\n",
       "    </tr>\n",
       "    <tr>\n",
       "      <th>1</th>\n",
       "      <td>2021-09-08 00:02:30 UTC</td>\n",
       "      <td>271066</td>\n",
       "      <td>15.74</td>\n",
       "      <td>29.59</td>\n",
       "      <td>37.28</td>\n",
       "      <td>40114.0</td>\n",
       "      <td>-70.0</td>\n",
       "      <td>84.0</td>\n",
       "      <td>38.0</td>\n",
       "      <td>29.15</td>\n",
       "      <td>NaN</td>\n",
       "    </tr>\n",
       "    <tr>\n",
       "      <th>2</th>\n",
       "      <td>2021-09-08 00:04:30 UTC</td>\n",
       "      <td>271067</td>\n",
       "      <td>13.86</td>\n",
       "      <td>28.89</td>\n",
       "      <td>41.70</td>\n",
       "      <td>40116.0</td>\n",
       "      <td>-75.0</td>\n",
       "      <td>84.0</td>\n",
       "      <td>37.0</td>\n",
       "      <td>28.64</td>\n",
       "      <td>NaN</td>\n",
       "    </tr>\n",
       "    <tr>\n",
       "      <th>3</th>\n",
       "      <td>2021-09-08 00:06:30 UTC</td>\n",
       "      <td>271068</td>\n",
       "      <td>14.43</td>\n",
       "      <td>28.59</td>\n",
       "      <td>45.93</td>\n",
       "      <td>40118.0</td>\n",
       "      <td>-76.0</td>\n",
       "      <td>84.0</td>\n",
       "      <td>37.0</td>\n",
       "      <td>28.41</td>\n",
       "      <td>NaN</td>\n",
       "    </tr>\n",
       "    <tr>\n",
       "      <th>4</th>\n",
       "      <td>2021-09-08 00:08:30 UTC</td>\n",
       "      <td>271069</td>\n",
       "      <td>13.00</td>\n",
       "      <td>27.02</td>\n",
       "      <td>41.47</td>\n",
       "      <td>40120.0</td>\n",
       "      <td>-70.0</td>\n",
       "      <td>84.0</td>\n",
       "      <td>36.0</td>\n",
       "      <td>27.02</td>\n",
       "      <td>NaN</td>\n",
       "    </tr>\n",
       "  </tbody>\n",
       "</table>\n",
       "</div>"
      ],
      "text/plain": [
       "                created_at  entry_id  PM1.0_CF1_ug/m3  PM2.5_CF1_ug/m3  \\\n",
       "0  2021-09-08 00:00:30 UTC    271065            14.34            29.12   \n",
       "1  2021-09-08 00:02:30 UTC    271066            15.74            29.59   \n",
       "2  2021-09-08 00:04:30 UTC    271067            13.86            28.89   \n",
       "3  2021-09-08 00:06:30 UTC    271068            14.43            28.59   \n",
       "4  2021-09-08 00:08:30 UTC    271069            13.00            27.02   \n",
       "\n",
       "   PM10.0_CF1_ug/m3  UptimeMinutes  RSSI_dbm  Temperature_F  Humidity_%  \\\n",
       "0             38.14        40112.0     -71.0           84.0        38.0   \n",
       "1             37.28        40114.0     -70.0           84.0        38.0   \n",
       "2             41.70        40116.0     -75.0           84.0        37.0   \n",
       "3             45.93        40118.0     -76.0           84.0        37.0   \n",
       "4             41.47        40120.0     -70.0           84.0        36.0   \n",
       "\n",
       "   PM2.5_ATM_ug/m3  Unnamed: 10  \n",
       "0            28.73          NaN  \n",
       "1            29.15          NaN  \n",
       "2            28.64          NaN  \n",
       "3            28.41          NaN  \n",
       "4            27.02          NaN  "
      ]
     },
     "execution_count": 12,
     "metadata": {},
     "output_type": "execute_result"
    }
   ],
   "source": [
    "Bower.head()"
   ]
  },
  {
   "cell_type": "markdown",
   "metadata": {},
   "source": [
    "### Q: What do you notice about the file contents?\n",
    "\n",
    "Several things to ask from this: \n",
    "1. Dates are UTC.\n",
    "2. Each entry has a unique ID -- could be used to check for time stamp errors or gaps in data\n",
    "3. Headers have 'CF1' or 'ATM' at the top -- what does that mean?\n",
    "    1. From the PurpleAir documentation, in this directory, *\"ATM is \"atmospheric\", meant to be used for outdoor applications. CF=1 is meant to be used for indoor or controlled environment applications. However, PurpleAir uses CF=1 values on the map. This value is lower than the ATM value in higher measured concentrations.\"*  \n",
    "    2. The explanation is a little vague and suggests further exploration required!\n",
    "    3. [This](https://amt.copernicus.org/articles/14/4617/2021/) cool paper suggests that the ATM data are 'raw' measurements and that CF_1 data have a 3/2 multiplication at concentrations over 25 $\\mu$ g / m$^3$\n",
    "4. The columns \"UptimeMinutes\" and \"RSSI_dbm\" are not immediately obvious\n",
    "    1. again from documentation: \"uptimeminutes\" is time since last restart, and \"RSSI_dbm\" is wifi signal strength for the device.  \n",
    "5. The \"unnamed: 10\" column seems useless, why is it there?\n",
    "    1. Looking at the data we see a comma before the `\\n` (newline character) at the end of the first (header) line, it appears this is generating the extra row."
   ]
  },
  {
   "cell_type": "code",
   "execution_count": 14,
   "metadata": {},
   "outputs": [
    {
     "name": "stdout",
     "output_type": "stream",
     "text": [
      "['created_at,entry_id,PM1.0_CF1_ug/m3,PM2.5_CF1_ug/m3,PM10.0_CF1_ug/m3,UptimeMinutes,RSSI_dbm,Temperature_F,Humidity_%,PM2.5_ATM_ug/m3,\\n', '2021-09-08 00:00:30 UTC,271065,14.34,29.12,38.14,40112.00,-71.00,84.00,38.00,28.73\\n']\n"
     ]
    }
   ],
   "source": [
    "N = 2\n",
    "airdat = \"data/Bower House (outside) (37.803884 -122.297151) Primary Real Time 09_08_2021 09_07_2022.csv\"\n",
    "with open(airdat) as myfile:\n",
    "    head = [next(myfile) for x in range(N)]\n",
    "print(head)"
   ]
  },
  {
   "cell_type": "code",
   "execution_count": 15,
   "metadata": {
    "scrolled": true
   },
   "outputs": [
    {
     "data": {
      "text/html": [
       "<div>\n",
       "<style scoped>\n",
       "    .dataframe tbody tr th:only-of-type {\n",
       "        vertical-align: middle;\n",
       "    }\n",
       "\n",
       "    .dataframe tbody tr th {\n",
       "        vertical-align: top;\n",
       "    }\n",
       "\n",
       "    .dataframe thead th {\n",
       "        text-align: right;\n",
       "    }\n",
       "</style>\n",
       "<table border=\"1\" class=\"dataframe\">\n",
       "  <thead>\n",
       "    <tr style=\"text-align: right;\">\n",
       "      <th></th>\n",
       "      <th>entry_id</th>\n",
       "      <th>PM1.0_CF1_ug/m3</th>\n",
       "      <th>PM2.5_CF1_ug/m3</th>\n",
       "      <th>PM10.0_CF1_ug/m3</th>\n",
       "      <th>UptimeMinutes</th>\n",
       "      <th>RSSI_dbm</th>\n",
       "      <th>Temperature_F</th>\n",
       "      <th>Humidity_%</th>\n",
       "      <th>PM2.5_ATM_ug/m3</th>\n",
       "      <th>Unnamed: 10</th>\n",
       "    </tr>\n",
       "  </thead>\n",
       "  <tbody>\n",
       "    <tr>\n",
       "      <th>count</th>\n",
       "      <td>351942.000000</td>\n",
       "      <td>351942.000000</td>\n",
       "      <td>351942.000000</td>\n",
       "      <td>351942.000000</td>\n",
       "      <td>351942.000000</td>\n",
       "      <td>351942.000000</td>\n",
       "      <td>351942.000000</td>\n",
       "      <td>351942.000000</td>\n",
       "      <td>351942.000000</td>\n",
       "      <td>0.0</td>\n",
       "    </tr>\n",
       "    <tr>\n",
       "      <th>mean</th>\n",
       "      <td>390592.636500</td>\n",
       "      <td>7.703851</td>\n",
       "      <td>15.989965</td>\n",
       "      <td>24.196788</td>\n",
       "      <td>26747.629834</td>\n",
       "      <td>-70.180916</td>\n",
       "      <td>65.679018</td>\n",
       "      <td>50.249541</td>\n",
       "      <td>14.203361</td>\n",
       "      <td>NaN</td>\n",
       "    </tr>\n",
       "    <tr>\n",
       "      <th>std</th>\n",
       "      <td>68985.096555</td>\n",
       "      <td>9.894243</td>\n",
       "      <td>19.466634</td>\n",
       "      <td>24.491579</td>\n",
       "      <td>18879.817383</td>\n",
       "      <td>5.026611</td>\n",
       "      <td>11.876395</td>\n",
       "      <td>14.772064</td>\n",
       "      <td>14.610303</td>\n",
       "      <td>NaN</td>\n",
       "    </tr>\n",
       "    <tr>\n",
       "      <th>min</th>\n",
       "      <td>271065.000000</td>\n",
       "      <td>0.000000</td>\n",
       "      <td>0.000000</td>\n",
       "      <td>0.000000</td>\n",
       "      <td>1.000000</td>\n",
       "      <td>-93.000000</td>\n",
       "      <td>36.000000</td>\n",
       "      <td>5.000000</td>\n",
       "      <td>0.000000</td>\n",
       "      <td>NaN</td>\n",
       "    </tr>\n",
       "    <tr>\n",
       "      <th>25%</th>\n",
       "      <td>336116.000000</td>\n",
       "      <td>1.210000</td>\n",
       "      <td>3.590000</td>\n",
       "      <td>6.750000</td>\n",
       "      <td>10005.000000</td>\n",
       "      <td>-71.000000</td>\n",
       "      <td>58.000000</td>\n",
       "      <td>41.000000</td>\n",
       "      <td>3.590000</td>\n",
       "      <td>NaN</td>\n",
       "    </tr>\n",
       "    <tr>\n",
       "      <th>50%</th>\n",
       "      <td>380108.500000</td>\n",
       "      <td>3.760000</td>\n",
       "      <td>8.750000</td>\n",
       "      <td>16.410000</td>\n",
       "      <td>23995.500000</td>\n",
       "      <td>-69.000000</td>\n",
       "      <td>63.000000</td>\n",
       "      <td>55.000000</td>\n",
       "      <td>8.750000</td>\n",
       "      <td>NaN</td>\n",
       "    </tr>\n",
       "    <tr>\n",
       "      <th>75%</th>\n",
       "      <td>444398.750000</td>\n",
       "      <td>10.220000</td>\n",
       "      <td>20.280000</td>\n",
       "      <td>33.270000</td>\n",
       "      <td>41299.000000</td>\n",
       "      <td>-67.000000</td>\n",
       "      <td>71.000000</td>\n",
       "      <td>62.000000</td>\n",
       "      <td>20.270000</td>\n",
       "      <td>NaN</td>\n",
       "    </tr>\n",
       "    <tr>\n",
       "      <th>max</th>\n",
       "      <td>532384.000000</td>\n",
       "      <td>336.360000</td>\n",
       "      <td>1297.910000</td>\n",
       "      <td>1582.450000</td>\n",
       "      <td>71582.000000</td>\n",
       "      <td>-53.000000</td>\n",
       "      <td>126.000000</td>\n",
       "      <td>77.000000</td>\n",
       "      <td>865.120000</td>\n",
       "      <td>NaN</td>\n",
       "    </tr>\n",
       "  </tbody>\n",
       "</table>\n",
       "</div>"
      ],
      "text/plain": [
       "            entry_id  PM1.0_CF1_ug/m3  PM2.5_CF1_ug/m3  PM10.0_CF1_ug/m3  \\\n",
       "count  351942.000000    351942.000000    351942.000000     351942.000000   \n",
       "mean   390592.636500         7.703851        15.989965         24.196788   \n",
       "std     68985.096555         9.894243        19.466634         24.491579   \n",
       "min    271065.000000         0.000000         0.000000          0.000000   \n",
       "25%    336116.000000         1.210000         3.590000          6.750000   \n",
       "50%    380108.500000         3.760000         8.750000         16.410000   \n",
       "75%    444398.750000        10.220000        20.280000         33.270000   \n",
       "max    532384.000000       336.360000      1297.910000       1582.450000   \n",
       "\n",
       "       UptimeMinutes       RSSI_dbm  Temperature_F     Humidity_%  \\\n",
       "count  351942.000000  351942.000000  351942.000000  351942.000000   \n",
       "mean    26747.629834     -70.180916      65.679018      50.249541   \n",
       "std     18879.817383       5.026611      11.876395      14.772064   \n",
       "min         1.000000     -93.000000      36.000000       5.000000   \n",
       "25%     10005.000000     -71.000000      58.000000      41.000000   \n",
       "50%     23995.500000     -69.000000      63.000000      55.000000   \n",
       "75%     41299.000000     -67.000000      71.000000      62.000000   \n",
       "max     71582.000000     -53.000000     126.000000      77.000000   \n",
       "\n",
       "       PM2.5_ATM_ug/m3  Unnamed: 10  \n",
       "count    351942.000000          0.0  \n",
       "mean         14.203361          NaN  \n",
       "std          14.610303          NaN  \n",
       "min           0.000000          NaN  \n",
       "25%           3.590000          NaN  \n",
       "50%           8.750000          NaN  \n",
       "75%          20.270000          NaN  \n",
       "max         865.120000          NaN  "
      ]
     },
     "execution_count": 15,
     "metadata": {},
     "output_type": "execute_result"
    }
   ],
   "source": [
    "Bower.describe()"
   ]
  },
  {
   "cell_type": "markdown",
   "metadata": {},
   "source": [
    "As you can see, at this location the average CF1 value is more than the EPA standards.  As an aside, before we do more EDA, let's check the other location."
   ]
  },
  {
   "cell_type": "code",
   "execution_count": 17,
   "metadata": {},
   "outputs": [
    {
     "data": {
      "text/plain": [
       "11.776786947061435"
      ]
     },
     "execution_count": 17,
     "metadata": {},
     "output_type": "execute_result"
    }
   ],
   "source": [
    "backyard = pd.read_csv('data/Backyard (outside) (37.826875 -122.245254) Primary Real Time 09_08_2021 09_07_2022.csv')\n",
    "np.mean(backyard['PM2.5_CF1_ug/m3'])"
   ]
  },
  {
   "cell_type": "code",
   "execution_count": 18,
   "metadata": {},
   "outputs": [
    {
     "data": {
      "text/plain": [
       "10.18030246986375"
      ]
     },
     "execution_count": 18,
     "metadata": {},
     "output_type": "execute_result"
    }
   ],
   "source": [
    "moraga = pd.read_csv('data/Moraga Ave (outside) (37.83023 -122.239963) Primary Real Time 09_08_2021 09_07_2022.csv')\n",
    "np.mean(moraga['PM2.5_CF1_ug/m3'])"
   ]
  },
  {
   "cell_type": "code",
   "execution_count": 19,
   "metadata": {},
   "outputs": [
    {
     "data": {
      "text/plain": [
       "8.031333700168869"
      ]
     },
     "execution_count": 19,
     "metadata": {},
     "output_type": "execute_result"
    }
   ],
   "source": [
    "manzanita = pd.read_csv('data/manzanita at villanova (outside) (37.84099 -122.196456) Primary Real Time 09_08_2021 09_07_2022.csv')\n",
    "np.mean(manzanita['PM2.5_CF1_ug/m3'])"
   ]
  },
  {
   "cell_type": "code",
   "execution_count": 20,
   "metadata": {},
   "outputs": [
    {
     "data": {
      "text/plain": [
       "13.041692402454741"
      ]
     },
     "execution_count": 20,
     "metadata": {},
     "output_type": "execute_result"
    }
   ],
   "source": [
    "alameda = pd.read_csv('data/Alameda Gold Coast (outside) (37.767347 -122.267255) Primary Real Time 09_08_2021 09_07_2022.csv')\n",
    "np.mean(alameda['PM2.5_CF1_ug/m3'])"
   ]
  },
  {
   "cell_type": "markdown",
   "metadata": {},
   "source": [
    "Now you can see that the mean PM2.5 numbers vary significantly by location.  \n",
    "\n",
    "If you inspect the data, you'll see a general trend: the further away from the Bay the sensor is, the lower its mean. \n",
    "\n",
    "Let's dig in to one sensor a little more"
   ]
  },
  {
   "cell_type": "markdown",
   "metadata": {},
   "source": [
    "## Granularity: how are the data aggregated?\n",
    "\n",
    "We'll talk a little more about Temporality in a moment, but time also matters for thinking about granularity.\n",
    "\n",
    "First we need to pay attention to the fact that this is UTC.  Let's put it in datetime format to prevent mistakes."
   ]
  },
  {
   "cell_type": "code",
   "execution_count": 21,
   "metadata": {},
   "outputs": [],
   "source": [
    "Bowertime = pd.to_datetime(Bower['created_at'], utc=True)"
   ]
  },
  {
   "cell_type": "code",
   "execution_count": 22,
   "metadata": {},
   "outputs": [],
   "source": [
    "Bower['created_at']=Bowertime"
   ]
  },
  {
   "cell_type": "code",
   "execution_count": 23,
   "metadata": {},
   "outputs": [
    {
     "data": {
      "text/plain": [
       "datetime64[ns, UTC]"
      ]
     },
     "execution_count": 23,
     "metadata": {},
     "output_type": "execute_result"
    }
   ],
   "source": [
    "Bower['created_at'].dtype"
   ]
  },
  {
   "cell_type": "markdown",
   "metadata": {},
   "source": [
    "Yes, that response really means the time are recorded down to the nanosecond.  \n",
    "\n",
    "Note: The data are instantaneous measurements, not averaged over time.  \n",
    "* So these data have granularity of nanoseconds!\n",
    "* In practice, this just means there is *no* aggregation in the primary data."
   ]
  },
  {
   "cell_type": "code",
   "execution_count": 24,
   "metadata": {},
   "outputs": [
    {
     "data": {
      "text/html": [
       "<div>\n",
       "<style scoped>\n",
       "    .dataframe tbody tr th:only-of-type {\n",
       "        vertical-align: middle;\n",
       "    }\n",
       "\n",
       "    .dataframe tbody tr th {\n",
       "        vertical-align: top;\n",
       "    }\n",
       "\n",
       "    .dataframe thead th {\n",
       "        text-align: right;\n",
       "    }\n",
       "</style>\n",
       "<table border=\"1\" class=\"dataframe\">\n",
       "  <thead>\n",
       "    <tr style=\"text-align: right;\">\n",
       "      <th></th>\n",
       "      <th>created_at</th>\n",
       "      <th>entry_id</th>\n",
       "      <th>PM1.0_CF1_ug/m3</th>\n",
       "      <th>PM2.5_CF1_ug/m3</th>\n",
       "      <th>PM10.0_CF1_ug/m3</th>\n",
       "      <th>UptimeMinutes</th>\n",
       "      <th>RSSI_dbm</th>\n",
       "      <th>Temperature_F</th>\n",
       "      <th>Humidity_%</th>\n",
       "      <th>PM2.5_ATM_ug/m3</th>\n",
       "      <th>Unnamed: 10</th>\n",
       "    </tr>\n",
       "  </thead>\n",
       "  <tbody>\n",
       "    <tr>\n",
       "      <th>0</th>\n",
       "      <td>2021-09-08 00:00:30+00:00</td>\n",
       "      <td>271065</td>\n",
       "      <td>14.34</td>\n",
       "      <td>29.12</td>\n",
       "      <td>38.14</td>\n",
       "      <td>40112.0</td>\n",
       "      <td>-71.0</td>\n",
       "      <td>84.0</td>\n",
       "      <td>38.0</td>\n",
       "      <td>28.73</td>\n",
       "      <td>NaN</td>\n",
       "    </tr>\n",
       "    <tr>\n",
       "      <th>1</th>\n",
       "      <td>2021-09-08 00:02:30+00:00</td>\n",
       "      <td>271066</td>\n",
       "      <td>15.74</td>\n",
       "      <td>29.59</td>\n",
       "      <td>37.28</td>\n",
       "      <td>40114.0</td>\n",
       "      <td>-70.0</td>\n",
       "      <td>84.0</td>\n",
       "      <td>38.0</td>\n",
       "      <td>29.15</td>\n",
       "      <td>NaN</td>\n",
       "    </tr>\n",
       "    <tr>\n",
       "      <th>2</th>\n",
       "      <td>2021-09-08 00:04:30+00:00</td>\n",
       "      <td>271067</td>\n",
       "      <td>13.86</td>\n",
       "      <td>28.89</td>\n",
       "      <td>41.70</td>\n",
       "      <td>40116.0</td>\n",
       "      <td>-75.0</td>\n",
       "      <td>84.0</td>\n",
       "      <td>37.0</td>\n",
       "      <td>28.64</td>\n",
       "      <td>NaN</td>\n",
       "    </tr>\n",
       "    <tr>\n",
       "      <th>3</th>\n",
       "      <td>2021-09-08 00:06:30+00:00</td>\n",
       "      <td>271068</td>\n",
       "      <td>14.43</td>\n",
       "      <td>28.59</td>\n",
       "      <td>45.93</td>\n",
       "      <td>40118.0</td>\n",
       "      <td>-76.0</td>\n",
       "      <td>84.0</td>\n",
       "      <td>37.0</td>\n",
       "      <td>28.41</td>\n",
       "      <td>NaN</td>\n",
       "    </tr>\n",
       "    <tr>\n",
       "      <th>4</th>\n",
       "      <td>2021-09-08 00:08:30+00:00</td>\n",
       "      <td>271069</td>\n",
       "      <td>13.00</td>\n",
       "      <td>27.02</td>\n",
       "      <td>41.47</td>\n",
       "      <td>40120.0</td>\n",
       "      <td>-70.0</td>\n",
       "      <td>84.0</td>\n",
       "      <td>36.0</td>\n",
       "      <td>27.02</td>\n",
       "      <td>NaN</td>\n",
       "    </tr>\n",
       "  </tbody>\n",
       "</table>\n",
       "</div>"
      ],
      "text/plain": [
       "                 created_at  entry_id  PM1.0_CF1_ug/m3  PM2.5_CF1_ug/m3  \\\n",
       "0 2021-09-08 00:00:30+00:00    271065            14.34            29.12   \n",
       "1 2021-09-08 00:02:30+00:00    271066            15.74            29.59   \n",
       "2 2021-09-08 00:04:30+00:00    271067            13.86            28.89   \n",
       "3 2021-09-08 00:06:30+00:00    271068            14.43            28.59   \n",
       "4 2021-09-08 00:08:30+00:00    271069            13.00            27.02   \n",
       "\n",
       "   PM10.0_CF1_ug/m3  UptimeMinutes  RSSI_dbm  Temperature_F  Humidity_%  \\\n",
       "0             38.14        40112.0     -71.0           84.0        38.0   \n",
       "1             37.28        40114.0     -70.0           84.0        38.0   \n",
       "2             41.70        40116.0     -75.0           84.0        37.0   \n",
       "3             45.93        40118.0     -76.0           84.0        37.0   \n",
       "4             41.47        40120.0     -70.0           84.0        36.0   \n",
       "\n",
       "   PM2.5_ATM_ug/m3  Unnamed: 10  \n",
       "0            28.73          NaN  \n",
       "1            29.15          NaN  \n",
       "2            28.64          NaN  \n",
       "3            28.41          NaN  \n",
       "4            27.02          NaN  "
      ]
     },
     "execution_count": 24,
     "metadata": {},
     "output_type": "execute_result"
    }
   ],
   "source": [
    "Bower.head()"
   ]
  },
  {
   "cell_type": "markdown",
   "metadata": {},
   "source": [
    "Nice thing about the datetime formate is that you can easily get time information out of it.  For example let's look at the 1,000th entry:"
   ]
  },
  {
   "cell_type": "code",
   "execution_count": 38,
   "metadata": {},
   "outputs": [
    {
     "data": {
      "text/plain": [
       "9"
      ]
     },
     "execution_count": 38,
     "metadata": {},
     "output_type": "execute_result"
    }
   ],
   "source": [
    "Bower.iloc[1000,0].hour"
   ]
  },
  {
   "cell_type": "markdown",
   "metadata": {},
   "source": [
    "Note, we could rename the cols to make things easier if we wished.  I'm not going to because we're not going to be workign with this data set for long, but in other cases you might decide to."
   ]
  },
  {
   "cell_type": "markdown",
   "metadata": {},
   "source": [
    "## Scope: how much time, how many people, what spatial area?\n",
    "So far we have focused on data from one location -- A sensor in West Oakland. \n",
    "\n",
    "From the file name it looks like the time is from the last 12 months, let's confirm:"
   ]
  },
  {
   "cell_type": "code",
   "execution_count": 39,
   "metadata": {
    "scrolled": true
   },
   "outputs": [
    {
     "data": {
      "text/plain": [
       "Timestamp('2021-09-08 00:00:30+0000', tz='UTC')"
      ]
     },
     "execution_count": 39,
     "metadata": {},
     "output_type": "execute_result"
    }
   ],
   "source": [
    "Bower['created_at'].min()"
   ]
  },
  {
   "cell_type": "code",
   "execution_count": 40,
   "metadata": {
    "scrolled": true
   },
   "outputs": [
    {
     "data": {
      "text/plain": [
       "Timestamp('2022-09-07 23:58:17+0000', tz='UTC')"
      ]
     },
     "execution_count": 40,
     "metadata": {},
     "output_type": "execute_result"
    }
   ],
   "source": [
    "Bower['created_at'].max()"
   ]
  },
  {
   "cell_type": "markdown",
   "metadata": {},
   "source": [
    "So it's about one year of data.  \n",
    "\n",
    "Does the data cover the topic of interest?\n",
    "\n",
    "In this case, we need to answer the question:  For the PurpleAir data, what topic of interest might the data cover?\n",
    "\n",
    "#### --> class discussion on this.\n",
    "\n",
    "Possible answers why the data might be of interest\n",
    "* near highways and port of oakland\n",
    "* near communities that are historically underserved\n",
    "\n",
    "Possible reasons *not* of interest:\n",
    "* more important to look at many recent wildfire seasons\n",
    "* it might be valuable to compare across sites rather than evaluate just one."
   ]
  },
  {
   "cell_type": "markdown",
   "metadata": {},
   "source": [
    "## Temporality: How is time represented in the data?\n",
    "We've already figured out that we're working with UTC dates.  UTC is \"universal time coordinated\" and is essentially greenwich mean time, the time on the prime meridian."
   ]
  },
  {
   "cell_type": "markdown",
   "metadata": {},
   "source": [
    "Can we figure out how frequent measurements are?\n",
    "\n",
    "Unfortunately I found it difficult to take differences with datetime objects, so I had to write a for loop:"
   ]
  },
  {
   "cell_type": "code",
   "execution_count": 77,
   "metadata": {},
   "outputs": [
    {
     "name": "stdout",
     "output_type": "stream",
     "text": [
      "max diffs: [79585. 43629.  3842.  1782.  1782.  1561.  1443.  1441.  1437.   976.\n",
      "   976.   727.   724.   720.   718.   718.   495.   495.   480.   480.\n",
      "   388.   363.   360.   359.   358.   358.   346.   292.   276.]\n",
      "median: 120.0\n"
     ]
    }
   ],
   "source": [
    "diffs = np.zeros(len(Bower['created_at']))\n",
    "\n",
    "for i in range(0, len(diffs)-1):\n",
    "    diffs[i] = ((Bower['created_at'][i+1]\n",
    "                      - Bower['created_at'][i]).total_seconds())  # we apply total_seconds in order to store the data as a float in the list\n",
    "\n",
    "diffs = np.sort((diffs))\n",
    "\n",
    "print('max diffs:', diffs[:-30:-1])\n",
    "print('median:', np.median(diffs))"
   ]
  },
  {
   "cell_type": "markdown",
   "metadata": {},
   "source": [
    "Looks like for the most part we're sampling every 2 minutes, with a few gaps in the data.  "
   ]
  },
  {
   "cell_type": "markdown",
   "metadata": {},
   "source": [
    "## Faithfulness: are the data trustworthy?\n",
    "This one's much harder to assess.  Let's have a look at some basic things we might care about"
   ]
  },
  {
   "cell_type": "code",
   "execution_count": 78,
   "metadata": {},
   "outputs": [
    {
     "data": {
      "text/plain": [
       "0"
      ]
     },
     "execution_count": 78,
     "metadata": {},
     "output_type": "execute_result"
    }
   ],
   "source": [
    "sum(Bower['PM2.5_ATM_ug/m3'].isna())"
   ]
  },
  {
   "cell_type": "markdown",
   "metadata": {},
   "source": [
    "That tells us there are no NaN values in the PM2.5 data.  Impressive!"
   ]
  },
  {
   "cell_type": "code",
   "execution_count": 79,
   "metadata": {
    "scrolled": true
   },
   "outputs": [
    {
     "data": {
      "text/html": [
       "<div>\n",
       "<style scoped>\n",
       "    .dataframe tbody tr th:only-of-type {\n",
       "        vertical-align: middle;\n",
       "    }\n",
       "\n",
       "    .dataframe tbody tr th {\n",
       "        vertical-align: top;\n",
       "    }\n",
       "\n",
       "    .dataframe thead th {\n",
       "        text-align: right;\n",
       "    }\n",
       "</style>\n",
       "<table border=\"1\" class=\"dataframe\">\n",
       "  <thead>\n",
       "    <tr style=\"text-align: right;\">\n",
       "      <th></th>\n",
       "      <th>entry_id</th>\n",
       "      <th>PM1.0_CF1_ug/m3</th>\n",
       "      <th>PM2.5_CF1_ug/m3</th>\n",
       "      <th>PM10.0_CF1_ug/m3</th>\n",
       "      <th>UptimeMinutes</th>\n",
       "      <th>RSSI_dbm</th>\n",
       "      <th>Temperature_F</th>\n",
       "      <th>Humidity_%</th>\n",
       "      <th>PM2.5_ATM_ug/m3</th>\n",
       "      <th>Unnamed: 10</th>\n",
       "    </tr>\n",
       "  </thead>\n",
       "  <tbody>\n",
       "    <tr>\n",
       "      <th>count</th>\n",
       "      <td>351942.000000</td>\n",
       "      <td>351942.000000</td>\n",
       "      <td>351942.000000</td>\n",
       "      <td>351942.000000</td>\n",
       "      <td>351942.000000</td>\n",
       "      <td>351942.000000</td>\n",
       "      <td>351942.000000</td>\n",
       "      <td>351942.000000</td>\n",
       "      <td>351942.000000</td>\n",
       "      <td>0.0</td>\n",
       "    </tr>\n",
       "    <tr>\n",
       "      <th>mean</th>\n",
       "      <td>390592.636500</td>\n",
       "      <td>7.703851</td>\n",
       "      <td>15.989965</td>\n",
       "      <td>24.196788</td>\n",
       "      <td>26747.629834</td>\n",
       "      <td>-70.180916</td>\n",
       "      <td>65.679018</td>\n",
       "      <td>50.249541</td>\n",
       "      <td>14.203361</td>\n",
       "      <td>NaN</td>\n",
       "    </tr>\n",
       "    <tr>\n",
       "      <th>std</th>\n",
       "      <td>68985.096555</td>\n",
       "      <td>9.894243</td>\n",
       "      <td>19.466634</td>\n",
       "      <td>24.491579</td>\n",
       "      <td>18879.817383</td>\n",
       "      <td>5.026611</td>\n",
       "      <td>11.876395</td>\n",
       "      <td>14.772064</td>\n",
       "      <td>14.610303</td>\n",
       "      <td>NaN</td>\n",
       "    </tr>\n",
       "    <tr>\n",
       "      <th>min</th>\n",
       "      <td>271065.000000</td>\n",
       "      <td>0.000000</td>\n",
       "      <td>0.000000</td>\n",
       "      <td>0.000000</td>\n",
       "      <td>1.000000</td>\n",
       "      <td>-93.000000</td>\n",
       "      <td>36.000000</td>\n",
       "      <td>5.000000</td>\n",
       "      <td>0.000000</td>\n",
       "      <td>NaN</td>\n",
       "    </tr>\n",
       "    <tr>\n",
       "      <th>25%</th>\n",
       "      <td>336116.000000</td>\n",
       "      <td>1.210000</td>\n",
       "      <td>3.590000</td>\n",
       "      <td>6.750000</td>\n",
       "      <td>10005.000000</td>\n",
       "      <td>-71.000000</td>\n",
       "      <td>58.000000</td>\n",
       "      <td>41.000000</td>\n",
       "      <td>3.590000</td>\n",
       "      <td>NaN</td>\n",
       "    </tr>\n",
       "    <tr>\n",
       "      <th>50%</th>\n",
       "      <td>380108.500000</td>\n",
       "      <td>3.760000</td>\n",
       "      <td>8.750000</td>\n",
       "      <td>16.410000</td>\n",
       "      <td>23995.500000</td>\n",
       "      <td>-69.000000</td>\n",
       "      <td>63.000000</td>\n",
       "      <td>55.000000</td>\n",
       "      <td>8.750000</td>\n",
       "      <td>NaN</td>\n",
       "    </tr>\n",
       "    <tr>\n",
       "      <th>75%</th>\n",
       "      <td>444398.750000</td>\n",
       "      <td>10.220000</td>\n",
       "      <td>20.280000</td>\n",
       "      <td>33.270000</td>\n",
       "      <td>41299.000000</td>\n",
       "      <td>-67.000000</td>\n",
       "      <td>71.000000</td>\n",
       "      <td>62.000000</td>\n",
       "      <td>20.270000</td>\n",
       "      <td>NaN</td>\n",
       "    </tr>\n",
       "    <tr>\n",
       "      <th>max</th>\n",
       "      <td>532384.000000</td>\n",
       "      <td>336.360000</td>\n",
       "      <td>1297.910000</td>\n",
       "      <td>1582.450000</td>\n",
       "      <td>71582.000000</td>\n",
       "      <td>-53.000000</td>\n",
       "      <td>126.000000</td>\n",
       "      <td>77.000000</td>\n",
       "      <td>865.120000</td>\n",
       "      <td>NaN</td>\n",
       "    </tr>\n",
       "  </tbody>\n",
       "</table>\n",
       "</div>"
      ],
      "text/plain": [
       "            entry_id  PM1.0_CF1_ug/m3  PM2.5_CF1_ug/m3  PM10.0_CF1_ug/m3  \\\n",
       "count  351942.000000    351942.000000    351942.000000     351942.000000   \n",
       "mean   390592.636500         7.703851        15.989965         24.196788   \n",
       "std     68985.096555         9.894243        19.466634         24.491579   \n",
       "min    271065.000000         0.000000         0.000000          0.000000   \n",
       "25%    336116.000000         1.210000         3.590000          6.750000   \n",
       "50%    380108.500000         3.760000         8.750000         16.410000   \n",
       "75%    444398.750000        10.220000        20.280000         33.270000   \n",
       "max    532384.000000       336.360000      1297.910000       1582.450000   \n",
       "\n",
       "       UptimeMinutes       RSSI_dbm  Temperature_F     Humidity_%  \\\n",
       "count  351942.000000  351942.000000  351942.000000  351942.000000   \n",
       "mean    26747.629834     -70.180916      65.679018      50.249541   \n",
       "std     18879.817383       5.026611      11.876395      14.772064   \n",
       "min         1.000000     -93.000000      36.000000       5.000000   \n",
       "25%     10005.000000     -71.000000      58.000000      41.000000   \n",
       "50%     23995.500000     -69.000000      63.000000      55.000000   \n",
       "75%     41299.000000     -67.000000      71.000000      62.000000   \n",
       "max     71582.000000     -53.000000     126.000000      77.000000   \n",
       "\n",
       "       PM2.5_ATM_ug/m3  Unnamed: 10  \n",
       "count    351942.000000          0.0  \n",
       "mean         14.203361          NaN  \n",
       "std          14.610303          NaN  \n",
       "min           0.000000          NaN  \n",
       "25%           3.590000          NaN  \n",
       "50%           8.750000          NaN  \n",
       "75%          20.270000          NaN  \n",
       "max         865.120000          NaN  "
      ]
     },
     "execution_count": 79,
     "metadata": {},
     "output_type": "execute_result"
    }
   ],
   "source": [
    "Bower.describe()"
   ]
  },
  {
   "cell_type": "markdown",
   "metadata": {},
   "source": [
    "That's a pretty high PM2.5 average.  And the max is very suspiciously high.  What's going on?\n",
    "\n",
    "Options: \n",
    "1. Wildfire smoke really pumped up the 2.5 values\n",
    "2. We have a lot of missing data and only values during the wild fires\n",
    "3. There are some erroneously high values."
   ]
  },
  {
   "cell_type": "markdown",
   "metadata": {},
   "source": [
    "Let's start by looking at how many values are big.  "
   ]
  },
  {
   "cell_type": "code",
   "execution_count": 81,
   "metadata": {},
   "outputs": [
    {
     "data": {
      "text/plain": [
       "150102     608.21\n",
       "150822     608.21\n",
       "305431    1297.91\n",
       "305432     878.52\n",
       "Name: PM2.5_CF1_ug/m3, dtype: float64"
      ]
     },
     "execution_count": 81,
     "metadata": {},
     "output_type": "execute_result"
    }
   ],
   "source": [
    "log_ind = Bower.loc[:,'PM2.5_CF1_ug/m3'] > 500 # gives a list for logical indexing\n",
    "Bower.loc[log_ind,'PM2.5_CF1_ug/m3']"
   ]
  },
  {
   "cell_type": "markdown",
   "metadata": {},
   "source": [
    "Let's look in the vicinity of the high values to see if we believe the trend:"
   ]
  },
  {
   "cell_type": "code",
   "execution_count": 82,
   "metadata": {},
   "outputs": [
    {
     "data": {
      "text/html": [
       "<div>\n",
       "<style scoped>\n",
       "    .dataframe tbody tr th:only-of-type {\n",
       "        vertical-align: middle;\n",
       "    }\n",
       "\n",
       "    .dataframe tbody tr th {\n",
       "        vertical-align: top;\n",
       "    }\n",
       "\n",
       "    .dataframe thead th {\n",
       "        text-align: right;\n",
       "    }\n",
       "</style>\n",
       "<table border=\"1\" class=\"dataframe\">\n",
       "  <thead>\n",
       "    <tr style=\"text-align: right;\">\n",
       "      <th></th>\n",
       "      <th>created_at</th>\n",
       "      <th>entry_id</th>\n",
       "      <th>PM1.0_CF1_ug/m3</th>\n",
       "      <th>PM2.5_CF1_ug/m3</th>\n",
       "      <th>PM10.0_CF1_ug/m3</th>\n",
       "      <th>UptimeMinutes</th>\n",
       "      <th>RSSI_dbm</th>\n",
       "      <th>Temperature_F</th>\n",
       "      <th>Humidity_%</th>\n",
       "      <th>PM2.5_ATM_ug/m3</th>\n",
       "      <th>Unnamed: 10</th>\n",
       "    </tr>\n",
       "  </thead>\n",
       "  <tbody>\n",
       "    <tr>\n",
       "      <th>305420</th>\n",
       "      <td>2022-07-05 05:46:09+00:00</td>\n",
       "      <td>485863</td>\n",
       "      <td>5.17</td>\n",
       "      <td>10.33</td>\n",
       "      <td>12.72</td>\n",
       "      <td>70909.0</td>\n",
       "      <td>-67.0</td>\n",
       "      <td>73.0</td>\n",
       "      <td>59.0</td>\n",
       "      <td>10.33</td>\n",
       "      <td>NaN</td>\n",
       "    </tr>\n",
       "    <tr>\n",
       "      <th>305421</th>\n",
       "      <td>2022-07-05 05:48:09+00:00</td>\n",
       "      <td>485864</td>\n",
       "      <td>6.66</td>\n",
       "      <td>10.88</td>\n",
       "      <td>12.31</td>\n",
       "      <td>70911.0</td>\n",
       "      <td>-67.0</td>\n",
       "      <td>72.0</td>\n",
       "      <td>59.0</td>\n",
       "      <td>10.88</td>\n",
       "      <td>NaN</td>\n",
       "    </tr>\n",
       "    <tr>\n",
       "      <th>305422</th>\n",
       "      <td>2022-07-05 05:50:09+00:00</td>\n",
       "      <td>485865</td>\n",
       "      <td>6.81</td>\n",
       "      <td>12.11</td>\n",
       "      <td>14.12</td>\n",
       "      <td>70913.0</td>\n",
       "      <td>-72.0</td>\n",
       "      <td>72.0</td>\n",
       "      <td>60.0</td>\n",
       "      <td>12.11</td>\n",
       "      <td>NaN</td>\n",
       "    </tr>\n",
       "    <tr>\n",
       "      <th>305423</th>\n",
       "      <td>2022-07-05 05:52:09+00:00</td>\n",
       "      <td>485866</td>\n",
       "      <td>6.98</td>\n",
       "      <td>11.89</td>\n",
       "      <td>14.58</td>\n",
       "      <td>70915.0</td>\n",
       "      <td>-69.0</td>\n",
       "      <td>72.0</td>\n",
       "      <td>60.0</td>\n",
       "      <td>11.89</td>\n",
       "      <td>NaN</td>\n",
       "    </tr>\n",
       "    <tr>\n",
       "      <th>305424</th>\n",
       "      <td>2022-07-05 05:54:09+00:00</td>\n",
       "      <td>485867</td>\n",
       "      <td>5.82</td>\n",
       "      <td>11.07</td>\n",
       "      <td>14.45</td>\n",
       "      <td>70917.0</td>\n",
       "      <td>-68.0</td>\n",
       "      <td>73.0</td>\n",
       "      <td>60.0</td>\n",
       "      <td>11.07</td>\n",
       "      <td>NaN</td>\n",
       "    </tr>\n",
       "    <tr>\n",
       "      <th>305425</th>\n",
       "      <td>2022-07-05 05:56:09+00:00</td>\n",
       "      <td>485868</td>\n",
       "      <td>5.65</td>\n",
       "      <td>10.33</td>\n",
       "      <td>13.14</td>\n",
       "      <td>70919.0</td>\n",
       "      <td>-67.0</td>\n",
       "      <td>73.0</td>\n",
       "      <td>60.0</td>\n",
       "      <td>10.33</td>\n",
       "      <td>NaN</td>\n",
       "    </tr>\n",
       "    <tr>\n",
       "      <th>305426</th>\n",
       "      <td>2022-07-05 05:58:09+00:00</td>\n",
       "      <td>485869</td>\n",
       "      <td>7.17</td>\n",
       "      <td>13.38</td>\n",
       "      <td>16.48</td>\n",
       "      <td>70921.0</td>\n",
       "      <td>-72.0</td>\n",
       "      <td>72.0</td>\n",
       "      <td>60.0</td>\n",
       "      <td>13.38</td>\n",
       "      <td>NaN</td>\n",
       "    </tr>\n",
       "    <tr>\n",
       "      <th>305427</th>\n",
       "      <td>2022-07-05 06:00:09+00:00</td>\n",
       "      <td>485870</td>\n",
       "      <td>5.09</td>\n",
       "      <td>8.67</td>\n",
       "      <td>10.78</td>\n",
       "      <td>70923.0</td>\n",
       "      <td>-65.0</td>\n",
       "      <td>72.0</td>\n",
       "      <td>60.0</td>\n",
       "      <td>8.67</td>\n",
       "      <td>NaN</td>\n",
       "    </tr>\n",
       "    <tr>\n",
       "      <th>305428</th>\n",
       "      <td>2022-07-05 06:02:09+00:00</td>\n",
       "      <td>485871</td>\n",
       "      <td>4.52</td>\n",
       "      <td>8.33</td>\n",
       "      <td>11.19</td>\n",
       "      <td>70925.0</td>\n",
       "      <td>-69.0</td>\n",
       "      <td>72.0</td>\n",
       "      <td>59.0</td>\n",
       "      <td>8.33</td>\n",
       "      <td>NaN</td>\n",
       "    </tr>\n",
       "    <tr>\n",
       "      <th>305429</th>\n",
       "      <td>2022-07-05 06:04:09+00:00</td>\n",
       "      <td>485872</td>\n",
       "      <td>5.62</td>\n",
       "      <td>10.02</td>\n",
       "      <td>11.29</td>\n",
       "      <td>70927.0</td>\n",
       "      <td>-67.0</td>\n",
       "      <td>72.0</td>\n",
       "      <td>60.0</td>\n",
       "      <td>10.02</td>\n",
       "      <td>NaN</td>\n",
       "    </tr>\n",
       "    <tr>\n",
       "      <th>305430</th>\n",
       "      <td>2022-07-05 06:06:09+00:00</td>\n",
       "      <td>485873</td>\n",
       "      <td>11.17</td>\n",
       "      <td>17.88</td>\n",
       "      <td>23.90</td>\n",
       "      <td>70929.0</td>\n",
       "      <td>-71.0</td>\n",
       "      <td>72.0</td>\n",
       "      <td>60.0</td>\n",
       "      <td>17.88</td>\n",
       "      <td>NaN</td>\n",
       "    </tr>\n",
       "    <tr>\n",
       "      <th>305431</th>\n",
       "      <td>2022-07-05 06:08:09+00:00</td>\n",
       "      <td>485874</td>\n",
       "      <td>336.36</td>\n",
       "      <td>1297.91</td>\n",
       "      <td>1582.45</td>\n",
       "      <td>70931.0</td>\n",
       "      <td>-68.0</td>\n",
       "      <td>72.0</td>\n",
       "      <td>60.0</td>\n",
       "      <td>865.12</td>\n",
       "      <td>NaN</td>\n",
       "    </tr>\n",
       "    <tr>\n",
       "      <th>305432</th>\n",
       "      <td>2022-07-05 06:10:09+00:00</td>\n",
       "      <td>485875</td>\n",
       "      <td>332.55</td>\n",
       "      <td>878.52</td>\n",
       "      <td>1027.02</td>\n",
       "      <td>70933.0</td>\n",
       "      <td>-71.0</td>\n",
       "      <td>72.0</td>\n",
       "      <td>60.0</td>\n",
       "      <td>585.00</td>\n",
       "      <td>NaN</td>\n",
       "    </tr>\n",
       "    <tr>\n",
       "      <th>305433</th>\n",
       "      <td>2022-07-05 06:12:09+00:00</td>\n",
       "      <td>485876</td>\n",
       "      <td>173.87</td>\n",
       "      <td>342.52</td>\n",
       "      <td>392.19</td>\n",
       "      <td>70935.0</td>\n",
       "      <td>-68.0</td>\n",
       "      <td>68.0</td>\n",
       "      <td>59.0</td>\n",
       "      <td>227.58</td>\n",
       "      <td>NaN</td>\n",
       "    </tr>\n",
       "    <tr>\n",
       "      <th>305434</th>\n",
       "      <td>2022-07-05 06:14:09+00:00</td>\n",
       "      <td>485877</td>\n",
       "      <td>68.84</td>\n",
       "      <td>129.05</td>\n",
       "      <td>155.05</td>\n",
       "      <td>70937.0</td>\n",
       "      <td>-67.0</td>\n",
       "      <td>73.0</td>\n",
       "      <td>60.0</td>\n",
       "      <td>85.29</td>\n",
       "      <td>NaN</td>\n",
       "    </tr>\n",
       "    <tr>\n",
       "      <th>305435</th>\n",
       "      <td>2022-07-05 06:16:09+00:00</td>\n",
       "      <td>485878</td>\n",
       "      <td>26.69</td>\n",
       "      <td>48.02</td>\n",
       "      <td>60.86</td>\n",
       "      <td>70939.0</td>\n",
       "      <td>-69.0</td>\n",
       "      <td>72.0</td>\n",
       "      <td>60.0</td>\n",
       "      <td>39.97</td>\n",
       "      <td>NaN</td>\n",
       "    </tr>\n",
       "  </tbody>\n",
       "</table>\n",
       "</div>"
      ],
      "text/plain": [
       "                      created_at  entry_id  PM1.0_CF1_ug/m3  PM2.5_CF1_ug/m3  \\\n",
       "305420 2022-07-05 05:46:09+00:00    485863             5.17            10.33   \n",
       "305421 2022-07-05 05:48:09+00:00    485864             6.66            10.88   \n",
       "305422 2022-07-05 05:50:09+00:00    485865             6.81            12.11   \n",
       "305423 2022-07-05 05:52:09+00:00    485866             6.98            11.89   \n",
       "305424 2022-07-05 05:54:09+00:00    485867             5.82            11.07   \n",
       "305425 2022-07-05 05:56:09+00:00    485868             5.65            10.33   \n",
       "305426 2022-07-05 05:58:09+00:00    485869             7.17            13.38   \n",
       "305427 2022-07-05 06:00:09+00:00    485870             5.09             8.67   \n",
       "305428 2022-07-05 06:02:09+00:00    485871             4.52             8.33   \n",
       "305429 2022-07-05 06:04:09+00:00    485872             5.62            10.02   \n",
       "305430 2022-07-05 06:06:09+00:00    485873            11.17            17.88   \n",
       "305431 2022-07-05 06:08:09+00:00    485874           336.36          1297.91   \n",
       "305432 2022-07-05 06:10:09+00:00    485875           332.55           878.52   \n",
       "305433 2022-07-05 06:12:09+00:00    485876           173.87           342.52   \n",
       "305434 2022-07-05 06:14:09+00:00    485877            68.84           129.05   \n",
       "305435 2022-07-05 06:16:09+00:00    485878            26.69            48.02   \n",
       "\n",
       "        PM10.0_CF1_ug/m3  UptimeMinutes  RSSI_dbm  Temperature_F  Humidity_%  \\\n",
       "305420             12.72        70909.0     -67.0           73.0        59.0   \n",
       "305421             12.31        70911.0     -67.0           72.0        59.0   \n",
       "305422             14.12        70913.0     -72.0           72.0        60.0   \n",
       "305423             14.58        70915.0     -69.0           72.0        60.0   \n",
       "305424             14.45        70917.0     -68.0           73.0        60.0   \n",
       "305425             13.14        70919.0     -67.0           73.0        60.0   \n",
       "305426             16.48        70921.0     -72.0           72.0        60.0   \n",
       "305427             10.78        70923.0     -65.0           72.0        60.0   \n",
       "305428             11.19        70925.0     -69.0           72.0        59.0   \n",
       "305429             11.29        70927.0     -67.0           72.0        60.0   \n",
       "305430             23.90        70929.0     -71.0           72.0        60.0   \n",
       "305431           1582.45        70931.0     -68.0           72.0        60.0   \n",
       "305432           1027.02        70933.0     -71.0           72.0        60.0   \n",
       "305433            392.19        70935.0     -68.0           68.0        59.0   \n",
       "305434            155.05        70937.0     -67.0           73.0        60.0   \n",
       "305435             60.86        70939.0     -69.0           72.0        60.0   \n",
       "\n",
       "        PM2.5_ATM_ug/m3  Unnamed: 10  \n",
       "305420            10.33          NaN  \n",
       "305421            10.88          NaN  \n",
       "305422            12.11          NaN  \n",
       "305423            11.89          NaN  \n",
       "305424            11.07          NaN  \n",
       "305425            10.33          NaN  \n",
       "305426            13.38          NaN  \n",
       "305427             8.67          NaN  \n",
       "305428             8.33          NaN  \n",
       "305429            10.02          NaN  \n",
       "305430            17.88          NaN  \n",
       "305431           865.12          NaN  \n",
       "305432           585.00          NaN  \n",
       "305433           227.58          NaN  \n",
       "305434            85.29          NaN  \n",
       "305435            39.97          NaN  "
      ]
     },
     "execution_count": 82,
     "metadata": {},
     "output_type": "execute_result"
    }
   ],
   "source": [
    "Bower.loc[305420:305435,:]"
   ]
  },
  {
   "cell_type": "markdown",
   "metadata": {},
   "source": [
    "Looks like there was a stretch of time with really high values, somewhat suspciously clustered around 5000.  If I were doing more work here I would look into the sensor more carefully to see if there is any significance to that number.\n",
    "\n",
    "But for now -- let's just go ahead and drop them and see what happens:"
   ]
  },
  {
   "cell_type": "code",
   "execution_count": 83,
   "metadata": {},
   "outputs": [
    {
     "data": {
      "text/html": [
       "<div>\n",
       "<style scoped>\n",
       "    .dataframe tbody tr th:only-of-type {\n",
       "        vertical-align: middle;\n",
       "    }\n",
       "\n",
       "    .dataframe tbody tr th {\n",
       "        vertical-align: top;\n",
       "    }\n",
       "\n",
       "    .dataframe thead th {\n",
       "        text-align: right;\n",
       "    }\n",
       "</style>\n",
       "<table border=\"1\" class=\"dataframe\">\n",
       "  <thead>\n",
       "    <tr style=\"text-align: right;\">\n",
       "      <th></th>\n",
       "      <th>entry_id</th>\n",
       "      <th>PM1.0_CF1_ug/m3</th>\n",
       "      <th>PM2.5_CF1_ug/m3</th>\n",
       "      <th>PM10.0_CF1_ug/m3</th>\n",
       "      <th>UptimeMinutes</th>\n",
       "      <th>RSSI_dbm</th>\n",
       "      <th>Temperature_F</th>\n",
       "      <th>Humidity_%</th>\n",
       "      <th>PM2.5_ATM_ug/m3</th>\n",
       "      <th>Unnamed: 10</th>\n",
       "    </tr>\n",
       "  </thead>\n",
       "  <tbody>\n",
       "    <tr>\n",
       "      <th>count</th>\n",
       "      <td>351942.000000</td>\n",
       "      <td>351942.000000</td>\n",
       "      <td>351938.000000</td>\n",
       "      <td>351942.000000</td>\n",
       "      <td>351942.000000</td>\n",
       "      <td>351942.000000</td>\n",
       "      <td>351942.000000</td>\n",
       "      <td>351942.000000</td>\n",
       "      <td>351942.000000</td>\n",
       "      <td>0.0</td>\n",
       "    </tr>\n",
       "    <tr>\n",
       "      <th>mean</th>\n",
       "      <td>390592.636500</td>\n",
       "      <td>7.703851</td>\n",
       "      <td>15.980506</td>\n",
       "      <td>24.196788</td>\n",
       "      <td>26747.629834</td>\n",
       "      <td>-70.180916</td>\n",
       "      <td>65.679018</td>\n",
       "      <td>50.249541</td>\n",
       "      <td>14.203361</td>\n",
       "      <td>NaN</td>\n",
       "    </tr>\n",
       "    <tr>\n",
       "      <th>std</th>\n",
       "      <td>68985.096555</td>\n",
       "      <td>9.894243</td>\n",
       "      <td>19.240002</td>\n",
       "      <td>24.491579</td>\n",
       "      <td>18879.817383</td>\n",
       "      <td>5.026611</td>\n",
       "      <td>11.876395</td>\n",
       "      <td>14.772064</td>\n",
       "      <td>14.610303</td>\n",
       "      <td>NaN</td>\n",
       "    </tr>\n",
       "    <tr>\n",
       "      <th>min</th>\n",
       "      <td>271065.000000</td>\n",
       "      <td>0.000000</td>\n",
       "      <td>0.000000</td>\n",
       "      <td>0.000000</td>\n",
       "      <td>1.000000</td>\n",
       "      <td>-93.000000</td>\n",
       "      <td>36.000000</td>\n",
       "      <td>5.000000</td>\n",
       "      <td>0.000000</td>\n",
       "      <td>NaN</td>\n",
       "    </tr>\n",
       "    <tr>\n",
       "      <th>25%</th>\n",
       "      <td>336116.000000</td>\n",
       "      <td>1.210000</td>\n",
       "      <td>3.590000</td>\n",
       "      <td>6.750000</td>\n",
       "      <td>10005.000000</td>\n",
       "      <td>-71.000000</td>\n",
       "      <td>58.000000</td>\n",
       "      <td>41.000000</td>\n",
       "      <td>3.590000</td>\n",
       "      <td>NaN</td>\n",
       "    </tr>\n",
       "    <tr>\n",
       "      <th>50%</th>\n",
       "      <td>380108.500000</td>\n",
       "      <td>3.760000</td>\n",
       "      <td>8.750000</td>\n",
       "      <td>16.410000</td>\n",
       "      <td>23995.500000</td>\n",
       "      <td>-69.000000</td>\n",
       "      <td>63.000000</td>\n",
       "      <td>55.000000</td>\n",
       "      <td>8.750000</td>\n",
       "      <td>NaN</td>\n",
       "    </tr>\n",
       "    <tr>\n",
       "      <th>75%</th>\n",
       "      <td>444398.750000</td>\n",
       "      <td>10.220000</td>\n",
       "      <td>20.280000</td>\n",
       "      <td>33.270000</td>\n",
       "      <td>41299.000000</td>\n",
       "      <td>-67.000000</td>\n",
       "      <td>71.000000</td>\n",
       "      <td>62.000000</td>\n",
       "      <td>20.270000</td>\n",
       "      <td>NaN</td>\n",
       "    </tr>\n",
       "    <tr>\n",
       "      <th>max</th>\n",
       "      <td>532384.000000</td>\n",
       "      <td>336.360000</td>\n",
       "      <td>346.050000</td>\n",
       "      <td>1582.450000</td>\n",
       "      <td>71582.000000</td>\n",
       "      <td>-53.000000</td>\n",
       "      <td>126.000000</td>\n",
       "      <td>77.000000</td>\n",
       "      <td>865.120000</td>\n",
       "      <td>NaN</td>\n",
       "    </tr>\n",
       "  </tbody>\n",
       "</table>\n",
       "</div>"
      ],
      "text/plain": [
       "            entry_id  PM1.0_CF1_ug/m3  PM2.5_CF1_ug/m3  PM10.0_CF1_ug/m3  \\\n",
       "count  351942.000000    351942.000000    351938.000000     351942.000000   \n",
       "mean   390592.636500         7.703851        15.980506         24.196788   \n",
       "std     68985.096555         9.894243        19.240002         24.491579   \n",
       "min    271065.000000         0.000000         0.000000          0.000000   \n",
       "25%    336116.000000         1.210000         3.590000          6.750000   \n",
       "50%    380108.500000         3.760000         8.750000         16.410000   \n",
       "75%    444398.750000        10.220000        20.280000         33.270000   \n",
       "max    532384.000000       336.360000       346.050000       1582.450000   \n",
       "\n",
       "       UptimeMinutes       RSSI_dbm  Temperature_F     Humidity_%  \\\n",
       "count  351942.000000  351942.000000  351942.000000  351942.000000   \n",
       "mean    26747.629834     -70.180916      65.679018      50.249541   \n",
       "std     18879.817383       5.026611      11.876395      14.772064   \n",
       "min         1.000000     -93.000000      36.000000       5.000000   \n",
       "25%     10005.000000     -71.000000      58.000000      41.000000   \n",
       "50%     23995.500000     -69.000000      63.000000      55.000000   \n",
       "75%     41299.000000     -67.000000      71.000000      62.000000   \n",
       "max     71582.000000     -53.000000     126.000000      77.000000   \n",
       "\n",
       "       PM2.5_ATM_ug/m3  Unnamed: 10  \n",
       "count    351942.000000          0.0  \n",
       "mean         14.203361          NaN  \n",
       "std          14.610303          NaN  \n",
       "min           0.000000          NaN  \n",
       "25%           3.590000          NaN  \n",
       "50%           8.750000          NaN  \n",
       "75%          20.270000          NaN  \n",
       "max         865.120000          NaN  "
      ]
     },
     "execution_count": 83,
     "metadata": {},
     "output_type": "execute_result"
    }
   ],
   "source": [
    "Bower.loc[log_ind,'PM2.5_CF1_ug/m3'] = np.nan\n",
    "Bower.describe()"
   ]
  },
  {
   "cell_type": "markdown",
   "metadata": {},
   "source": [
    "You can see the average came down a little, and the standard deviation came *really* far down.  And as we'd hope the max is now below 500.  "
   ]
  },
  {
   "cell_type": "code",
   "execution_count": null,
   "metadata": {},
   "outputs": [],
   "source": []
  }
 ],
 "metadata": {
  "kernelspec": {
   "display_name": "Python 3 (ipykernel)",
   "language": "python",
   "name": "python3"
  },
  "language_info": {
   "codemirror_mode": {
    "name": "ipython",
    "version": 3
   },
   "file_extension": ".py",
   "mimetype": "text/x-python",
   "name": "python",
   "nbconvert_exporter": "python",
   "pygments_lexer": "ipython3",
   "version": "3.11.4"
  }
 },
 "nbformat": 4,
 "nbformat_minor": 2
}
