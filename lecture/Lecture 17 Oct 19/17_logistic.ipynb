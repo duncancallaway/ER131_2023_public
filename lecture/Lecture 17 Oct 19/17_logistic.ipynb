{
 "cells": [
  {
   "cell_type": "markdown",
   "metadata": {},
   "source": [
    "# Exploring logistic regression and classification error\n",
    "This notebook works with PG&E's 'wire down' data to explore building a model that can predict whether or not a failure in PG&E's distribution system was caused by a third party.  \n",
    "\n",
    "The data we'll play with come from PG&E's wildfire mitigation plan docs [here](https://www.pge.com/en_US/safety/emergency-preparedness/natural-disaster/wildfires/wildfire-mitigation-plan.page?WT.mc_id=Vanity_wildfiremitigationplan).  The wire down data are part of the \"Supplemental Data Request\" in the 2019-2020 docs.  The file is big, so only click [this link](https://www.pge.com/pge_global/common/pdfs/safety/emergency-preparedness/natural-disaster/wildfires/wildfire-mitigation-plan/SDR.zip) if you're ready to download 70MB!"
   ]
  },
  {
   "cell_type": "code",
   "execution_count": 1,
   "metadata": {},
   "outputs": [],
   "source": [
    "import pandas as pd\n",
    "import matplotlib\n",
    "import matplotlib.pyplot as plt\n",
    "import seaborn as sns\n",
    "%matplotlib inline\n",
    "import numpy as np\n",
    "import re"
   ]
  },
  {
   "cell_type": "markdown",
   "metadata": {},
   "source": [
    "A couple of comments on the read_csv that follows: \n",
    "* `skiprows` causes it to ignore the first $n+1$ rows\n",
    "* `skipfooter` causes it to ignore the last $n$ rows\n",
    "* I use `engine = 'python'` because the python parser is needed to get `skipfooter` to work properly."
   ]
  },
  {
   "cell_type": "code",
   "execution_count": 2,
   "metadata": {},
   "outputs": [],
   "source": [
    "ED_wiredown = pd.read_csv('ED_wire_down.csv', skiprows=5, skipfooter = 1000, engine = 'python')"
   ]
  },
  {
   "cell_type": "code",
   "execution_count": 3,
   "metadata": {
    "scrolled": true
   },
   "outputs": [
    {
     "data": {
      "text/plain": [
       "Index(['Division', 'District Name', 'Feeder Name', 'Feeder #', 'Device',\n",
       "       'Oper #', 'Out Date', 'FNL', 'In Date', 'In\\nTime', 'OIS #', 'Duration',\n",
       "       'Outage Level', 'Basic Cause', 'Supplemental Cause', 'CESO', 'C Min',\n",
       "       'Open Point\\nLatitude', 'Open Point\\nLongitude', 'Fault Location',\n",
       "       'Weather', 'Failed Equipment', 'Failed Equipment\\nCondition', 'Event #',\n",
       "       'Const\\nType', 'Sus/Mom', 'Tier'],\n",
       "      dtype='object')"
      ]
     },
     "execution_count": 3,
     "metadata": {},
     "output_type": "execute_result"
    }
   ],
   "source": [
    "ED_wiredown.columns"
   ]
  },
  {
   "cell_type": "markdown",
   "metadata": {},
   "source": [
    "One case see there is a 'Basic Cause' column -- let's check that out:"
   ]
  },
  {
   "cell_type": "code",
   "execution_count": 4,
   "metadata": {},
   "outputs": [
    {
     "name": "stdout",
     "output_type": "stream",
     "text": [
      "['3rd Party                   ' 'Animal                      '\n",
      " 'Company Initiated           ' 'Environmental/External      '\n",
      " 'Equipment Failure/Involved  ' 'Unknown Cause               '\n",
      " 'Vegetation                  ']\n"
     ]
    }
   ],
   "source": [
    "causes = ED_wiredown['Basic Cause'].unique()\n",
    "print(causes)"
   ]
  },
  {
   "cell_type": "code",
   "execution_count": 5,
   "metadata": {},
   "outputs": [
    {
     "name": "stdout",
     "output_type": "stream",
     "text": [
      "Fraction of outages that are third party is 0.1667156965749107\n"
     ]
    }
   ],
   "source": [
    "thirdparty = np.sum(ED_wiredown['Basic Cause']==causes[0])\n",
    "print('Fraction of outages that are third party is',thirdparty/len(ED_wiredown['Basic Cause']))"
   ]
  },
  {
   "cell_type": "markdown",
   "metadata": {},
   "source": [
    "I want to use the 'Duration' column as a feature to predict whether or not the failure was caused by a third party.  \n",
    "\n",
    "Side note: the data headers don't tell use the units for duration, but with digging into documentation you'll find the units are in minutes.\n",
    "\n",
    "But let's look at the type on 'Duration'"
   ]
  },
  {
   "cell_type": "code",
   "execution_count": 6,
   "metadata": {},
   "outputs": [
    {
     "name": "stdout",
     "output_type": "stream",
     "text": [
      "0     12,004\n",
      "1      4,693\n",
      "2      3,577\n",
      "3      3,501\n",
      "4      3,277\n",
      "5      3,139\n",
      "6      2,949\n",
      "7      2,687\n",
      "8      2,633\n",
      "9      2,508\n",
      "10     2,402\n",
      "Name: Duration, dtype: object\n"
     ]
    },
    {
     "data": {
      "text/plain": [
       "0     <class 'str'>\n",
       "1     <class 'str'>\n",
       "2     <class 'str'>\n",
       "3     <class 'str'>\n",
       "4     <class 'str'>\n",
       "5     <class 'str'>\n",
       "6     <class 'str'>\n",
       "7     <class 'str'>\n",
       "8     <class 'str'>\n",
       "9     <class 'str'>\n",
       "10    <class 'str'>\n",
       "Name: Duration, dtype: object"
      ]
     },
     "execution_count": 6,
     "metadata": {},
     "output_type": "execute_result"
    }
   ],
   "source": [
    "print(ED_wiredown.loc[0:10,'Duration'])\n",
    "ED_wiredown.loc[0:10,'Duration'].apply(type)"
   ]
  },
  {
   "cell_type": "markdown",
   "metadata": {},
   "source": [
    "Those are strings!  I need to convert them to numbers.  But before doing that I need to get rid of the commas to get `pd.to_numeric` to parse correctly.  "
   ]
  },
  {
   "cell_type": "code",
   "execution_count": 7,
   "metadata": {},
   "outputs": [
    {
     "name": "stdout",
     "output_type": "stream",
     "text": [
      "0     12004\n",
      "1      4693\n",
      "2      3577\n",
      "3      3501\n",
      "4      3277\n",
      "5      3139\n",
      "6      2949\n",
      "7      2687\n",
      "8      2633\n",
      "9      2508\n",
      "10     2402\n",
      "Name: Duration, dtype: object\n"
     ]
    }
   ],
   "source": [
    "for i in range(0,len(ED_wiredown)):\n",
    "    ED_wiredown.loc[i,'Duration'] = re.sub(',', '', ED_wiredown.loc[i,'Duration'])   \n",
    "print(ED_wiredown.loc[0:10,'Duration'])"
   ]
  },
  {
   "cell_type": "markdown",
   "metadata": {},
   "source": [
    "These are still strings.  But now I can easily convert to numbers:"
   ]
  },
  {
   "cell_type": "code",
   "execution_count": 8,
   "metadata": {
    "scrolled": true
   },
   "outputs": [],
   "source": [
    "ED_wiredown['Duration'] = ED_wiredown['Duration'].apply(pd.to_numeric)"
   ]
  },
  {
   "cell_type": "markdown",
   "metadata": {},
   "source": [
    "Check out the distribution of outage durations resulting from each wire down event"
   ]
  },
  {
   "cell_type": "code",
   "execution_count": 9,
   "metadata": {
    "scrolled": false
   },
   "outputs": [
    {
     "data": {
      "image/png": "[encoded data removed]",
      "text/plain": [
       "<Figure size 640x480 with 1 Axes>"
      ]
     },
     "metadata": {},
     "output_type": "display_data"
    }
   ],
   "source": [
    "sns.kdeplot(ED_wiredown['Duration']);"
   ]
  },
  {
   "cell_type": "markdown",
   "metadata": {},
   "source": [
    "## Classification"
   ]
  },
  {
   "cell_type": "markdown",
   "metadata": {},
   "source": [
    "Ok, let's first create our classification target: is the failure cause 3rd party or not?"
   ]
  },
  {
   "cell_type": "code",
   "execution_count": 10,
   "metadata": {},
   "outputs": [],
   "source": [
    "bln = ED_wiredown['Basic Cause'] == '3rd Party                   '\n",
    "ED_wiredown_new = ED_wiredown\n",
    "ED_wiredown_new['Coded Cause'] = bln"
   ]
  },
  {
   "cell_type": "markdown",
   "metadata": {},
   "source": [
    "That just added a new column to the dataframe with a boolean (which is effectively a $0$ or $1$ variable for classification purposes) indicated whether the failure was caused by third party.  It's `True` if it was third party caused.\n",
    "\n",
    "Now let's build a model:"
   ]
  },
  {
   "cell_type": "code",
   "execution_count": 11,
   "metadata": {},
   "outputs": [],
   "source": [
    "from sklearn import linear_model"
   ]
  },
  {
   "cell_type": "code",
   "execution_count": 12,
   "metadata": {},
   "outputs": [],
   "source": [
    "lgm = linear_model.LogisticRegression(fit_intercept=True, solver = 'lbfgs')"
   ]
  },
  {
   "cell_type": "markdown",
   "metadata": {},
   "source": [
    "The `'lbfgs'` solver in the argument list above is the standard -- sklearn throws a warning if you don't pass that in.  It's like gradient descent, with a few bells and whistles.  "
   ]
  },
  {
   "cell_type": "code",
   "execution_count": 13,
   "metadata": {},
   "outputs": [],
   "source": [
    "X = ED_wiredown_new[['Duration']]\n",
    "y = ED_wiredown_new['Coded Cause']"
   ]
  },
  {
   "cell_type": "markdown",
   "metadata": {},
   "source": [
    "Let's do a quick-and-dirty test-train split: Half data into test, half into train."
   ]
  },
  {
   "cell_type": "code",
   "execution_count": 14,
   "metadata": {},
   "outputs": [],
   "source": [
    "rnd = np.random.rand(len(X))\n",
    "X_train = X.loc[rnd>0.5,:]\n",
    "X_test = X.loc[rnd<=0.5,:]\n",
    "y_train = y.loc[rnd>0.5]\n",
    "y_test = y.loc[rnd<=0.5]"
   ]
  },
  {
   "cell_type": "code",
   "execution_count": 15,
   "metadata": {},
   "outputs": [],
   "source": [
    "clf = lgm.fit(X_train, y_train)"
   ]
  },
  {
   "cell_type": "markdown",
   "metadata": {},
   "source": [
    "Ok, model built and estimated!  Let's construct predicted values."
   ]
  },
  {
   "cell_type": "code",
   "execution_count": 16,
   "metadata": {},
   "outputs": [],
   "source": [
    "y_hat = clf.predict(X_test)"
   ]
  },
  {
   "cell_type": "code",
   "execution_count": 17,
   "metadata": {},
   "outputs": [
    {
     "data": {
      "image/png": "[encoded data removed]",
      "text/plain": [
       "<Figure size 640x480 with 1 Axes>"
      ]
     },
     "metadata": {},
     "output_type": "display_data"
    }
   ],
   "source": [
    "plt.plot(X_test,y_hat)\n",
    "plt.scatter(X_test,y_test)\n",
    "plt.show()"
   ]
  },
  {
   "cell_type": "markdown",
   "metadata": {},
   "source": [
    "Let's plot the values versus their *probabilities* as predicted by the model."
   ]
  },
  {
   "cell_type": "code",
   "execution_count": 18,
   "metadata": {
    "scrolled": true
   },
   "outputs": [],
   "source": [
    "y_prob = clf.predict_proba(X_test)"
   ]
  },
  {
   "cell_type": "markdown",
   "metadata": {},
   "source": [
    "This produces a 2 column matrix.  The first column is the model's probability the observation is PG&E (y = 0); the second is the model's probability the observation is third party (y = 1).  So we'll plot the second column, with the expectation that the probability will be higher for cases when the observation *is* third party:"
   ]
  },
  {
   "cell_type": "code",
   "execution_count": 19,
   "metadata": {},
   "outputs": [
    {
     "data": {
      "image/png": "[encoded data removed]",
      "text/plain": [
       "<Figure size 640x480 with 1 Axes>"
      ]
     },
     "metadata": {},
     "output_type": "display_data"
    }
   ],
   "source": [
    "plt.scatter(X_test,y_prob[:,1])\n",
    "plt.scatter(X_test,y_test)\n",
    "plt.show()"
   ]
  },
  {
   "cell_type": "markdown",
   "metadata": {},
   "source": [
    "Ok you can see from the figure that the *prediction* is that the cause is never third party.  Let's take a look at this model performance in terms of different error metrics."
   ]
  },
  {
   "cell_type": "code",
   "execution_count": 20,
   "metadata": {},
   "outputs": [
    {
     "name": "stdout",
     "output_type": "stream",
     "text": [
      "[[9940    0]\n",
      " [1928    0]]\n"
     ]
    }
   ],
   "source": [
    "from sklearn.metrics import confusion_matrix\n",
    "print(confusion_matrix(y_test,y_hat))  "
   ]
  },
  {
   "cell_type": "code",
   "execution_count": 21,
   "metadata": {},
   "outputs": [
    {
     "name": "stdout",
     "output_type": "stream",
     "text": [
      "              precision    recall  f1-score   support\n",
      "\n",
      "        PG&E       0.84      1.00      0.91      9940\n",
      " Third Party       0.00      0.00      0.00      1928\n",
      "\n",
      "    accuracy                           0.84     11868\n",
      "   macro avg       0.42      0.50      0.46     11868\n",
      "weighted avg       0.70      0.84      0.76     11868\n",
      "\n"
     ]
    },
    {
     "name": "stderr",
     "output_type": "stream",
     "text": [
      "/opt/homebrew/lib/python3.11/site-packages/sklearn/metrics/_classification.py:1469: UndefinedMetricWarning: Precision and F-score are ill-defined and being set to 0.0 in labels with no predicted samples. Use `zero_division` parameter to control this behavior.\n",
      "  _warn_prf(average, modifier, msg_start, len(result))\n",
      "/opt/homebrew/lib/python3.11/site-packages/sklearn/metrics/_classification.py:1469: UndefinedMetricWarning: Precision and F-score are ill-defined and being set to 0.0 in labels with no predicted samples. Use `zero_division` parameter to control this behavior.\n",
      "  _warn_prf(average, modifier, msg_start, len(result))\n",
      "/opt/homebrew/lib/python3.11/site-packages/sklearn/metrics/_classification.py:1469: UndefinedMetricWarning: Precision and F-score are ill-defined and being set to 0.0 in labels with no predicted samples. Use `zero_division` parameter to control this behavior.\n",
      "  _warn_prf(average, modifier, msg_start, len(result))\n"
     ]
    }
   ],
   "source": [
    "from sklearn.metrics import classification_report \n",
    "print(classification_report(y_test,y_hat,target_names=['PG&E','Third Party'])) "
   ]
  },
  {
   "cell_type": "markdown",
   "metadata": {},
   "source": [
    "SO you can see that the accuracy seems ok -- 83% -- and precision and recall for non-third party cause are high.  But when you look at the confusion matrix you can see that all of the True (i.e. caused by third party) values are getting mis-classified as false.  \n",
    "\n",
    "Remember:\n",
    "* Precision is the fraction of positives that are actually positive\n",
    "* Recall is the fraction of actual positives that get identified\n",
    "\n",
    "Side note 1: F1 score.  The F1 Score is  2*((precision * recall)/(precision + recall)). It is meant to convey the balance between the precision and the recall.  This is a way to summarize a model if you need just one measure, but it equally weights precision and recall, which obscures important \"under the hood\" performance.\n",
    "\n",
    "Side note 2: avg values.  The macro avg is simply the arithmetic mean of values across classes.  The weighted avg simply weights a given metric by the number of observations in the class."
   ]
  },
  {
   "cell_type": "markdown",
   "metadata": {},
   "source": [
    "## Adding more features\n",
    "Let's add the categorical variable on what equipment failed.  "
   ]
  },
  {
   "cell_type": "code",
   "execution_count": 22,
   "metadata": {},
   "outputs": [
    {
     "data": {
      "text/plain": [
       "array(['Conductor, Overhead         ', 'Pole - Tower, steel         ',\n",
       "       'Pole-Wood                   ', 'Service conductor           ',\n",
       "       'Connector or Splice (OH)    ', 'Crossarm, Wood              ',\n",
       "       'Anchor or Guy               ', 'Secondary                   ',\n",
       "       'Transformer                 ', 'Regulator                   ',\n",
       "       'Insulator                   ', 'Other                       ',\n",
       "       'Jumper                      ', 'Transformer (OH)            ',\n",
       "       'Switch (OH)                 ', 'Woodpin                     ',\n",
       "       nan, 'Cutout, fuse holder         ',\n",
       "       'Booster                     ', 'Recloser                    ',\n",
       "       'PGs, Kearneys               ', 'Footings, Tower or Pole     ',\n",
       "       'Capacitor                   ', 'Lightning Arrestor          ',\n",
       "       'Transformer (UG)            ', 'Conductor, Underground      ',\n",
       "       'Cutout, Fused, Distribution ', 'Bushing                     ',\n",
       "       'Crossarm, Steel             ', 'Customer Equipment          ',\n",
       "       'Switch                      '], dtype=object)"
      ]
     },
     "execution_count": 22,
     "metadata": {},
     "output_type": "execute_result"
    }
   ],
   "source": [
    "what_failed = ED_wiredown['Failed Equipment'].unique() \n",
    "what_failed"
   ]
  },
  {
   "cell_type": "markdown",
   "metadata": {},
   "source": [
    "Perhaps if one knows what failed, one can then predict who caused the failure.  First let's \"one hot encode\" the 'Failed equipment' variable:"
   ]
  },
  {
   "cell_type": "code",
   "execution_count": 23,
   "metadata": {},
   "outputs": [
    {
     "data": {
      "text/html": [
       "<div>\n",
       "<style scoped>\n",
       "    .dataframe tbody tr th:only-of-type {\n",
       "        vertical-align: middle;\n",
       "    }\n",
       "\n",
       "    .dataframe tbody tr th {\n",
       "        vertical-align: top;\n",
       "    }\n",
       "\n",
       "    .dataframe thead th {\n",
       "        text-align: right;\n",
       "    }\n",
       "</style>\n",
       "<table border=\"1\" class=\"dataframe\">\n",
       "  <thead>\n",
       "    <tr style=\"text-align: right;\">\n",
       "      <th></th>\n",
       "      <th>Anchor or Guy</th>\n",
       "      <th>Booster</th>\n",
       "      <th>Bushing</th>\n",
       "      <th>Capacitor</th>\n",
       "      <th>Conductor, Overhead</th>\n",
       "      <th>Conductor, Underground</th>\n",
       "      <th>Connector or Splice (OH)</th>\n",
       "      <th>Crossarm, Steel</th>\n",
       "      <th>Crossarm, Wood</th>\n",
       "      <th>Customer Equipment</th>\n",
       "      <th>...</th>\n",
       "      <th>Recloser</th>\n",
       "      <th>Regulator</th>\n",
       "      <th>Secondary</th>\n",
       "      <th>Service conductor</th>\n",
       "      <th>Switch</th>\n",
       "      <th>Switch (OH)</th>\n",
       "      <th>Transformer</th>\n",
       "      <th>Transformer (OH)</th>\n",
       "      <th>Transformer (UG)</th>\n",
       "      <th>Woodpin</th>\n",
       "    </tr>\n",
       "  </thead>\n",
       "  <tbody>\n",
       "    <tr>\n",
       "      <th>0</th>\n",
       "      <td>False</td>\n",
       "      <td>False</td>\n",
       "      <td>False</td>\n",
       "      <td>False</td>\n",
       "      <td>True</td>\n",
       "      <td>False</td>\n",
       "      <td>False</td>\n",
       "      <td>False</td>\n",
       "      <td>False</td>\n",
       "      <td>False</td>\n",
       "      <td>...</td>\n",
       "      <td>False</td>\n",
       "      <td>False</td>\n",
       "      <td>False</td>\n",
       "      <td>False</td>\n",
       "      <td>False</td>\n",
       "      <td>False</td>\n",
       "      <td>False</td>\n",
       "      <td>False</td>\n",
       "      <td>False</td>\n",
       "      <td>False</td>\n",
       "    </tr>\n",
       "    <tr>\n",
       "      <th>1</th>\n",
       "      <td>False</td>\n",
       "      <td>False</td>\n",
       "      <td>False</td>\n",
       "      <td>False</td>\n",
       "      <td>True</td>\n",
       "      <td>False</td>\n",
       "      <td>False</td>\n",
       "      <td>False</td>\n",
       "      <td>False</td>\n",
       "      <td>False</td>\n",
       "      <td>...</td>\n",
       "      <td>False</td>\n",
       "      <td>False</td>\n",
       "      <td>False</td>\n",
       "      <td>False</td>\n",
       "      <td>False</td>\n",
       "      <td>False</td>\n",
       "      <td>False</td>\n",
       "      <td>False</td>\n",
       "      <td>False</td>\n",
       "      <td>False</td>\n",
       "    </tr>\n",
       "    <tr>\n",
       "      <th>2</th>\n",
       "      <td>False</td>\n",
       "      <td>False</td>\n",
       "      <td>False</td>\n",
       "      <td>False</td>\n",
       "      <td>False</td>\n",
       "      <td>False</td>\n",
       "      <td>False</td>\n",
       "      <td>False</td>\n",
       "      <td>False</td>\n",
       "      <td>False</td>\n",
       "      <td>...</td>\n",
       "      <td>False</td>\n",
       "      <td>False</td>\n",
       "      <td>False</td>\n",
       "      <td>False</td>\n",
       "      <td>False</td>\n",
       "      <td>False</td>\n",
       "      <td>False</td>\n",
       "      <td>False</td>\n",
       "      <td>False</td>\n",
       "      <td>False</td>\n",
       "    </tr>\n",
       "    <tr>\n",
       "      <th>3</th>\n",
       "      <td>False</td>\n",
       "      <td>False</td>\n",
       "      <td>False</td>\n",
       "      <td>False</td>\n",
       "      <td>True</td>\n",
       "      <td>False</td>\n",
       "      <td>False</td>\n",
       "      <td>False</td>\n",
       "      <td>False</td>\n",
       "      <td>False</td>\n",
       "      <td>...</td>\n",
       "      <td>False</td>\n",
       "      <td>False</td>\n",
       "      <td>False</td>\n",
       "      <td>False</td>\n",
       "      <td>False</td>\n",
       "      <td>False</td>\n",
       "      <td>False</td>\n",
       "      <td>False</td>\n",
       "      <td>False</td>\n",
       "      <td>False</td>\n",
       "    </tr>\n",
       "    <tr>\n",
       "      <th>4</th>\n",
       "      <td>False</td>\n",
       "      <td>False</td>\n",
       "      <td>False</td>\n",
       "      <td>False</td>\n",
       "      <td>True</td>\n",
       "      <td>False</td>\n",
       "      <td>False</td>\n",
       "      <td>False</td>\n",
       "      <td>False</td>\n",
       "      <td>False</td>\n",
       "      <td>...</td>\n",
       "      <td>False</td>\n",
       "      <td>False</td>\n",
       "      <td>False</td>\n",
       "      <td>False</td>\n",
       "      <td>False</td>\n",
       "      <td>False</td>\n",
       "      <td>False</td>\n",
       "      <td>False</td>\n",
       "      <td>False</td>\n",
       "      <td>False</td>\n",
       "    </tr>\n",
       "  </tbody>\n",
       "</table>\n",
       "<p>5 rows × 30 columns</p>\n",
       "</div>"
      ],
      "text/plain": [
       "   Anchor or Guy                 Booster                       \\\n",
       "0                         False                         False   \n",
       "1                         False                         False   \n",
       "2                         False                         False   \n",
       "3                         False                         False   \n",
       "4                         False                         False   \n",
       "\n",
       "   Bushing                       Capacitor                     \\\n",
       "0                         False                         False   \n",
       "1                         False                         False   \n",
       "2                         False                         False   \n",
       "3                         False                         False   \n",
       "4                         False                         False   \n",
       "\n",
       "   Conductor, Overhead           Conductor, Underground        \\\n",
       "0                          True                         False   \n",
       "1                          True                         False   \n",
       "2                         False                         False   \n",
       "3                          True                         False   \n",
       "4                          True                         False   \n",
       "\n",
       "   Connector or Splice (OH)      Crossarm, Steel               \\\n",
       "0                         False                         False   \n",
       "1                         False                         False   \n",
       "2                         False                         False   \n",
       "3                         False                         False   \n",
       "4                         False                         False   \n",
       "\n",
       "   Crossarm, Wood                Customer Equipment            ...  \\\n",
       "0                         False                         False  ...   \n",
       "1                         False                         False  ...   \n",
       "2                         False                         False  ...   \n",
       "3                         False                         False  ...   \n",
       "4                         False                         False  ...   \n",
       "\n",
       "   Recloser                      Regulator                     \\\n",
       "0                         False                         False   \n",
       "1                         False                         False   \n",
       "2                         False                         False   \n",
       "3                         False                         False   \n",
       "4                         False                         False   \n",
       "\n",
       "   Secondary                     Service conductor             \\\n",
       "0                         False                         False   \n",
       "1                         False                         False   \n",
       "2                         False                         False   \n",
       "3                         False                         False   \n",
       "4                         False                         False   \n",
       "\n",
       "   Switch                        Switch (OH)                   \\\n",
       "0                         False                         False   \n",
       "1                         False                         False   \n",
       "2                         False                         False   \n",
       "3                         False                         False   \n",
       "4                         False                         False   \n",
       "\n",
       "   Transformer                   Transformer (OH)              \\\n",
       "0                         False                         False   \n",
       "1                         False                         False   \n",
       "2                         False                         False   \n",
       "3                         False                         False   \n",
       "4                         False                         False   \n",
       "\n",
       "   Transformer (UG)              Woodpin                       \n",
       "0                         False                         False  \n",
       "1                         False                         False  \n",
       "2                         False                         False  \n",
       "3                         False                         False  \n",
       "4                         False                         False  \n",
       "\n",
       "[5 rows x 30 columns]"
      ]
     },
     "execution_count": 23,
     "metadata": {},
     "output_type": "execute_result"
    }
   ],
   "source": [
    "onehots = pd.get_dummies(ED_wiredown_new['Failed Equipment'])\n",
    "onehots.head()"
   ]
  },
  {
   "cell_type": "markdown",
   "metadata": {},
   "source": [
    "Now add these one-hot encoded features to the dataframe:"
   ]
  },
  {
   "cell_type": "code",
   "execution_count": 24,
   "metadata": {},
   "outputs": [
    {
     "data": {
      "text/html": [
       "<div>\n",
       "<style scoped>\n",
       "    .dataframe tbody tr th:only-of-type {\n",
       "        vertical-align: middle;\n",
       "    }\n",
       "\n",
       "    .dataframe tbody tr th {\n",
       "        vertical-align: top;\n",
       "    }\n",
       "\n",
       "    .dataframe thead th {\n",
       "        text-align: right;\n",
       "    }\n",
       "</style>\n",
       "<table border=\"1\" class=\"dataframe\">\n",
       "  <thead>\n",
       "    <tr style=\"text-align: right;\">\n",
       "      <th></th>\n",
       "      <th>Division</th>\n",
       "      <th>District Name</th>\n",
       "      <th>Feeder Name</th>\n",
       "      <th>Feeder #</th>\n",
       "      <th>Device</th>\n",
       "      <th>Oper #</th>\n",
       "      <th>Out Date</th>\n",
       "      <th>FNL</th>\n",
       "      <th>In Date</th>\n",
       "      <th>In\\nTime</th>\n",
       "      <th>...</th>\n",
       "      <th>Recloser</th>\n",
       "      <th>Regulator</th>\n",
       "      <th>Secondary</th>\n",
       "      <th>Service conductor</th>\n",
       "      <th>Switch</th>\n",
       "      <th>Switch (OH)</th>\n",
       "      <th>Transformer</th>\n",
       "      <th>Transformer (OH)</th>\n",
       "      <th>Transformer (UG)</th>\n",
       "      <th>Woodpin</th>\n",
       "    </tr>\n",
       "  </thead>\n",
       "  <tbody>\n",
       "    <tr>\n",
       "      <th>0</th>\n",
       "      <td>NORTH VALLEY</td>\n",
       "      <td>SHASTA</td>\n",
       "      <td>GIRVAN-1101</td>\n",
       "      <td>103401101</td>\n",
       "      <td>FUSE</td>\n",
       "      <td>2073</td>\n",
       "      <td>20190212</td>\n",
       "      <td>2305</td>\n",
       "      <td>20190221</td>\n",
       "      <td>709</td>\n",
       "      <td>...</td>\n",
       "      <td>False</td>\n",
       "      <td>False</td>\n",
       "      <td>False</td>\n",
       "      <td>False</td>\n",
       "      <td>False</td>\n",
       "      <td>False</td>\n",
       "      <td>False</td>\n",
       "      <td>False</td>\n",
       "      <td>False</td>\n",
       "      <td>False</td>\n",
       "    </tr>\n",
       "    <tr>\n",
       "      <th>1</th>\n",
       "      <td>CENTRAL COAST</td>\n",
       "      <td>KING CITY</td>\n",
       "      <td>LOS COCHES-1102</td>\n",
       "      <td>182151102</td>\n",
       "      <td>FUSE</td>\n",
       "      <td>8883</td>\n",
       "      <td>20190628</td>\n",
       "      <td>736</td>\n",
       "      <td>20190701</td>\n",
       "      <td>1349</td>\n",
       "      <td>...</td>\n",
       "      <td>False</td>\n",
       "      <td>False</td>\n",
       "      <td>False</td>\n",
       "      <td>False</td>\n",
       "      <td>False</td>\n",
       "      <td>False</td>\n",
       "      <td>False</td>\n",
       "      <td>False</td>\n",
       "      <td>False</td>\n",
       "      <td>False</td>\n",
       "    </tr>\n",
       "    <tr>\n",
       "      <th>2</th>\n",
       "      <td>STOCKTON</td>\n",
       "      <td>DELTA</td>\n",
       "      <td>CHANNEL-1101</td>\n",
       "      <td>163071101</td>\n",
       "      <td>OCB</td>\n",
       "      <td>1101/2                                        ...</td>\n",
       "      <td>20160119</td>\n",
       "      <td>754</td>\n",
       "      <td>20160121</td>\n",
       "      <td>1931</td>\n",
       "      <td>...</td>\n",
       "      <td>False</td>\n",
       "      <td>False</td>\n",
       "      <td>False</td>\n",
       "      <td>False</td>\n",
       "      <td>False</td>\n",
       "      <td>False</td>\n",
       "      <td>False</td>\n",
       "      <td>False</td>\n",
       "      <td>False</td>\n",
       "      <td>False</td>\n",
       "    </tr>\n",
       "    <tr>\n",
       "      <th>3</th>\n",
       "      <td>STOCKTON</td>\n",
       "      <td>DELTA</td>\n",
       "      <td>METTLER-1110</td>\n",
       "      <td>163701110</td>\n",
       "      <td>FUSE</td>\n",
       "      <td>456647</td>\n",
       "      <td>20170217</td>\n",
       "      <td>1332</td>\n",
       "      <td>20170219</td>\n",
       "      <td>2353</td>\n",
       "      <td>...</td>\n",
       "      <td>False</td>\n",
       "      <td>False</td>\n",
       "      <td>False</td>\n",
       "      <td>False</td>\n",
       "      <td>False</td>\n",
       "      <td>False</td>\n",
       "      <td>False</td>\n",
       "      <td>False</td>\n",
       "      <td>False</td>\n",
       "      <td>False</td>\n",
       "    </tr>\n",
       "    <tr>\n",
       "      <th>4</th>\n",
       "      <td>HUMBOLDT</td>\n",
       "      <td>UKIAH</td>\n",
       "      <td>PHILO-1102</td>\n",
       "      <td>42601102</td>\n",
       "      <td>FUSE</td>\n",
       "      <td>5421</td>\n",
       "      <td>20180919</td>\n",
       "      <td>733</td>\n",
       "      <td>20180921</td>\n",
       "      <td>1410</td>\n",
       "      <td>...</td>\n",
       "      <td>False</td>\n",
       "      <td>False</td>\n",
       "      <td>False</td>\n",
       "      <td>False</td>\n",
       "      <td>False</td>\n",
       "      <td>False</td>\n",
       "      <td>False</td>\n",
       "      <td>False</td>\n",
       "      <td>False</td>\n",
       "      <td>False</td>\n",
       "    </tr>\n",
       "  </tbody>\n",
       "</table>\n",
       "<p>5 rows × 58 columns</p>\n",
       "</div>"
      ],
      "text/plain": [
       "        Division     District Name                   Feeder Name   Feeder #  \\\n",
       "0  NORTH VALLEY   SHASTA            GIRVAN-1101                   103401101   \n",
       "1  CENTRAL COAST  KING CITY         LOS COCHES-1102               182151102   \n",
       "2  STOCKTON       DELTA             CHANNEL-1101                  163071101   \n",
       "3  STOCKTON       DELTA             METTLER-1110                  163701110   \n",
       "4  HUMBOLDT       UKIAH             PHILO-1102                     42601102   \n",
       "\n",
       "          Device                                             Oper #  Out Date  \\\n",
       "0  FUSE                                                        2073  20190212   \n",
       "1  FUSE                                                        8883  20190628   \n",
       "2  OCB            1101/2                                        ...  20160119   \n",
       "3  FUSE                                                      456647  20170217   \n",
       "4  FUSE                                                        5421  20180919   \n",
       "\n",
       "    FNL   In Date  In\\nTime  ... Recloser                      \\\n",
       "0  2305  20190221       709  ...                        False   \n",
       "1   736  20190701      1349  ...                        False   \n",
       "2   754  20160121      1931  ...                        False   \n",
       "3  1332  20170219      2353  ...                        False   \n",
       "4   733  20180921      1410  ...                        False   \n",
       "\n",
       "   Regulator                    Secondary                     \\\n",
       "0                         False                        False   \n",
       "1                         False                        False   \n",
       "2                         False                        False   \n",
       "3                         False                        False   \n",
       "4                         False                        False   \n",
       "\n",
       "  Service conductor            Switch                        \\\n",
       "0                        False                        False   \n",
       "1                        False                        False   \n",
       "2                        False                        False   \n",
       "3                        False                        False   \n",
       "4                        False                        False   \n",
       "\n",
       "  Switch (OH)                  Transformer                   \\\n",
       "0                        False                        False   \n",
       "1                        False                        False   \n",
       "2                        False                        False   \n",
       "3                        False                        False   \n",
       "4                        False                        False   \n",
       "\n",
       "   Transformer (OH)              Transformer (UG)              \\\n",
       "0                         False                         False   \n",
       "1                         False                         False   \n",
       "2                         False                         False   \n",
       "3                         False                         False   \n",
       "4                         False                         False   \n",
       "\n",
       "  Woodpin                       \n",
       "0                        False  \n",
       "1                        False  \n",
       "2                        False  \n",
       "3                        False  \n",
       "4                        False  \n",
       "\n",
       "[5 rows x 58 columns]"
      ]
     },
     "execution_count": 24,
     "metadata": {},
     "output_type": "execute_result"
    }
   ],
   "source": [
    "ED_wiredown_new[onehots.columns] = onehots\n",
    "ED_wiredown_new.head()"
   ]
  },
  {
   "cell_type": "markdown",
   "metadata": {},
   "source": [
    "Now let's create a new X-matrix with the duration variable (from before) and the new \"what failed\" variable.  "
   ]
  },
  {
   "cell_type": "code",
   "execution_count": 25,
   "metadata": {},
   "outputs": [],
   "source": [
    "X_DurationCause = X.join(ED_wiredown_new.loc[:,'Anchor or Guy               ':'Woodpin                     '])  \n",
    "X_DC_train = X_DurationCause.loc[rnd>0.5,:]\n",
    "X_DC_test = X_DurationCause.loc[rnd<=0.5,:]"
   ]
  },
  {
   "cell_type": "code",
   "execution_count": 26,
   "metadata": {},
   "outputs": [
    {
     "name": "stderr",
     "output_type": "stream",
     "text": [
      "/opt/homebrew/lib/python3.11/site-packages/sklearn/linear_model/_logistic.py:460: ConvergenceWarning: lbfgs failed to converge (status=1):\n",
      "STOP: TOTAL NO. of ITERATIONS REACHED LIMIT.\n",
      "\n",
      "Increase the number of iterations (max_iter) or scale the data as shown in:\n",
      "    https://scikit-learn.org/stable/modules/preprocessing.html\n",
      "Please also refer to the documentation for alternative solver options:\n",
      "    https://scikit-learn.org/stable/modules/linear_model.html#logistic-regression\n",
      "  n_iter_i = _check_optimize_result(\n"
     ]
    }
   ],
   "source": [
    "clf_DurationCause = lgm.fit(X_DC_train, y_train)"
   ]
  },
  {
   "cell_type": "markdown",
   "metadata": {},
   "source": [
    "The gradient search did not converge.  We can fix by allowing more iterations in the gradient search (the default is 100)"
   ]
  },
  {
   "cell_type": "code",
   "execution_count": 41,
   "metadata": {},
   "outputs": [],
   "source": [
    "lgm = linear_model.LogisticRegression(fit_intercept=True, solver = 'lbfgs', max_iter=200)\n",
    "clf_DurationCause = lgm.fit(X_DC_train, y_train)"
   ]
  },
  {
   "cell_type": "code",
   "execution_count": 42,
   "metadata": {},
   "outputs": [],
   "source": [
    "y_hat = clf_DurationCause.predict(X_DC_test)"
   ]
  },
  {
   "cell_type": "code",
   "execution_count": 43,
   "metadata": {},
   "outputs": [
    {
     "name": "stdout",
     "output_type": "stream",
     "text": [
      "[[9407  533]\n",
      " [ 828 1100]]\n",
      "              precision    recall  f1-score   support\n",
      "\n",
      "        PG&E       0.92      0.95      0.93      9940\n",
      " Third Party       0.67      0.57      0.62      1928\n",
      "\n",
      "    accuracy                           0.89     11868\n",
      "   macro avg       0.80      0.76      0.78     11868\n",
      "weighted avg       0.88      0.89      0.88     11868\n",
      "\n"
     ]
    }
   ],
   "source": [
    "print(confusion_matrix(y_test,y_hat))  \n",
    "print(classification_report(y_test,y_hat,target_names=['PG&E','Third Party'])) "
   ]
  },
  {
   "cell_type": "markdown",
   "metadata": {},
   "source": [
    "Interesting!  Now we are getting much better results.  Though the overall accuracy has not improved substantially, you can see now that the confusion matrix looks better -- there are more third parties getting classified as such than not.  *And* the precision and recall for PG&E's *own* failures is quite good.  "
   ]
  },
  {
   "cell_type": "code",
   "execution_count": 44,
   "metadata": {},
   "outputs": [],
   "source": [
    "from sklearn.metrics import RocCurveDisplay\n",
    "from sklearn.metrics import RocCurveDisplay"
   ]
  },
  {
   "cell_type": "code",
   "execution_count": 45,
   "metadata": {},
   "outputs": [
    {
     "data": {
      "text/plain": [
       "<sklearn.metrics._plot.roc_curve.RocCurveDisplay at 0x164548c50>"
      ]
     },
     "execution_count": 45,
     "metadata": {},
     "output_type": "execute_result"
    },
    {
     "data": {
      "image/png": "[encoded data removed]",
      "text/plain": [
       "<Figure size 640x480 with 1 Axes>"
      ]
     },
     "metadata": {},
     "output_type": "display_data"
    }
   ],
   "source": [
    "RocCurveDisplay.from_estimator(clf_DurationCause, X_DC_test, y_test)"
   ]
  },
  {
   "cell_type": "code",
   "execution_count": null,
   "metadata": {},
   "outputs": [],
   "source": []
  }
 ],
 "metadata": {
  "kernelspec": {
   "display_name": "Python 3 (ipykernel)",
   "language": "python",
   "name": "python3"
  },
  "language_info": {
   "codemirror_mode": {
    "name": "ipython",
    "version": 3
   },
   "file_extension": ".py",
   "mimetype": "text/x-python",
   "name": "python",
   "nbconvert_exporter": "python",
   "pygments_lexer": "ipython3",
   "version": "3.11.4"
  }
 },
 "nbformat": 4,
 "nbformat_minor": 2
}
