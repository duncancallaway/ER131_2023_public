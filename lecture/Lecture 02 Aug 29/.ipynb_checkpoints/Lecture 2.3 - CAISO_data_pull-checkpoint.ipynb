{
 "cells": [
  {
   "cell_type": "markdown",
   "metadata": {},
   "source": [
    "# California Renewables Data\n",
    "\n",
    "ER131: Data, Envinronment and Society.\n",
    "\n",
    "In this notebook, we'll do a brief tour of the data set we'll be working with from the California Independent System Operator.\n",
    "\n",
    "You'll also get a glimpse of what the functions in the `pandas` library can do; we'll spend more time learning `pandas` in the next week.\n",
    "\n",
    "First let's load in csv, pandas and numpy:"
   ]
  },
  {
   "cell_type": "code",
   "execution_count": null,
   "metadata": {},
   "outputs": [],
   "source": [
    "import numpy as np # numpy is something like a matlab replacement for python.  Numeric and scientific computing.\n",
    "import pandas as pd # we'll learn more about this soon"
   ]
  },
  {
   "cell_type": "markdown",
   "metadata": {},
   "source": [
    "### Background\n",
    "California ISO is the system operator for the California grid.  They tell generators when and how much to produce.  \n",
    "\n",
    "They record renewable production data [here](http://content.caiso.com/green/renewrpt/)\n",
    "\n",
    "That page links to files giving production for the *day* in question. \n",
    "\n"
   ]
  },
  {
   "cell_type": "markdown",
   "metadata": {},
   "source": [
    "### Data Provenance\n",
    "What can be said about the data provenance?\n",
    "* Collected with power meters on all generators connected to the grid\n",
    "* How were the data manipulated?\n",
    "    * Aggregated by hour and generator type\n",
    "* What mechanism generated the data: experiment, industrial process, observations in nature? \n",
    "    * Industrial process \n",
    "* Is it a random sample, a census?\n",
    "    * We have access to all recorded days, but not all days in the history of the world are recorded.  Administrative database."
   ]
  },
  {
   "cell_type": "markdown",
   "metadata": {},
   "source": [
    "### Let's dig in\n",
    "Let's look at Aug 21, 2017, the day you'll explore in the HW.  Here, we're just loading it in straight from a local file with `pd.read_csv` and assign it to the variable `caiso_data`"
   ]
  },
  {
   "cell_type": "code",
   "execution_count": null,
   "metadata": {},
   "outputs": [],
   "source": []
  },
  {
   "cell_type": "markdown",
   "metadata": {},
   "source": [
    "Now we can print the result in a \"dataframe\".  This is like a spreadsheet."
   ]
  },
  {
   "cell_type": "code",
   "execution_count": null,
   "metadata": {},
   "outputs": [],
   "source": []
  },
  {
   "cell_type": "markdown",
   "metadata": {},
   "source": [
    "Now let's look at an individual data column (more on pandas next time).  Let's look at the 'SOLAR PV' data:"
   ]
  },
  {
   "cell_type": "code",
   "execution_count": null,
   "metadata": {},
   "outputs": [],
   "source": []
  },
  {
   "cell_type": "markdown",
   "metadata": {},
   "source": [
    "To help us plot things we're going to import a new library called `matplotlib.pyplot`.  We'll introduce this more formally in a few lectures.  \n",
    "\n",
    "import matplotlib.pyplot as plt "
   ]
  },
  {
   "cell_type": "code",
   "execution_count": null,
   "metadata": {},
   "outputs": [],
   "source": []
  },
  {
   "cell_type": "markdown",
   "metadata": {},
   "source": [
    "Let's plot the solar generation data using `plt.plot`"
   ]
  },
  {
   "cell_type": "code",
   "execution_count": null,
   "metadata": {},
   "outputs": [],
   "source": []
  },
  {
   "cell_type": "code",
   "execution_count": null,
   "metadata": {},
   "outputs": [],
   "source": [
    "# alternatively we can plot by hour of day to see things overlap"
   ]
  },
  {
   "cell_type": "markdown",
   "metadata": {},
   "source": [
    "## Some things we saw in today's notebooks\n",
    "* Pandas helps us view and access 'dataframes', which are like spreadsheets of all sorts of different data.\n",
    "    * We're going to learn a lot more about pandas soon\n",
    "    * Some of the most-used pandas objects and methods are `.loc` and the \"index\"\n",
    "* It's important to write functions to get your work done -- \n",
    "    * this makes code more readable, \n",
    "    * helps for debugging \n",
    "    * makes it easier to make a worksheet do many things over and over."
   ]
  }
 ],
 "metadata": {
  "kernelspec": {
   "display_name": "Python 3 (ipykernel)",
   "language": "python",
   "name": "python3"
  },
  "language_info": {
   "codemirror_mode": {
    "name": "ipython",
    "version": 3
   },
   "file_extension": ".py",
   "mimetype": "text/x-python",
   "name": "python",
   "nbconvert_exporter": "python",
   "pygments_lexer": "ipython3",
   "version": "3.11.4"
  }
 },
 "nbformat": 4,
 "nbformat_minor": 2
}
