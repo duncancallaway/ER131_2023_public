{
 "cells": [
  {
   "cell_type": "markdown",
   "metadata": {},
   "source": [
    "# Intro to Pandas\n",
    "Duncan Callaway\n",
    "\n",
    "My objective in this notebook is to review enough of the basics to give people a clear sense of \n",
    "* what a pandas **data frame** is \n",
    "* what it can contain\n",
    "* how to access the information in it"
   ]
  },
  {
   "cell_type": "markdown",
   "metadata": {},
   "source": [
    "## Pandas references\n",
    "\n",
    "Introductory:\n",
    "\n",
    "* [Getting started with Python for research](https://github.com/TiesdeKok/LearnPythonforResearch), a gentle introduction to Python in data-intensive research.\n",
    "\n",
    "* [A Whirlwind Tour of Python](https://jakevdp.github.io/WhirlwindTourOfPython/index.html), by Jake VanderPlas, another quick Python intro (with notebooks).\n",
    "\n",
    "Core Pandas/Data Science books:\n",
    "\n",
    "* [The Python Data Science Handbook](https://jakevdp.github.io/PythonDataScienceHandbook/), by Jake VanderPlas.\n",
    "\n",
    "* [Python for Data Analysis, 2nd Edition](http://proquest.safaribooksonline.com/book/programming/python/9781491957653), by  Wes McKinney, creator of Pandas. [Companion Notebooks](https://github.com/wesm/pydata-book)\n",
    "\n",
    "* [Effective Pandas](https://github.com/TomAugspurger/effective-pandas), a book by Tom Augspurger, core Pandas developer.\n",
    "\n",
    "\n",
    "Complementary resources:\n",
    "\n",
    "* [An introduction to \"Data Science\"](https://github.com/stefanv/ds_intro), a collection of Notebooks by BIDS' [Stéfan Van der Walt](https://bids.berkeley.edu/people/st%C3%A9fan-van-der-walt).\n",
    "\n",
    "* [Effective Computation in Physics](http://proquest.safaribooksonline.com/book/physics/9781491901564), by Kathryn D. Huff; Anthony Scopatz. [Notebooks to accompany the book](https://github.com/physics-codes/seminar). Don't be fooled by the title, it's a great book on modern computational practices with very little that's physics-specific."
   ]
  },
  {
   "cell_type": "markdown",
   "metadata": {},
   "source": [
    "## Introduction \n",
    "In Data8 you used the `tables` library to organize and manipulate data.  I've not used tables but it has been described to me as a 'light' version of pandas.  So this will be somewhat familiar to you.\n",
    "\n",
    "Pandas has several features that make it immediately better than numpy for organizing data.\n",
    "1. You can have different data types (string, int, float) in each column\n",
    "2. You can label columns (headers)\n",
    "3. You can label rows (index)\n",
    "\n",
    "We call the data structure that holds all these things together a **data frame**\n",
    "\n",
    "**Ambiguity alert**: up to now we've talked about indexing to access individual elements of a data structure.  The index in pandas has a slightly more specific meaning, in that it references the rows of the data frame.  Pandas documentation talks about \"location\" or \"position\" in place using \"index\" as we did with the other data structures.  I'll try my best to disambiguate, but also rely on context to clarify the meaning of the terms.\n",
    "\n",
    "At its core, the data frame structure is what draws us to use pandas.  But it also has a bunch of great built-in functions you can use to manipulate data once it is loaded in."
   ]
  },
  {
   "cell_type": "code",
   "execution_count": 1,
   "metadata": {},
   "outputs": [],
   "source": [
    "import pandas as pd"
   ]
  },
  {
   "cell_type": "markdown",
   "metadata": {},
   "source": [
    "I'm going to define a simple data frame in a way that you can see the connections to existing Python data types and structures.  \n",
    "\n",
    "First let's define a dict of fruit information:"
   ]
  },
  {
   "cell_type": "code",
   "execution_count": 2,
   "metadata": {
    "scrolled": true
   },
   "outputs": [
    {
     "data": {
      "text/plain": [
       "{'fruit': ['apple', 'banana', 'orange', 'raspberry'],\n",
       " 'color': ['red', 'yellow', 'orange', 'pink'],\n",
       " 'weight': [120, 150, 250, 15]}"
      ]
     },
     "execution_count": 2,
     "metadata": {},
     "output_type": "execute_result"
    }
   ],
   "source": [
    "fruit_info_dict = {'fruit':['apple','banana','orange','raspberry'],\n",
    "                  'color':['red','yellow','orange','pink'],\n",
    "                  'weight':[120,150,250,15]}\n",
    "fruit_info_dict"
   ]
  },
  {
   "cell_type": "markdown",
   "metadata": {},
   "source": [
    "### Q: What do you get if you call the dict of lists with a key?"
   ]
  },
  {
   "cell_type": "code",
   "execution_count": 3,
   "metadata": {},
   "outputs": [
    {
     "data": {
      "text/plain": [
       "['red', 'yellow', 'orange', 'pink']"
      ]
     },
     "execution_count": 3,
     "metadata": {},
     "output_type": "execute_result"
    }
   ],
   "source": [
    "fruit_info_dict['color']"
   ]
  },
  {
   "cell_type": "markdown",
   "metadata": {},
   "source": [
    "Ans: A the list associated with the key"
   ]
  },
  {
   "cell_type": "markdown",
   "metadata": {},
   "source": [
    "### Q: Figure out how to get the weight of a raspberry out of the dict."
   ]
  },
  {
   "cell_type": "code",
   "execution_count": 4,
   "metadata": {},
   "outputs": [
    {
     "data": {
      "text/plain": [
       "15"
      ]
     },
     "execution_count": 4,
     "metadata": {},
     "output_type": "execute_result"
    }
   ],
   "source": [
    "fruit_info_dict['weight'][3]"
   ]
  },
  {
   "cell_type": "markdown",
   "metadata": {},
   "source": [
    "## Now let's make a dataframe\n",
    "It's just a fancy version of a dict of lists:"
   ]
  },
  {
   "cell_type": "code",
   "execution_count": 5,
   "metadata": {},
   "outputs": [
    {
     "data": {
      "text/html": [
       "<div>\n",
       "<style scoped>\n",
       "    .dataframe tbody tr th:only-of-type {\n",
       "        vertical-align: middle;\n",
       "    }\n",
       "\n",
       "    .dataframe tbody tr th {\n",
       "        vertical-align: top;\n",
       "    }\n",
       "\n",
       "    .dataframe thead th {\n",
       "        text-align: right;\n",
       "    }\n",
       "</style>\n",
       "<table border=\"1\" class=\"dataframe\">\n",
       "  <thead>\n",
       "    <tr style=\"text-align: right;\">\n",
       "      <th></th>\n",
       "      <th>fruit</th>\n",
       "      <th>color</th>\n",
       "      <th>weight</th>\n",
       "    </tr>\n",
       "  </thead>\n",
       "  <tbody>\n",
       "    <tr>\n",
       "      <th>0</th>\n",
       "      <td>apple</td>\n",
       "      <td>red</td>\n",
       "      <td>120</td>\n",
       "    </tr>\n",
       "    <tr>\n",
       "      <th>1</th>\n",
       "      <td>banana</td>\n",
       "      <td>yellow</td>\n",
       "      <td>150</td>\n",
       "    </tr>\n",
       "    <tr>\n",
       "      <th>2</th>\n",
       "      <td>orange</td>\n",
       "      <td>orange</td>\n",
       "      <td>250</td>\n",
       "    </tr>\n",
       "    <tr>\n",
       "      <th>3</th>\n",
       "      <td>raspberry</td>\n",
       "      <td>pink</td>\n",
       "      <td>15</td>\n",
       "    </tr>\n",
       "  </tbody>\n",
       "</table>\n",
       "</div>"
      ],
      "text/plain": [
       "       fruit   color  weight\n",
       "0      apple     red     120\n",
       "1     banana  yellow     150\n",
       "2     orange  orange     250\n",
       "3  raspberry    pink      15"
      ]
     },
     "execution_count": 5,
     "metadata": {},
     "output_type": "execute_result"
    }
   ],
   "source": [
    "fruit_info_df = pd.DataFrame(\n",
    "    data={'fruit':['apple','banana','orange','raspberry'],\n",
    "                  'color':['red','yellow','orange','pink'],\n",
    "                  'weight':[120,150,250,15]\n",
    "         })\n",
    "fruit_info_df"
   ]
  },
  {
   "cell_type": "markdown",
   "metadata": {},
   "source": [
    "Some notes:\n",
    "1. You can see that we put the data inside curly brackets much like we do in a dict.  \n",
    "    1. We defined it as if fruit, color and weight are keys.\n",
    "    1. In fact, we'll be calling these column names.\n",
    "2. The pandas data structure is called the data frame.  "
   ]
  },
  {
   "cell_type": "code",
   "execution_count": 6,
   "metadata": {},
   "outputs": [
    {
     "data": {
      "text/plain": [
       "pandas.core.frame.DataFrame"
      ]
     },
     "execution_count": 6,
     "metadata": {},
     "output_type": "execute_result"
    }
   ],
   "source": [
    "type(fruit_info_df)"
   ]
  },
  {
   "cell_type": "markdown",
   "metadata": {},
   "source": [
    "We can call the values associated with each column name (like the dict key) in much the same way that we did with the dict:    "
   ]
  },
  {
   "cell_type": "code",
   "execution_count": 7,
   "metadata": {},
   "outputs": [
    {
     "data": {
      "text/plain": [
       "['red', 'yellow', 'orange', 'pink']"
      ]
     },
     "execution_count": 7,
     "metadata": {},
     "output_type": "execute_result"
    }
   ],
   "source": [
    "fruit_info_dict['color']"
   ]
  },
  {
   "cell_type": "code",
   "execution_count": 8,
   "metadata": {},
   "outputs": [
    {
     "data": {
      "text/plain": [
       "0       red\n",
       "1    yellow\n",
       "2    orange\n",
       "3      pink\n",
       "Name: color, dtype: object"
      ]
     },
     "execution_count": 8,
     "metadata": {},
     "output_type": "execute_result"
    }
   ],
   "source": [
    "fruit_info_df['color']"
   ]
  },
  {
   "cell_type": "markdown",
   "metadata": {},
   "source": [
    "But notice above in the dataframe we don't just have a list of colors.  Instead we have something called a **series**.   This is a pandas object that is analogous to a numpy series."
   ]
  },
  {
   "cell_type": "code",
   "execution_count": 9,
   "metadata": {},
   "outputs": [
    {
     "data": {
      "text/plain": [
       "pandas.core.series.Series"
      ]
     },
     "execution_count": 9,
     "metadata": {},
     "output_type": "execute_result"
    }
   ],
   "source": [
    "type(fruit_info_df['color'])"
   ]
  },
  {
   "cell_type": "markdown",
   "metadata": {},
   "source": [
    "The series differs from the list in at least one important way: It has numbers directly associated with it that we call the index.  (The left column of the Series.)\n",
    "\n",
    "Note that in the above, the index is just numeric.  But as we'll see, we can make it whatever we want.  This makes the data frame much more flexible than a list -- we can call elements from a sensical index, rather than just a number.\n",
    "\n",
    "We can also call columns from the data frame as follows:"
   ]
  },
  {
   "cell_type": "code",
   "execution_count": 10,
   "metadata": {},
   "outputs": [
    {
     "data": {
      "text/plain": [
       "0       red\n",
       "1    yellow\n",
       "2    orange\n",
       "3      pink\n",
       "Name: color, dtype: object"
      ]
     },
     "execution_count": 10,
     "metadata": {},
     "output_type": "execute_result"
    }
   ],
   "source": [
    "fruit_info_df.color"
   ]
  },
  {
   "cell_type": "markdown",
   "metadata": {},
   "source": [
    "But as we'll see soon, there are alternative ways to get access to the elements of the data frame (`.loc` and `.iloc`) that enable us to work with the frame more as we would a numpy array.\n",
    "\n",
    "First, let me show you how to get into the dataframe to index individual elements if we *don't* use `.loc` or `.iloc`.\n",
    "\n",
    "In this case you index into the df in a way that looks a bit like indexing into a *list*.  That is, you use two sequences of square brackets, the first carrying information about the column and the second information about the row."
   ]
  },
  {
   "cell_type": "code",
   "execution_count": 11,
   "metadata": {},
   "outputs": [
    {
     "data": {
      "text/plain": [
       "'banana'"
      ]
     },
     "execution_count": 11,
     "metadata": {},
     "output_type": "execute_result"
    }
   ],
   "source": [
    "fruit_info_df['fruit'][1]"
   ]
  },
  {
   "cell_type": "code",
   "execution_count": 12,
   "metadata": {},
   "outputs": [
    {
     "data": {
      "text/plain": [
       "'banana'"
      ]
     },
     "execution_count": 12,
     "metadata": {},
     "output_type": "execute_result"
    }
   ],
   "source": [
    "fruit_info_df.fruit[1]"
   ]
  },
  {
   "cell_type": "markdown",
   "metadata": {},
   "source": [
    "Slicing is limited in this case: we can only slice down rows, not columns of the df:"
   ]
  },
  {
   "cell_type": "code",
   "execution_count": 13,
   "metadata": {},
   "outputs": [
    {
     "data": {
      "text/plain": [
       "0     apple\n",
       "1    banana\n",
       "Name: fruit, dtype: object"
      ]
     },
     "execution_count": 13,
     "metadata": {},
     "output_type": "execute_result"
    }
   ],
   "source": [
    "fruit_info_df['fruit'][0:2]"
   ]
  },
  {
   "cell_type": "markdown",
   "metadata": {},
   "source": [
    "### Anatomy of the data frame.\n",
    "\n",
    "Let's talk a little about the anatomy of the data frame.\n",
    "\n",
    "<img src=\"dataframe_anatomy.png\" width=\"800px\" align=\"left\" float=\"left\"/>\n",
    "\n",
    "We have the following important attributes:\n",
    "1. Rows\n",
    "2. Columns\n",
    "2. Index\n",
    "3. Column names\n",
    "\n",
    "The \"index\" can be numeric, but as we'll see we can also make the indices strings.  "
   ]
  },
  {
   "cell_type": "markdown",
   "metadata": {},
   "source": [
    "### Pandas and the CAISO data.\n",
    "\n",
    "Let's see what's in the current directory.  In macos, I type:"
   ]
  },
  {
   "cell_type": "code",
   "execution_count": 14,
   "metadata": {},
   "outputs": [
    {
     "name": "stdout",
     "output_type": "stream",
     "text": [
      "CAISO_2017to2018.csv                 Lecture 03.3 Numpy.pdf\r\n",
      "Lecture 03 InClassNotebook.ipynb     Lecture 03.4 Pandas.ipynb\r\n",
      "Lecture 03.1 DataTypes Pandas.pptx   Lecture 03.4 Pandas.pdf\r\n",
      "Lecture 03.2 DataTypes.ipynb         dataframe_anatomy.png\r\n",
      "Lecture 03.2 DataTypes.pdf           \u001b[34mfrom drive\u001b[m\u001b[m\r\n",
      "Lecture 03.3 Numpy.ipynb             ~$Lecture 03.1 DataTypes Pandas.pptx\r\n"
     ]
    }
   ],
   "source": [
    "!ls"
   ]
  },
  {
   "cell_type": "markdown",
   "metadata": {},
   "source": [
    "But if someone picked up my ipynb and ran it on windows, they'd get an error, since windows doesn't recognize `ls` but rather `dir`. \n",
    "\n",
    "Instead we can use the `os` library:"
   ]
  },
  {
   "cell_type": "code",
   "execution_count": 15,
   "metadata": {},
   "outputs": [
    {
     "data": {
      "text/plain": [
       "['Lecture 03.3 Numpy.pdf',\n",
       " '.DS_Store',\n",
       " '~$Lecture 03.1 DataTypes Pandas.pptx',\n",
       " 'dataframe_anatomy.png',\n",
       " 'Lecture 03.2 DataTypes.pdf',\n",
       " 'Lecture 03.4 Pandas.ipynb',\n",
       " 'Lecture 03 InClassNotebook.ipynb',\n",
       " 'Lecture 03.1 DataTypes Pandas.pptx',\n",
       " 'Lecture 03.3 Numpy.ipynb',\n",
       " '.ipynb_checkpoints',\n",
       " 'from drive',\n",
       " 'Lecture 03.4 Pandas.pdf',\n",
       " 'Lecture 03.2 DataTypes.ipynb',\n",
       " 'CAISO_2017to2018.csv']"
      ]
     },
     "execution_count": 15,
     "metadata": {},
     "output_type": "execute_result"
    }
   ],
   "source": [
    "import os\n",
    "os.listdir()"
   ]
  },
  {
   "cell_type": "markdown",
   "metadata": {},
   "source": [
    "I've already downloaded a file, \"CAISO_2017to2018.csv\", that has one year of renewables production data from CAISO.\n",
    "\n",
    "Let's load that in as a dataframe and take a look at it.\n",
    "\n",
    "The simplest command is `pd.read_csv`"
   ]
  },
  {
   "cell_type": "code",
   "execution_count": 16,
   "metadata": {},
   "outputs": [],
   "source": [
    "caiso_data = pd.read_csv('CAISO_2017to2018.csv')"
   ]
  },
  {
   "cell_type": "markdown",
   "metadata": {},
   "source": [
    "Now we can look at the top of the dataframe using the .head method.  \n",
    "\n",
    "Note that you need to put parentheses on the end of the call, otherwise python returns the head \"object\" in a rather ugly form.  "
   ]
  },
  {
   "cell_type": "code",
   "execution_count": 17,
   "metadata": {},
   "outputs": [
    {
     "data": {
      "text/html": [
       "<div>\n",
       "<style scoped>\n",
       "    .dataframe tbody tr th:only-of-type {\n",
       "        vertical-align: middle;\n",
       "    }\n",
       "\n",
       "    .dataframe tbody tr th {\n",
       "        vertical-align: top;\n",
       "    }\n",
       "\n",
       "    .dataframe thead th {\n",
       "        text-align: right;\n",
       "    }\n",
       "</style>\n",
       "<table border=\"1\" class=\"dataframe\">\n",
       "  <thead>\n",
       "    <tr style=\"text-align: right;\">\n",
       "      <th></th>\n",
       "      <th>Unnamed: 0</th>\n",
       "      <th>GEOTHERMAL</th>\n",
       "      <th>BIOMASS</th>\n",
       "      <th>BIOGAS</th>\n",
       "      <th>SMALL HYDRO</th>\n",
       "      <th>WIND TOTAL</th>\n",
       "      <th>SOLAR PV</th>\n",
       "      <th>SOLAR THERMAL</th>\n",
       "    </tr>\n",
       "  </thead>\n",
       "  <tbody>\n",
       "    <tr>\n",
       "      <th>0</th>\n",
       "      <td>2017-08-29 00:00:00</td>\n",
       "      <td>1181</td>\n",
       "      <td>340</td>\n",
       "      <td>156</td>\n",
       "      <td>324</td>\n",
       "      <td>1551</td>\n",
       "      <td>0</td>\n",
       "      <td>0</td>\n",
       "    </tr>\n",
       "    <tr>\n",
       "      <th>1</th>\n",
       "      <td>2017-08-29 01:00:00</td>\n",
       "      <td>1182</td>\n",
       "      <td>338</td>\n",
       "      <td>156</td>\n",
       "      <td>326</td>\n",
       "      <td>1556</td>\n",
       "      <td>0</td>\n",
       "      <td>0</td>\n",
       "    </tr>\n",
       "    <tr>\n",
       "      <th>2</th>\n",
       "      <td>2017-08-29 02:00:00</td>\n",
       "      <td>1183</td>\n",
       "      <td>337</td>\n",
       "      <td>156</td>\n",
       "      <td>337</td>\n",
       "      <td>1325</td>\n",
       "      <td>0</td>\n",
       "      <td>0</td>\n",
       "    </tr>\n",
       "    <tr>\n",
       "      <th>3</th>\n",
       "      <td>2017-08-29 03:00:00</td>\n",
       "      <td>1185</td>\n",
       "      <td>339</td>\n",
       "      <td>156</td>\n",
       "      <td>313</td>\n",
       "      <td>1158</td>\n",
       "      <td>0</td>\n",
       "      <td>0</td>\n",
       "    </tr>\n",
       "    <tr>\n",
       "      <th>4</th>\n",
       "      <td>2017-08-29 04:00:00</td>\n",
       "      <td>1190</td>\n",
       "      <td>344</td>\n",
       "      <td>156</td>\n",
       "      <td>320</td>\n",
       "      <td>1209</td>\n",
       "      <td>0</td>\n",
       "      <td>0</td>\n",
       "    </tr>\n",
       "  </tbody>\n",
       "</table>\n",
       "</div>"
      ],
      "text/plain": [
       "            Unnamed: 0  GEOTHERMAL  BIOMASS  BIOGAS  SMALL HYDRO  WIND TOTAL  \\\n",
       "0  2017-08-29 00:00:00        1181      340     156          324        1551   \n",
       "1  2017-08-29 01:00:00        1182      338     156          326        1556   \n",
       "2  2017-08-29 02:00:00        1183      337     156          337        1325   \n",
       "3  2017-08-29 03:00:00        1185      339     156          313        1158   \n",
       "4  2017-08-29 04:00:00        1190      344     156          320        1209   \n",
       "\n",
       "   SOLAR PV  SOLAR THERMAL  \n",
       "0         0              0  \n",
       "1         0              0  \n",
       "2         0              0  \n",
       "3         0              0  \n",
       "4         0              0  "
      ]
     },
     "execution_count": 17,
     "metadata": {},
     "output_type": "execute_result"
    }
   ],
   "source": [
    "caiso_data.head()"
   ]
  },
  {
   "cell_type": "markdown",
   "metadata": {},
   "source": [
    "Pandas loaded the date and time in as a column and put its own row numbers on the data frame.  \n",
    "\n",
    "As an alternative we can actually make the row labels *equal* to whatever column of data we'd like.  We'll come back to the notion of the index a little later, but for now let's just reload with the date-time as the index:"
   ]
  },
  {
   "cell_type": "code",
   "execution_count": 18,
   "metadata": {},
   "outputs": [
    {
     "data": {
      "text/html": [
       "<div>\n",
       "<style scoped>\n",
       "    .dataframe tbody tr th:only-of-type {\n",
       "        vertical-align: middle;\n",
       "    }\n",
       "\n",
       "    .dataframe tbody tr th {\n",
       "        vertical-align: top;\n",
       "    }\n",
       "\n",
       "    .dataframe thead th {\n",
       "        text-align: right;\n",
       "    }\n",
       "</style>\n",
       "<table border=\"1\" class=\"dataframe\">\n",
       "  <thead>\n",
       "    <tr style=\"text-align: right;\">\n",
       "      <th></th>\n",
       "      <th>GEOTHERMAL</th>\n",
       "      <th>BIOMASS</th>\n",
       "      <th>BIOGAS</th>\n",
       "      <th>SMALL HYDRO</th>\n",
       "      <th>WIND TOTAL</th>\n",
       "      <th>SOLAR PV</th>\n",
       "      <th>SOLAR THERMAL</th>\n",
       "    </tr>\n",
       "  </thead>\n",
       "  <tbody>\n",
       "    <tr>\n",
       "      <th>2017-08-29 00:00:00</th>\n",
       "      <td>1181</td>\n",
       "      <td>340</td>\n",
       "      <td>156</td>\n",
       "      <td>324</td>\n",
       "      <td>1551</td>\n",
       "      <td>0</td>\n",
       "      <td>0</td>\n",
       "    </tr>\n",
       "    <tr>\n",
       "      <th>2017-08-29 01:00:00</th>\n",
       "      <td>1182</td>\n",
       "      <td>338</td>\n",
       "      <td>156</td>\n",
       "      <td>326</td>\n",
       "      <td>1556</td>\n",
       "      <td>0</td>\n",
       "      <td>0</td>\n",
       "    </tr>\n",
       "    <tr>\n",
       "      <th>2017-08-29 02:00:00</th>\n",
       "      <td>1183</td>\n",
       "      <td>337</td>\n",
       "      <td>156</td>\n",
       "      <td>337</td>\n",
       "      <td>1325</td>\n",
       "      <td>0</td>\n",
       "      <td>0</td>\n",
       "    </tr>\n",
       "    <tr>\n",
       "      <th>2017-08-29 03:00:00</th>\n",
       "      <td>1185</td>\n",
       "      <td>339</td>\n",
       "      <td>156</td>\n",
       "      <td>313</td>\n",
       "      <td>1158</td>\n",
       "      <td>0</td>\n",
       "      <td>0</td>\n",
       "    </tr>\n",
       "    <tr>\n",
       "      <th>2017-08-29 04:00:00</th>\n",
       "      <td>1190</td>\n",
       "      <td>344</td>\n",
       "      <td>156</td>\n",
       "      <td>320</td>\n",
       "      <td>1209</td>\n",
       "      <td>0</td>\n",
       "      <td>0</td>\n",
       "    </tr>\n",
       "  </tbody>\n",
       "</table>\n",
       "</div>"
      ],
      "text/plain": [
       "                     GEOTHERMAL  BIOMASS  BIOGAS  SMALL HYDRO  WIND TOTAL  \\\n",
       "2017-08-29 00:00:00        1181      340     156          324        1551   \n",
       "2017-08-29 01:00:00        1182      338     156          326        1556   \n",
       "2017-08-29 02:00:00        1183      337     156          337        1325   \n",
       "2017-08-29 03:00:00        1185      339     156          313        1158   \n",
       "2017-08-29 04:00:00        1190      344     156          320        1209   \n",
       "\n",
       "                     SOLAR PV  SOLAR THERMAL  \n",
       "2017-08-29 00:00:00         0              0  \n",
       "2017-08-29 01:00:00         0              0  \n",
       "2017-08-29 02:00:00         0              0  \n",
       "2017-08-29 03:00:00         0              0  \n",
       "2017-08-29 04:00:00         0              0  "
      ]
     },
     "execution_count": 18,
     "metadata": {},
     "output_type": "execute_result"
    }
   ],
   "source": [
    "caiso_data = pd.read_csv('CAISO_2017to2018.csv', index_col=0)\n",
    "caiso_data.head()"
   ]
  },
  {
   "cell_type": "markdown",
   "metadata": {},
   "source": [
    "We can also rename column names to make things prettier"
   ]
  },
  {
   "cell_type": "code",
   "execution_count": 19,
   "metadata": {},
   "outputs": [
    {
     "data": {
      "text/plain": [
       "Index(['Unnamed: 0', 'GEOTHERMAL', 'BIOMASS', 'BIOGAS', 'SMALL HYDRO',\n",
       "       'WIND TOTAL', 'SOLAR PV', 'SOLAR THERMAL'],\n",
       "      dtype='object')"
      ]
     },
     "execution_count": 19,
     "metadata": {},
     "output_type": "execute_result"
    }
   ],
   "source": [
    "caiso_data = pd.read_csv('CAISO_2017to2018.csv')\n",
    "caiso_data.columns"
   ]
  },
  {
   "cell_type": "markdown",
   "metadata": {},
   "source": [
    "Note that we can't reassign easily because column and index names lists are immutable.  Here is the workaround:"
   ]
  },
  {
   "cell_type": "code",
   "execution_count": 20,
   "metadata": {},
   "outputs": [
    {
     "data": {
      "text/html": [
       "<div>\n",
       "<style scoped>\n",
       "    .dataframe tbody tr th:only-of-type {\n",
       "        vertical-align: middle;\n",
       "    }\n",
       "\n",
       "    .dataframe tbody tr th {\n",
       "        vertical-align: top;\n",
       "    }\n",
       "\n",
       "    .dataframe thead th {\n",
       "        text-align: right;\n",
       "    }\n",
       "</style>\n",
       "<table border=\"1\" class=\"dataframe\">\n",
       "  <thead>\n",
       "    <tr style=\"text-align: right;\">\n",
       "      <th></th>\n",
       "      <th>Date and time</th>\n",
       "      <th>GEOTHERMAL</th>\n",
       "      <th>BIOMASS</th>\n",
       "      <th>BIOGAS</th>\n",
       "      <th>SMALL HYDRO</th>\n",
       "      <th>WIND TOTAL</th>\n",
       "      <th>SOLAR PV</th>\n",
       "      <th>SOLAR THERMAL</th>\n",
       "    </tr>\n",
       "  </thead>\n",
       "  <tbody>\n",
       "    <tr>\n",
       "      <th>0</th>\n",
       "      <td>2017-08-29 00:00:00</td>\n",
       "      <td>1181</td>\n",
       "      <td>340</td>\n",
       "      <td>156</td>\n",
       "      <td>324</td>\n",
       "      <td>1551</td>\n",
       "      <td>0</td>\n",
       "      <td>0</td>\n",
       "    </tr>\n",
       "    <tr>\n",
       "      <th>1</th>\n",
       "      <td>2017-08-29 01:00:00</td>\n",
       "      <td>1182</td>\n",
       "      <td>338</td>\n",
       "      <td>156</td>\n",
       "      <td>326</td>\n",
       "      <td>1556</td>\n",
       "      <td>0</td>\n",
       "      <td>0</td>\n",
       "    </tr>\n",
       "    <tr>\n",
       "      <th>2</th>\n",
       "      <td>2017-08-29 02:00:00</td>\n",
       "      <td>1183</td>\n",
       "      <td>337</td>\n",
       "      <td>156</td>\n",
       "      <td>337</td>\n",
       "      <td>1325</td>\n",
       "      <td>0</td>\n",
       "      <td>0</td>\n",
       "    </tr>\n",
       "    <tr>\n",
       "      <th>3</th>\n",
       "      <td>2017-08-29 03:00:00</td>\n",
       "      <td>1185</td>\n",
       "      <td>339</td>\n",
       "      <td>156</td>\n",
       "      <td>313</td>\n",
       "      <td>1158</td>\n",
       "      <td>0</td>\n",
       "      <td>0</td>\n",
       "    </tr>\n",
       "    <tr>\n",
       "      <th>4</th>\n",
       "      <td>2017-08-29 04:00:00</td>\n",
       "      <td>1190</td>\n",
       "      <td>344</td>\n",
       "      <td>156</td>\n",
       "      <td>320</td>\n",
       "      <td>1209</td>\n",
       "      <td>0</td>\n",
       "      <td>0</td>\n",
       "    </tr>\n",
       "    <tr>\n",
       "      <th>...</th>\n",
       "      <td>...</td>\n",
       "      <td>...</td>\n",
       "      <td>...</td>\n",
       "      <td>...</td>\n",
       "      <td>...</td>\n",
       "      <td>...</td>\n",
       "      <td>...</td>\n",
       "      <td>...</td>\n",
       "    </tr>\n",
       "    <tr>\n",
       "      <th>8755</th>\n",
       "      <td>2018-08-28 19:00:00</td>\n",
       "      <td>962</td>\n",
       "      <td>332</td>\n",
       "      <td>236</td>\n",
       "      <td>581</td>\n",
       "      <td>3300</td>\n",
       "      <td>70</td>\n",
       "      <td>24</td>\n",
       "    </tr>\n",
       "    <tr>\n",
       "      <th>8756</th>\n",
       "      <td>2018-08-28 20:00:00</td>\n",
       "      <td>967</td>\n",
       "      <td>336</td>\n",
       "      <td>234</td>\n",
       "      <td>547</td>\n",
       "      <td>3468</td>\n",
       "      <td>0</td>\n",
       "      <td>17</td>\n",
       "    </tr>\n",
       "    <tr>\n",
       "      <th>8757</th>\n",
       "      <td>2018-08-28 21:00:00</td>\n",
       "      <td>972</td>\n",
       "      <td>336</td>\n",
       "      <td>233</td>\n",
       "      <td>502</td>\n",
       "      <td>3310</td>\n",
       "      <td>0</td>\n",
       "      <td>17</td>\n",
       "    </tr>\n",
       "    <tr>\n",
       "      <th>8758</th>\n",
       "      <td>2018-08-28 22:00:00</td>\n",
       "      <td>975</td>\n",
       "      <td>333</td>\n",
       "      <td>234</td>\n",
       "      <td>361</td>\n",
       "      <td>3068</td>\n",
       "      <td>0</td>\n",
       "      <td>0</td>\n",
       "    </tr>\n",
       "    <tr>\n",
       "      <th>8759</th>\n",
       "      <td>2018-08-28 23:00:00</td>\n",
       "      <td>977</td>\n",
       "      <td>333</td>\n",
       "      <td>235</td>\n",
       "      <td>262</td>\n",
       "      <td>2921</td>\n",
       "      <td>0</td>\n",
       "      <td>0</td>\n",
       "    </tr>\n",
       "  </tbody>\n",
       "</table>\n",
       "<p>8760 rows × 8 columns</p>\n",
       "</div>"
      ],
      "text/plain": [
       "            Date and time  GEOTHERMAL  BIOMASS  BIOGAS  SMALL HYDRO  \\\n",
       "0     2017-08-29 00:00:00        1181      340     156          324   \n",
       "1     2017-08-29 01:00:00        1182      338     156          326   \n",
       "2     2017-08-29 02:00:00        1183      337     156          337   \n",
       "3     2017-08-29 03:00:00        1185      339     156          313   \n",
       "4     2017-08-29 04:00:00        1190      344     156          320   \n",
       "...                   ...         ...      ...     ...          ...   \n",
       "8755  2018-08-28 19:00:00         962      332     236          581   \n",
       "8756  2018-08-28 20:00:00         967      336     234          547   \n",
       "8757  2018-08-28 21:00:00         972      336     233          502   \n",
       "8758  2018-08-28 22:00:00         975      333     234          361   \n",
       "8759  2018-08-28 23:00:00         977      333     235          262   \n",
       "\n",
       "      WIND TOTAL  SOLAR PV  SOLAR THERMAL  \n",
       "0           1551         0              0  \n",
       "1           1556         0              0  \n",
       "2           1325         0              0  \n",
       "3           1158         0              0  \n",
       "4           1209         0              0  \n",
       "...          ...       ...            ...  \n",
       "8755        3300        70             24  \n",
       "8756        3468         0             17  \n",
       "8757        3310         0             17  \n",
       "8758        3068         0              0  \n",
       "8759        2921         0              0  \n",
       "\n",
       "[8760 rows x 8 columns]"
      ]
     },
     "execution_count": 20,
     "metadata": {},
     "output_type": "execute_result"
    }
   ],
   "source": [
    "cols = caiso_data.columns.tolist()\n",
    "cols[0] = 'Date and time'\n",
    "caiso_data.columns = cols\n",
    "caiso_data"
   ]
  },
  {
   "cell_type": "markdown",
   "metadata": {},
   "source": [
    "Ok, that looks a little better for now.  \n",
    "\n",
    "As you can see, all the data are the same type of numeric value -- MWh.  \n",
    "\n",
    "In these cases, sometimes it's natural to \"stack\" the data.  \n",
    "\n",
    "We could do the stacking with a pandas command, `.stack`"
   ]
  },
  {
   "cell_type": "markdown",
   "metadata": {},
   "source": [
    "Let's work with a few things to explore the data frame.\n",
    "\n",
    "We've already learned about `.head` but we can use it slightly differently:"
   ]
  },
  {
   "cell_type": "code",
   "execution_count": 21,
   "metadata": {},
   "outputs": [
    {
     "data": {
      "text/html": [
       "<div>\n",
       "<style scoped>\n",
       "    .dataframe tbody tr th:only-of-type {\n",
       "        vertical-align: middle;\n",
       "    }\n",
       "\n",
       "    .dataframe tbody tr th {\n",
       "        vertical-align: top;\n",
       "    }\n",
       "\n",
       "    .dataframe thead th {\n",
       "        text-align: right;\n",
       "    }\n",
       "</style>\n",
       "<table border=\"1\" class=\"dataframe\">\n",
       "  <thead>\n",
       "    <tr style=\"text-align: right;\">\n",
       "      <th></th>\n",
       "      <th>Date and time</th>\n",
       "      <th>GEOTHERMAL</th>\n",
       "      <th>BIOMASS</th>\n",
       "      <th>BIOGAS</th>\n",
       "      <th>SMALL HYDRO</th>\n",
       "      <th>WIND TOTAL</th>\n",
       "      <th>SOLAR PV</th>\n",
       "      <th>SOLAR THERMAL</th>\n",
       "    </tr>\n",
       "  </thead>\n",
       "  <tbody>\n",
       "    <tr>\n",
       "      <th>0</th>\n",
       "      <td>2017-08-29 00:00:00</td>\n",
       "      <td>1181</td>\n",
       "      <td>340</td>\n",
       "      <td>156</td>\n",
       "      <td>324</td>\n",
       "      <td>1551</td>\n",
       "      <td>0</td>\n",
       "      <td>0</td>\n",
       "    </tr>\n",
       "    <tr>\n",
       "      <th>1</th>\n",
       "      <td>2017-08-29 01:00:00</td>\n",
       "      <td>1182</td>\n",
       "      <td>338</td>\n",
       "      <td>156</td>\n",
       "      <td>326</td>\n",
       "      <td>1556</td>\n",
       "      <td>0</td>\n",
       "      <td>0</td>\n",
       "    </tr>\n",
       "  </tbody>\n",
       "</table>\n",
       "</div>"
      ],
      "text/plain": [
       "         Date and time  GEOTHERMAL  BIOMASS  BIOGAS  SMALL HYDRO  WIND TOTAL  \\\n",
       "0  2017-08-29 00:00:00        1181      340     156          324        1551   \n",
       "1  2017-08-29 01:00:00        1182      338     156          326        1556   \n",
       "\n",
       "   SOLAR PV  SOLAR THERMAL  \n",
       "0         0              0  \n",
       "1         0              0  "
      ]
     },
     "execution_count": 21,
     "metadata": {},
     "output_type": "execute_result"
    }
   ],
   "source": [
    "caiso_data.head(2) # the number in the parens tells pandas how many rows"
   ]
  },
  {
   "cell_type": "markdown",
   "metadata": {},
   "source": [
    "We can also look at the tail!"
   ]
  },
  {
   "cell_type": "code",
   "execution_count": 22,
   "metadata": {},
   "outputs": [
    {
     "data": {
      "text/html": [
       "<div>\n",
       "<style scoped>\n",
       "    .dataframe tbody tr th:only-of-type {\n",
       "        vertical-align: middle;\n",
       "    }\n",
       "\n",
       "    .dataframe tbody tr th {\n",
       "        vertical-align: top;\n",
       "    }\n",
       "\n",
       "    .dataframe thead th {\n",
       "        text-align: right;\n",
       "    }\n",
       "</style>\n",
       "<table border=\"1\" class=\"dataframe\">\n",
       "  <thead>\n",
       "    <tr style=\"text-align: right;\">\n",
       "      <th></th>\n",
       "      <th>Date and time</th>\n",
       "      <th>GEOTHERMAL</th>\n",
       "      <th>BIOMASS</th>\n",
       "      <th>BIOGAS</th>\n",
       "      <th>SMALL HYDRO</th>\n",
       "      <th>WIND TOTAL</th>\n",
       "      <th>SOLAR PV</th>\n",
       "      <th>SOLAR THERMAL</th>\n",
       "    </tr>\n",
       "  </thead>\n",
       "  <tbody>\n",
       "    <tr>\n",
       "      <th>8755</th>\n",
       "      <td>2018-08-28 19:00:00</td>\n",
       "      <td>962</td>\n",
       "      <td>332</td>\n",
       "      <td>236</td>\n",
       "      <td>581</td>\n",
       "      <td>3300</td>\n",
       "      <td>70</td>\n",
       "      <td>24</td>\n",
       "    </tr>\n",
       "    <tr>\n",
       "      <th>8756</th>\n",
       "      <td>2018-08-28 20:00:00</td>\n",
       "      <td>967</td>\n",
       "      <td>336</td>\n",
       "      <td>234</td>\n",
       "      <td>547</td>\n",
       "      <td>3468</td>\n",
       "      <td>0</td>\n",
       "      <td>17</td>\n",
       "    </tr>\n",
       "    <tr>\n",
       "      <th>8757</th>\n",
       "      <td>2018-08-28 21:00:00</td>\n",
       "      <td>972</td>\n",
       "      <td>336</td>\n",
       "      <td>233</td>\n",
       "      <td>502</td>\n",
       "      <td>3310</td>\n",
       "      <td>0</td>\n",
       "      <td>17</td>\n",
       "    </tr>\n",
       "    <tr>\n",
       "      <th>8758</th>\n",
       "      <td>2018-08-28 22:00:00</td>\n",
       "      <td>975</td>\n",
       "      <td>333</td>\n",
       "      <td>234</td>\n",
       "      <td>361</td>\n",
       "      <td>3068</td>\n",
       "      <td>0</td>\n",
       "      <td>0</td>\n",
       "    </tr>\n",
       "    <tr>\n",
       "      <th>8759</th>\n",
       "      <td>2018-08-28 23:00:00</td>\n",
       "      <td>977</td>\n",
       "      <td>333</td>\n",
       "      <td>235</td>\n",
       "      <td>262</td>\n",
       "      <td>2921</td>\n",
       "      <td>0</td>\n",
       "      <td>0</td>\n",
       "    </tr>\n",
       "  </tbody>\n",
       "</table>\n",
       "</div>"
      ],
      "text/plain": [
       "            Date and time  GEOTHERMAL  BIOMASS  BIOGAS  SMALL HYDRO  \\\n",
       "8755  2018-08-28 19:00:00         962      332     236          581   \n",
       "8756  2018-08-28 20:00:00         967      336     234          547   \n",
       "8757  2018-08-28 21:00:00         972      336     233          502   \n",
       "8758  2018-08-28 22:00:00         975      333     234          361   \n",
       "8759  2018-08-28 23:00:00         977      333     235          262   \n",
       "\n",
       "      WIND TOTAL  SOLAR PV  SOLAR THERMAL  \n",
       "8755        3300        70             24  \n",
       "8756        3468         0             17  \n",
       "8757        3310         0             17  \n",
       "8758        3068         0              0  \n",
       "8759        2921         0              0  "
      ]
     },
     "execution_count": 22,
     "metadata": {},
     "output_type": "execute_result"
    }
   ],
   "source": [
    "caiso_data.tail()"
   ]
  },
  {
   "cell_type": "markdown",
   "metadata": {},
   "source": [
    "What's the shape of the frame?"
   ]
  },
  {
   "cell_type": "code",
   "execution_count": 23,
   "metadata": {},
   "outputs": [
    {
     "data": {
      "text/plain": [
       "(8760, 8)"
      ]
     },
     "execution_count": 23,
     "metadata": {},
     "output_type": "execute_result"
    }
   ],
   "source": [
    "caiso_data.shape"
   ]
  },
  {
   "cell_type": "markdown",
   "metadata": {},
   "source": [
    "The `.shape` method returns a tuple -- number of rows and number of columns.\n",
    "\n",
    "What about the total number of entries?  Use the `.size` method:"
   ]
  },
  {
   "cell_type": "code",
   "execution_count": 24,
   "metadata": {},
   "outputs": [
    {
     "data": {
      "text/plain": [
       "70080"
      ]
     },
     "execution_count": 24,
     "metadata": {},
     "output_type": "execute_result"
    }
   ],
   "source": [
    "caiso_data.size"
   ]
  },
  {
   "cell_type": "markdown",
   "metadata": {},
   "source": [
    "We can also summarize all the numeric data:"
   ]
  },
  {
   "cell_type": "code",
   "execution_count": 25,
   "metadata": {},
   "outputs": [
    {
     "data": {
      "text/html": [
       "<div>\n",
       "<style scoped>\n",
       "    .dataframe tbody tr th:only-of-type {\n",
       "        vertical-align: middle;\n",
       "    }\n",
       "\n",
       "    .dataframe tbody tr th {\n",
       "        vertical-align: top;\n",
       "    }\n",
       "\n",
       "    .dataframe thead th {\n",
       "        text-align: right;\n",
       "    }\n",
       "</style>\n",
       "<table border=\"1\" class=\"dataframe\">\n",
       "  <thead>\n",
       "    <tr style=\"text-align: right;\">\n",
       "      <th></th>\n",
       "      <th>GEOTHERMAL</th>\n",
       "      <th>BIOMASS</th>\n",
       "      <th>BIOGAS</th>\n",
       "      <th>SMALL HYDRO</th>\n",
       "      <th>WIND TOTAL</th>\n",
       "      <th>SOLAR PV</th>\n",
       "      <th>SOLAR THERMAL</th>\n",
       "    </tr>\n",
       "  </thead>\n",
       "  <tbody>\n",
       "    <tr>\n",
       "      <th>count</th>\n",
       "      <td>8760.000000</td>\n",
       "      <td>8760.000000</td>\n",
       "      <td>8760.000000</td>\n",
       "      <td>8760.000000</td>\n",
       "      <td>8760.000000</td>\n",
       "      <td>8760.000000</td>\n",
       "      <td>8760.000000</td>\n",
       "    </tr>\n",
       "    <tr>\n",
       "      <th>mean</th>\n",
       "      <td>949.228881</td>\n",
       "      <td>329.203311</td>\n",
       "      <td>224.342808</td>\n",
       "      <td>394.902626</td>\n",
       "      <td>1806.004338</td>\n",
       "      <td>2988.774658</td>\n",
       "      <td>133.840753</td>\n",
       "    </tr>\n",
       "    <tr>\n",
       "      <th>std</th>\n",
       "      <td>108.304664</td>\n",
       "      <td>43.243815</td>\n",
       "      <td>24.228372</td>\n",
       "      <td>112.120046</td>\n",
       "      <td>1284.668963</td>\n",
       "      <td>3628.189420</td>\n",
       "      <td>200.374857</td>\n",
       "    </tr>\n",
       "    <tr>\n",
       "      <th>min</th>\n",
       "      <td>468.000000</td>\n",
       "      <td>164.000000</td>\n",
       "      <td>133.000000</td>\n",
       "      <td>148.000000</td>\n",
       "      <td>0.000000</td>\n",
       "      <td>0.000000</td>\n",
       "      <td>0.000000</td>\n",
       "    </tr>\n",
       "    <tr>\n",
       "      <th>25%</th>\n",
       "      <td>923.000000</td>\n",
       "      <td>301.000000</td>\n",
       "      <td>219.000000</td>\n",
       "      <td>308.000000</td>\n",
       "      <td>598.000000</td>\n",
       "      <td>0.000000</td>\n",
       "      <td>0.000000</td>\n",
       "    </tr>\n",
       "    <tr>\n",
       "      <th>50%</th>\n",
       "      <td>956.000000</td>\n",
       "      <td>331.000000</td>\n",
       "      <td>234.000000</td>\n",
       "      <td>379.000000</td>\n",
       "      <td>1615.000000</td>\n",
       "      <td>175.500000</td>\n",
       "      <td>0.000000</td>\n",
       "    </tr>\n",
       "    <tr>\n",
       "      <th>75%</th>\n",
       "      <td>986.000000</td>\n",
       "      <td>363.000000</td>\n",
       "      <td>240.000000</td>\n",
       "      <td>476.250000</td>\n",
       "      <td>2900.250000</td>\n",
       "      <td>6700.250000</td>\n",
       "      <td>261.000000</td>\n",
       "    </tr>\n",
       "    <tr>\n",
       "      <th>max</th>\n",
       "      <td>1230.000000</td>\n",
       "      <td>482.000000</td>\n",
       "      <td>253.000000</td>\n",
       "      <td>681.000000</td>\n",
       "      <td>5006.000000</td>\n",
       "      <td>10102.000000</td>\n",
       "      <td>679.000000</td>\n",
       "    </tr>\n",
       "  </tbody>\n",
       "</table>\n",
       "</div>"
      ],
      "text/plain": [
       "        GEOTHERMAL      BIOMASS       BIOGAS  SMALL HYDRO   WIND TOTAL  \\\n",
       "count  8760.000000  8760.000000  8760.000000  8760.000000  8760.000000   \n",
       "mean    949.228881   329.203311   224.342808   394.902626  1806.004338   \n",
       "std     108.304664    43.243815    24.228372   112.120046  1284.668963   \n",
       "min     468.000000   164.000000   133.000000   148.000000     0.000000   \n",
       "25%     923.000000   301.000000   219.000000   308.000000   598.000000   \n",
       "50%     956.000000   331.000000   234.000000   379.000000  1615.000000   \n",
       "75%     986.000000   363.000000   240.000000   476.250000  2900.250000   \n",
       "max    1230.000000   482.000000   253.000000   681.000000  5006.000000   \n",
       "\n",
       "           SOLAR PV  SOLAR THERMAL  \n",
       "count   8760.000000    8760.000000  \n",
       "mean    2988.774658     133.840753  \n",
       "std     3628.189420     200.374857  \n",
       "min        0.000000       0.000000  \n",
       "25%        0.000000       0.000000  \n",
       "50%      175.500000       0.000000  \n",
       "75%     6700.250000     261.000000  \n",
       "max    10102.000000     679.000000  "
      ]
     },
     "execution_count": 25,
     "metadata": {},
     "output_type": "execute_result"
    }
   ],
   "source": [
    "caiso_data.describe()"
   ]
  },
  {
   "cell_type": "markdown",
   "metadata": {},
   "source": [
    "### Q: In class.  Extract the first 5 entries of BIOGAS and SOLAR PV"
   ]
  },
  {
   "cell_type": "code",
   "execution_count": 26,
   "metadata": {},
   "outputs": [
    {
     "data": {
      "text/html": [
       "<div>\n",
       "<style scoped>\n",
       "    .dataframe tbody tr th:only-of-type {\n",
       "        vertical-align: middle;\n",
       "    }\n",
       "\n",
       "    .dataframe tbody tr th {\n",
       "        vertical-align: top;\n",
       "    }\n",
       "\n",
       "    .dataframe thead th {\n",
       "        text-align: right;\n",
       "    }\n",
       "</style>\n",
       "<table border=\"1\" class=\"dataframe\">\n",
       "  <thead>\n",
       "    <tr style=\"text-align: right;\">\n",
       "      <th></th>\n",
       "      <th>BIOGAS</th>\n",
       "      <th>SOLAR PV</th>\n",
       "    </tr>\n",
       "  </thead>\n",
       "  <tbody>\n",
       "    <tr>\n",
       "      <th>0</th>\n",
       "      <td>156</td>\n",
       "      <td>0</td>\n",
       "    </tr>\n",
       "    <tr>\n",
       "      <th>1</th>\n",
       "      <td>156</td>\n",
       "      <td>0</td>\n",
       "    </tr>\n",
       "    <tr>\n",
       "      <th>2</th>\n",
       "      <td>156</td>\n",
       "      <td>0</td>\n",
       "    </tr>\n",
       "    <tr>\n",
       "      <th>3</th>\n",
       "      <td>156</td>\n",
       "      <td>0</td>\n",
       "    </tr>\n",
       "  </tbody>\n",
       "</table>\n",
       "</div>"
      ],
      "text/plain": [
       "   BIOGAS  SOLAR PV\n",
       "0     156         0\n",
       "1     156         0\n",
       "2     156         0\n",
       "3     156         0"
      ]
     },
     "execution_count": 26,
     "metadata": {},
     "output_type": "execute_result"
    }
   ],
   "source": [
    "caiso_data[['BIOGAS', 'SOLAR PV']][0:4]"
   ]
  },
  {
   "cell_type": "markdown",
   "metadata": {},
   "source": [
    "Note that you need to put the column names in two sets of square brackets \n",
    "* the first set tells pandas you're passing a key / column name into the data frame, and \n",
    "* the second set of square brackets allows you to pass a *set* of column names. "
   ]
  },
  {
   "cell_type": "markdown",
   "metadata": {},
   "source": [
    "## Recap\n",
    "* Pandas dataframes are sophisticated dicts of lists.\n",
    "    * They have attributes like columns and index that have special meaning in the pandas context.\n",
    "    * You can store any combination of data types in the dataframe\n",
    "* You can access information in them as though they are dicts of lists"
   ]
  }
 ],
 "metadata": {
  "kernelspec": {
   "display_name": "Python 3 (ipykernel)",
   "language": "python",
   "name": "python3"
  },
  "language_info": {
   "codemirror_mode": {
    "name": "ipython",
    "version": 3
   },
   "file_extension": ".py",
   "mimetype": "text/x-python",
   "name": "python",
   "nbconvert_exporter": "python",
   "pygments_lexer": "ipython3",
   "version": "3.11.4"
  }
 },
 "nbformat": 4,
 "nbformat_minor": 2
}
