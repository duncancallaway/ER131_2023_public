{
 "cells": [
  {
   "cell_type": "markdown",
   "metadata": {},
   "source": [
    "# Intro to Pandas\n",
    "Duncan Callaway\n",
    "\n",
    "My objective in this notebook is to review enough of the basics to give people a clear sense of what a pandas **data frame** is and what it can contain.  "
   ]
  },
  {
   "cell_type": "markdown",
   "metadata": {},
   "source": [
    "## Pandas references\n",
    "\n",
    "(taken from DS100) \n",
    "\n",
    "Introductory:\n",
    "\n",
    "* [Getting started with Python for research](https://github.com/TiesdeKok/LearnPythonforResearch), a gentle introduction to Python in data-intensive research.\n",
    "\n",
    "* [A Whirlwind Tour of Python](https://jakevdp.github.io/WhirlwindTourOfPython/index.html), by Jake VanderPlas, another quick Python intro (with notebooks).\n",
    "\n",
    "Core Pandas/Data Science books:\n",
    "\n",
    "* [The Python Data Science Handbook](https://jakevdp.github.io/PythonDataScienceHandbook/), by Jake VanderPlas.\n",
    "\n",
    "* [Python for Data Analysis, 2nd Edition](http://proquest.safaribooksonline.com/book/programming/python/9781491957653), by  Wes McKinney, creator of Pandas. [Companion Notebooks](https://github.com/wesm/pydata-book)\n",
    "\n",
    "* [Effective Pandas](https://github.com/TomAugspurger/effective-pandas), a book by Tom Augspurger, core Pandas developer.\n",
    "\n",
    "\n",
    "Complementary resources:\n",
    "\n",
    "* [An introduction to \"Data Science\"](https://github.com/stefanv/ds_intro), a collection of Notebooks by BIDS' [Stéfan Van der Walt](https://bids.berkeley.edu/people/st%C3%A9fan-van-der-walt).\n",
    "\n",
    "* [Effective Computation in Physics](http://proquest.safaribooksonline.com/book/physics/9781491901564), by Kathryn D. Huff; Anthony Scopatz. [Notebooks to accompany the book](https://github.com/physics-codes/seminar). Don't be fooled by the title, it's a great book on modern computational practices with very little that's physics-specific."
   ]
  },
  {
   "cell_type": "markdown",
   "metadata": {},
   "source": [
    "## Introduction \n",
    "In Data8 you used the `tables` library to organize and manipulate data.  I've not used tables but it has been described to me as a 'light' version of pandas.  So this will be somewhat familiar to you.\n",
    "\n",
    "Pandas has several features that make it immediately better than numpy for organizing data.\n",
    "1. You can have different data types (string, int, float) in each column\n",
    "2. You can label columns (headers)\n",
    "3. You can label rows (index)\n",
    "\n",
    "We call the data structure that holds all these things together a **data frame**\n",
    "\n",
    "**Ambiguity alert**: up to now we've talked about indexing to access individual elements of a data structure.  The index in pandas has a slightly more specific meaning, in that it references the rows of the data frame.  Pandas documentation talks about \"location\" or \"position\" in place using \"index\" as we did with the other data structures.  I'll try my best to disambiguate, but also rely on context to clarify the meaning of the terms.\n",
    "\n",
    "At its core, the data frame structure is what draws us to use pandas.  But it also has a bunch of great built-in functions you can use to manipulate data once it is loaded in."
   ]
  },
  {
   "cell_type": "code",
   "execution_count": 1,
   "metadata": {},
   "outputs": [],
   "source": [
    "import pandas as pd"
   ]
  },
  {
   "cell_type": "markdown",
   "metadata": {},
   "source": [
    "I'm going to define a simple data frame in a way that you can see the connections to existing Python data types and structures.  \n",
    "\n",
    "First let's define a dict of fruit information:"
   ]
  },
  {
   "cell_type": "code",
   "execution_count": 2,
   "metadata": {},
   "outputs": [
    {
     "data": {
      "text/plain": [
       "{'fruit': ['apple', 'banana', 'orange', 'raspberry'],\n",
       " 'color': ['red', 'yellow', 'orange', 'pink'],\n",
       " 'weight': [120, 150, 250, 15]}"
      ]
     },
     "execution_count": 2,
     "metadata": {},
     "output_type": "execute_result"
    }
   ],
   "source": [
    "fruit_info_dict = {'fruit':['apple','banana','orange','raspberry'],\n",
    "                  'color':['red','yellow','orange','pink'],\n",
    "                  'weight':[120,150,250,15]}\n",
    "fruit_info_dict"
   ]
  },
  {
   "cell_type": "code",
   "execution_count": 3,
   "metadata": {},
   "outputs": [
    {
     "data": {
      "text/html": [
       "<div>\n",
       "<style scoped>\n",
       "    .dataframe tbody tr th:only-of-type {\n",
       "        vertical-align: middle;\n",
       "    }\n",
       "\n",
       "    .dataframe tbody tr th {\n",
       "        vertical-align: top;\n",
       "    }\n",
       "\n",
       "    .dataframe thead th {\n",
       "        text-align: right;\n",
       "    }\n",
       "</style>\n",
       "<table border=\"1\" class=\"dataframe\">\n",
       "  <thead>\n",
       "    <tr style=\"text-align: right;\">\n",
       "      <th></th>\n",
       "      <th>fruit</th>\n",
       "      <th>color</th>\n",
       "      <th>weight</th>\n",
       "    </tr>\n",
       "  </thead>\n",
       "  <tbody>\n",
       "    <tr>\n",
       "      <th>0</th>\n",
       "      <td>apple</td>\n",
       "      <td>red</td>\n",
       "      <td>120</td>\n",
       "    </tr>\n",
       "    <tr>\n",
       "      <th>1</th>\n",
       "      <td>banana</td>\n",
       "      <td>yellow</td>\n",
       "      <td>150</td>\n",
       "    </tr>\n",
       "    <tr>\n",
       "      <th>2</th>\n",
       "      <td>orange</td>\n",
       "      <td>orange</td>\n",
       "      <td>250</td>\n",
       "    </tr>\n",
       "    <tr>\n",
       "      <th>3</th>\n",
       "      <td>raspberry</td>\n",
       "      <td>pink</td>\n",
       "      <td>15</td>\n",
       "    </tr>\n",
       "  </tbody>\n",
       "</table>\n",
       "</div>"
      ],
      "text/plain": [
       "       fruit   color  weight\n",
       "0      apple     red     120\n",
       "1     banana  yellow     150\n",
       "2     orange  orange     250\n",
       "3  raspberry    pink      15"
      ]
     },
     "execution_count": 3,
     "metadata": {},
     "output_type": "execute_result"
    }
   ],
   "source": [
    "fruit_info_df = pd.DataFrame(\n",
    "    data={'fruit':['apple','banana','orange','raspberry'],\n",
    "                  'color':['red','yellow','orange','pink'],\n",
    "                  'weight':[120,150,250,15]\n",
    "         })\n",
    "fruit_info_df"
   ]
  },
  {
   "cell_type": "markdown",
   "metadata": {},
   "source": [
    "Some notes:\n",
    "1. You can see that we put the data inside curly brackets much like we do in a dict.  \n",
    "    1. We defined it as if fruit, color and weight are keys.\n",
    "    1. In fact, we'll be calling these column names.\n",
    "2. The pandas data structure is called the data frame.  "
   ]
  },
  {
   "cell_type": "code",
   "execution_count": 4,
   "metadata": {},
   "outputs": [
    {
     "data": {
      "text/plain": [
       "pandas.core.frame.DataFrame"
      ]
     },
     "execution_count": 4,
     "metadata": {},
     "output_type": "execute_result"
    }
   ],
   "source": [
    "type(fruit_info_df)"
   ]
  },
  {
   "cell_type": "markdown",
   "metadata": {},
   "source": [
    "We can call the values associated with each column name (like the dict key) in much the same way that we did with the dict:    "
   ]
  },
  {
   "cell_type": "code",
   "execution_count": 5,
   "metadata": {},
   "outputs": [
    {
     "data": {
      "text/plain": [
       "['red', 'yellow', 'orange', 'pink']"
      ]
     },
     "execution_count": 5,
     "metadata": {},
     "output_type": "execute_result"
    }
   ],
   "source": [
    "fruit_info_dict['color']"
   ]
  },
  {
   "cell_type": "code",
   "execution_count": 6,
   "metadata": {},
   "outputs": [
    {
     "data": {
      "text/plain": [
       "0       red\n",
       "1    yellow\n",
       "2    orange\n",
       "3      pink\n",
       "Name: color, dtype: object"
      ]
     },
     "execution_count": 6,
     "metadata": {},
     "output_type": "execute_result"
    }
   ],
   "source": [
    "fruit_info_df['color']"
   ]
  },
  {
   "cell_type": "markdown",
   "metadata": {},
   "source": [
    "But notice above in the dataframe we don't just have a list of colors.  Instead we have something called a **series**.   This is a pandas object that is analogous to a numpy series."
   ]
  },
  {
   "cell_type": "code",
   "execution_count": 7,
   "metadata": {},
   "outputs": [
    {
     "data": {
      "text/plain": [
       "pandas.core.series.Series"
      ]
     },
     "execution_count": 7,
     "metadata": {},
     "output_type": "execute_result"
    }
   ],
   "source": [
    "type(fruit_info_df['color'])"
   ]
  },
  {
   "cell_type": "markdown",
   "metadata": {},
   "source": [
    "The series differs from the list in at least one important way: It has numbers directly associated with it that we call the index.  (The left column of the Series.)\n",
    "\n",
    "Note that in the above, the index is just numeric.  But as we'll see, we can make it whatever we want.  This makes the data frame much more flexible than a list -- we can call elements from a sensical index, rather than just a number.\n",
    "\n",
    "We can also call columns from the data frame as follows:"
   ]
  },
  {
   "cell_type": "code",
   "execution_count": 8,
   "metadata": {},
   "outputs": [
    {
     "data": {
      "text/plain": [
       "0       red\n",
       "1    yellow\n",
       "2    orange\n",
       "3      pink\n",
       "Name: color, dtype: object"
      ]
     },
     "execution_count": 8,
     "metadata": {},
     "output_type": "execute_result"
    }
   ],
   "source": [
    "fruit_info_df.color"
   ]
  },
  {
   "cell_type": "markdown",
   "metadata": {},
   "source": [
    "But as we'll see soon, there are alternative ways to get access to the elements of the data frame (`.loc` and `.iloc`) that enable us to work with the frame more as we would a numpy array.\n",
    "\n",
    "First, let me show you how to get into the dataframe to index individual elements if we *don't* use `.loc` or `.iloc`.\n",
    "\n",
    "In this case you index into the df in a way that looks a bit like indexing into a *list*.  That is, you use two sequences of square brackets, the first carrying information about the column and the second information about the row."
   ]
  },
  {
   "cell_type": "code",
   "execution_count": 9,
   "metadata": {},
   "outputs": [
    {
     "data": {
      "text/plain": [
       "'banana'"
      ]
     },
     "execution_count": 9,
     "metadata": {},
     "output_type": "execute_result"
    }
   ],
   "source": [
    "fruit_info_df['fruit'][1]"
   ]
  },
  {
   "cell_type": "markdown",
   "metadata": {},
   "source": [
    "Slicing is limited in this case: we can only slice down rows, not columns of the df:"
   ]
  },
  {
   "cell_type": "code",
   "execution_count": 10,
   "metadata": {},
   "outputs": [
    {
     "data": {
      "text/plain": [
       "0     apple\n",
       "1    banana\n",
       "Name: fruit, dtype: object"
      ]
     },
     "execution_count": 10,
     "metadata": {},
     "output_type": "execute_result"
    }
   ],
   "source": [
    "fruit_info_df['fruit'][0:2]"
   ]
  },
  {
   "cell_type": "markdown",
   "metadata": {},
   "source": [
    "Nor can we index individual entries:"
   ]
  },
  {
   "cell_type": "markdown",
   "metadata": {},
   "source": [
    "If we want individual entries instead we have to first call the column, then the row:"
   ]
  },
  {
   "cell_type": "markdown",
   "metadata": {},
   "source": [
    "### Anatomy of the data frame.\n",
    "\n",
    "Let's talk a little about the anatomy of the data frame.\n",
    "\n",
    "<img src=\"dataframe_anatomy.png\" width=\"800px\" align=\"left\" float=\"left\"/>\n",
    "\n",
    "We have the following important attributes:\n",
    "1. Rows\n",
    "2. Columns\n",
    "2. Index\n",
    "3. Column names\n",
    "\n",
    "The \"index\" can be numeric, but as we'll see we can also make the indices strings.  "
   ]
  },
  {
   "cell_type": "markdown",
   "metadata": {},
   "source": [
    "### Pandas and the CAISO data.\n",
    "\n",
    "Let's see what's in the current directory.  In macos, I type:"
   ]
  },
  {
   "cell_type": "code",
   "execution_count": 11,
   "metadata": {},
   "outputs": [
    {
     "name": "stdout",
     "output_type": "stream",
     "text": [
      "\u001b[31mCAISO_2017to2018.csv\u001b[m\u001b[m       \u001b[31mW2.5 Numpy.ipynb\u001b[m\u001b[m\r\n",
      "\u001b[31mCAISO_2017to2018_stack.csv\u001b[m\u001b[m \u001b[31mW2.6 Pandas.ipynb\u001b[m\u001b[m\r\n",
      "Untitled.ipynb             \u001b[31mdataframe_anatomy.png\u001b[m\u001b[m\r\n",
      "\u001b[31mW2.4 DataTypes.ipynb\u001b[m\u001b[m\r\n"
     ]
    }
   ],
   "source": [
    "!ls"
   ]
  },
  {
   "cell_type": "markdown",
   "metadata": {},
   "source": [
    "But if someone picked up my ipynb and ran it on windows, they'd get an error, since windows doesn't recognize `ls` but rather `dir`. \n",
    "\n",
    "Instead we can use the `os` library:"
   ]
  },
  {
   "cell_type": "code",
   "execution_count": 12,
   "metadata": {},
   "outputs": [
    {
     "data": {
      "text/plain": [
       "['Untitled.ipynb',\n",
       " 'dataframe_anatomy.png',\n",
       " 'CAISO_2017to2018_stack.csv',\n",
       " 'W2.5 Numpy.ipynb',\n",
       " 'W2.4 DataTypes.ipynb',\n",
       " '.ipynb_checkpoints',\n",
       " 'W2.6 Pandas.ipynb',\n",
       " 'CAISO_2017to2018.csv']"
      ]
     },
     "execution_count": 12,
     "metadata": {},
     "output_type": "execute_result"
    }
   ],
   "source": [
    "import os\n",
    "os.listdir()"
   ]
  },
  {
   "cell_type": "markdown",
   "metadata": {},
   "source": [
    "I've already downloaded a file, \"CAISO_2017_to_2018.csv\", that has one year of renewables production data from CAISO.\n",
    "\n",
    "Let's load that in as a dataframe and take a look at it.\n",
    "\n",
    "The simplest command is `pd.read_csv`"
   ]
  },
  {
   "cell_type": "code",
   "execution_count": 13,
   "metadata": {},
   "outputs": [],
   "source": [
    "caiso_data = pd.read_csv('CAISO_2017to2018.csv')"
   ]
  },
  {
   "cell_type": "markdown",
   "metadata": {},
   "source": [
    "Now we can look at the top of the dataframe using the .head method.  \n",
    "\n",
    "Note that you need to put parentheses on the end of the call, otherwise python returns the head \"object\" in a rather ugly form.  "
   ]
  },
  {
   "cell_type": "code",
   "execution_count": 14,
   "metadata": {},
   "outputs": [
    {
     "data": {
      "text/html": [
       "<div>\n",
       "<style scoped>\n",
       "    .dataframe tbody tr th:only-of-type {\n",
       "        vertical-align: middle;\n",
       "    }\n",
       "\n",
       "    .dataframe tbody tr th {\n",
       "        vertical-align: top;\n",
       "    }\n",
       "\n",
       "    .dataframe thead th {\n",
       "        text-align: right;\n",
       "    }\n",
       "</style>\n",
       "<table border=\"1\" class=\"dataframe\">\n",
       "  <thead>\n",
       "    <tr style=\"text-align: right;\">\n",
       "      <th></th>\n",
       "      <th>Unnamed: 0</th>\n",
       "      <th>GEOTHERMAL</th>\n",
       "      <th>BIOMASS</th>\n",
       "      <th>BIOGAS</th>\n",
       "      <th>SMALL HYDRO</th>\n",
       "      <th>WIND TOTAL</th>\n",
       "      <th>SOLAR PV</th>\n",
       "      <th>SOLAR THERMAL</th>\n",
       "    </tr>\n",
       "  </thead>\n",
       "  <tbody>\n",
       "    <tr>\n",
       "      <th>0</th>\n",
       "      <td>2017-08-29 00:00:00</td>\n",
       "      <td>1181</td>\n",
       "      <td>340</td>\n",
       "      <td>156</td>\n",
       "      <td>324</td>\n",
       "      <td>1551</td>\n",
       "      <td>0</td>\n",
       "      <td>0</td>\n",
       "    </tr>\n",
       "    <tr>\n",
       "      <th>1</th>\n",
       "      <td>2017-08-29 01:00:00</td>\n",
       "      <td>1182</td>\n",
       "      <td>338</td>\n",
       "      <td>156</td>\n",
       "      <td>326</td>\n",
       "      <td>1556</td>\n",
       "      <td>0</td>\n",
       "      <td>0</td>\n",
       "    </tr>\n",
       "    <tr>\n",
       "      <th>2</th>\n",
       "      <td>2017-08-29 02:00:00</td>\n",
       "      <td>1183</td>\n",
       "      <td>337</td>\n",
       "      <td>156</td>\n",
       "      <td>337</td>\n",
       "      <td>1325</td>\n",
       "      <td>0</td>\n",
       "      <td>0</td>\n",
       "    </tr>\n",
       "    <tr>\n",
       "      <th>3</th>\n",
       "      <td>2017-08-29 03:00:00</td>\n",
       "      <td>1185</td>\n",
       "      <td>339</td>\n",
       "      <td>156</td>\n",
       "      <td>313</td>\n",
       "      <td>1158</td>\n",
       "      <td>0</td>\n",
       "      <td>0</td>\n",
       "    </tr>\n",
       "    <tr>\n",
       "      <th>4</th>\n",
       "      <td>2017-08-29 04:00:00</td>\n",
       "      <td>1190</td>\n",
       "      <td>344</td>\n",
       "      <td>156</td>\n",
       "      <td>320</td>\n",
       "      <td>1209</td>\n",
       "      <td>0</td>\n",
       "      <td>0</td>\n",
       "    </tr>\n",
       "  </tbody>\n",
       "</table>\n",
       "</div>"
      ],
      "text/plain": [
       "            Unnamed: 0  GEOTHERMAL  BIOMASS  BIOGAS  SMALL HYDRO  WIND TOTAL  \\\n",
       "0  2017-08-29 00:00:00        1181      340     156          324        1551   \n",
       "1  2017-08-29 01:00:00        1182      338     156          326        1556   \n",
       "2  2017-08-29 02:00:00        1183      337     156          337        1325   \n",
       "3  2017-08-29 03:00:00        1185      339     156          313        1158   \n",
       "4  2017-08-29 04:00:00        1190      344     156          320        1209   \n",
       "\n",
       "   SOLAR PV  SOLAR THERMAL  \n",
       "0         0              0  \n",
       "1         0              0  \n",
       "2         0              0  \n",
       "3         0              0  \n",
       "4         0              0  "
      ]
     },
     "execution_count": 14,
     "metadata": {},
     "output_type": "execute_result"
    }
   ],
   "source": [
    "caiso_data.head()"
   ]
  },
  {
   "cell_type": "markdown",
   "metadata": {},
   "source": [
    "Pandas loaded the date and time in as a column and put its own row numbers on the data frame.  \n",
    "\n",
    "As an alternative we can actually make the row labels *equal* to whatever column of data we'd like.  We'll come back to the notion of the index a little later, but for now let's just reload with the date-time as the index:"
   ]
  },
  {
   "cell_type": "code",
   "execution_count": 15,
   "metadata": {},
   "outputs": [
    {
     "data": {
      "text/html": [
       "<div>\n",
       "<style scoped>\n",
       "    .dataframe tbody tr th:only-of-type {\n",
       "        vertical-align: middle;\n",
       "    }\n",
       "\n",
       "    .dataframe tbody tr th {\n",
       "        vertical-align: top;\n",
       "    }\n",
       "\n",
       "    .dataframe thead th {\n",
       "        text-align: right;\n",
       "    }\n",
       "</style>\n",
       "<table border=\"1\" class=\"dataframe\">\n",
       "  <thead>\n",
       "    <tr style=\"text-align: right;\">\n",
       "      <th></th>\n",
       "      <th>GEOTHERMAL</th>\n",
       "      <th>BIOMASS</th>\n",
       "      <th>BIOGAS</th>\n",
       "      <th>SMALL HYDRO</th>\n",
       "      <th>WIND TOTAL</th>\n",
       "      <th>SOLAR PV</th>\n",
       "      <th>SOLAR THERMAL</th>\n",
       "    </tr>\n",
       "  </thead>\n",
       "  <tbody>\n",
       "    <tr>\n",
       "      <th>2017-08-29 00:00:00</th>\n",
       "      <td>1181</td>\n",
       "      <td>340</td>\n",
       "      <td>156</td>\n",
       "      <td>324</td>\n",
       "      <td>1551</td>\n",
       "      <td>0</td>\n",
       "      <td>0</td>\n",
       "    </tr>\n",
       "    <tr>\n",
       "      <th>2017-08-29 01:00:00</th>\n",
       "      <td>1182</td>\n",
       "      <td>338</td>\n",
       "      <td>156</td>\n",
       "      <td>326</td>\n",
       "      <td>1556</td>\n",
       "      <td>0</td>\n",
       "      <td>0</td>\n",
       "    </tr>\n",
       "    <tr>\n",
       "      <th>2017-08-29 02:00:00</th>\n",
       "      <td>1183</td>\n",
       "      <td>337</td>\n",
       "      <td>156</td>\n",
       "      <td>337</td>\n",
       "      <td>1325</td>\n",
       "      <td>0</td>\n",
       "      <td>0</td>\n",
       "    </tr>\n",
       "    <tr>\n",
       "      <th>2017-08-29 03:00:00</th>\n",
       "      <td>1185</td>\n",
       "      <td>339</td>\n",
       "      <td>156</td>\n",
       "      <td>313</td>\n",
       "      <td>1158</td>\n",
       "      <td>0</td>\n",
       "      <td>0</td>\n",
       "    </tr>\n",
       "    <tr>\n",
       "      <th>2017-08-29 04:00:00</th>\n",
       "      <td>1190</td>\n",
       "      <td>344</td>\n",
       "      <td>156</td>\n",
       "      <td>320</td>\n",
       "      <td>1209</td>\n",
       "      <td>0</td>\n",
       "      <td>0</td>\n",
       "    </tr>\n",
       "  </tbody>\n",
       "</table>\n",
       "</div>"
      ],
      "text/plain": [
       "                     GEOTHERMAL  BIOMASS  BIOGAS  SMALL HYDRO  WIND TOTAL  \\\n",
       "2017-08-29 00:00:00        1181      340     156          324        1551   \n",
       "2017-08-29 01:00:00        1182      338     156          326        1556   \n",
       "2017-08-29 02:00:00        1183      337     156          337        1325   \n",
       "2017-08-29 03:00:00        1185      339     156          313        1158   \n",
       "2017-08-29 04:00:00        1190      344     156          320        1209   \n",
       "\n",
       "                     SOLAR PV  SOLAR THERMAL  \n",
       "2017-08-29 00:00:00         0              0  \n",
       "2017-08-29 01:00:00         0              0  \n",
       "2017-08-29 02:00:00         0              0  \n",
       "2017-08-29 03:00:00         0              0  \n",
       "2017-08-29 04:00:00         0              0  "
      ]
     },
     "execution_count": 15,
     "metadata": {},
     "output_type": "execute_result"
    }
   ],
   "source": [
    "caiso_data = pd.read_csv('CAISO_2017to2018.csv', index_col=0)\n",
    "caiso_data.head()"
   ]
  },
  {
   "cell_type": "markdown",
   "metadata": {},
   "source": [
    "Ok, that looks a little better for now.  \n",
    "\n",
    "As you can see, all the data are the same type of numeric value -- MWh.  \n",
    "\n",
    "In these cases, sometimes it's natural to \"stack\" the data.  \n",
    "\n",
    "We could do the stacking with a pandas command, `.stack`, but it requires a little more massaging than I want to get into right now.  So I've saved a stacked version of the data as a csv:"
   ]
  },
  {
   "cell_type": "code",
   "execution_count": 16,
   "metadata": {},
   "outputs": [
    {
     "data": {
      "text/html": [
       "<div>\n",
       "<style scoped>\n",
       "    .dataframe tbody tr th:only-of-type {\n",
       "        vertical-align: middle;\n",
       "    }\n",
       "\n",
       "    .dataframe tbody tr th {\n",
       "        vertical-align: top;\n",
       "    }\n",
       "\n",
       "    .dataframe thead th {\n",
       "        text-align: right;\n",
       "    }\n",
       "</style>\n",
       "<table border=\"1\" class=\"dataframe\">\n",
       "  <thead>\n",
       "    <tr style=\"text-align: right;\">\n",
       "      <th></th>\n",
       "      <th>Source</th>\n",
       "      <th>MWh</th>\n",
       "    </tr>\n",
       "  </thead>\n",
       "  <tbody>\n",
       "    <tr>\n",
       "      <th>2017-08-29 00:00:00</th>\n",
       "      <td>GEOTHERMAL</td>\n",
       "      <td>1181</td>\n",
       "    </tr>\n",
       "    <tr>\n",
       "      <th>2017-08-29 00:00:00</th>\n",
       "      <td>BIOMASS</td>\n",
       "      <td>340</td>\n",
       "    </tr>\n",
       "    <tr>\n",
       "      <th>2017-08-29 00:00:00</th>\n",
       "      <td>BIOGAS</td>\n",
       "      <td>156</td>\n",
       "    </tr>\n",
       "    <tr>\n",
       "      <th>2017-08-29 00:00:00</th>\n",
       "      <td>SMALL HYDRO</td>\n",
       "      <td>324</td>\n",
       "    </tr>\n",
       "    <tr>\n",
       "      <th>2017-08-29 00:00:00</th>\n",
       "      <td>WIND TOTAL</td>\n",
       "      <td>1551</td>\n",
       "    </tr>\n",
       "  </tbody>\n",
       "</table>\n",
       "</div>"
      ],
      "text/plain": [
       "                          Source   MWh\n",
       "2017-08-29 00:00:00   GEOTHERMAL  1181\n",
       "2017-08-29 00:00:00      BIOMASS   340\n",
       "2017-08-29 00:00:00       BIOGAS   156\n",
       "2017-08-29 00:00:00  SMALL HYDRO   324\n",
       "2017-08-29 00:00:00   WIND TOTAL  1551"
      ]
     },
     "execution_count": 16,
     "metadata": {},
     "output_type": "execute_result"
    }
   ],
   "source": [
    "caiso_data_stack = pd.read_csv('CAISO_2017to2018_stack.csv', index_col=0)\n",
    "caiso_data_stack.head()"
   ]
  },
  {
   "cell_type": "markdown",
   "metadata": {},
   "source": [
    "You can see now that the category of generation has become a variable rather than a column name.   \n",
    "\n",
    "There are lots of ways to stack data, as you might guess.  "
   ]
  },
  {
   "cell_type": "markdown",
   "metadata": {},
   "source": [
    "Let's work with a few things to explore the data frame.\n",
    "\n",
    "We've already learned about `.head` but we can use it slightly differently:"
   ]
  },
  {
   "cell_type": "code",
   "execution_count": 17,
   "metadata": {},
   "outputs": [
    {
     "data": {
      "text/html": [
       "<div>\n",
       "<style scoped>\n",
       "    .dataframe tbody tr th:only-of-type {\n",
       "        vertical-align: middle;\n",
       "    }\n",
       "\n",
       "    .dataframe tbody tr th {\n",
       "        vertical-align: top;\n",
       "    }\n",
       "\n",
       "    .dataframe thead th {\n",
       "        text-align: right;\n",
       "    }\n",
       "</style>\n",
       "<table border=\"1\" class=\"dataframe\">\n",
       "  <thead>\n",
       "    <tr style=\"text-align: right;\">\n",
       "      <th></th>\n",
       "      <th>GEOTHERMAL</th>\n",
       "      <th>BIOMASS</th>\n",
       "      <th>BIOGAS</th>\n",
       "      <th>SMALL HYDRO</th>\n",
       "      <th>WIND TOTAL</th>\n",
       "      <th>SOLAR PV</th>\n",
       "      <th>SOLAR THERMAL</th>\n",
       "    </tr>\n",
       "  </thead>\n",
       "  <tbody>\n",
       "    <tr>\n",
       "      <th>2017-08-29 00:00:00</th>\n",
       "      <td>1181</td>\n",
       "      <td>340</td>\n",
       "      <td>156</td>\n",
       "      <td>324</td>\n",
       "      <td>1551</td>\n",
       "      <td>0</td>\n",
       "      <td>0</td>\n",
       "    </tr>\n",
       "    <tr>\n",
       "      <th>2017-08-29 01:00:00</th>\n",
       "      <td>1182</td>\n",
       "      <td>338</td>\n",
       "      <td>156</td>\n",
       "      <td>326</td>\n",
       "      <td>1556</td>\n",
       "      <td>0</td>\n",
       "      <td>0</td>\n",
       "    </tr>\n",
       "  </tbody>\n",
       "</table>\n",
       "</div>"
      ],
      "text/plain": [
       "                     GEOTHERMAL  BIOMASS  BIOGAS  SMALL HYDRO  WIND TOTAL  \\\n",
       "2017-08-29 00:00:00        1181      340     156          324        1551   \n",
       "2017-08-29 01:00:00        1182      338     156          326        1556   \n",
       "\n",
       "                     SOLAR PV  SOLAR THERMAL  \n",
       "2017-08-29 00:00:00         0              0  \n",
       "2017-08-29 01:00:00         0              0  "
      ]
     },
     "execution_count": 17,
     "metadata": {},
     "output_type": "execute_result"
    }
   ],
   "source": [
    "caiso_data.head(2) # the number in the parens tells pandas how many rows"
   ]
  },
  {
   "cell_type": "markdown",
   "metadata": {},
   "source": [
    "We can also look at the tail!"
   ]
  },
  {
   "cell_type": "code",
   "execution_count": 18,
   "metadata": {},
   "outputs": [
    {
     "data": {
      "text/html": [
       "<div>\n",
       "<style scoped>\n",
       "    .dataframe tbody tr th:only-of-type {\n",
       "        vertical-align: middle;\n",
       "    }\n",
       "\n",
       "    .dataframe tbody tr th {\n",
       "        vertical-align: top;\n",
       "    }\n",
       "\n",
       "    .dataframe thead th {\n",
       "        text-align: right;\n",
       "    }\n",
       "</style>\n",
       "<table border=\"1\" class=\"dataframe\">\n",
       "  <thead>\n",
       "    <tr style=\"text-align: right;\">\n",
       "      <th></th>\n",
       "      <th>GEOTHERMAL</th>\n",
       "      <th>BIOMASS</th>\n",
       "      <th>BIOGAS</th>\n",
       "      <th>SMALL HYDRO</th>\n",
       "      <th>WIND TOTAL</th>\n",
       "      <th>SOLAR PV</th>\n",
       "      <th>SOLAR THERMAL</th>\n",
       "    </tr>\n",
       "  </thead>\n",
       "  <tbody>\n",
       "    <tr>\n",
       "      <th>2018-08-28 19:00:00</th>\n",
       "      <td>962</td>\n",
       "      <td>332</td>\n",
       "      <td>236</td>\n",
       "      <td>581</td>\n",
       "      <td>3300</td>\n",
       "      <td>70</td>\n",
       "      <td>24</td>\n",
       "    </tr>\n",
       "    <tr>\n",
       "      <th>2018-08-28 20:00:00</th>\n",
       "      <td>967</td>\n",
       "      <td>336</td>\n",
       "      <td>234</td>\n",
       "      <td>547</td>\n",
       "      <td>3468</td>\n",
       "      <td>0</td>\n",
       "      <td>17</td>\n",
       "    </tr>\n",
       "    <tr>\n",
       "      <th>2018-08-28 21:00:00</th>\n",
       "      <td>972</td>\n",
       "      <td>336</td>\n",
       "      <td>233</td>\n",
       "      <td>502</td>\n",
       "      <td>3310</td>\n",
       "      <td>0</td>\n",
       "      <td>17</td>\n",
       "    </tr>\n",
       "    <tr>\n",
       "      <th>2018-08-28 22:00:00</th>\n",
       "      <td>975</td>\n",
       "      <td>333</td>\n",
       "      <td>234</td>\n",
       "      <td>361</td>\n",
       "      <td>3068</td>\n",
       "      <td>0</td>\n",
       "      <td>0</td>\n",
       "    </tr>\n",
       "    <tr>\n",
       "      <th>2018-08-28 23:00:00</th>\n",
       "      <td>977</td>\n",
       "      <td>333</td>\n",
       "      <td>235</td>\n",
       "      <td>262</td>\n",
       "      <td>2921</td>\n",
       "      <td>0</td>\n",
       "      <td>0</td>\n",
       "    </tr>\n",
       "  </tbody>\n",
       "</table>\n",
       "</div>"
      ],
      "text/plain": [
       "                     GEOTHERMAL  BIOMASS  BIOGAS  SMALL HYDRO  WIND TOTAL  \\\n",
       "2018-08-28 19:00:00         962      332     236          581        3300   \n",
       "2018-08-28 20:00:00         967      336     234          547        3468   \n",
       "2018-08-28 21:00:00         972      336     233          502        3310   \n",
       "2018-08-28 22:00:00         975      333     234          361        3068   \n",
       "2018-08-28 23:00:00         977      333     235          262        2921   \n",
       "\n",
       "                     SOLAR PV  SOLAR THERMAL  \n",
       "2018-08-28 19:00:00        70             24  \n",
       "2018-08-28 20:00:00         0             17  \n",
       "2018-08-28 21:00:00         0             17  \n",
       "2018-08-28 22:00:00         0              0  \n",
       "2018-08-28 23:00:00         0              0  "
      ]
     },
     "execution_count": 18,
     "metadata": {},
     "output_type": "execute_result"
    }
   ],
   "source": [
    "caiso_data.tail()"
   ]
  },
  {
   "cell_type": "markdown",
   "metadata": {},
   "source": [
    "What's the shape of the frame?"
   ]
  },
  {
   "cell_type": "code",
   "execution_count": 19,
   "metadata": {},
   "outputs": [
    {
     "name": "stdout",
     "output_type": "stream",
     "text": [
      "Unstacked shape is  (8760, 7)\n",
      "Stacked shape is  (61320, 2)\n"
     ]
    }
   ],
   "source": [
    "print('Unstacked shape is ',caiso_data.shape)\n",
    "print('Stacked shape is ',caiso_data_stack.shape)"
   ]
  },
  {
   "cell_type": "markdown",
   "metadata": {},
   "source": [
    "The `.shape` method returns a tuple -- number of rows and number of columns.\n",
    "\n",
    "What about the total number of entries?  Use the `.size` method:"
   ]
  },
  {
   "cell_type": "code",
   "execution_count": 20,
   "metadata": {},
   "outputs": [
    {
     "name": "stdout",
     "output_type": "stream",
     "text": [
      "Unstacked size is  61320\n",
      "Stacked size is  122640\n"
     ]
    }
   ],
   "source": [
    "print('Unstacked size is ',caiso_data.size)\n",
    "print('Stacked size is ',caiso_data_stack.size)"
   ]
  },
  {
   "cell_type": "markdown",
   "metadata": {},
   "source": [
    "Both shape and size commands return information about how much data is in the frame.  What's the difference?\n",
    "\n",
    "We can also look at \"summary statistics\" of the numeric values of the frame:"
   ]
  },
  {
   "cell_type": "code",
   "execution_count": 21,
   "metadata": {},
   "outputs": [
    {
     "data": {
      "text/html": [
       "<div>\n",
       "<style scoped>\n",
       "    .dataframe tbody tr th:only-of-type {\n",
       "        vertical-align: middle;\n",
       "    }\n",
       "\n",
       "    .dataframe tbody tr th {\n",
       "        vertical-align: top;\n",
       "    }\n",
       "\n",
       "    .dataframe thead th {\n",
       "        text-align: right;\n",
       "    }\n",
       "</style>\n",
       "<table border=\"1\" class=\"dataframe\">\n",
       "  <thead>\n",
       "    <tr style=\"text-align: right;\">\n",
       "      <th></th>\n",
       "      <th>GEOTHERMAL</th>\n",
       "      <th>BIOMASS</th>\n",
       "      <th>BIOGAS</th>\n",
       "      <th>SMALL HYDRO</th>\n",
       "      <th>WIND TOTAL</th>\n",
       "      <th>SOLAR PV</th>\n",
       "      <th>SOLAR THERMAL</th>\n",
       "    </tr>\n",
       "  </thead>\n",
       "  <tbody>\n",
       "    <tr>\n",
       "      <th>count</th>\n",
       "      <td>8760.000000</td>\n",
       "      <td>8760.000000</td>\n",
       "      <td>8760.000000</td>\n",
       "      <td>8760.000000</td>\n",
       "      <td>8760.000000</td>\n",
       "      <td>8760.000000</td>\n",
       "      <td>8760.000000</td>\n",
       "    </tr>\n",
       "    <tr>\n",
       "      <th>mean</th>\n",
       "      <td>949.228881</td>\n",
       "      <td>329.203311</td>\n",
       "      <td>224.342808</td>\n",
       "      <td>394.902626</td>\n",
       "      <td>1806.004338</td>\n",
       "      <td>2988.774658</td>\n",
       "      <td>133.840753</td>\n",
       "    </tr>\n",
       "    <tr>\n",
       "      <th>std</th>\n",
       "      <td>108.304664</td>\n",
       "      <td>43.243815</td>\n",
       "      <td>24.228372</td>\n",
       "      <td>112.120046</td>\n",
       "      <td>1284.668963</td>\n",
       "      <td>3628.189420</td>\n",
       "      <td>200.374857</td>\n",
       "    </tr>\n",
       "    <tr>\n",
       "      <th>min</th>\n",
       "      <td>468.000000</td>\n",
       "      <td>164.000000</td>\n",
       "      <td>133.000000</td>\n",
       "      <td>148.000000</td>\n",
       "      <td>0.000000</td>\n",
       "      <td>0.000000</td>\n",
       "      <td>0.000000</td>\n",
       "    </tr>\n",
       "    <tr>\n",
       "      <th>25%</th>\n",
       "      <td>923.000000</td>\n",
       "      <td>301.000000</td>\n",
       "      <td>219.000000</td>\n",
       "      <td>308.000000</td>\n",
       "      <td>598.000000</td>\n",
       "      <td>0.000000</td>\n",
       "      <td>0.000000</td>\n",
       "    </tr>\n",
       "    <tr>\n",
       "      <th>50%</th>\n",
       "      <td>956.000000</td>\n",
       "      <td>331.000000</td>\n",
       "      <td>234.000000</td>\n",
       "      <td>379.000000</td>\n",
       "      <td>1615.000000</td>\n",
       "      <td>175.500000</td>\n",
       "      <td>0.000000</td>\n",
       "    </tr>\n",
       "    <tr>\n",
       "      <th>75%</th>\n",
       "      <td>986.000000</td>\n",
       "      <td>363.000000</td>\n",
       "      <td>240.000000</td>\n",
       "      <td>476.250000</td>\n",
       "      <td>2900.250000</td>\n",
       "      <td>6700.250000</td>\n",
       "      <td>261.000000</td>\n",
       "    </tr>\n",
       "    <tr>\n",
       "      <th>max</th>\n",
       "      <td>1230.000000</td>\n",
       "      <td>482.000000</td>\n",
       "      <td>253.000000</td>\n",
       "      <td>681.000000</td>\n",
       "      <td>5006.000000</td>\n",
       "      <td>10102.000000</td>\n",
       "      <td>679.000000</td>\n",
       "    </tr>\n",
       "  </tbody>\n",
       "</table>\n",
       "</div>"
      ],
      "text/plain": [
       "        GEOTHERMAL      BIOMASS       BIOGAS  SMALL HYDRO   WIND TOTAL  \\\n",
       "count  8760.000000  8760.000000  8760.000000  8760.000000  8760.000000   \n",
       "mean    949.228881   329.203311   224.342808   394.902626  1806.004338   \n",
       "std     108.304664    43.243815    24.228372   112.120046  1284.668963   \n",
       "min     468.000000   164.000000   133.000000   148.000000     0.000000   \n",
       "25%     923.000000   301.000000   219.000000   308.000000   598.000000   \n",
       "50%     956.000000   331.000000   234.000000   379.000000  1615.000000   \n",
       "75%     986.000000   363.000000   240.000000   476.250000  2900.250000   \n",
       "max    1230.000000   482.000000   253.000000   681.000000  5006.000000   \n",
       "\n",
       "           SOLAR PV  SOLAR THERMAL  \n",
       "count   8760.000000    8760.000000  \n",
       "mean    2988.774658     133.840753  \n",
       "std     3628.189420     200.374857  \n",
       "min        0.000000       0.000000  \n",
       "25%        0.000000       0.000000  \n",
       "50%      175.500000       0.000000  \n",
       "75%     6700.250000     261.000000  \n",
       "max    10102.000000     679.000000  "
      ]
     },
     "execution_count": 21,
     "metadata": {},
     "output_type": "execute_result"
    }
   ],
   "source": [
    "caiso_data.describe()"
   ]
  },
  {
   "cell_type": "markdown",
   "metadata": {},
   "source": [
    "**A quirky thing about getting data out of the frame**\n",
    "\n",
    "Do be careful -- pulling data out of the dataframe is sometimes perplexing:"
   ]
  },
  {
   "cell_type": "code",
   "execution_count": 22,
   "metadata": {
    "scrolled": true
   },
   "outputs": [
    {
     "data": {
      "text/plain": [
       "2017-08-29 00:00:00    1181\n",
       "2017-08-29 01:00:00    1182\n",
       "2017-08-29 02:00:00    1183\n",
       "2017-08-29 03:00:00    1185\n",
       "2017-08-29 04:00:00    1190\n",
       "Name: GEOTHERMAL, dtype: int64"
      ]
     },
     "execution_count": 22,
     "metadata": {},
     "output_type": "execute_result"
    }
   ],
   "source": [
    "caiso_data['GEOTHERMAL'].head()"
   ]
  },
  {
   "cell_type": "code",
   "execution_count": 23,
   "metadata": {},
   "outputs": [
    {
     "data": {
      "text/html": [
       "<div>\n",
       "<style scoped>\n",
       "    .dataframe tbody tr th:only-of-type {\n",
       "        vertical-align: middle;\n",
       "    }\n",
       "\n",
       "    .dataframe tbody tr th {\n",
       "        vertical-align: top;\n",
       "    }\n",
       "\n",
       "    .dataframe thead th {\n",
       "        text-align: right;\n",
       "    }\n",
       "</style>\n",
       "<table border=\"1\" class=\"dataframe\">\n",
       "  <thead>\n",
       "    <tr style=\"text-align: right;\">\n",
       "      <th></th>\n",
       "      <th>GEOTHERMAL</th>\n",
       "    </tr>\n",
       "  </thead>\n",
       "  <tbody>\n",
       "    <tr>\n",
       "      <th>2017-08-29 00:00:00</th>\n",
       "      <td>1181</td>\n",
       "    </tr>\n",
       "    <tr>\n",
       "      <th>2017-08-29 01:00:00</th>\n",
       "      <td>1182</td>\n",
       "    </tr>\n",
       "    <tr>\n",
       "      <th>2017-08-29 02:00:00</th>\n",
       "      <td>1183</td>\n",
       "    </tr>\n",
       "    <tr>\n",
       "      <th>2017-08-29 03:00:00</th>\n",
       "      <td>1185</td>\n",
       "    </tr>\n",
       "    <tr>\n",
       "      <th>2017-08-29 04:00:00</th>\n",
       "      <td>1190</td>\n",
       "    </tr>\n",
       "  </tbody>\n",
       "</table>\n",
       "</div>"
      ],
      "text/plain": [
       "                     GEOTHERMAL\n",
       "2017-08-29 00:00:00        1181\n",
       "2017-08-29 01:00:00        1182\n",
       "2017-08-29 02:00:00        1183\n",
       "2017-08-29 03:00:00        1185\n",
       "2017-08-29 04:00:00        1190"
      ]
     },
     "execution_count": 23,
     "metadata": {},
     "output_type": "execute_result"
    }
   ],
   "source": [
    "caiso_data[['GEOTHERMAL']].head()"
   ]
  },
  {
   "cell_type": "markdown",
   "metadata": {},
   "source": [
    "With only one pair of sq brackets, we got a Series object, but with two sq brackets, we get a frame.  One way to think about why this is happening is that if we want to get more than one column, we need to pass a list of column names in, and this would necessarily output a data frame"
   ]
  },
  {
   "cell_type": "code",
   "execution_count": 24,
   "metadata": {},
   "outputs": [
    {
     "data": {
      "text/html": [
       "<div>\n",
       "<style scoped>\n",
       "    .dataframe tbody tr th:only-of-type {\n",
       "        vertical-align: middle;\n",
       "    }\n",
       "\n",
       "    .dataframe tbody tr th {\n",
       "        vertical-align: top;\n",
       "    }\n",
       "\n",
       "    .dataframe thead th {\n",
       "        text-align: right;\n",
       "    }\n",
       "</style>\n",
       "<table border=\"1\" class=\"dataframe\">\n",
       "  <thead>\n",
       "    <tr style=\"text-align: right;\">\n",
       "      <th></th>\n",
       "      <th>GEOTHERMAL</th>\n",
       "      <th>BIOGAS</th>\n",
       "    </tr>\n",
       "  </thead>\n",
       "  <tbody>\n",
       "    <tr>\n",
       "      <th>2017-08-29 00:00:00</th>\n",
       "      <td>1181</td>\n",
       "      <td>156</td>\n",
       "    </tr>\n",
       "    <tr>\n",
       "      <th>2017-08-29 01:00:00</th>\n",
       "      <td>1182</td>\n",
       "      <td>156</td>\n",
       "    </tr>\n",
       "    <tr>\n",
       "      <th>2017-08-29 02:00:00</th>\n",
       "      <td>1183</td>\n",
       "      <td>156</td>\n",
       "    </tr>\n",
       "    <tr>\n",
       "      <th>2017-08-29 03:00:00</th>\n",
       "      <td>1185</td>\n",
       "      <td>156</td>\n",
       "    </tr>\n",
       "    <tr>\n",
       "      <th>2017-08-29 04:00:00</th>\n",
       "      <td>1190</td>\n",
       "      <td>156</td>\n",
       "    </tr>\n",
       "  </tbody>\n",
       "</table>\n",
       "</div>"
      ],
      "text/plain": [
       "                     GEOTHERMAL  BIOGAS\n",
       "2017-08-29 00:00:00        1181     156\n",
       "2017-08-29 01:00:00        1182     156\n",
       "2017-08-29 02:00:00        1183     156\n",
       "2017-08-29 03:00:00        1185     156\n",
       "2017-08-29 04:00:00        1190     156"
      ]
     },
     "execution_count": 24,
     "metadata": {},
     "output_type": "execute_result"
    }
   ],
   "source": [
    "caiso_data[['GEOTHERMAL', 'BIOGAS']].head()"
   ]
  },
  {
   "cell_type": "markdown",
   "metadata": {},
   "source": [
    "Python gets perturbed if you don't pass the labels in as a list.  "
   ]
  },
  {
   "cell_type": "markdown",
   "metadata": {},
   "source": [
    "### Indexing and slicing in Pandas\n",
    "\n",
    "To motivate our interest going forward, let's ask a basic question about the data set, for example:  \n",
    "\n",
    "**What hour had the lowest average wind generation in the last year?**\n",
    "\n",
    "Try thinking for a moment about how you'd do this, then we'll try to get there."
   ]
  },
  {
   "cell_type": "markdown",
   "metadata": {},
   "source": [
    "First let's figure out how to slice these data frames.\n",
    "\n",
    "`.iloc` allows us to index and slice on **i**nteger row and column positions:"
   ]
  },
  {
   "cell_type": "code",
   "execution_count": 25,
   "metadata": {},
   "outputs": [
    {
     "data": {
      "text/plain": [
       "338"
      ]
     },
     "execution_count": 25,
     "metadata": {},
     "output_type": "execute_result"
    }
   ],
   "source": [
    "caiso_data.iloc[1,1]"
   ]
  },
  {
   "cell_type": "markdown",
   "metadata": {},
   "source": [
    "But what's nice about `.iloc` is that you can also slice.  It works just like numpy."
   ]
  },
  {
   "cell_type": "code",
   "execution_count": 26,
   "metadata": {},
   "outputs": [
    {
     "data": {
      "text/html": [
       "<div>\n",
       "<style scoped>\n",
       "    .dataframe tbody tr th:only-of-type {\n",
       "        vertical-align: middle;\n",
       "    }\n",
       "\n",
       "    .dataframe tbody tr th {\n",
       "        vertical-align: top;\n",
       "    }\n",
       "\n",
       "    .dataframe thead th {\n",
       "        text-align: right;\n",
       "    }\n",
       "</style>\n",
       "<table border=\"1\" class=\"dataframe\">\n",
       "  <thead>\n",
       "    <tr style=\"text-align: right;\">\n",
       "      <th></th>\n",
       "      <th>GEOTHERMAL</th>\n",
       "      <th>BIOMASS</th>\n",
       "      <th>BIOGAS</th>\n",
       "      <th>SMALL HYDRO</th>\n",
       "    </tr>\n",
       "  </thead>\n",
       "  <tbody>\n",
       "    <tr>\n",
       "      <th>2018-08-28 23:00:00</th>\n",
       "      <td>977</td>\n",
       "      <td>333</td>\n",
       "      <td>235</td>\n",
       "      <td>262</td>\n",
       "    </tr>\n",
       "    <tr>\n",
       "      <th>2018-08-28 22:00:00</th>\n",
       "      <td>975</td>\n",
       "      <td>333</td>\n",
       "      <td>234</td>\n",
       "      <td>361</td>\n",
       "    </tr>\n",
       "    <tr>\n",
       "      <th>2018-08-28 21:00:00</th>\n",
       "      <td>972</td>\n",
       "      <td>336</td>\n",
       "      <td>233</td>\n",
       "      <td>502</td>\n",
       "    </tr>\n",
       "    <tr>\n",
       "      <th>2018-08-28 20:00:00</th>\n",
       "      <td>967</td>\n",
       "      <td>336</td>\n",
       "      <td>234</td>\n",
       "      <td>547</td>\n",
       "    </tr>\n",
       "    <tr>\n",
       "      <th>2018-08-28 19:00:00</th>\n",
       "      <td>962</td>\n",
       "      <td>332</td>\n",
       "      <td>236</td>\n",
       "      <td>581</td>\n",
       "    </tr>\n",
       "    <tr>\n",
       "      <th>2018-08-28 18:00:00</th>\n",
       "      <td>955</td>\n",
       "      <td>337</td>\n",
       "      <td>237</td>\n",
       "      <td>534</td>\n",
       "    </tr>\n",
       "    <tr>\n",
       "      <th>2018-08-28 17:00:00</th>\n",
       "      <td>934</td>\n",
       "      <td>336</td>\n",
       "      <td>235</td>\n",
       "      <td>456</td>\n",
       "    </tr>\n",
       "    <tr>\n",
       "      <th>2018-08-28 16:00:00</th>\n",
       "      <td>934</td>\n",
       "      <td>337</td>\n",
       "      <td>239</td>\n",
       "      <td>334</td>\n",
       "    </tr>\n",
       "    <tr>\n",
       "      <th>2018-08-28 15:00:00</th>\n",
       "      <td>933</td>\n",
       "      <td>338</td>\n",
       "      <td>238</td>\n",
       "      <td>266</td>\n",
       "    </tr>\n",
       "  </tbody>\n",
       "</table>\n",
       "</div>"
      ],
      "text/plain": [
       "                     GEOTHERMAL  BIOMASS  BIOGAS  SMALL HYDRO\n",
       "2018-08-28 23:00:00         977      333     235          262\n",
       "2018-08-28 22:00:00         975      333     234          361\n",
       "2018-08-28 21:00:00         972      336     233          502\n",
       "2018-08-28 20:00:00         967      336     234          547\n",
       "2018-08-28 19:00:00         962      332     236          581\n",
       "2018-08-28 18:00:00         955      337     237          534\n",
       "2018-08-28 17:00:00         934      336     235          456\n",
       "2018-08-28 16:00:00         934      337     239          334\n",
       "2018-08-28 15:00:00         933      338     238          266"
      ]
     },
     "execution_count": 26,
     "metadata": {},
     "output_type": "execute_result"
    }
   ],
   "source": [
    "caiso_data.iloc[:-10:-1, :4]"
   ]
  },
  {
   "cell_type": "markdown",
   "metadata": {},
   "source": [
    "`.loc` is similar to `.iloc`, but it allows you to call the index and column names:"
   ]
  },
  {
   "cell_type": "code",
   "execution_count": 27,
   "metadata": {},
   "outputs": [
    {
     "data": {
      "text/html": [
       "<div>\n",
       "<style scoped>\n",
       "    .dataframe tbody tr th:only-of-type {\n",
       "        vertical-align: middle;\n",
       "    }\n",
       "\n",
       "    .dataframe tbody tr th {\n",
       "        vertical-align: top;\n",
       "    }\n",
       "\n",
       "    .dataframe thead th {\n",
       "        text-align: right;\n",
       "    }\n",
       "</style>\n",
       "<table border=\"1\" class=\"dataframe\">\n",
       "  <thead>\n",
       "    <tr style=\"text-align: right;\">\n",
       "      <th></th>\n",
       "      <th>GEOTHERMAL</th>\n",
       "      <th>BIOMASS</th>\n",
       "      <th>BIOGAS</th>\n",
       "    </tr>\n",
       "  </thead>\n",
       "  <tbody>\n",
       "    <tr>\n",
       "      <th>2018-08-28 10:00:00</th>\n",
       "      <td>967</td>\n",
       "      <td>337</td>\n",
       "      <td>234</td>\n",
       "    </tr>\n",
       "    <tr>\n",
       "      <th>2018-08-28 11:00:00</th>\n",
       "      <td>944</td>\n",
       "      <td>336</td>\n",
       "      <td>235</td>\n",
       "    </tr>\n",
       "    <tr>\n",
       "      <th>2018-08-28 12:00:00</th>\n",
       "      <td>936</td>\n",
       "      <td>337</td>\n",
       "      <td>238</td>\n",
       "    </tr>\n",
       "    <tr>\n",
       "      <th>2018-08-28 13:00:00</th>\n",
       "      <td>934</td>\n",
       "      <td>337</td>\n",
       "      <td>239</td>\n",
       "    </tr>\n",
       "    <tr>\n",
       "      <th>2018-08-28 14:00:00</th>\n",
       "      <td>933</td>\n",
       "      <td>338</td>\n",
       "      <td>240</td>\n",
       "    </tr>\n",
       "    <tr>\n",
       "      <th>2018-08-28 15:00:00</th>\n",
       "      <td>933</td>\n",
       "      <td>338</td>\n",
       "      <td>238</td>\n",
       "    </tr>\n",
       "    <tr>\n",
       "      <th>2018-08-28 16:00:00</th>\n",
       "      <td>934</td>\n",
       "      <td>337</td>\n",
       "      <td>239</td>\n",
       "    </tr>\n",
       "    <tr>\n",
       "      <th>2018-08-28 17:00:00</th>\n",
       "      <td>934</td>\n",
       "      <td>336</td>\n",
       "      <td>235</td>\n",
       "    </tr>\n",
       "    <tr>\n",
       "      <th>2018-08-28 18:00:00</th>\n",
       "      <td>955</td>\n",
       "      <td>337</td>\n",
       "      <td>237</td>\n",
       "    </tr>\n",
       "    <tr>\n",
       "      <th>2018-08-28 19:00:00</th>\n",
       "      <td>962</td>\n",
       "      <td>332</td>\n",
       "      <td>236</td>\n",
       "    </tr>\n",
       "    <tr>\n",
       "      <th>2018-08-28 20:00:00</th>\n",
       "      <td>967</td>\n",
       "      <td>336</td>\n",
       "      <td>234</td>\n",
       "    </tr>\n",
       "    <tr>\n",
       "      <th>2018-08-28 21:00:00</th>\n",
       "      <td>972</td>\n",
       "      <td>336</td>\n",
       "      <td>233</td>\n",
       "    </tr>\n",
       "    <tr>\n",
       "      <th>2018-08-28 22:00:00</th>\n",
       "      <td>975</td>\n",
       "      <td>333</td>\n",
       "      <td>234</td>\n",
       "    </tr>\n",
       "    <tr>\n",
       "      <th>2018-08-28 23:00:00</th>\n",
       "      <td>977</td>\n",
       "      <td>333</td>\n",
       "      <td>235</td>\n",
       "    </tr>\n",
       "  </tbody>\n",
       "</table>\n",
       "</div>"
      ],
      "text/plain": [
       "                     GEOTHERMAL  BIOMASS  BIOGAS\n",
       "2018-08-28 10:00:00         967      337     234\n",
       "2018-08-28 11:00:00         944      336     235\n",
       "2018-08-28 12:00:00         936      337     238\n",
       "2018-08-28 13:00:00         934      337     239\n",
       "2018-08-28 14:00:00         933      338     240\n",
       "2018-08-28 15:00:00         933      338     238\n",
       "2018-08-28 16:00:00         934      337     239\n",
       "2018-08-28 17:00:00         934      336     235\n",
       "2018-08-28 18:00:00         955      337     237\n",
       "2018-08-28 19:00:00         962      332     236\n",
       "2018-08-28 20:00:00         967      336     234\n",
       "2018-08-28 21:00:00         972      336     233\n",
       "2018-08-28 22:00:00         975      333     234\n",
       "2018-08-28 23:00:00         977      333     235"
      ]
     },
     "execution_count": 27,
     "metadata": {},
     "output_type": "execute_result"
    }
   ],
   "source": [
    "caiso_data.loc['2018-08-28 10:00:00':'2018-08-28 24:00:00','GEOTHERMAL':'BIOGAS']"
   ]
  },
  {
   "cell_type": "markdown",
   "metadata": {},
   "source": [
    "If index values are non-unique, the basic process is that `.loc` goes for the first appearance of the left side of the slice and the last appearance of the right side.\n",
    "\n",
    "Note, this raises again an interesting point about pandas data frames -- the row indices don't need to be integer row numbers.  \n",
    "\n",
    "Let's explore the index labels a little more.  "
   ]
  },
  {
   "cell_type": "markdown",
   "metadata": {},
   "source": [
    "### The index.\n",
    "\n",
    "Let's make the data a little smaller for working with, just choosing the first 24 hours."
   ]
  },
  {
   "cell_type": "code",
   "execution_count": 28,
   "metadata": {},
   "outputs": [
    {
     "data": {
      "text/plain": [
       "(24, 7)"
      ]
     },
     "execution_count": 28,
     "metadata": {},
     "output_type": "execute_result"
    }
   ],
   "source": [
    "c_dat = caiso_data.head(24)\n",
    "c_dat.shape"
   ]
  },
  {
   "cell_type": "markdown",
   "metadata": {},
   "source": [
    "Now if we wish, we can reassign the index labels to integers 1 through 24:"
   ]
  },
  {
   "cell_type": "code",
   "execution_count": 29,
   "metadata": {},
   "outputs": [
    {
     "data": {
      "text/html": [
       "<div>\n",
       "<style scoped>\n",
       "    .dataframe tbody tr th:only-of-type {\n",
       "        vertical-align: middle;\n",
       "    }\n",
       "\n",
       "    .dataframe tbody tr th {\n",
       "        vertical-align: top;\n",
       "    }\n",
       "\n",
       "    .dataframe thead th {\n",
       "        text-align: right;\n",
       "    }\n",
       "</style>\n",
       "<table border=\"1\" class=\"dataframe\">\n",
       "  <thead>\n",
       "    <tr style=\"text-align: right;\">\n",
       "      <th></th>\n",
       "      <th>GEOTHERMAL</th>\n",
       "      <th>BIOMASS</th>\n",
       "      <th>BIOGAS</th>\n",
       "      <th>SMALL HYDRO</th>\n",
       "      <th>WIND TOTAL</th>\n",
       "      <th>SOLAR PV</th>\n",
       "      <th>SOLAR THERMAL</th>\n",
       "    </tr>\n",
       "  </thead>\n",
       "  <tbody>\n",
       "    <tr>\n",
       "      <th>Hour 1</th>\n",
       "      <td>1181</td>\n",
       "      <td>340</td>\n",
       "      <td>156</td>\n",
       "      <td>324</td>\n",
       "      <td>1551</td>\n",
       "      <td>0</td>\n",
       "      <td>0</td>\n",
       "    </tr>\n",
       "    <tr>\n",
       "      <th>Hour 2</th>\n",
       "      <td>1182</td>\n",
       "      <td>338</td>\n",
       "      <td>156</td>\n",
       "      <td>326</td>\n",
       "      <td>1556</td>\n",
       "      <td>0</td>\n",
       "      <td>0</td>\n",
       "    </tr>\n",
       "    <tr>\n",
       "      <th>Hour 3</th>\n",
       "      <td>1183</td>\n",
       "      <td>337</td>\n",
       "      <td>156</td>\n",
       "      <td>337</td>\n",
       "      <td>1325</td>\n",
       "      <td>0</td>\n",
       "      <td>0</td>\n",
       "    </tr>\n",
       "    <tr>\n",
       "      <th>Hour 4</th>\n",
       "      <td>1185</td>\n",
       "      <td>339</td>\n",
       "      <td>156</td>\n",
       "      <td>313</td>\n",
       "      <td>1158</td>\n",
       "      <td>0</td>\n",
       "      <td>0</td>\n",
       "    </tr>\n",
       "    <tr>\n",
       "      <th>Hour 5</th>\n",
       "      <td>1190</td>\n",
       "      <td>344</td>\n",
       "      <td>156</td>\n",
       "      <td>320</td>\n",
       "      <td>1209</td>\n",
       "      <td>0</td>\n",
       "      <td>0</td>\n",
       "    </tr>\n",
       "    <tr>\n",
       "      <th>Hour 6</th>\n",
       "      <td>1194</td>\n",
       "      <td>351</td>\n",
       "      <td>157</td>\n",
       "      <td>331</td>\n",
       "      <td>1209</td>\n",
       "      <td>0</td>\n",
       "      <td>0</td>\n",
       "    </tr>\n",
       "    <tr>\n",
       "      <th>Hour 7</th>\n",
       "      <td>1196</td>\n",
       "      <td>359</td>\n",
       "      <td>155</td>\n",
       "      <td>382</td>\n",
       "      <td>1126</td>\n",
       "      <td>121</td>\n",
       "      <td>0</td>\n",
       "    </tr>\n",
       "    <tr>\n",
       "      <th>Hour 8</th>\n",
       "      <td>1194</td>\n",
       "      <td>363</td>\n",
       "      <td>153</td>\n",
       "      <td>380</td>\n",
       "      <td>1164</td>\n",
       "      <td>2291</td>\n",
       "      <td>0</td>\n",
       "    </tr>\n",
       "    <tr>\n",
       "      <th>Hour 9</th>\n",
       "      <td>1187</td>\n",
       "      <td>364</td>\n",
       "      <td>153</td>\n",
       "      <td>346</td>\n",
       "      <td>903</td>\n",
       "      <td>5854</td>\n",
       "      <td>66</td>\n",
       "    </tr>\n",
       "    <tr>\n",
       "      <th>Hour 10</th>\n",
       "      <td>1189</td>\n",
       "      <td>367</td>\n",
       "      <td>157</td>\n",
       "      <td>356</td>\n",
       "      <td>711</td>\n",
       "      <td>7469</td>\n",
       "      <td>296</td>\n",
       "    </tr>\n",
       "    <tr>\n",
       "      <th>Hour 11</th>\n",
       "      <td>1186</td>\n",
       "      <td>371</td>\n",
       "      <td>160</td>\n",
       "      <td>394</td>\n",
       "      <td>728</td>\n",
       "      <td>8317</td>\n",
       "      <td>449</td>\n",
       "    </tr>\n",
       "    <tr>\n",
       "      <th>Hour 12</th>\n",
       "      <td>1180</td>\n",
       "      <td>377</td>\n",
       "      <td>164</td>\n",
       "      <td>417</td>\n",
       "      <td>709</td>\n",
       "      <td>8648</td>\n",
       "      <td>516</td>\n",
       "    </tr>\n",
       "    <tr>\n",
       "      <th>Hour 13</th>\n",
       "      <td>1177</td>\n",
       "      <td>376</td>\n",
       "      <td>164</td>\n",
       "      <td>432</td>\n",
       "      <td>726</td>\n",
       "      <td>8499</td>\n",
       "      <td>527</td>\n",
       "    </tr>\n",
       "    <tr>\n",
       "      <th>Hour 14</th>\n",
       "      <td>1175</td>\n",
       "      <td>375</td>\n",
       "      <td>163</td>\n",
       "      <td>458</td>\n",
       "      <td>823</td>\n",
       "      <td>8042</td>\n",
       "      <td>255</td>\n",
       "    </tr>\n",
       "    <tr>\n",
       "      <th>Hour 15</th>\n",
       "      <td>1172</td>\n",
       "      <td>372</td>\n",
       "      <td>162</td>\n",
       "      <td>488</td>\n",
       "      <td>1100</td>\n",
       "      <td>6820</td>\n",
       "      <td>264</td>\n",
       "    </tr>\n",
       "    <tr>\n",
       "      <th>Hour 16</th>\n",
       "      <td>1172</td>\n",
       "      <td>373</td>\n",
       "      <td>160</td>\n",
       "      <td>561</td>\n",
       "      <td>1467</td>\n",
       "      <td>5512</td>\n",
       "      <td>220</td>\n",
       "    </tr>\n",
       "    <tr>\n",
       "      <th>Hour 17</th>\n",
       "      <td>1173</td>\n",
       "      <td>373</td>\n",
       "      <td>159</td>\n",
       "      <td>552</td>\n",
       "      <td>1941</td>\n",
       "      <td>5210</td>\n",
       "      <td>194</td>\n",
       "    </tr>\n",
       "    <tr>\n",
       "      <th>Hour 18</th>\n",
       "      <td>1175</td>\n",
       "      <td>369</td>\n",
       "      <td>162</td>\n",
       "      <td>554</td>\n",
       "      <td>1430</td>\n",
       "      <td>4063</td>\n",
       "      <td>189</td>\n",
       "    </tr>\n",
       "    <tr>\n",
       "      <th>Hour 19</th>\n",
       "      <td>1180</td>\n",
       "      <td>369</td>\n",
       "      <td>164</td>\n",
       "      <td>561</td>\n",
       "      <td>1562</td>\n",
       "      <td>1352</td>\n",
       "      <td>81</td>\n",
       "    </tr>\n",
       "    <tr>\n",
       "      <th>Hour 20</th>\n",
       "      <td>1190</td>\n",
       "      <td>368</td>\n",
       "      <td>166</td>\n",
       "      <td>556</td>\n",
       "      <td>1590</td>\n",
       "      <td>21</td>\n",
       "      <td>17</td>\n",
       "    </tr>\n",
       "    <tr>\n",
       "      <th>Hour 21</th>\n",
       "      <td>1197</td>\n",
       "      <td>365</td>\n",
       "      <td>168</td>\n",
       "      <td>493</td>\n",
       "      <td>1855</td>\n",
       "      <td>0</td>\n",
       "      <td>19</td>\n",
       "    </tr>\n",
       "    <tr>\n",
       "      <th>Hour 22</th>\n",
       "      <td>1200</td>\n",
       "      <td>374</td>\n",
       "      <td>167</td>\n",
       "      <td>438</td>\n",
       "      <td>1905</td>\n",
       "      <td>0</td>\n",
       "      <td>19</td>\n",
       "    </tr>\n",
       "    <tr>\n",
       "      <th>Hour 23</th>\n",
       "      <td>1205</td>\n",
       "      <td>363</td>\n",
       "      <td>167</td>\n",
       "      <td>366</td>\n",
       "      <td>1841</td>\n",
       "      <td>0</td>\n",
       "      <td>11</td>\n",
       "    </tr>\n",
       "    <tr>\n",
       "      <th>Hour 24</th>\n",
       "      <td>1207</td>\n",
       "      <td>355</td>\n",
       "      <td>166</td>\n",
       "      <td>366</td>\n",
       "      <td>1915</td>\n",
       "      <td>0</td>\n",
       "      <td>0</td>\n",
       "    </tr>\n",
       "  </tbody>\n",
       "</table>\n",
       "</div>"
      ],
      "text/plain": [
       "         GEOTHERMAL  BIOMASS  BIOGAS  SMALL HYDRO  WIND TOTAL  SOLAR PV  \\\n",
       "Hour 1         1181      340     156          324        1551         0   \n",
       "Hour 2         1182      338     156          326        1556         0   \n",
       "Hour 3         1183      337     156          337        1325         0   \n",
       "Hour 4         1185      339     156          313        1158         0   \n",
       "Hour 5         1190      344     156          320        1209         0   \n",
       "Hour 6         1194      351     157          331        1209         0   \n",
       "Hour 7         1196      359     155          382        1126       121   \n",
       "Hour 8         1194      363     153          380        1164      2291   \n",
       "Hour 9         1187      364     153          346         903      5854   \n",
       "Hour 10        1189      367     157          356         711      7469   \n",
       "Hour 11        1186      371     160          394         728      8317   \n",
       "Hour 12        1180      377     164          417         709      8648   \n",
       "Hour 13        1177      376     164          432         726      8499   \n",
       "Hour 14        1175      375     163          458         823      8042   \n",
       "Hour 15        1172      372     162          488        1100      6820   \n",
       "Hour 16        1172      373     160          561        1467      5512   \n",
       "Hour 17        1173      373     159          552        1941      5210   \n",
       "Hour 18        1175      369     162          554        1430      4063   \n",
       "Hour 19        1180      369     164          561        1562      1352   \n",
       "Hour 20        1190      368     166          556        1590        21   \n",
       "Hour 21        1197      365     168          493        1855         0   \n",
       "Hour 22        1200      374     167          438        1905         0   \n",
       "Hour 23        1205      363     167          366        1841         0   \n",
       "Hour 24        1207      355     166          366        1915         0   \n",
       "\n",
       "         SOLAR THERMAL  \n",
       "Hour 1               0  \n",
       "Hour 2               0  \n",
       "Hour 3               0  \n",
       "Hour 4               0  \n",
       "Hour 5               0  \n",
       "Hour 6               0  \n",
       "Hour 7               0  \n",
       "Hour 8               0  \n",
       "Hour 9              66  \n",
       "Hour 10            296  \n",
       "Hour 11            449  \n",
       "Hour 12            516  \n",
       "Hour 13            527  \n",
       "Hour 14            255  \n",
       "Hour 15            264  \n",
       "Hour 16            220  \n",
       "Hour 17            194  \n",
       "Hour 18            189  \n",
       "Hour 19             81  \n",
       "Hour 20             17  \n",
       "Hour 21             19  \n",
       "Hour 22             19  \n",
       "Hour 23             11  \n",
       "Hour 24              0  "
      ]
     },
     "execution_count": 29,
     "metadata": {},
     "output_type": "execute_result"
    }
   ],
   "source": [
    "c_dat.index = ['Hour '+str(i) for i in range(1,25)]\n",
    "c_dat"
   ]
  },
  {
   "cell_type": "markdown",
   "metadata": {},
   "source": [
    "Now we can slice in `.loc` using a slightly easier index:"
   ]
  },
  {
   "cell_type": "code",
   "execution_count": 30,
   "metadata": {
    "scrolled": true
   },
   "outputs": [
    {
     "data": {
      "text/html": [
       "<div>\n",
       "<style scoped>\n",
       "    .dataframe tbody tr th:only-of-type {\n",
       "        vertical-align: middle;\n",
       "    }\n",
       "\n",
       "    .dataframe tbody tr th {\n",
       "        vertical-align: top;\n",
       "    }\n",
       "\n",
       "    .dataframe thead th {\n",
       "        text-align: right;\n",
       "    }\n",
       "</style>\n",
       "<table border=\"1\" class=\"dataframe\">\n",
       "  <thead>\n",
       "    <tr style=\"text-align: right;\">\n",
       "      <th></th>\n",
       "      <th>GEOTHERMAL</th>\n",
       "      <th>BIOMASS</th>\n",
       "      <th>BIOGAS</th>\n",
       "      <th>SMALL HYDRO</th>\n",
       "      <th>WIND TOTAL</th>\n",
       "      <th>SOLAR PV</th>\n",
       "      <th>SOLAR THERMAL</th>\n",
       "    </tr>\n",
       "  </thead>\n",
       "  <tbody>\n",
       "    <tr>\n",
       "      <th>Hour 1</th>\n",
       "      <td>1181</td>\n",
       "      <td>340</td>\n",
       "      <td>156</td>\n",
       "      <td>324</td>\n",
       "      <td>1551</td>\n",
       "      <td>0</td>\n",
       "      <td>0</td>\n",
       "    </tr>\n",
       "    <tr>\n",
       "      <th>Hour 2</th>\n",
       "      <td>1182</td>\n",
       "      <td>338</td>\n",
       "      <td>156</td>\n",
       "      <td>326</td>\n",
       "      <td>1556</td>\n",
       "      <td>0</td>\n",
       "      <td>0</td>\n",
       "    </tr>\n",
       "    <tr>\n",
       "      <th>Hour 3</th>\n",
       "      <td>1183</td>\n",
       "      <td>337</td>\n",
       "      <td>156</td>\n",
       "      <td>337</td>\n",
       "      <td>1325</td>\n",
       "      <td>0</td>\n",
       "      <td>0</td>\n",
       "    </tr>\n",
       "    <tr>\n",
       "      <th>Hour 4</th>\n",
       "      <td>1185</td>\n",
       "      <td>339</td>\n",
       "      <td>156</td>\n",
       "      <td>313</td>\n",
       "      <td>1158</td>\n",
       "      <td>0</td>\n",
       "      <td>0</td>\n",
       "    </tr>\n",
       "  </tbody>\n",
       "</table>\n",
       "</div>"
      ],
      "text/plain": [
       "        GEOTHERMAL  BIOMASS  BIOGAS  SMALL HYDRO  WIND TOTAL  SOLAR PV  \\\n",
       "Hour 1        1181      340     156          324        1551         0   \n",
       "Hour 2        1182      338     156          326        1556         0   \n",
       "Hour 3        1183      337     156          337        1325         0   \n",
       "Hour 4        1185      339     156          313        1158         0   \n",
       "\n",
       "        SOLAR THERMAL  \n",
       "Hour 1              0  \n",
       "Hour 2              0  \n",
       "Hour 3              0  \n",
       "Hour 4              0  "
      ]
     },
     "execution_count": 30,
     "metadata": {},
     "output_type": "execute_result"
    }
   ],
   "source": [
    "c_dat.loc['Hour 1':'Hour 4',:]"
   ]
  },
  {
   "cell_type": "markdown",
   "metadata": {},
   "source": [
    "But watch out -- `.iloc` might have different indexing.  "
   ]
  },
  {
   "cell_type": "code",
   "execution_count": 31,
   "metadata": {},
   "outputs": [
    {
     "data": {
      "text/html": [
       "<div>\n",
       "<style scoped>\n",
       "    .dataframe tbody tr th:only-of-type {\n",
       "        vertical-align: middle;\n",
       "    }\n",
       "\n",
       "    .dataframe tbody tr th {\n",
       "        vertical-align: top;\n",
       "    }\n",
       "\n",
       "    .dataframe thead th {\n",
       "        text-align: right;\n",
       "    }\n",
       "</style>\n",
       "<table border=\"1\" class=\"dataframe\">\n",
       "  <thead>\n",
       "    <tr style=\"text-align: right;\">\n",
       "      <th></th>\n",
       "      <th>GEOTHERMAL</th>\n",
       "      <th>BIOMASS</th>\n",
       "      <th>BIOGAS</th>\n",
       "      <th>SMALL HYDRO</th>\n",
       "      <th>WIND TOTAL</th>\n",
       "      <th>SOLAR PV</th>\n",
       "      <th>SOLAR THERMAL</th>\n",
       "    </tr>\n",
       "  </thead>\n",
       "  <tbody>\n",
       "    <tr>\n",
       "      <th>Hour 2</th>\n",
       "      <td>1182</td>\n",
       "      <td>338</td>\n",
       "      <td>156</td>\n",
       "      <td>326</td>\n",
       "      <td>1556</td>\n",
       "      <td>0</td>\n",
       "      <td>0</td>\n",
       "    </tr>\n",
       "    <tr>\n",
       "      <th>Hour 3</th>\n",
       "      <td>1183</td>\n",
       "      <td>337</td>\n",
       "      <td>156</td>\n",
       "      <td>337</td>\n",
       "      <td>1325</td>\n",
       "      <td>0</td>\n",
       "      <td>0</td>\n",
       "    </tr>\n",
       "    <tr>\n",
       "      <th>Hour 4</th>\n",
       "      <td>1185</td>\n",
       "      <td>339</td>\n",
       "      <td>156</td>\n",
       "      <td>313</td>\n",
       "      <td>1158</td>\n",
       "      <td>0</td>\n",
       "      <td>0</td>\n",
       "    </tr>\n",
       "  </tbody>\n",
       "</table>\n",
       "</div>"
      ],
      "text/plain": [
       "        GEOTHERMAL  BIOMASS  BIOGAS  SMALL HYDRO  WIND TOTAL  SOLAR PV  \\\n",
       "Hour 2        1182      338     156          326        1556         0   \n",
       "Hour 3        1183      337     156          337        1325         0   \n",
       "Hour 4        1185      339     156          313        1158         0   \n",
       "\n",
       "        SOLAR THERMAL  \n",
       "Hour 2              0  \n",
       "Hour 3              0  \n",
       "Hour 4              0  "
      ]
     },
     "execution_count": 31,
     "metadata": {},
     "output_type": "execute_result"
    }
   ],
   "source": [
    "c_dat.iloc[1:4,:]"
   ]
  },
  {
   "cell_type": "markdown",
   "metadata": {},
   "source": [
    "What's different?\n",
    "1. for the last entry, `.loc` is inclusive, `.iloc` is not.  \n",
    "2. Also, `.iloc` is doing what we'd expect from python with indexing -- 0 is the first entry, 1 is the second....  On the other hand, \n",
    "\n",
    "These may all seem inconsistent, but when you think about the application of `.iloc`, you'd want to to follow usual python conventions.  But `.loc`, to me at least, feels intuitively better -- especially when you have non-numeric values to identify position -- if it's inclusive.  "
   ]
  },
  {
   "cell_type": "markdown",
   "metadata": {},
   "source": [
    "### Logical indexing\n",
    "Logical indexing is an extremely powerful way to pull data out of a frame.  \n",
    "For example, with the stacked data frame, let's pull out only wind generation.\n",
    "\n",
    "First, I'll show you a boolean series based on comparisons to the 'Source' data column:"
   ]
  },
  {
   "cell_type": "code",
   "execution_count": 32,
   "metadata": {},
   "outputs": [
    {
     "data": {
      "text/plain": [
       "2017-08-29 00:00:00    False\n",
       "2017-08-29 00:00:00    False\n",
       "2017-08-29 00:00:00    False\n",
       "2017-08-29 00:00:00    False\n",
       "2017-08-29 00:00:00     True\n",
       "Name: Source, dtype: bool"
      ]
     },
     "execution_count": 32,
     "metadata": {},
     "output_type": "execute_result"
    }
   ],
   "source": [
    "wind_indx = (caiso_data_stack['Source']=='WIND TOTAL')\n",
    "wind_indx.head()"
   ]
  },
  {
   "cell_type": "markdown",
   "metadata": {},
   "source": [
    "Now we can embed that inside the `.loc` method:"
   ]
  },
  {
   "cell_type": "code",
   "execution_count": 33,
   "metadata": {},
   "outputs": [
    {
     "data": {
      "text/html": [
       "<div>\n",
       "<style scoped>\n",
       "    .dataframe tbody tr th:only-of-type {\n",
       "        vertical-align: middle;\n",
       "    }\n",
       "\n",
       "    .dataframe tbody tr th {\n",
       "        vertical-align: top;\n",
       "    }\n",
       "\n",
       "    .dataframe thead th {\n",
       "        text-align: right;\n",
       "    }\n",
       "</style>\n",
       "<table border=\"1\" class=\"dataframe\">\n",
       "  <thead>\n",
       "    <tr style=\"text-align: right;\">\n",
       "      <th></th>\n",
       "      <th>Source</th>\n",
       "      <th>MWh</th>\n",
       "    </tr>\n",
       "  </thead>\n",
       "  <tbody>\n",
       "    <tr>\n",
       "      <th>2017-08-29 00:00:00</th>\n",
       "      <td>WIND TOTAL</td>\n",
       "      <td>1551</td>\n",
       "    </tr>\n",
       "    <tr>\n",
       "      <th>2017-08-29 01:00:00</th>\n",
       "      <td>WIND TOTAL</td>\n",
       "      <td>1556</td>\n",
       "    </tr>\n",
       "    <tr>\n",
       "      <th>2017-08-29 02:00:00</th>\n",
       "      <td>WIND TOTAL</td>\n",
       "      <td>1325</td>\n",
       "    </tr>\n",
       "    <tr>\n",
       "      <th>2017-08-29 03:00:00</th>\n",
       "      <td>WIND TOTAL</td>\n",
       "      <td>1158</td>\n",
       "    </tr>\n",
       "    <tr>\n",
       "      <th>2017-08-29 04:00:00</th>\n",
       "      <td>WIND TOTAL</td>\n",
       "      <td>1209</td>\n",
       "    </tr>\n",
       "  </tbody>\n",
       "</table>\n",
       "</div>"
      ],
      "text/plain": [
       "                         Source   MWh\n",
       "2017-08-29 00:00:00  WIND TOTAL  1551\n",
       "2017-08-29 01:00:00  WIND TOTAL  1556\n",
       "2017-08-29 02:00:00  WIND TOTAL  1325\n",
       "2017-08-29 03:00:00  WIND TOTAL  1158\n",
       "2017-08-29 04:00:00  WIND TOTAL  1209"
      ]
     },
     "execution_count": 33,
     "metadata": {},
     "output_type": "execute_result"
    }
   ],
   "source": [
    "caiso_data_stack.loc[wind_indx,:].head()"
   ]
  },
  {
   "cell_type": "markdown",
   "metadata": {},
   "source": [
    "### Answering our question\n",
    "What hour had the lowest average hourly wind generation?\n",
    "\n",
    "First let's import numpy"
   ]
  },
  {
   "cell_type": "code",
   "execution_count": 34,
   "metadata": {},
   "outputs": [],
   "source": [
    "import numpy as np"
   ]
  },
  {
   "cell_type": "code",
   "execution_count": 35,
   "metadata": {},
   "outputs": [],
   "source": [
    "wind = caiso_data_stack.loc[caiso_data_stack['Source']=='WIND TOTAL',:]"
   ]
  },
  {
   "cell_type": "markdown",
   "metadata": {},
   "source": [
    "What is the data structure of `wind`?"
   ]
  },
  {
   "cell_type": "code",
   "execution_count": 36,
   "metadata": {},
   "outputs": [
    {
     "data": {
      "text/plain": [
       "pandas.core.frame.DataFrame"
      ]
     },
     "execution_count": 36,
     "metadata": {},
     "output_type": "execute_result"
    }
   ],
   "source": [
    "type(wind)"
   ]
  },
  {
   "cell_type": "markdown",
   "metadata": {},
   "source": [
    "Next week we'll use pivots to do this better, but for now let's use a for loop to get information by hour. \n",
    "\n",
    "First thing to do is figure out how to get the hour out of the index.\n",
    "\n",
    "[`datetime.strptime`](https://docs.python.org/2/library/datetime.html#strftime-strptime-behavior) is useful for this if you're working on individual dates.\n",
    "\n",
    "But `pd.to_datetime` is even better, especially if you're working on a lot of values in a list (or as the case will be, values in a pandas series)."
   ]
  },
  {
   "cell_type": "code",
   "execution_count": 37,
   "metadata": {},
   "outputs": [
    {
     "data": {
      "text/plain": [
       "Int64Index([ 0,  1,  2,  3,  4,  5,  6,  7,  8,  9,\n",
       "            ...\n",
       "            14, 15, 16, 17, 18, 19, 20, 21, 22, 23],\n",
       "           dtype='int64', length=8760)"
      ]
     },
     "execution_count": 37,
     "metadata": {},
     "output_type": "execute_result"
    }
   ],
   "source": [
    "windex = pd.to_datetime(wind.index)\n",
    "windex.hour"
   ]
  },
  {
   "cell_type": "code",
   "execution_count": 38,
   "metadata": {},
   "outputs": [
    {
     "data": {
      "text/plain": [
       "[MWh    2173.268493\n",
       " dtype: float64,\n",
       " MWh    2120.778082\n",
       " dtype: float64,\n",
       " MWh    2051.832877\n",
       " dtype: float64,\n",
       " MWh    1973.969863\n",
       " dtype: float64,\n",
       " MWh    1881.463014\n",
       " dtype: float64,\n",
       " MWh    1772.484932\n",
       " dtype: float64,\n",
       " MWh    1646.630137\n",
       " dtype: float64,\n",
       " MWh    1490.194521\n",
       " dtype: float64,\n",
       " MWh    1363.40274\n",
       " dtype: float64,\n",
       " MWh    1290.512329\n",
       " dtype: float64,\n",
       " MWh    1250.408219\n",
       " dtype: float64,\n",
       " MWh    1247.643836\n",
       " dtype: float64,\n",
       " MWh    1308.287671\n",
       " dtype: float64,\n",
       " MWh    1412.410959\n",
       " dtype: float64,\n",
       " MWh    1561.60274\n",
       " dtype: float64,\n",
       " MWh    1726.652055\n",
       " dtype: float64,\n",
       " MWh    1878.441096\n",
       " dtype: float64,\n",
       " MWh    2005.934247\n",
       " dtype: float64,\n",
       " MWh    2109.093151\n",
       " dtype: float64,\n",
       " MWh    2181.361644\n",
       " dtype: float64,\n",
       " MWh    2229.408219\n",
       " dtype: float64,\n",
       " MWh    2231.687671\n",
       " dtype: float64,\n",
       " MWh    2220.109589\n",
       " dtype: float64,\n",
       " MWh    2216.526027\n",
       " dtype: float64]"
      ]
     },
     "execution_count": 38,
     "metadata": {},
     "output_type": "execute_result"
    }
   ],
   "source": [
    "wind_ave = [] # initalizes a list to populate\n",
    "for i in range(0,24):\n",
    "    wind_ave.append(np.mean(wind.loc[windex.hour == i,:]))\n",
    "wind_ave"
   ]
  },
  {
   "cell_type": "code",
   "execution_count": 39,
   "metadata": {},
   "outputs": [],
   "source": [
    "import matplotlib.pyplot as plt"
   ]
  },
  {
   "cell_type": "code",
   "execution_count": 40,
   "metadata": {
    "scrolled": true
   },
   "outputs": [
    {
     "data": {
      "text/plain": [
       "[<matplotlib.lines.Line2D at 0x7fd3bc639400>]"
      ]
     },
     "execution_count": 40,
     "metadata": {},
     "output_type": "execute_result"
    },
    {
     "data": {
      "image/png": "[encoded data removed]",
      "text/plain": [
       "<Figure size 432x288 with 1 Axes>"
      ]
     },
     "metadata": {
      "needs_background": "light"
     },
     "output_type": "display_data"
    }
   ],
   "source": [
    "plt.plot(wind_ave)"
   ]
  },
  {
   "cell_type": "markdown",
   "metadata": {},
   "source": [
    "We can see pretty clearly that the min is 10 or 11...let's dig a little more.\n",
    "\n",
    "One way to do this is to drop the data into a data frame and then *sort* the data frame."
   ]
  },
  {
   "cell_type": "code",
   "execution_count": 41,
   "metadata": {},
   "outputs": [
    {
     "data": {
      "text/html": [
       "<div>\n",
       "<style scoped>\n",
       "    .dataframe tbody tr th:only-of-type {\n",
       "        vertical-align: middle;\n",
       "    }\n",
       "\n",
       "    .dataframe tbody tr th {\n",
       "        vertical-align: top;\n",
       "    }\n",
       "\n",
       "    .dataframe thead th {\n",
       "        text-align: right;\n",
       "    }\n",
       "</style>\n",
       "<table border=\"1\" class=\"dataframe\">\n",
       "  <thead>\n",
       "    <tr style=\"text-align: right;\">\n",
       "      <th></th>\n",
       "      <th>MWh</th>\n",
       "    </tr>\n",
       "  </thead>\n",
       "  <tbody>\n",
       "    <tr>\n",
       "      <th>0</th>\n",
       "      <td>2173.268493</td>\n",
       "    </tr>\n",
       "    <tr>\n",
       "      <th>1</th>\n",
       "      <td>2120.778082</td>\n",
       "    </tr>\n",
       "    <tr>\n",
       "      <th>2</th>\n",
       "      <td>2051.832877</td>\n",
       "    </tr>\n",
       "    <tr>\n",
       "      <th>3</th>\n",
       "      <td>1973.969863</td>\n",
       "    </tr>\n",
       "    <tr>\n",
       "      <th>4</th>\n",
       "      <td>1881.463014</td>\n",
       "    </tr>\n",
       "    <tr>\n",
       "      <th>5</th>\n",
       "      <td>1772.484932</td>\n",
       "    </tr>\n",
       "    <tr>\n",
       "      <th>6</th>\n",
       "      <td>1646.630137</td>\n",
       "    </tr>\n",
       "    <tr>\n",
       "      <th>7</th>\n",
       "      <td>1490.194521</td>\n",
       "    </tr>\n",
       "    <tr>\n",
       "      <th>8</th>\n",
       "      <td>1363.402740</td>\n",
       "    </tr>\n",
       "    <tr>\n",
       "      <th>9</th>\n",
       "      <td>1290.512329</td>\n",
       "    </tr>\n",
       "    <tr>\n",
       "      <th>10</th>\n",
       "      <td>1250.408219</td>\n",
       "    </tr>\n",
       "    <tr>\n",
       "      <th>11</th>\n",
       "      <td>1247.643836</td>\n",
       "    </tr>\n",
       "    <tr>\n",
       "      <th>12</th>\n",
       "      <td>1308.287671</td>\n",
       "    </tr>\n",
       "    <tr>\n",
       "      <th>13</th>\n",
       "      <td>1412.410959</td>\n",
       "    </tr>\n",
       "    <tr>\n",
       "      <th>14</th>\n",
       "      <td>1561.602740</td>\n",
       "    </tr>\n",
       "    <tr>\n",
       "      <th>15</th>\n",
       "      <td>1726.652055</td>\n",
       "    </tr>\n",
       "    <tr>\n",
       "      <th>16</th>\n",
       "      <td>1878.441096</td>\n",
       "    </tr>\n",
       "    <tr>\n",
       "      <th>17</th>\n",
       "      <td>2005.934247</td>\n",
       "    </tr>\n",
       "    <tr>\n",
       "      <th>18</th>\n",
       "      <td>2109.093151</td>\n",
       "    </tr>\n",
       "    <tr>\n",
       "      <th>19</th>\n",
       "      <td>2181.361644</td>\n",
       "    </tr>\n",
       "    <tr>\n",
       "      <th>20</th>\n",
       "      <td>2229.408219</td>\n",
       "    </tr>\n",
       "    <tr>\n",
       "      <th>21</th>\n",
       "      <td>2231.687671</td>\n",
       "    </tr>\n",
       "    <tr>\n",
       "      <th>22</th>\n",
       "      <td>2220.109589</td>\n",
       "    </tr>\n",
       "    <tr>\n",
       "      <th>23</th>\n",
       "      <td>2216.526027</td>\n",
       "    </tr>\n",
       "  </tbody>\n",
       "</table>\n",
       "</div>"
      ],
      "text/plain": [
       "            MWh\n",
       "0   2173.268493\n",
       "1   2120.778082\n",
       "2   2051.832877\n",
       "3   1973.969863\n",
       "4   1881.463014\n",
       "5   1772.484932\n",
       "6   1646.630137\n",
       "7   1490.194521\n",
       "8   1363.402740\n",
       "9   1290.512329\n",
       "10  1250.408219\n",
       "11  1247.643836\n",
       "12  1308.287671\n",
       "13  1412.410959\n",
       "14  1561.602740\n",
       "15  1726.652055\n",
       "16  1878.441096\n",
       "17  2005.934247\n",
       "18  2109.093151\n",
       "19  2181.361644\n",
       "20  2229.408219\n",
       "21  2231.687671\n",
       "22  2220.109589\n",
       "23  2216.526027"
      ]
     },
     "execution_count": 41,
     "metadata": {},
     "output_type": "execute_result"
    }
   ],
   "source": [
    "df_wind = pd.DataFrame(wind_ave)\n",
    "df_wind"
   ]
  },
  {
   "cell_type": "markdown",
   "metadata": {},
   "source": [
    "I'm going to be adding more MWh values to the data frame in just a moment, so let's be clear that this is the average"
   ]
  },
  {
   "cell_type": "code",
   "execution_count": 42,
   "metadata": {},
   "outputs": [],
   "source": [
    "df_wind.columns = ['Average MWh']"
   ]
  },
  {
   "cell_type": "code",
   "execution_count": 43,
   "metadata": {},
   "outputs": [
    {
     "data": {
      "text/html": [
       "<div>\n",
       "<style scoped>\n",
       "    .dataframe tbody tr th:only-of-type {\n",
       "        vertical-align: middle;\n",
       "    }\n",
       "\n",
       "    .dataframe tbody tr th {\n",
       "        vertical-align: top;\n",
       "    }\n",
       "\n",
       "    .dataframe thead th {\n",
       "        text-align: right;\n",
       "    }\n",
       "</style>\n",
       "<table border=\"1\" class=\"dataframe\">\n",
       "  <thead>\n",
       "    <tr style=\"text-align: right;\">\n",
       "      <th></th>\n",
       "      <th>Average MWh</th>\n",
       "    </tr>\n",
       "  </thead>\n",
       "  <tbody>\n",
       "    <tr>\n",
       "      <th>11</th>\n",
       "      <td>1247.643836</td>\n",
       "    </tr>\n",
       "    <tr>\n",
       "      <th>10</th>\n",
       "      <td>1250.408219</td>\n",
       "    </tr>\n",
       "    <tr>\n",
       "      <th>9</th>\n",
       "      <td>1290.512329</td>\n",
       "    </tr>\n",
       "    <tr>\n",
       "      <th>12</th>\n",
       "      <td>1308.287671</td>\n",
       "    </tr>\n",
       "    <tr>\n",
       "      <th>8</th>\n",
       "      <td>1363.402740</td>\n",
       "    </tr>\n",
       "  </tbody>\n",
       "</table>\n",
       "</div>"
      ],
      "text/plain": [
       "    Average MWh\n",
       "11  1247.643836\n",
       "10  1250.408219\n",
       "9   1290.512329\n",
       "12  1308.287671\n",
       "8   1363.402740"
      ]
     },
     "execution_count": 43,
     "metadata": {},
     "output_type": "execute_result"
    }
   ],
   "source": [
    "df_wind.sort_values(by='Average MWh',ascending=True).head()"
   ]
  },
  {
   "cell_type": "markdown",
   "metadata": {},
   "source": [
    "Ok -- so it looks as though mid-day is the minimum *average*.  \n",
    "\n",
    "But what's the range?"
   ]
  },
  {
   "cell_type": "code",
   "execution_count": 44,
   "metadata": {},
   "outputs": [],
   "source": [
    "wind_min = [] # initalizes a list to populate\n",
    "wind_max = [] # initalizes a list to populate\n",
    "for i in range(0,24):\n",
    "    wind_min.append(np.min(wind.loc[windex.hour == i,:]))\n",
    "    wind_max.append(np.max(wind.loc[windex.hour == i,:]))"
   ]
  },
  {
   "cell_type": "code",
   "execution_count": 45,
   "metadata": {},
   "outputs": [
    {
     "data": {
      "text/plain": [
       "Source    WIND TOTAL\n",
       "MWh             4795\n",
       "dtype: object"
      ]
     },
     "execution_count": 45,
     "metadata": {},
     "output_type": "execute_result"
    }
   ],
   "source": [
    "wind_max[0]"
   ]
  },
  {
   "cell_type": "code",
   "execution_count": 46,
   "metadata": {},
   "outputs": [],
   "source": [
    "df_wind['min MWh']=pd.DataFrame(wind_min)['MWh']\n",
    "df_wind['max MWh']=pd.DataFrame(wind_max)['MWh']"
   ]
  },
  {
   "cell_type": "code",
   "execution_count": 47,
   "metadata": {},
   "outputs": [
    {
     "data": {
      "text/html": [
       "<div>\n",
       "<style scoped>\n",
       "    .dataframe tbody tr th:only-of-type {\n",
       "        vertical-align: middle;\n",
       "    }\n",
       "\n",
       "    .dataframe tbody tr th {\n",
       "        vertical-align: top;\n",
       "    }\n",
       "\n",
       "    .dataframe thead th {\n",
       "        text-align: right;\n",
       "    }\n",
       "</style>\n",
       "<table border=\"1\" class=\"dataframe\">\n",
       "  <thead>\n",
       "    <tr style=\"text-align: right;\">\n",
       "      <th></th>\n",
       "      <th>Average MWh</th>\n",
       "      <th>min MWh</th>\n",
       "      <th>max MWh</th>\n",
       "    </tr>\n",
       "  </thead>\n",
       "  <tbody>\n",
       "    <tr>\n",
       "      <th>0</th>\n",
       "      <td>2173.268493</td>\n",
       "      <td>49</td>\n",
       "      <td>4795</td>\n",
       "    </tr>\n",
       "    <tr>\n",
       "      <th>1</th>\n",
       "      <td>2120.778082</td>\n",
       "      <td>33</td>\n",
       "      <td>4678</td>\n",
       "    </tr>\n",
       "    <tr>\n",
       "      <th>2</th>\n",
       "      <td>2051.832877</td>\n",
       "      <td>33</td>\n",
       "      <td>4696</td>\n",
       "    </tr>\n",
       "    <tr>\n",
       "      <th>3</th>\n",
       "      <td>1973.969863</td>\n",
       "      <td>36</td>\n",
       "      <td>4537</td>\n",
       "    </tr>\n",
       "    <tr>\n",
       "      <th>4</th>\n",
       "      <td>1881.463014</td>\n",
       "      <td>25</td>\n",
       "      <td>4377</td>\n",
       "    </tr>\n",
       "    <tr>\n",
       "      <th>5</th>\n",
       "      <td>1772.484932</td>\n",
       "      <td>17</td>\n",
       "      <td>4223</td>\n",
       "    </tr>\n",
       "    <tr>\n",
       "      <th>6</th>\n",
       "      <td>1646.630137</td>\n",
       "      <td>15</td>\n",
       "      <td>4161</td>\n",
       "    </tr>\n",
       "    <tr>\n",
       "      <th>7</th>\n",
       "      <td>1490.194521</td>\n",
       "      <td>29</td>\n",
       "      <td>3873</td>\n",
       "    </tr>\n",
       "    <tr>\n",
       "      <th>8</th>\n",
       "      <td>1363.402740</td>\n",
       "      <td>6</td>\n",
       "      <td>3905</td>\n",
       "    </tr>\n",
       "    <tr>\n",
       "      <th>9</th>\n",
       "      <td>1290.512329</td>\n",
       "      <td>10</td>\n",
       "      <td>3904</td>\n",
       "    </tr>\n",
       "    <tr>\n",
       "      <th>10</th>\n",
       "      <td>1250.408219</td>\n",
       "      <td>10</td>\n",
       "      <td>4518</td>\n",
       "    </tr>\n",
       "    <tr>\n",
       "      <th>11</th>\n",
       "      <td>1247.643836</td>\n",
       "      <td>8</td>\n",
       "      <td>4611</td>\n",
       "    </tr>\n",
       "    <tr>\n",
       "      <th>12</th>\n",
       "      <td>1308.287671</td>\n",
       "      <td>5</td>\n",
       "      <td>4561</td>\n",
       "    </tr>\n",
       "    <tr>\n",
       "      <th>13</th>\n",
       "      <td>1412.410959</td>\n",
       "      <td>0</td>\n",
       "      <td>4625</td>\n",
       "    </tr>\n",
       "    <tr>\n",
       "      <th>14</th>\n",
       "      <td>1561.602740</td>\n",
       "      <td>0</td>\n",
       "      <td>4876</td>\n",
       "    </tr>\n",
       "    <tr>\n",
       "      <th>15</th>\n",
       "      <td>1726.652055</td>\n",
       "      <td>0</td>\n",
       "      <td>4850</td>\n",
       "    </tr>\n",
       "    <tr>\n",
       "      <th>16</th>\n",
       "      <td>1878.441096</td>\n",
       "      <td>0</td>\n",
       "      <td>5006</td>\n",
       "    </tr>\n",
       "    <tr>\n",
       "      <th>17</th>\n",
       "      <td>2005.934247</td>\n",
       "      <td>0</td>\n",
       "      <td>4898</td>\n",
       "    </tr>\n",
       "    <tr>\n",
       "      <th>18</th>\n",
       "      <td>2109.093151</td>\n",
       "      <td>0</td>\n",
       "      <td>4925</td>\n",
       "    </tr>\n",
       "    <tr>\n",
       "      <th>19</th>\n",
       "      <td>2181.361644</td>\n",
       "      <td>2</td>\n",
       "      <td>4855</td>\n",
       "    </tr>\n",
       "    <tr>\n",
       "      <th>20</th>\n",
       "      <td>2229.408219</td>\n",
       "      <td>0</td>\n",
       "      <td>4953</td>\n",
       "    </tr>\n",
       "    <tr>\n",
       "      <th>21</th>\n",
       "      <td>2231.687671</td>\n",
       "      <td>0</td>\n",
       "      <td>4937</td>\n",
       "    </tr>\n",
       "    <tr>\n",
       "      <th>22</th>\n",
       "      <td>2220.109589</td>\n",
       "      <td>18</td>\n",
       "      <td>4887</td>\n",
       "    </tr>\n",
       "    <tr>\n",
       "      <th>23</th>\n",
       "      <td>2216.526027</td>\n",
       "      <td>62</td>\n",
       "      <td>4949</td>\n",
       "    </tr>\n",
       "  </tbody>\n",
       "</table>\n",
       "</div>"
      ],
      "text/plain": [
       "    Average MWh  min MWh  max MWh\n",
       "0   2173.268493       49     4795\n",
       "1   2120.778082       33     4678\n",
       "2   2051.832877       33     4696\n",
       "3   1973.969863       36     4537\n",
       "4   1881.463014       25     4377\n",
       "5   1772.484932       17     4223\n",
       "6   1646.630137       15     4161\n",
       "7   1490.194521       29     3873\n",
       "8   1363.402740        6     3905\n",
       "9   1290.512329       10     3904\n",
       "10  1250.408219       10     4518\n",
       "11  1247.643836        8     4611\n",
       "12  1308.287671        5     4561\n",
       "13  1412.410959        0     4625\n",
       "14  1561.602740        0     4876\n",
       "15  1726.652055        0     4850\n",
       "16  1878.441096        0     5006\n",
       "17  2005.934247        0     4898\n",
       "18  2109.093151        0     4925\n",
       "19  2181.361644        2     4855\n",
       "20  2229.408219        0     4953\n",
       "21  2231.687671        0     4937\n",
       "22  2220.109589       18     4887\n",
       "23  2216.526027       62     4949"
      ]
     },
     "execution_count": 47,
     "metadata": {},
     "output_type": "execute_result"
    }
   ],
   "source": [
    "df_wind"
   ]
  },
  {
   "cell_type": "code",
   "execution_count": 48,
   "metadata": {},
   "outputs": [
    {
     "data": {
      "text/plain": [
       "[<matplotlib.lines.Line2D at 0x7fd3bc6a2d90>,\n",
       " <matplotlib.lines.Line2D at 0x7fd3bc6a2eb0>,\n",
       " <matplotlib.lines.Line2D at 0x7fd3bc6a2f70>]"
      ]
     },
     "execution_count": 48,
     "metadata": {},
     "output_type": "execute_result"
    },
    {
     "data": {
      "image/png": "[encoded data removed]",
      "text/plain": [
       "<Figure size 432x288 with 1 Axes>"
      ]
     },
     "metadata": {
      "needs_background": "light"
     },
     "output_type": "display_data"
    }
   ],
   "source": [
    "plt.plot(df_wind)"
   ]
  },
  {
   "cell_type": "markdown",
   "metadata": {},
   "source": [
    "### Challenge question: What *month* had the highest wind production in the last year?"
   ]
  }
 ],
 "metadata": {
  "kernelspec": {
   "display_name": "Python 3",
   "language": "python",
   "name": "python3"
  },
  "language_info": {
   "codemirror_mode": {
    "name": "ipython",
    "version": 3
   },
   "file_extension": ".py",
   "mimetype": "text/x-python",
   "name": "python",
   "nbconvert_exporter": "python",
   "pygments_lexer": "ipython3",
   "version": "3.8.3"
  }
 },
 "nbformat": 4,
 "nbformat_minor": 2
}
