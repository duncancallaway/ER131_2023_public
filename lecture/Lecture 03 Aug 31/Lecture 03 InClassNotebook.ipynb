{
 "cells": [
  {
   "cell_type": "markdown",
   "id": "6e043a45",
   "metadata": {},
   "source": [
    "I'm going to need this syntax a little later: <img src=\"dataframe_anatomy.png\"/>"
   ]
  },
  {
   "cell_type": "markdown",
   "id": "5c7635ee",
   "metadata": {},
   "source": [
    "# Object, method, function?\n"
   ]
  },
  {
   "cell_type": "code",
   "execution_count": null,
   "id": "5c6568f7",
   "metadata": {},
   "outputs": [],
   "source": []
  },
  {
   "cell_type": "markdown",
   "id": "65b15267",
   "metadata": {},
   "source": [
    "# Data Types\n",
    "string\n",
    "boolean\n",
    "int\n",
    "float"
   ]
  },
  {
   "cell_type": "code",
   "execution_count": 5,
   "id": "ed8f72ee",
   "metadata": {},
   "outputs": [
    {
     "data": {
      "text/plain": [
       "str"
      ]
     },
     "execution_count": 5,
     "metadata": {},
     "output_type": "execute_result"
    }
   ],
   "source": [
    "name = 'Imogen'\n",
    "type(name)"
   ]
  },
  {
   "cell_type": "code",
   "execution_count": 6,
   "id": "b3782d16",
   "metadata": {},
   "outputs": [
    {
     "data": {
      "text/plain": [
       "'o'"
      ]
     },
     "execution_count": 6,
     "metadata": {},
     "output_type": "execute_result"
    }
   ],
   "source": [
    "name[2]"
   ]
  },
  {
   "cell_type": "code",
   "execution_count": 8,
   "id": "aa9810d0",
   "metadata": {},
   "outputs": [
    {
     "ename": "NameError",
     "evalue": "name 'y' is not defined",
     "output_type": "error",
     "traceback": [
      "\u001b[0;31m---------------------------------------------------------------------------\u001b[0m",
      "\u001b[0;31mNameError\u001b[0m                                 Traceback (most recent call last)",
      "Cell \u001b[0;32mIn[8], line 1\u001b[0m\n\u001b[0;32m----> 1\u001b[0m name[\u001b[38;5;241m4\u001b[39m] \u001b[38;5;241m=\u001b[39m \u001b[43my\u001b[49m\n",
      "\u001b[0;31mNameError\u001b[0m: name 'y' is not defined"
     ]
    }
   ],
   "source": [
    "name[4] = y"
   ]
  },
  {
   "cell_type": "code",
   "execution_count": 12,
   "id": "bac12a09",
   "metadata": {},
   "outputs": [
    {
     "data": {
      "text/plain": [
       "'Imogyn'"
      ]
     },
     "execution_count": 12,
     "metadata": {},
     "output_type": "execute_result"
    }
   ],
   "source": [
    "name[0:4]+'y'+name[5]"
   ]
  },
  {
   "cell_type": "code",
   "execution_count": 13,
   "id": "a9b394f8",
   "metadata": {},
   "outputs": [
    {
     "data": {
      "text/plain": [
       "float"
      ]
     },
     "execution_count": 13,
     "metadata": {},
     "output_type": "execute_result"
    }
   ],
   "source": [
    "x = 0.34\n",
    "type(x)"
   ]
  },
  {
   "cell_type": "code",
   "execution_count": 15,
   "id": "55393ff1",
   "metadata": {},
   "outputs": [
    {
     "data": {
      "text/plain": [
       "int"
      ]
     },
     "execution_count": 15,
     "metadata": {},
     "output_type": "execute_result"
    }
   ],
   "source": [
    "i =1\n",
    "type(i)"
   ]
  },
  {
   "cell_type": "code",
   "execution_count": 16,
   "id": "dd9ea551",
   "metadata": {},
   "outputs": [
    {
     "data": {
      "text/plain": [
       "bool"
      ]
     },
     "execution_count": 16,
     "metadata": {},
     "output_type": "execute_result"
    }
   ],
   "source": [
    "ans = True\n",
    "type(ans)"
   ]
  },
  {
   "cell_type": "markdown",
   "id": "000a179a",
   "metadata": {},
   "source": [
    "# structures\n",
    "list\n",
    "tuple\n",
    "dict\n",
    "set"
   ]
  },
  {
   "cell_type": "markdown",
   "id": "0d4b843e",
   "metadata": {},
   "source": [
    "## List"
   ]
  },
  {
   "cell_type": "code",
   "execution_count": 18,
   "id": "08a22123",
   "metadata": {},
   "outputs": [
    {
     "data": {
      "text/plain": [
       "[1, 5, 9, 16, 25]"
      ]
     },
     "execution_count": 18,
     "metadata": {},
     "output_type": "execute_result"
    }
   ],
   "source": [
    "square = [1, 5, 9, 16, 25]\n",
    "square"
   ]
  },
  {
   "cell_type": "code",
   "execution_count": 19,
   "id": "b1994d58",
   "metadata": {},
   "outputs": [
    {
     "data": {
      "text/plain": [
       "1"
      ]
     },
     "execution_count": 19,
     "metadata": {},
     "output_type": "execute_result"
    }
   ],
   "source": [
    "square[0]"
   ]
  },
  {
   "cell_type": "code",
   "execution_count": 20,
   "id": "3907a6a3",
   "metadata": {},
   "outputs": [],
   "source": [
    "square[1] =4"
   ]
  },
  {
   "cell_type": "code",
   "execution_count": 21,
   "id": "29c3945c",
   "metadata": {},
   "outputs": [
    {
     "data": {
      "text/plain": [
       "[1, 4, 9, 16, 25]"
      ]
     },
     "execution_count": 21,
     "metadata": {},
     "output_type": "execute_result"
    }
   ],
   "source": [
    "square"
   ]
  },
  {
   "cell_type": "code",
   "execution_count": 23,
   "id": "f688573d",
   "metadata": {},
   "outputs": [
    {
     "data": {
      "text/plain": [
       "[1, 4, 9, 16, 25, 36]"
      ]
     },
     "execution_count": 23,
     "metadata": {},
     "output_type": "execute_result"
    }
   ],
   "source": [
    "square + [36]"
   ]
  },
  {
   "cell_type": "code",
   "execution_count": 24,
   "id": "090d4ed1",
   "metadata": {},
   "outputs": [],
   "source": [
    "square.append(49)"
   ]
  },
  {
   "cell_type": "code",
   "execution_count": 25,
   "id": "b45981aa",
   "metadata": {},
   "outputs": [
    {
     "data": {
      "text/plain": [
       "[1, 4, 9, 16, 25, 49]"
      ]
     },
     "execution_count": 25,
     "metadata": {},
     "output_type": "execute_result"
    }
   ],
   "source": [
    "square"
   ]
  },
  {
   "cell_type": "code",
   "execution_count": 26,
   "id": "74eabf29",
   "metadata": {},
   "outputs": [
    {
     "data": {
      "text/plain": [
       "[[1, 2, 3], [4, 5]]"
      ]
     },
     "execution_count": 26,
     "metadata": {},
     "output_type": "execute_result"
    }
   ],
   "source": [
    "x = [1,2,3]\n",
    "y = [4,5]\n",
    "A = [x,y]\n",
    "A"
   ]
  },
  {
   "cell_type": "code",
   "execution_count": 28,
   "id": "54f5b7f1",
   "metadata": {},
   "outputs": [
    {
     "data": {
      "text/plain": [
       "5"
      ]
     },
     "execution_count": 28,
     "metadata": {},
     "output_type": "execute_result"
    }
   ],
   "source": [
    "A[1][1]"
   ]
  },
  {
   "cell_type": "markdown",
   "id": "23636be0",
   "metadata": {},
   "source": [
    "## Tuple"
   ]
  },
  {
   "cell_type": "code",
   "execution_count": 29,
   "id": "7c104304",
   "metadata": {},
   "outputs": [],
   "source": [
    "B = (1,2,3)"
   ]
  },
  {
   "cell_type": "code",
   "execution_count": 30,
   "id": "ab07a0b3",
   "metadata": {},
   "outputs": [
    {
     "data": {
      "text/plain": [
       "3"
      ]
     },
     "execution_count": 30,
     "metadata": {},
     "output_type": "execute_result"
    }
   ],
   "source": [
    "B[2]"
   ]
  },
  {
   "cell_type": "code",
   "execution_count": 31,
   "id": "b4b79d23",
   "metadata": {},
   "outputs": [
    {
     "ename": "TypeError",
     "evalue": "'tuple' object does not support item assignment",
     "output_type": "error",
     "traceback": [
      "\u001b[0;31m---------------------------------------------------------------------------\u001b[0m",
      "\u001b[0;31mTypeError\u001b[0m                                 Traceback (most recent call last)",
      "Cell \u001b[0;32mIn[31], line 1\u001b[0m\n\u001b[0;32m----> 1\u001b[0m \u001b[43mB\u001b[49m\u001b[43m[\u001b[49m\u001b[38;5;241;43m2\u001b[39;49m\u001b[43m]\u001b[49m \u001b[38;5;241m=\u001b[39m\u001b[38;5;241m2\u001b[39m\n",
      "\u001b[0;31mTypeError\u001b[0m: 'tuple' object does not support item assignment"
     ]
    }
   ],
   "source": [
    "B[2] =2"
   ]
  },
  {
   "cell_type": "markdown",
   "id": "3705bfff",
   "metadata": {},
   "source": [
    "## Set"
   ]
  },
  {
   "cell_type": "code",
   "execution_count": 32,
   "id": "76856dd0",
   "metadata": {},
   "outputs": [],
   "source": [
    "basket ={'chocolate','peaches','tomatoes','chocolate'}"
   ]
  },
  {
   "cell_type": "code",
   "execution_count": 33,
   "id": "5723ff63",
   "metadata": {},
   "outputs": [
    {
     "data": {
      "text/plain": [
       "{'chocolate', 'peaches', 'tomatoes'}"
      ]
     },
     "execution_count": 33,
     "metadata": {},
     "output_type": "execute_result"
    }
   ],
   "source": [
    "basket"
   ]
  },
  {
   "cell_type": "code",
   "execution_count": 34,
   "id": "8d1f8b41",
   "metadata": {},
   "outputs": [
    {
     "ename": "TypeError",
     "evalue": "'set' object is not subscriptable",
     "output_type": "error",
     "traceback": [
      "\u001b[0;31m---------------------------------------------------------------------------\u001b[0m",
      "\u001b[0;31mTypeError\u001b[0m                                 Traceback (most recent call last)",
      "Cell \u001b[0;32mIn[34], line 1\u001b[0m\n\u001b[0;32m----> 1\u001b[0m \u001b[43mbasket\u001b[49m\u001b[43m[\u001b[49m\u001b[38;5;241;43m1\u001b[39;49m\u001b[43m]\u001b[49m\n",
      "\u001b[0;31mTypeError\u001b[0m: 'set' object is not subscriptable"
     ]
    }
   ],
   "source": [
    "basket[1]"
   ]
  },
  {
   "cell_type": "markdown",
   "id": "08716bc1",
   "metadata": {},
   "source": [
    "## Dict"
   ]
  },
  {
   "cell_type": "code",
   "execution_count": 37,
   "id": "7e49d5a8",
   "metadata": {},
   "outputs": [],
   "source": [
    "cars ={'prius':'toyota','bolt':'chevy','civic':'honda','accord':'honda'}"
   ]
  },
  {
   "cell_type": "code",
   "execution_count": 39,
   "id": "451f3e1f",
   "metadata": {},
   "outputs": [
    {
     "data": {
      "text/plain": [
       "'honda'"
      ]
     },
     "execution_count": 39,
     "metadata": {},
     "output_type": "execute_result"
    }
   ],
   "source": [
    "cars['accord']"
   ]
  },
  {
   "cell_type": "code",
   "execution_count": 43,
   "id": "17a5f887",
   "metadata": {},
   "outputs": [],
   "source": [
    "cars ={'prius':'toyota','camry':'toyota','bolt':'chevy','civic':'honda','accord':'honda','accord':'toyota'}"
   ]
  },
  {
   "cell_type": "code",
   "execution_count": 44,
   "id": "d2d8965c",
   "metadata": {},
   "outputs": [
    {
     "data": {
      "text/plain": [
       "'toyota'"
      ]
     },
     "execution_count": 44,
     "metadata": {},
     "output_type": "execute_result"
    }
   ],
   "source": [
    "cars['camry']"
   ]
  },
  {
   "cell_type": "code",
   "execution_count": 42,
   "id": "5544d0f4",
   "metadata": {},
   "outputs": [
    {
     "data": {
      "text/plain": [
       "{'prius': 'toyota', 'bolt': 'chevy', 'civic': 'honda', 'accord': 'toyota'}"
      ]
     },
     "execution_count": 42,
     "metadata": {},
     "output_type": "execute_result"
    }
   ],
   "source": [
    "cars"
   ]
  },
  {
   "cell_type": "code",
   "execution_count": 45,
   "id": "dfda4b6f",
   "metadata": {},
   "outputs": [
    {
     "ename": "KeyError",
     "evalue": "'toyota'",
     "output_type": "error",
     "traceback": [
      "\u001b[0;31m---------------------------------------------------------------------------\u001b[0m",
      "\u001b[0;31mKeyError\u001b[0m                                  Traceback (most recent call last)",
      "Cell \u001b[0;32mIn[45], line 1\u001b[0m\n\u001b[0;32m----> 1\u001b[0m \u001b[43mcars\u001b[49m\u001b[43m[\u001b[49m\u001b[38;5;124;43m'\u001b[39;49m\u001b[38;5;124;43mtoyota\u001b[39;49m\u001b[38;5;124;43m'\u001b[39;49m\u001b[43m]\u001b[49m\n",
      "\u001b[0;31mKeyError\u001b[0m: 'toyota'"
     ]
    }
   ],
   "source": [
    "cars['toyota']"
   ]
  },
  {
   "cell_type": "markdown",
   "id": "a8499c5a",
   "metadata": {},
   "source": [
    "# Numpy"
   ]
  },
  {
   "cell_type": "code",
   "execution_count": 46,
   "id": "66d28a80",
   "metadata": {},
   "outputs": [
    {
     "data": {
      "text/plain": [
       "array([[1, 2, 3],\n",
       "       [4, 5, 6]])"
      ]
     },
     "execution_count": 46,
     "metadata": {},
     "output_type": "execute_result"
    }
   ],
   "source": [
    "import numpy as np\n",
    "a = np.array([[1,2,3],[4,5,6]])\n",
    "a"
   ]
  },
  {
   "cell_type": "code",
   "execution_count": 47,
   "id": "6a0d8772",
   "metadata": {},
   "outputs": [
    {
     "data": {
      "text/plain": [
       "3"
      ]
     },
     "execution_count": 47,
     "metadata": {},
     "output_type": "execute_result"
    }
   ],
   "source": [
    "a[0][2]"
   ]
  },
  {
   "cell_type": "code",
   "execution_count": 48,
   "id": "7ec1cde3",
   "metadata": {},
   "outputs": [
    {
     "data": {
      "text/plain": [
       "3"
      ]
     },
     "execution_count": 48,
     "metadata": {},
     "output_type": "execute_result"
    }
   ],
   "source": [
    "a[0,2]"
   ]
  },
  {
   "cell_type": "code",
   "execution_count": 51,
   "id": "1db21e69",
   "metadata": {},
   "outputs": [
    {
     "data": {
      "text/plain": [
       "array([[2, 3],\n",
       "       [5, 6]])"
      ]
     },
     "execution_count": 51,
     "metadata": {},
     "output_type": "execute_result"
    }
   ],
   "source": [
    "a[0:3,1:]"
   ]
  },
  {
   "cell_type": "code",
   "execution_count": 60,
   "id": "93fe45ff",
   "metadata": {},
   "outputs": [
    {
     "data": {
      "text/plain": [
       "array([3, 2, 1])"
      ]
     },
     "execution_count": 60,
     "metadata": {},
     "output_type": "execute_result"
    }
   ],
   "source": [
    "a[0,::-1]"
   ]
  },
  {
   "cell_type": "markdown",
   "id": "2e92ef5a",
   "metadata": {},
   "source": [
    "# Pandas"
   ]
  },
  {
   "cell_type": "code",
   "execution_count": 87,
   "id": "37708b7f",
   "metadata": {},
   "outputs": [
    {
     "ename": "TypeError",
     "evalue": "'builtin_function_or_method' object is not subscriptable",
     "output_type": "error",
     "traceback": [
      "\u001b[0;31m---------------------------------------------------------------------------\u001b[0m",
      "\u001b[0;31mTypeError\u001b[0m                                 Traceback (most recent call last)",
      "Cell \u001b[0;32mIn[87], line 1\u001b[0m\n\u001b[0;32m----> 1\u001b[0m L \u001b[38;5;241m=\u001b[39m \u001b[43mnp\u001b[49m\u001b[38;5;241;43m.\u001b[39;49m\u001b[43marray\u001b[49m\u001b[43m[\u001b[49m\u001b[38;5;241;43m1\u001b[39;49m\u001b[43m,\u001b[49m\u001b[38;5;124;43m'\u001b[39;49m\u001b[38;5;124;43mimogen\u001b[39;49m\u001b[38;5;124;43m'\u001b[39;49m\u001b[43m,\u001b[49m\u001b[38;5;28;43;01mTrue\u001b[39;49;00m\u001b[43m]\u001b[49m\n",
      "\u001b[0;31mTypeError\u001b[0m: 'builtin_function_or_method' object is not subscriptable"
     ]
    }
   ],
   "source": [
    "L = np.array[1,'imogen',True]"
   ]
  },
  {
   "cell_type": "code",
   "execution_count": 62,
   "id": "b95146de",
   "metadata": {},
   "outputs": [
    {
     "data": {
      "text/plain": [
       "[1, 'imogen', True]"
      ]
     },
     "execution_count": 62,
     "metadata": {},
     "output_type": "execute_result"
    }
   ],
   "source": [
    "L"
   ]
  },
  {
   "cell_type": "code",
   "execution_count": 63,
   "id": "0c7acba7",
   "metadata": {},
   "outputs": [
    {
     "data": {
      "text/plain": [
       "int"
      ]
     },
     "execution_count": 63,
     "metadata": {},
     "output_type": "execute_result"
    }
   ],
   "source": [
    "type(L[0])"
   ]
  },
  {
   "cell_type": "code",
   "execution_count": 64,
   "id": "b1d1e4e7",
   "metadata": {},
   "outputs": [],
   "source": [
    "import pandas as pd"
   ]
  },
  {
   "cell_type": "code",
   "execution_count": 69,
   "id": "072938d6",
   "metadata": {},
   "outputs": [
    {
     "data": {
      "text/plain": [
       "100"
      ]
     },
     "execution_count": 69,
     "metadata": {},
     "output_type": "execute_result"
    }
   ],
   "source": [
    "fruit_info_dict ={'fruit':['apple','orange'],\n",
    "                 'color':['red','orange'],\n",
    "                 'weight':[100,200]}\n",
    "fruit_info_dict['weight'][0]"
   ]
  },
  {
   "cell_type": "code",
   "execution_count": 70,
   "id": "d839cea7",
   "metadata": {},
   "outputs": [],
   "source": [
    "fruit_info_df = pd.DataFrame(data = fruit_info_dict)"
   ]
  },
  {
   "cell_type": "code",
   "execution_count": 71,
   "id": "df9f9f41",
   "metadata": {},
   "outputs": [
    {
     "data": {
      "text/html": [
       "<div>\n",
       "<style scoped>\n",
       "    .dataframe tbody tr th:only-of-type {\n",
       "        vertical-align: middle;\n",
       "    }\n",
       "\n",
       "    .dataframe tbody tr th {\n",
       "        vertical-align: top;\n",
       "    }\n",
       "\n",
       "    .dataframe thead th {\n",
       "        text-align: right;\n",
       "    }\n",
       "</style>\n",
       "<table border=\"1\" class=\"dataframe\">\n",
       "  <thead>\n",
       "    <tr style=\"text-align: right;\">\n",
       "      <th></th>\n",
       "      <th>fruit</th>\n",
       "      <th>color</th>\n",
       "      <th>weight</th>\n",
       "    </tr>\n",
       "  </thead>\n",
       "  <tbody>\n",
       "    <tr>\n",
       "      <th>0</th>\n",
       "      <td>apple</td>\n",
       "      <td>red</td>\n",
       "      <td>100</td>\n",
       "    </tr>\n",
       "    <tr>\n",
       "      <th>1</th>\n",
       "      <td>orange</td>\n",
       "      <td>orange</td>\n",
       "      <td>200</td>\n",
       "    </tr>\n",
       "  </tbody>\n",
       "</table>\n",
       "</div>"
      ],
      "text/plain": [
       "    fruit   color  weight\n",
       "0   apple     red     100\n",
       "1  orange  orange     200"
      ]
     },
     "execution_count": 71,
     "metadata": {},
     "output_type": "execute_result"
    }
   ],
   "source": [
    "fruit_info_df"
   ]
  },
  {
   "cell_type": "code",
   "execution_count": 72,
   "id": "4934f4d2",
   "metadata": {},
   "outputs": [
    {
     "data": {
      "text/plain": [
       "{'fruit': ['apple', 'orange'],\n",
       " 'color': ['red', 'orange'],\n",
       " 'weight': [100, 200]}"
      ]
     },
     "execution_count": 72,
     "metadata": {},
     "output_type": "execute_result"
    }
   ],
   "source": [
    "fruit_info_dict"
   ]
  },
  {
   "cell_type": "code",
   "execution_count": 73,
   "id": "c926e699",
   "metadata": {},
   "outputs": [
    {
     "data": {
      "text/plain": [
       "0       red\n",
       "1    orange\n",
       "Name: color, dtype: object"
      ]
     },
     "execution_count": 73,
     "metadata": {},
     "output_type": "execute_result"
    }
   ],
   "source": [
    "fruit_info_df['color']"
   ]
  },
  {
   "cell_type": "code",
   "execution_count": 74,
   "id": "f91f14bc",
   "metadata": {},
   "outputs": [
    {
     "data": {
      "text/plain": [
       "Index(['fruit', 'color', 'weight'], dtype='object')"
      ]
     },
     "execution_count": 74,
     "metadata": {},
     "output_type": "execute_result"
    }
   ],
   "source": [
    "fruit_info_df.columns"
   ]
  },
  {
   "cell_type": "code",
   "execution_count": 75,
   "id": "805e9500",
   "metadata": {},
   "outputs": [
    {
     "data": {
      "text/plain": [
       "0       red\n",
       "1    orange\n",
       "Name: color, dtype: object"
      ]
     },
     "execution_count": 75,
     "metadata": {},
     "output_type": "execute_result"
    }
   ],
   "source": [
    "fruit_info_df.color"
   ]
  },
  {
   "cell_type": "code",
   "execution_count": 77,
   "id": "3c70f1e1",
   "metadata": {},
   "outputs": [
    {
     "data": {
      "text/plain": [
       "0    100\n",
       "1    200\n",
       "Name: weight, dtype: int64"
      ]
     },
     "execution_count": 77,
     "metadata": {},
     "output_type": "execute_result"
    }
   ],
   "source": [
    "fruit_info_df['weight'][0:2]"
   ]
  },
  {
   "cell_type": "code",
   "execution_count": 78,
   "id": "ce62efc5",
   "metadata": {},
   "outputs": [
    {
     "name": "stdout",
     "output_type": "stream",
     "text": [
      "CAISO_2017to2018.csv                 Lecture 03.3 Numpy.pdf\r\n",
      "Lecture 03 InClassNotebook.ipynb     Lecture 03.4 Pandas.ipynb\r\n",
      "Lecture 03.1 DataTypes Pandas.pptx   Lecture 03.4 Pandas.pdf\r\n",
      "Lecture 03.2 DataTypes.ipynb         dataframe_anatomy.png\r\n",
      "Lecture 03.2 DataTypes.pdf           \u001b[34mfrom drive\u001b[m\u001b[m\r\n",
      "Lecture 03.3 Numpy.ipynb             ~$Lecture 03.1 DataTypes Pandas.pptx\r\n"
     ]
    }
   ],
   "source": [
    "!ls"
   ]
  },
  {
   "cell_type": "code",
   "execution_count": 80,
   "id": "7f75ad1a",
   "metadata": {},
   "outputs": [],
   "source": [
    "caiso_df = pd.read_csv('CAISO_2017to2018.csv')"
   ]
  },
  {
   "cell_type": "code",
   "execution_count": 81,
   "id": "5950dabe",
   "metadata": {},
   "outputs": [
    {
     "data": {
      "text/html": [
       "<div>\n",
       "<style scoped>\n",
       "    .dataframe tbody tr th:only-of-type {\n",
       "        vertical-align: middle;\n",
       "    }\n",
       "\n",
       "    .dataframe tbody tr th {\n",
       "        vertical-align: top;\n",
       "    }\n",
       "\n",
       "    .dataframe thead th {\n",
       "        text-align: right;\n",
       "    }\n",
       "</style>\n",
       "<table border=\"1\" class=\"dataframe\">\n",
       "  <thead>\n",
       "    <tr style=\"text-align: right;\">\n",
       "      <th></th>\n",
       "      <th>Unnamed: 0</th>\n",
       "      <th>GEOTHERMAL</th>\n",
       "      <th>BIOMASS</th>\n",
       "      <th>BIOGAS</th>\n",
       "      <th>SMALL HYDRO</th>\n",
       "      <th>WIND TOTAL</th>\n",
       "      <th>SOLAR PV</th>\n",
       "      <th>SOLAR THERMAL</th>\n",
       "    </tr>\n",
       "  </thead>\n",
       "  <tbody>\n",
       "    <tr>\n",
       "      <th>0</th>\n",
       "      <td>2017-08-29 00:00:00</td>\n",
       "      <td>1181</td>\n",
       "      <td>340</td>\n",
       "      <td>156</td>\n",
       "      <td>324</td>\n",
       "      <td>1551</td>\n",
       "      <td>0</td>\n",
       "      <td>0</td>\n",
       "    </tr>\n",
       "    <tr>\n",
       "      <th>1</th>\n",
       "      <td>2017-08-29 01:00:00</td>\n",
       "      <td>1182</td>\n",
       "      <td>338</td>\n",
       "      <td>156</td>\n",
       "      <td>326</td>\n",
       "      <td>1556</td>\n",
       "      <td>0</td>\n",
       "      <td>0</td>\n",
       "    </tr>\n",
       "    <tr>\n",
       "      <th>2</th>\n",
       "      <td>2017-08-29 02:00:00</td>\n",
       "      <td>1183</td>\n",
       "      <td>337</td>\n",
       "      <td>156</td>\n",
       "      <td>337</td>\n",
       "      <td>1325</td>\n",
       "      <td>0</td>\n",
       "      <td>0</td>\n",
       "    </tr>\n",
       "    <tr>\n",
       "      <th>3</th>\n",
       "      <td>2017-08-29 03:00:00</td>\n",
       "      <td>1185</td>\n",
       "      <td>339</td>\n",
       "      <td>156</td>\n",
       "      <td>313</td>\n",
       "      <td>1158</td>\n",
       "      <td>0</td>\n",
       "      <td>0</td>\n",
       "    </tr>\n",
       "    <tr>\n",
       "      <th>4</th>\n",
       "      <td>2017-08-29 04:00:00</td>\n",
       "      <td>1190</td>\n",
       "      <td>344</td>\n",
       "      <td>156</td>\n",
       "      <td>320</td>\n",
       "      <td>1209</td>\n",
       "      <td>0</td>\n",
       "      <td>0</td>\n",
       "    </tr>\n",
       "    <tr>\n",
       "      <th>...</th>\n",
       "      <td>...</td>\n",
       "      <td>...</td>\n",
       "      <td>...</td>\n",
       "      <td>...</td>\n",
       "      <td>...</td>\n",
       "      <td>...</td>\n",
       "      <td>...</td>\n",
       "      <td>...</td>\n",
       "    </tr>\n",
       "    <tr>\n",
       "      <th>8755</th>\n",
       "      <td>2018-08-28 19:00:00</td>\n",
       "      <td>962</td>\n",
       "      <td>332</td>\n",
       "      <td>236</td>\n",
       "      <td>581</td>\n",
       "      <td>3300</td>\n",
       "      <td>70</td>\n",
       "      <td>24</td>\n",
       "    </tr>\n",
       "    <tr>\n",
       "      <th>8756</th>\n",
       "      <td>2018-08-28 20:00:00</td>\n",
       "      <td>967</td>\n",
       "      <td>336</td>\n",
       "      <td>234</td>\n",
       "      <td>547</td>\n",
       "      <td>3468</td>\n",
       "      <td>0</td>\n",
       "      <td>17</td>\n",
       "    </tr>\n",
       "    <tr>\n",
       "      <th>8757</th>\n",
       "      <td>2018-08-28 21:00:00</td>\n",
       "      <td>972</td>\n",
       "      <td>336</td>\n",
       "      <td>233</td>\n",
       "      <td>502</td>\n",
       "      <td>3310</td>\n",
       "      <td>0</td>\n",
       "      <td>17</td>\n",
       "    </tr>\n",
       "    <tr>\n",
       "      <th>8758</th>\n",
       "      <td>2018-08-28 22:00:00</td>\n",
       "      <td>975</td>\n",
       "      <td>333</td>\n",
       "      <td>234</td>\n",
       "      <td>361</td>\n",
       "      <td>3068</td>\n",
       "      <td>0</td>\n",
       "      <td>0</td>\n",
       "    </tr>\n",
       "    <tr>\n",
       "      <th>8759</th>\n",
       "      <td>2018-08-28 23:00:00</td>\n",
       "      <td>977</td>\n",
       "      <td>333</td>\n",
       "      <td>235</td>\n",
       "      <td>262</td>\n",
       "      <td>2921</td>\n",
       "      <td>0</td>\n",
       "      <td>0</td>\n",
       "    </tr>\n",
       "  </tbody>\n",
       "</table>\n",
       "<p>8760 rows × 8 columns</p>\n",
       "</div>"
      ],
      "text/plain": [
       "               Unnamed: 0  GEOTHERMAL  BIOMASS  BIOGAS  SMALL HYDRO  \\\n",
       "0     2017-08-29 00:00:00        1181      340     156          324   \n",
       "1     2017-08-29 01:00:00        1182      338     156          326   \n",
       "2     2017-08-29 02:00:00        1183      337     156          337   \n",
       "3     2017-08-29 03:00:00        1185      339     156          313   \n",
       "4     2017-08-29 04:00:00        1190      344     156          320   \n",
       "...                   ...         ...      ...     ...          ...   \n",
       "8755  2018-08-28 19:00:00         962      332     236          581   \n",
       "8756  2018-08-28 20:00:00         967      336     234          547   \n",
       "8757  2018-08-28 21:00:00         972      336     233          502   \n",
       "8758  2018-08-28 22:00:00         975      333     234          361   \n",
       "8759  2018-08-28 23:00:00         977      333     235          262   \n",
       "\n",
       "      WIND TOTAL  SOLAR PV  SOLAR THERMAL  \n",
       "0           1551         0              0  \n",
       "1           1556         0              0  \n",
       "2           1325         0              0  \n",
       "3           1158         0              0  \n",
       "4           1209         0              0  \n",
       "...          ...       ...            ...  \n",
       "8755        3300        70             24  \n",
       "8756        3468         0             17  \n",
       "8757        3310         0             17  \n",
       "8758        3068         0              0  \n",
       "8759        2921         0              0  \n",
       "\n",
       "[8760 rows x 8 columns]"
      ]
     },
     "execution_count": 81,
     "metadata": {},
     "output_type": "execute_result"
    }
   ],
   "source": [
    "caiso_df"
   ]
  },
  {
   "cell_type": "markdown",
   "id": "11541932",
   "metadata": {},
   "source": [
    "<img src=\"dataframe_anatomy.png\"/>"
   ]
  },
  {
   "cell_type": "code",
   "execution_count": 84,
   "id": "3abef282",
   "metadata": {},
   "outputs": [],
   "source": [
    "caiso_data = pd.read_csv('CAISO_2017to2018.csv', index_col=0)"
   ]
  },
  {
   "cell_type": "code",
   "execution_count": 85,
   "id": "9f034fed",
   "metadata": {},
   "outputs": [
    {
     "data": {
      "text/html": [
       "<div>\n",
       "<style scoped>\n",
       "    .dataframe tbody tr th:only-of-type {\n",
       "        vertical-align: middle;\n",
       "    }\n",
       "\n",
       "    .dataframe tbody tr th {\n",
       "        vertical-align: top;\n",
       "    }\n",
       "\n",
       "    .dataframe thead th {\n",
       "        text-align: right;\n",
       "    }\n",
       "</style>\n",
       "<table border=\"1\" class=\"dataframe\">\n",
       "  <thead>\n",
       "    <tr style=\"text-align: right;\">\n",
       "      <th></th>\n",
       "      <th>GEOTHERMAL</th>\n",
       "      <th>BIOMASS</th>\n",
       "      <th>BIOGAS</th>\n",
       "      <th>SMALL HYDRO</th>\n",
       "      <th>WIND TOTAL</th>\n",
       "      <th>SOLAR PV</th>\n",
       "      <th>SOLAR THERMAL</th>\n",
       "    </tr>\n",
       "  </thead>\n",
       "  <tbody>\n",
       "    <tr>\n",
       "      <th>2017-08-29 00:00:00</th>\n",
       "      <td>1181</td>\n",
       "      <td>340</td>\n",
       "      <td>156</td>\n",
       "      <td>324</td>\n",
       "      <td>1551</td>\n",
       "      <td>0</td>\n",
       "      <td>0</td>\n",
       "    </tr>\n",
       "    <tr>\n",
       "      <th>2017-08-29 01:00:00</th>\n",
       "      <td>1182</td>\n",
       "      <td>338</td>\n",
       "      <td>156</td>\n",
       "      <td>326</td>\n",
       "      <td>1556</td>\n",
       "      <td>0</td>\n",
       "      <td>0</td>\n",
       "    </tr>\n",
       "    <tr>\n",
       "      <th>2017-08-29 02:00:00</th>\n",
       "      <td>1183</td>\n",
       "      <td>337</td>\n",
       "      <td>156</td>\n",
       "      <td>337</td>\n",
       "      <td>1325</td>\n",
       "      <td>0</td>\n",
       "      <td>0</td>\n",
       "    </tr>\n",
       "    <tr>\n",
       "      <th>2017-08-29 03:00:00</th>\n",
       "      <td>1185</td>\n",
       "      <td>339</td>\n",
       "      <td>156</td>\n",
       "      <td>313</td>\n",
       "      <td>1158</td>\n",
       "      <td>0</td>\n",
       "      <td>0</td>\n",
       "    </tr>\n",
       "    <tr>\n",
       "      <th>2017-08-29 04:00:00</th>\n",
       "      <td>1190</td>\n",
       "      <td>344</td>\n",
       "      <td>156</td>\n",
       "      <td>320</td>\n",
       "      <td>1209</td>\n",
       "      <td>0</td>\n",
       "      <td>0</td>\n",
       "    </tr>\n",
       "    <tr>\n",
       "      <th>...</th>\n",
       "      <td>...</td>\n",
       "      <td>...</td>\n",
       "      <td>...</td>\n",
       "      <td>...</td>\n",
       "      <td>...</td>\n",
       "      <td>...</td>\n",
       "      <td>...</td>\n",
       "    </tr>\n",
       "    <tr>\n",
       "      <th>2018-08-28 19:00:00</th>\n",
       "      <td>962</td>\n",
       "      <td>332</td>\n",
       "      <td>236</td>\n",
       "      <td>581</td>\n",
       "      <td>3300</td>\n",
       "      <td>70</td>\n",
       "      <td>24</td>\n",
       "    </tr>\n",
       "    <tr>\n",
       "      <th>2018-08-28 20:00:00</th>\n",
       "      <td>967</td>\n",
       "      <td>336</td>\n",
       "      <td>234</td>\n",
       "      <td>547</td>\n",
       "      <td>3468</td>\n",
       "      <td>0</td>\n",
       "      <td>17</td>\n",
       "    </tr>\n",
       "    <tr>\n",
       "      <th>2018-08-28 21:00:00</th>\n",
       "      <td>972</td>\n",
       "      <td>336</td>\n",
       "      <td>233</td>\n",
       "      <td>502</td>\n",
       "      <td>3310</td>\n",
       "      <td>0</td>\n",
       "      <td>17</td>\n",
       "    </tr>\n",
       "    <tr>\n",
       "      <th>2018-08-28 22:00:00</th>\n",
       "      <td>975</td>\n",
       "      <td>333</td>\n",
       "      <td>234</td>\n",
       "      <td>361</td>\n",
       "      <td>3068</td>\n",
       "      <td>0</td>\n",
       "      <td>0</td>\n",
       "    </tr>\n",
       "    <tr>\n",
       "      <th>2018-08-28 23:00:00</th>\n",
       "      <td>977</td>\n",
       "      <td>333</td>\n",
       "      <td>235</td>\n",
       "      <td>262</td>\n",
       "      <td>2921</td>\n",
       "      <td>0</td>\n",
       "      <td>0</td>\n",
       "    </tr>\n",
       "  </tbody>\n",
       "</table>\n",
       "<p>8760 rows × 7 columns</p>\n",
       "</div>"
      ],
      "text/plain": [
       "                     GEOTHERMAL  BIOMASS  BIOGAS  SMALL HYDRO  WIND TOTAL  \\\n",
       "2017-08-29 00:00:00        1181      340     156          324        1551   \n",
       "2017-08-29 01:00:00        1182      338     156          326        1556   \n",
       "2017-08-29 02:00:00        1183      337     156          337        1325   \n",
       "2017-08-29 03:00:00        1185      339     156          313        1158   \n",
       "2017-08-29 04:00:00        1190      344     156          320        1209   \n",
       "...                         ...      ...     ...          ...         ...   \n",
       "2018-08-28 19:00:00         962      332     236          581        3300   \n",
       "2018-08-28 20:00:00         967      336     234          547        3468   \n",
       "2018-08-28 21:00:00         972      336     233          502        3310   \n",
       "2018-08-28 22:00:00         975      333     234          361        3068   \n",
       "2018-08-28 23:00:00         977      333     235          262        2921   \n",
       "\n",
       "                     SOLAR PV  SOLAR THERMAL  \n",
       "2017-08-29 00:00:00         0              0  \n",
       "2017-08-29 01:00:00         0              0  \n",
       "2017-08-29 02:00:00         0              0  \n",
       "2017-08-29 03:00:00         0              0  \n",
       "2017-08-29 04:00:00         0              0  \n",
       "...                       ...            ...  \n",
       "2018-08-28 19:00:00        70             24  \n",
       "2018-08-28 20:00:00         0             17  \n",
       "2018-08-28 21:00:00         0             17  \n",
       "2018-08-28 22:00:00         0              0  \n",
       "2018-08-28 23:00:00         0              0  \n",
       "\n",
       "[8760 rows x 7 columns]"
      ]
     },
     "execution_count": 85,
     "metadata": {},
     "output_type": "execute_result"
    }
   ],
   "source": [
    "caiso_data"
   ]
  },
  {
   "cell_type": "code",
   "execution_count": 86,
   "id": "a2dd0ef4",
   "metadata": {},
   "outputs": [
    {
     "data": {
      "text/plain": [
       "361"
      ]
     },
     "execution_count": 86,
     "metadata": {},
     "output_type": "execute_result"
    }
   ],
   "source": [
    "caiso_data['SMALL HYDRO']['2018-08-28 22:00:00']"
   ]
  },
  {
   "cell_type": "code",
   "execution_count": null,
   "id": "36732730",
   "metadata": {},
   "outputs": [],
   "source": []
  }
 ],
 "metadata": {
  "kernelspec": {
   "display_name": "Python 3 (ipykernel)",
   "language": "python",
   "name": "python3"
  },
  "language_info": {
   "codemirror_mode": {
    "name": "ipython",
    "version": 3
   },
   "file_extension": ".py",
   "mimetype": "text/x-python",
   "name": "python",
   "nbconvert_exporter": "python",
   "pygments_lexer": "ipython3",
   "version": "3.11.4"
  }
 },
 "nbformat": 4,
 "nbformat_minor": 5
}
