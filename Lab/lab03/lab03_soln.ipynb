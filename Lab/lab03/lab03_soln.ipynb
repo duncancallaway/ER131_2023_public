{
 "cells": [
  {
   "cell_type": "markdown",
   "metadata": {},
   "source": [
    "Before you turn this problem in, make sure everything runs as expected. First, **restart the kernel** (in the menubar, select Kernel$\\rightarrow$Restart) and then **run all cells** (in the menubar, select Cell$\\rightarrow$Run All). If you do not run a specific cell, you will not receive credit for that question. \n",
    "\n",
    "Make sure you fill in any place that says `YOUR CODE HERE` or \"YOUR ANSWER HERE\", as well as your name and collaborators below:"
   ]
  },
  {
   "cell_type": "markdown",
   "metadata": {},
   "source": [
    "# Grading Guidelines\n",
    "This homework is graded based on the total number of correct answers. Each question receives 1 or 2 points. 1 point questions receive full credit if answered correctly. Otherwise they receive 0 points. 2 point questions receive full credit if answered correctly. If students make progress on the question but don’t answer correctly they receive 1 point. Otherwise they receive 0 points.\n",
    "\n",
    "If you do not run the cell, you will not receive credit for that question. Please make sure to run all cells before you submit."
   ]
  },
  {
   "cell_type": "code",
   "execution_count": 1,
   "metadata": {},
   "outputs": [],
   "source": [
    "NAME = \"\" # put your full name here\n",
    "COLLABORATORS = [] # list anyone you collaborated with on this workbook"
   ]
  },
  {
   "cell_type": "markdown",
   "metadata": {},
   "source": [
    "---"
   ]
  },
  {
   "cell_type": "markdown",
   "metadata": {},
   "source": [
    "## Lab 3: Exploratory Data Analysis"
   ]
  },
  {
   "cell_type": "markdown",
   "metadata": {},
   "source": [
    "-------------------------------------------"
   ]
  },
  {
   "cell_type": "markdown",
   "metadata": {},
   "source": [
    "Welcome to your third lab of the semester!<br>\n",
    "\n",
    "This lab aims to get you started with exploratory data analysis, including using `.count`, `.groupby`, understanding different file types, and basic plotting functions. \n",
    "\n",
    "In addition, we will introduce you to Geopandas, a Python package designed to work with geospatial data. \n",
    "\n",
    "The data for this lab comes from the State of California's [domestic well groundwater monitoring program](https://data.ca.gov/dataset/ground-water-water-quality-results). In California, up to [2 million people get their water from a private domestic well](https://www.waterboards.ca.gov/gama/docs/wellowner_guide.pdf) rather than the public water system. For this lab, we've taken the water monitoring dataset and made some modifications for educational purposes, including creating a Point object from the latitude and longitude columns in the raw data, and splitting the dataset to merge later."
   ]
  },
  {
   "cell_type": "markdown",
   "metadata": {},
   "source": [
    "## Geospatial Data\n",
    "\n",
    "A common machine learning application is to predict an outcome at different locations. For example, we might be interested in predicting air or water pollutant levels in unmonitored locations, given sensor readings from other locations. Or, we might want to subset a dataset so that we can analyze only those data falling within a particular boundary, such as a country, city, or watershed. \n",
    "\n",
    "For these applications, we use geospatial data. Simply, geospatial data is data in the which the records are associated with a geographic location, e.g., coordinates, addresses, or zip codes. Most geospatial data comes in one of two formats: vector data or raster data.\n",
    "\n",
    "### Vector data\n",
    "Vector data represent geographic features as shapes (most commonly, points, lines, and/or polygons). Each shape is associated with coordinates in space: a point will be associated with one set of coordinates, whereas lines and polygons will be associated with a set of points that comprise the line or the boundary of the polygon. \n",
    "\n",
    "<img src=\"images/vector.png\"><br>\n",
    "\n",
    "### Raster data\n",
    "Raster data are represented as a continuous grid of values (like pixels in a photograph). Grid cells are organized into rows and columns, representing x and y coordinates. The value of the cell represents an attribute such as solar insolation, land cover, temperature, etc. \n",
    "\n",
    "<img src=\"images/raster.png\"><br>\n",
    "\n",
    "Source: [Wikimedia Commons](https://commons.wikimedia.org/wiki/File:Raster_vector_tikz.png)\n",
    "\n",
    "In this lab, we'll work with vector data."
   ]
  },
  {
   "cell_type": "markdown",
   "metadata": {},
   "source": [
    "## GeoPandas and related Geospatial Packages\n",
    "\n",
    "[GeoPandas](http://geopandas.org/) is the go-to package for working with vector data in Python. `GeoPandas` provides convenient, unified access to the functionality of the [pandas](https://pandas.pydata.org/) package, extending it with the geospatial processing capabilities provided by a number of lower level spatial data packages including [shapely](https://pypi.python.org/pypi/Shapely) for geometry processing, [fiona](https://pypi.python.org/pypi/Fiona) and [GDAL/Ogr](https://gdal.org) for spatial data file IO, and[ pyproj](https://github.com/jswhit/pyproj) and [PROJ.4](https://proj.org/) for map projections and coordinate systems.  "
   ]
  },
  {
   "cell_type": "markdown",
   "metadata": {},
   "source": [
    "## Setup"
   ]
  },
  {
   "cell_type": "markdown",
   "metadata": {},
   "source": [
    "Begin by importing our usual packages: NumPy, Pandas, and matplotlib. We will also import GeoPandas using the common shorthand `gpd`."
   ]
  },
  {
   "cell_type": "code",
   "execution_count": 2,
   "metadata": {},
   "outputs": [
    {
     "name": "stderr",
     "output_type": "stream",
     "text": [
      "/opt/conda/lib/python3.9/site-packages/geopandas/_compat.py:111: UserWarning: The Shapely GEOS version (3.11.1-CAPI-1.17.1) is incompatible with the GEOS version PyGEOS was compiled with (3.10.4-CAPI-1.16.2). Conversions between both will be slow.\n",
      "  warnings.warn(\n"
     ]
    }
   ],
   "source": [
    "# Run this cell to import the packages we will need\n",
    "import numpy as np\n",
    "import matplotlib.pyplot as plt\n",
    "import pandas as pd\n",
    "import geopandas as gpd\n",
    "%matplotlib inline"
   ]
  },
  {
   "cell_type": "markdown",
   "metadata": {},
   "source": [
    "Let's go ahead and load the data. The first dataset, `gama_measurements`, is saved as a csv file, so we can load it into a Pandas dataframe using the following code."
   ]
  },
  {
   "cell_type": "code",
   "execution_count": 3,
   "metadata": {},
   "outputs": [
    {
     "data": {
      "text/html": [
       "<div>\n",
       "<style scoped>\n",
       "    .dataframe tbody tr th:only-of-type {\n",
       "        vertical-align: middle;\n",
       "    }\n",
       "\n",
       "    .dataframe tbody tr th {\n",
       "        vertical-align: top;\n",
       "    }\n",
       "\n",
       "    .dataframe thead th {\n",
       "        text-align: right;\n",
       "    }\n",
       "</style>\n",
       "<table border=\"1\" class=\"dataframe\">\n",
       "  <thead>\n",
       "    <tr style=\"text-align: right;\">\n",
       "      <th></th>\n",
       "      <th>WELL_ID</th>\n",
       "      <th>RESULTS</th>\n",
       "      <th>CHEMICAL</th>\n",
       "      <th>DATE</th>\n",
       "      <th>UNITS</th>\n",
       "      <th>QUALIFER</th>\n",
       "      <th>RL</th>\n",
       "    </tr>\n",
       "  </thead>\n",
       "  <tbody>\n",
       "    <tr>\n",
       "      <th>0</th>\n",
       "      <td>ANT-07</td>\n",
       "      <td>0.073</td>\n",
       "      <td>BR</td>\n",
       "      <td>1/29/2008</td>\n",
       "      <td>MG/L</td>\n",
       "      <td>NaN</td>\n",
       "      <td>0.02</td>\n",
       "    </tr>\n",
       "    <tr>\n",
       "      <th>1</th>\n",
       "      <td>ANT-07</td>\n",
       "      <td>0.100</td>\n",
       "      <td>CDS</td>\n",
       "      <td>1/29/2008</td>\n",
       "      <td>UG/L</td>\n",
       "      <td>&lt;</td>\n",
       "      <td>0.06</td>\n",
       "    </tr>\n",
       "    <tr>\n",
       "      <th>2</th>\n",
       "      <td>ANT-07</td>\n",
       "      <td>0.060</td>\n",
       "      <td>DCA12</td>\n",
       "      <td>1/29/2008</td>\n",
       "      <td>UG/L</td>\n",
       "      <td>&lt;</td>\n",
       "      <td>0.06</td>\n",
       "    </tr>\n",
       "    <tr>\n",
       "      <th>3</th>\n",
       "      <td>ANT-07</td>\n",
       "      <td>2.000</td>\n",
       "      <td>I</td>\n",
       "      <td>1/29/2008</td>\n",
       "      <td>UG/L</td>\n",
       "      <td>&lt;</td>\n",
       "      <td>0.002</td>\n",
       "    </tr>\n",
       "    <tr>\n",
       "      <th>4</th>\n",
       "      <td>ANT-07</td>\n",
       "      <td>6.790</td>\n",
       "      <td>MO</td>\n",
       "      <td>1/29/2008</td>\n",
       "      <td>UG/L</td>\n",
       "      <td>NaN</td>\n",
       "      <td>0.2</td>\n",
       "    </tr>\n",
       "  </tbody>\n",
       "</table>\n",
       "</div>"
      ],
      "text/plain": [
       "  WELL_ID  RESULTS CHEMICAL       DATE UNITS QUALIFER     RL\n",
       "0  ANT-07    0.073       BR  1/29/2008  MG/L      NaN   0.02\n",
       "1  ANT-07    0.100      CDS  1/29/2008  UG/L        <   0.06\n",
       "2  ANT-07    0.060    DCA12  1/29/2008  UG/L        <   0.06\n",
       "3  ANT-07    2.000        I  1/29/2008  UG/L        <  0.002\n",
       "4  ANT-07    6.790       MO  1/29/2008  UG/L      NaN    0.2"
      ]
     },
     "execution_count": 3,
     "metadata": {},
     "output_type": "execute_result"
    }
   ],
   "source": [
    "measurements = pd.read_csv('data/gama_measurements.csv')\n",
    "measurements.head()"
   ]
  },
  {
   "cell_type": "markdown",
   "metadata": {},
   "source": [
    "### Importing geospatial data\n",
    "Geospatial data can be found in different formats and sources, such as ESRI Shapefiles, GeoJSON files, geopackage files, and PostGIS (PostgreSQL) databases, among others.\n",
    "\n",
    "GeoPandas makes it easy to read in a variety of spatial data files, including the ESRI Shapefile, with the `read_file` command. The second dataset, `gama_wells` is an ESRI Shapefile. Load it into a **GeoDataFrame** using the following code."
   ]
  },
  {
   "cell_type": "code",
   "execution_count": 4,
   "metadata": {},
   "outputs": [
    {
     "data": {
      "text/html": [
       "<div>\n",
       "<style scoped>\n",
       "    .dataframe tbody tr th:only-of-type {\n",
       "        vertical-align: middle;\n",
       "    }\n",
       "\n",
       "    .dataframe tbody tr th {\n",
       "        vertical-align: top;\n",
       "    }\n",
       "\n",
       "    .dataframe thead th {\n",
       "        text-align: right;\n",
       "    }\n",
       "</style>\n",
       "<table border=\"1\" class=\"dataframe\">\n",
       "  <thead>\n",
       "    <tr style=\"text-align: right;\">\n",
       "      <th></th>\n",
       "      <th>WELL_ID</th>\n",
       "      <th>WELL_TYPE</th>\n",
       "      <th>WELL_DEPTH</th>\n",
       "      <th>TOP_OF_SCR</th>\n",
       "      <th>SCREEN_LEN</th>\n",
       "      <th>SOURCE</th>\n",
       "      <th>SOURCE_NAM</th>\n",
       "      <th>OTHER_NAME</th>\n",
       "      <th>geometry</th>\n",
       "    </tr>\n",
       "  </thead>\n",
       "  <tbody>\n",
       "    <tr>\n",
       "      <th>0</th>\n",
       "      <td>ANT-07</td>\n",
       "      <td>MUNICIPAL</td>\n",
       "      <td>527.0</td>\n",
       "      <td>0.0</td>\n",
       "      <td>0.0</td>\n",
       "      <td>USGS</td>\n",
       "      <td>ANT-07</td>\n",
       "      <td>ANT-07</td>\n",
       "      <td>POINT (-118.21583 34.83500)</td>\n",
       "    </tr>\n",
       "    <tr>\n",
       "      <th>1</th>\n",
       "      <td>ANT-U</td>\n",
       "      <td>MUNICIPAL</td>\n",
       "      <td>700.0</td>\n",
       "      <td>235.0</td>\n",
       "      <td>458.0</td>\n",
       "      <td>USGS</td>\n",
       "      <td>ANT-U</td>\n",
       "      <td>ANT-U</td>\n",
       "      <td>POINT (-118.13369 34.69013)</td>\n",
       "    </tr>\n",
       "    <tr>\n",
       "      <th>2</th>\n",
       "      <td>ANT-08</td>\n",
       "      <td>MUNICIPAL</td>\n",
       "      <td>500.0</td>\n",
       "      <td>0.0</td>\n",
       "      <td>0.0</td>\n",
       "      <td>USGS</td>\n",
       "      <td>ANT-08</td>\n",
       "      <td>ANT-08</td>\n",
       "      <td>POINT (-118.29250 34.71942)</td>\n",
       "    </tr>\n",
       "    <tr>\n",
       "      <th>3</th>\n",
       "      <td>ANT-12</td>\n",
       "      <td>MUNICIPAL</td>\n",
       "      <td>1200.0</td>\n",
       "      <td>0.0</td>\n",
       "      <td>0.0</td>\n",
       "      <td>USGS</td>\n",
       "      <td>ANT-12</td>\n",
       "      <td>ANT-12</td>\n",
       "      <td>POINT (-118.07281 34.66450)</td>\n",
       "    </tr>\n",
       "    <tr>\n",
       "      <th>4</th>\n",
       "      <td>ANT-17</td>\n",
       "      <td>MUNICIPAL</td>\n",
       "      <td>552.0</td>\n",
       "      <td>0.0</td>\n",
       "      <td>0.0</td>\n",
       "      <td>USGS</td>\n",
       "      <td>ANT-17</td>\n",
       "      <td>ANT-17</td>\n",
       "      <td>POINT (-118.13714 34.68887)</td>\n",
       "    </tr>\n",
       "  </tbody>\n",
       "</table>\n",
       "</div>"
      ],
      "text/plain": [
       "  WELL_ID  WELL_TYPE  WELL_DEPTH  TOP_OF_SCR  SCREEN_LEN SOURCE SOURCE_NAM  \\\n",
       "0  ANT-07  MUNICIPAL       527.0         0.0         0.0   USGS     ANT-07   \n",
       "1   ANT-U  MUNICIPAL       700.0       235.0       458.0   USGS      ANT-U   \n",
       "2  ANT-08  MUNICIPAL       500.0         0.0         0.0   USGS     ANT-08   \n",
       "3  ANT-12  MUNICIPAL      1200.0         0.0         0.0   USGS     ANT-12   \n",
       "4  ANT-17  MUNICIPAL       552.0         0.0         0.0   USGS     ANT-17   \n",
       "\n",
       "  OTHER_NAME                     geometry  \n",
       "0     ANT-07  POINT (-118.21583 34.83500)  \n",
       "1      ANT-U  POINT (-118.13369 34.69013)  \n",
       "2     ANT-08  POINT (-118.29250 34.71942)  \n",
       "3     ANT-12  POINT (-118.07281 34.66450)  \n",
       "4     ANT-17  POINT (-118.13714 34.68887)  "
      ]
     },
     "execution_count": 4,
     "metadata": {},
     "output_type": "execute_result"
    }
   ],
   "source": [
    "# run this cell\n",
    "wells = gpd.read_file('data/gama_wells.shp')\n",
    "wells.head()"
   ]
  },
  {
   "cell_type": "markdown",
   "metadata": {},
   "source": [
    "## Question 1: Exploring the data\n",
    "\n",
    "## Structure\n",
    "### Question 1.1 \n",
    "Take a look inside the `data` folder for this Lab. \n",
    "\n",
    "**Question 1.1.a (1 pt):** What file type holds the `gama_measurements` data? How is the information stored in this file (you can inspect the files in a text editor to answer this question)?"
   ]
  },
  {
   "cell_type": "markdown",
   "metadata": {},
   "source": [
    "*YOUR ANSWER HERE*"
   ]
  },
  {
   "cell_type": "markdown",
   "metadata": {},
   "source": [
    "*SOLUTION*\n",
    "\n",
    "\n",
    "*The `gama_measurements` data is stored as a comma separated file; each new entry in a given row is separated by a comma.*"
   ]
  },
  {
   "cell_type": "markdown",
   "metadata": {},
   "source": [
    "**Question 1.1.b. (1 pt):** How many file types are associated with `gama_wells`? What do the various extensions stand for? Why are multiple file types associated with this dataset? (Hint: refer to the [Library of Congress's description of the Shapefile format](https://www.loc.gov/preservation/digital/formats/fdd/fdd000280.shtml)). "
   ]
  },
  {
   "cell_type": "markdown",
   "metadata": {},
   "source": [
    "*YOUR ANSWER HERE*"
   ]
  },
  {
   "cell_type": "markdown",
   "metadata": {},
   "source": [
    "*SOLUTION*\n",
    "\n",
    "*The `gama_wells` data is stored as a Shapefile. Shapefiles consist of a cluster of files, at a minimum, the .shp (main file), .shx (index file), and dbf (dBASE table file) files. In this case the `gama_wells` data also includes a .prj (projection definition) and a .cpg (codepage) file.*"
   ]
  },
  {
   "cell_type": "markdown",
   "metadata": {},
   "source": [
    "## Granularity\n",
    "\n",
    "### Question 1.2\n",
    "\n",
    "**Question 1.2.a (1 pt):** How many rows are in `wells`, and what do they represent? How many rows are in `measurements`, and what do they represent?"
   ]
  },
  {
   "cell_type": "code",
   "execution_count": 4,
   "metadata": {},
   "outputs": [],
   "source": [
    "# scratch work here"
   ]
  },
  {
   "cell_type": "markdown",
   "metadata": {
    "scrolled": true
   },
   "source": [
    "*YOUR ANSWER HERE*"
   ]
  },
  {
   "cell_type": "code",
   "execution_count": 5,
   "metadata": {},
   "outputs": [
    {
     "name": "stdout",
     "output_type": "stream",
     "text": [
      "(4034, 9)\n",
      "(522615, 7)\n"
     ]
    }
   ],
   "source": [
    "# Solution scratch work\n",
    "print(wells.shape)\n",
    "print(measurements.shape)"
   ]
  },
  {
   "cell_type": "markdown",
   "metadata": {},
   "source": [
    "*SOLUTION*\n",
    "\n",
    "*There are 4,034 rows in `wells`, each representing an individual well and its associated characteristics. There are 522,615 rows of `measurements`, each representing a well testing measurement that's specific to a well, date, and chemical substance.*"
   ]
  },
  {
   "cell_type": "markdown",
   "metadata": {},
   "source": [
    "**Question 1.2.b (1 pt):** What is the level of spatial aggregation of the data in `wells`? Have the data been aggregated or summarized in any way? "
   ]
  },
  {
   "cell_type": "markdown",
   "metadata": {},
   "source": [
    "*YOUR ANSWER HERE*"
   ]
  },
  {
   "cell_type": "markdown",
   "metadata": {},
   "source": [
    "*SOLUTION*\n",
    "\n",
    "\n",
    "*The data are summarized at the level of the individual well. They do not appear to have been aggregregated.*"
   ]
  },
  {
   "cell_type": "markdown",
   "metadata": {},
   "source": [
    "**Question 1.2.c (1 pt):** How are the data in `measurements` aggregated over time (if at all)? How frequently does it appear that measurements were taken? (One approach: take a look at the `unique` dates associated with a specific well or two. The `pd.to_datetime` method might also be useful here.)"
   ]
  },
  {
   "cell_type": "code",
   "execution_count": 6,
   "metadata": {},
   "outputs": [
    {
     "name": "stdout",
     "output_type": "stream",
     "text": [
      "['2008-01-29T00:00:00.000000000' '2012-02-15T00:00:00.000000000']\n"
     ]
    }
   ],
   "source": [
    "# scratch work here\n",
    "\n",
    "# scratch work here\n",
    "\n",
    "# check one of the wells\n",
    "ant07 = measurements.loc[measurements['WELL_ID']=='ANT-07'] # Look at the measurements for one well\n",
    "print(pd.to_datetime(ant07['DATE']).unique()) # find the unique dates on which sampling occured\n",
    "\n",
    "# check another well\n",
    "# YOUR CODE HERE"
   ]
  },
  {
   "cell_type": "markdown",
   "metadata": {},
   "source": [
    "*YOUR ANSWER HERE*"
   ]
  },
  {
   "cell_type": "code",
   "execution_count": 7,
   "metadata": {},
   "outputs": [
    {
     "name": "stdout",
     "output_type": "stream",
     "text": [
      "['2008-01-29T00:00:00.000000000' '2012-02-15T00:00:00.000000000']\n",
      "['2008-02-25T00:00:00.000000000']\n"
     ]
    }
   ],
   "source": [
    "# Solution scratch work\n",
    "\n",
    "# check one of the wells\n",
    "ant07 = measurements.loc[measurements['WELL_ID']=='ANT-07'] # Look at the measurements for one well\n",
    "print(pd.to_datetime(ant07['DATE']).unique()) # find the unique dates on which sampling occured\n",
    "\n",
    "# check another well\n",
    "antu = measurements.loc[measurements['WELL_ID']=='ANT-U'] # Look at the measurements for one well\n",
    "print(pd.to_datetime(antu['DATE']).unique()) # find the unique dates on which sampling occured\n",
    "\n",
    "#..."
   ]
  },
  {
   "cell_type": "markdown",
   "metadata": {},
   "source": [
    "*SOLUTION*\n",
    "\n",
    "*The data are reported at a daily resolution, but the frequency of reporting is inconsistent across the different wells. Based on the documentation it appears that no more than one sample was taken on a given day, so the data have not been aggregated or summarized.*"
   ]
  },
  {
   "cell_type": "markdown",
   "metadata": {},
   "source": [
    "## Scope \n",
    "\n",
    "### Question 1.3\n",
    "Take a look at the [description for the GAMA data](https://data.ca.gov/dataset/ground-water-water-quality-results/resource/9e09ac40-b694-4ddc-acd2-2e7f7d10e231) as well as the [dataset information](https://gamagroundwater.waterboards.ca.gov/gama/dataset_information). \n",
    "\n",
    "**Question 1.3.a (1 pt):** What geographic extent do the data cover? "
   ]
  },
  {
   "cell_type": "markdown",
   "metadata": {},
   "source": [
    "*YOUR ANSWER HERE*"
   ]
  },
  {
   "cell_type": "markdown",
   "metadata": {},
   "source": [
    "*SOLUTION*\n",
    "\n",
    "*The data are described as being statewide for California.*"
   ]
  },
  {
   "cell_type": "markdown",
   "metadata": {},
   "source": [
    "**Question 1.3.b (1 pt):** What range of time of time do the data cover? Hint: use the `pd.to_datetime` method to convert the DATE column in `measurements` to datetime format, and then check the `min()` and `max()` of that column."
   ]
  },
  {
   "cell_type": "code",
   "execution_count": 8,
   "metadata": {},
   "outputs": [],
   "source": [
    "# convert the DATES column to datetime. This takes a little time to run!\n",
    "dates = pd.to_datetime(measurements['DATE'])"
   ]
  },
  {
   "cell_type": "code",
   "execution_count": 9,
   "metadata": {},
   "outputs": [],
   "source": [
    "# scratch work here: find the min and max date"
   ]
  },
  {
   "cell_type": "markdown",
   "metadata": {},
   "source": [
    "*YOUR ANSWER HERE*\n",
    "\n",
    "*The dataset covers a period from January 2002 through June 2018.* "
   ]
  },
  {
   "cell_type": "code",
   "execution_count": 9,
   "metadata": {},
   "outputs": [
    {
     "data": {
      "text/plain": [
       "(Timestamp('2002-01-07 00:00:00'), Timestamp('2018-06-28 00:00:00'))"
      ]
     },
     "execution_count": 9,
     "metadata": {},
     "output_type": "execute_result"
    }
   ],
   "source": [
    "# SOLUTION scratch\n",
    "dates.min(), dates.max()"
   ]
  },
  {
   "cell_type": "markdown",
   "metadata": {},
   "source": [
    "*SOLUTION*\n",
    "\n",
    "*The dataset covers a period from January 2002 through June 2018.* "
   ]
  },
  {
   "cell_type": "markdown",
   "metadata": {},
   "source": [
    "**Question 1.3.c (1 pt):** Based on the documentation, are there any other limits to the types of wells that are reported (e.g., based on size, ownership)? What are the `unique` types of wells reported in the \"WELL_TYPE\" column of `wells`, and what do they imply about the scope of the data?"
   ]
  },
  {
   "cell_type": "code",
   "execution_count": 12,
   "metadata": {},
   "outputs": [],
   "source": [
    "# YOUR CODE HERE"
   ]
  },
  {
   "cell_type": "markdown",
   "metadata": {},
   "source": [
    "*YOUR ANSWER HERE* "
   ]
  },
  {
   "cell_type": "code",
   "execution_count": 10,
   "metadata": {},
   "outputs": [
    {
     "data": {
      "text/plain": [
       "array(['MUNICIPAL', 'DOMESTIC'], dtype=object)"
      ]
     },
     "execution_count": 10,
     "metadata": {},
     "output_type": "execute_result"
    }
   ],
   "source": [
    "# SOLUTION scratch work\n",
    "wells['WELL_TYPE'].unique()"
   ]
  },
  {
   "cell_type": "markdown",
   "metadata": {},
   "source": [
    "*SOLUTION*\n",
    "\n",
    "*According to the documentation, the dataset includes only those wells monitored under the GAMA Domestic Well (DW), Special Studies, and Priority Basin (PB) programs. The Well Type column indicates only municipal and domestic wells. This means the dataset probably does not include wells associated with industrial or agricultural customers.*"
   ]
  },
  {
   "cell_type": "markdown",
   "metadata": {},
   "source": [
    "## Faithfulness\n",
    "\n",
    "### Question 1.4\n",
    "**Question 1.4.a (1 pt):** Check out the documentation for this dataset provided by the [California Data Portal](https://data.ca.gov/dataset/ground-water-water-quality-results) by clicking on \"Data Dictionary\". Are there any fields in either `wells` or `measurements` that are not documented or easily understandable from looking at the data dictionary? Note: we are using an older version of the GAMA data, and the headings are slightly different from those given in the data dictionary. Do your best to interpret how the columns map to the data dictionary. "
   ]
  },
  {
   "cell_type": "markdown",
   "metadata": {},
   "source": [
    "*YOUR ANSWER HERE*\n",
    "\n",
    "*The field \"geometry\" in `wells` does not appear in the data dictionary, though careful study will indicate it includes similar information to the \"APPROXIMATE LATITUDE\" and \"APPROXIMATE LONGITUDE\" fields (which do not appear in either dataframe). The field \"RL\" in `measurements` doesn't appear in the data dictionary, although it might stand for \"reporting limit\", or the lowest detectable concentration for that chemical and sensor. Some other fields, like \"SCREEN_LENGTH_FT\", also don't appear, although those are slightly more self-explanatory.*"
   ]
  },
  {
   "cell_type": "markdown",
   "metadata": {},
   "source": [
    "**Question 1.4.b (1 pt):** Read the descriptions of the GAMA Domestic Wells on [this website](https://gamagroundwater.waterboards.ca.gov/gama/dataset_information). What concerns do you have about data faithfulness based on the description of the data's origins?"
   ]
  },
  {
   "cell_type": "markdown",
   "metadata": {},
   "source": [
    "*YOUR ANSWER HERE*\n",
    "\n",
    "*Human error may have been introduced, for example, when the data were transcribed from hard copy reports to an electronic database in 2006.*"
   ]
  },
  {
   "cell_type": "markdown",
   "metadata": {},
   "source": [
    "**Question 1.4.c (1 pt):** Qualitatively describe other checks you could make to the dataset and/or documentation to assess its faithfulness."
   ]
  },
  {
   "cell_type": "markdown",
   "metadata": {},
   "source": [
    "*YOUR ANSWER HERE*\n",
    "\n",
    "*Answers can vary; some possiblities include checking the data for null values and/or for values that fall outside of a range of reasonable values (including measurement limits) for the field in question.*"
   ]
  },
  {
   "cell_type": "markdown",
   "metadata": {},
   "source": [
    "## Data Cleaning\n",
    "### Question 1.5 (4 pts)\n",
    "\n",
    "How many measurements are above the reporting limit for their respective chemicals?"
   ]
  },
  {
   "cell_type": "code",
   "execution_count": 11,
   "metadata": {},
   "outputs": [
    {
     "name": "stdout",
     "output_type": "stream",
     "text": [
      "float64\n",
      "object\n"
     ]
    }
   ],
   "source": [
    "# We want to compare the \"RESULTS\" and \"RL\" columns of 'measurements'\n",
    "# Let's start by checking the type of data in each column\n",
    "print(measurements['RESULTS'].dtype)\n",
    "print(measurements['RL'].dtype)"
   ]
  },
  {
   "cell_type": "markdown",
   "metadata": {},
   "source": [
    "The data in the `RL` column are coded as strings. To compare them to the float data in the `RESULTS` column, we'll need to convert this column to float data. Add a new column called 'RL_clean' to `measurements`. What happens if you attempt to fill this column with the `RL` data coded as float type?"
   ]
  },
  {
   "cell_type": "code",
   "execution_count": null,
   "metadata": {},
   "outputs": [],
   "source": [
    "# Start by creating a new column and copying the values from RL into that column\n",
    "measurements['RL_clean'] = ... # YOUR CODE HERE\n",
    "\n",
    "# Then, try convert this new column to float type using the .astype() method\n",
    "... # YOUR CODE HERE"
   ]
  },
  {
   "cell_type": "code",
   "execution_count": 12,
   "metadata": {},
   "outputs": [
    {
     "ename": "ValueError",
     "evalue": "could not convert string to float: 'UNK'",
     "output_type": "error",
     "traceback": [
      "\u001b[0;31m---------------------------------------------------------------------------\u001b[0m",
      "\u001b[0;31mValueError\u001b[0m                                Traceback (most recent call last)",
      "Cell \u001b[0;32mIn[12], line 4\u001b[0m\n\u001b[1;32m      1\u001b[0m \u001b[38;5;66;03m# SOLUTION\u001b[39;00m\n\u001b[1;32m      2\u001b[0m measurements[\u001b[38;5;124m'\u001b[39m\u001b[38;5;124mRL_clean\u001b[39m\u001b[38;5;124m'\u001b[39m] \u001b[38;5;241m=\u001b[39m measurements[\u001b[38;5;124m'\u001b[39m\u001b[38;5;124mRL\u001b[39m\u001b[38;5;124m'\u001b[39m]\n\u001b[0;32m----> 4\u001b[0m measurements[\u001b[38;5;124m'\u001b[39m\u001b[38;5;124mRL_clean\u001b[39m\u001b[38;5;124m'\u001b[39m] \u001b[38;5;241m=\u001b[39m \u001b[43mmeasurements\u001b[49m\u001b[43m[\u001b[49m\u001b[38;5;124;43m'\u001b[39;49m\u001b[38;5;124;43mRL_clean\u001b[39;49m\u001b[38;5;124;43m'\u001b[39;49m\u001b[43m]\u001b[49m\u001b[38;5;241;43m.\u001b[39;49m\u001b[43mastype\u001b[49m\u001b[43m(\u001b[49m\u001b[38;5;124;43m'\u001b[39;49m\u001b[38;5;124;43mfloat\u001b[39;49m\u001b[38;5;124;43m'\u001b[39;49m\u001b[43m)\u001b[49m\n",
      "File \u001b[0;32m/opt/conda/lib/python3.9/site-packages/pandas/core/generic.py:5815\u001b[0m, in \u001b[0;36mNDFrame.astype\u001b[0;34m(self, dtype, copy, errors)\u001b[0m\n\u001b[1;32m   5808\u001b[0m     results \u001b[38;5;241m=\u001b[39m [\n\u001b[1;32m   5809\u001b[0m         \u001b[38;5;28mself\u001b[39m\u001b[38;5;241m.\u001b[39miloc[:, i]\u001b[38;5;241m.\u001b[39mastype(dtype, copy\u001b[38;5;241m=\u001b[39mcopy)\n\u001b[1;32m   5810\u001b[0m         \u001b[38;5;28;01mfor\u001b[39;00m i \u001b[38;5;129;01min\u001b[39;00m \u001b[38;5;28mrange\u001b[39m(\u001b[38;5;28mlen\u001b[39m(\u001b[38;5;28mself\u001b[39m\u001b[38;5;241m.\u001b[39mcolumns))\n\u001b[1;32m   5811\u001b[0m     ]\n\u001b[1;32m   5813\u001b[0m \u001b[38;5;28;01melse\u001b[39;00m:\n\u001b[1;32m   5814\u001b[0m     \u001b[38;5;66;03m# else, only a single dtype is given\u001b[39;00m\n\u001b[0;32m-> 5815\u001b[0m     new_data \u001b[38;5;241m=\u001b[39m \u001b[38;5;28;43mself\u001b[39;49m\u001b[38;5;241;43m.\u001b[39;49m\u001b[43m_mgr\u001b[49m\u001b[38;5;241;43m.\u001b[39;49m\u001b[43mastype\u001b[49m\u001b[43m(\u001b[49m\u001b[43mdtype\u001b[49m\u001b[38;5;241;43m=\u001b[39;49m\u001b[43mdtype\u001b[49m\u001b[43m,\u001b[49m\u001b[43m \u001b[49m\u001b[43mcopy\u001b[49m\u001b[38;5;241;43m=\u001b[39;49m\u001b[43mcopy\u001b[49m\u001b[43m,\u001b[49m\u001b[43m \u001b[49m\u001b[43merrors\u001b[49m\u001b[38;5;241;43m=\u001b[39;49m\u001b[43merrors\u001b[49m\u001b[43m)\u001b[49m\n\u001b[1;32m   5816\u001b[0m     \u001b[38;5;28;01mreturn\u001b[39;00m \u001b[38;5;28mself\u001b[39m\u001b[38;5;241m.\u001b[39m_constructor(new_data)\u001b[38;5;241m.\u001b[39m__finalize__(\u001b[38;5;28mself\u001b[39m, method\u001b[38;5;241m=\u001b[39m\u001b[38;5;124m\"\u001b[39m\u001b[38;5;124mastype\u001b[39m\u001b[38;5;124m\"\u001b[39m)\n\u001b[1;32m   5818\u001b[0m \u001b[38;5;66;03m# GH 33113: handle empty frame or series\u001b[39;00m\n",
      "File \u001b[0;32m/opt/conda/lib/python3.9/site-packages/pandas/core/internals/managers.py:418\u001b[0m, in \u001b[0;36mBaseBlockManager.astype\u001b[0;34m(self, dtype, copy, errors)\u001b[0m\n\u001b[1;32m    417\u001b[0m \u001b[38;5;28;01mdef\u001b[39;00m \u001b[38;5;21mastype\u001b[39m(\u001b[38;5;28mself\u001b[39m: T, dtype, copy: \u001b[38;5;28mbool\u001b[39m \u001b[38;5;241m=\u001b[39m \u001b[38;5;28;01mFalse\u001b[39;00m, errors: \u001b[38;5;28mstr\u001b[39m \u001b[38;5;241m=\u001b[39m \u001b[38;5;124m\"\u001b[39m\u001b[38;5;124mraise\u001b[39m\u001b[38;5;124m\"\u001b[39m) \u001b[38;5;241m-\u001b[39m\u001b[38;5;241m>\u001b[39m T:\n\u001b[0;32m--> 418\u001b[0m     \u001b[38;5;28;01mreturn\u001b[39;00m \u001b[38;5;28;43mself\u001b[39;49m\u001b[38;5;241;43m.\u001b[39;49m\u001b[43mapply\u001b[49m\u001b[43m(\u001b[49m\u001b[38;5;124;43m\"\u001b[39;49m\u001b[38;5;124;43mastype\u001b[39;49m\u001b[38;5;124;43m\"\u001b[39;49m\u001b[43m,\u001b[49m\u001b[43m \u001b[49m\u001b[43mdtype\u001b[49m\u001b[38;5;241;43m=\u001b[39;49m\u001b[43mdtype\u001b[49m\u001b[43m,\u001b[49m\u001b[43m \u001b[49m\u001b[43mcopy\u001b[49m\u001b[38;5;241;43m=\u001b[39;49m\u001b[43mcopy\u001b[49m\u001b[43m,\u001b[49m\u001b[43m \u001b[49m\u001b[43merrors\u001b[49m\u001b[38;5;241;43m=\u001b[39;49m\u001b[43merrors\u001b[49m\u001b[43m)\u001b[49m\n",
      "File \u001b[0;32m/opt/conda/lib/python3.9/site-packages/pandas/core/internals/managers.py:327\u001b[0m, in \u001b[0;36mBaseBlockManager.apply\u001b[0;34m(self, f, align_keys, ignore_failures, **kwargs)\u001b[0m\n\u001b[1;32m    325\u001b[0m         applied \u001b[38;5;241m=\u001b[39m b\u001b[38;5;241m.\u001b[39mapply(f, \u001b[38;5;241m*\u001b[39m\u001b[38;5;241m*\u001b[39mkwargs)\n\u001b[1;32m    326\u001b[0m     \u001b[38;5;28;01melse\u001b[39;00m:\n\u001b[0;32m--> 327\u001b[0m         applied \u001b[38;5;241m=\u001b[39m \u001b[38;5;28;43mgetattr\u001b[39;49m\u001b[43m(\u001b[49m\u001b[43mb\u001b[49m\u001b[43m,\u001b[49m\u001b[43m \u001b[49m\u001b[43mf\u001b[49m\u001b[43m)\u001b[49m\u001b[43m(\u001b[49m\u001b[38;5;241;43m*\u001b[39;49m\u001b[38;5;241;43m*\u001b[39;49m\u001b[43mkwargs\u001b[49m\u001b[43m)\u001b[49m\n\u001b[1;32m    328\u001b[0m \u001b[38;5;28;01mexcept\u001b[39;00m (\u001b[38;5;167;01mTypeError\u001b[39;00m, \u001b[38;5;167;01mNotImplementedError\u001b[39;00m):\n\u001b[1;32m    329\u001b[0m     \u001b[38;5;28;01mif\u001b[39;00m \u001b[38;5;129;01mnot\u001b[39;00m ignore_failures:\n",
      "File \u001b[0;32m/opt/conda/lib/python3.9/site-packages/pandas/core/internals/blocks.py:591\u001b[0m, in \u001b[0;36mBlock.astype\u001b[0;34m(self, dtype, copy, errors)\u001b[0m\n\u001b[1;32m    573\u001b[0m \u001b[38;5;250m\u001b[39m\u001b[38;5;124;03m\"\"\"\u001b[39;00m\n\u001b[1;32m    574\u001b[0m \u001b[38;5;124;03mCoerce to the new dtype.\u001b[39;00m\n\u001b[1;32m    575\u001b[0m \n\u001b[0;32m   (...)\u001b[0m\n\u001b[1;32m    587\u001b[0m \u001b[38;5;124;03mBlock\u001b[39;00m\n\u001b[1;32m    588\u001b[0m \u001b[38;5;124;03m\"\"\"\u001b[39;00m\n\u001b[1;32m    589\u001b[0m values \u001b[38;5;241m=\u001b[39m \u001b[38;5;28mself\u001b[39m\u001b[38;5;241m.\u001b[39mvalues\n\u001b[0;32m--> 591\u001b[0m new_values \u001b[38;5;241m=\u001b[39m \u001b[43mastype_array_safe\u001b[49m\u001b[43m(\u001b[49m\u001b[43mvalues\u001b[49m\u001b[43m,\u001b[49m\u001b[43m \u001b[49m\u001b[43mdtype\u001b[49m\u001b[43m,\u001b[49m\u001b[43m \u001b[49m\u001b[43mcopy\u001b[49m\u001b[38;5;241;43m=\u001b[39;49m\u001b[43mcopy\u001b[49m\u001b[43m,\u001b[49m\u001b[43m \u001b[49m\u001b[43merrors\u001b[49m\u001b[38;5;241;43m=\u001b[39;49m\u001b[43merrors\u001b[49m\u001b[43m)\u001b[49m\n\u001b[1;32m    593\u001b[0m new_values \u001b[38;5;241m=\u001b[39m maybe_coerce_values(new_values)\n\u001b[1;32m    594\u001b[0m newb \u001b[38;5;241m=\u001b[39m \u001b[38;5;28mself\u001b[39m\u001b[38;5;241m.\u001b[39mmake_block(new_values)\n",
      "File \u001b[0;32m/opt/conda/lib/python3.9/site-packages/pandas/core/dtypes/cast.py:1309\u001b[0m, in \u001b[0;36mastype_array_safe\u001b[0;34m(values, dtype, copy, errors)\u001b[0m\n\u001b[1;32m   1306\u001b[0m dtype \u001b[38;5;241m=\u001b[39m pandas_dtype(dtype)\n\u001b[1;32m   1308\u001b[0m \u001b[38;5;28;01mtry\u001b[39;00m:\n\u001b[0;32m-> 1309\u001b[0m     new_values \u001b[38;5;241m=\u001b[39m \u001b[43mastype_array\u001b[49m\u001b[43m(\u001b[49m\u001b[43mvalues\u001b[49m\u001b[43m,\u001b[49m\u001b[43m \u001b[49m\u001b[43mdtype\u001b[49m\u001b[43m,\u001b[49m\u001b[43m \u001b[49m\u001b[43mcopy\u001b[49m\u001b[38;5;241;43m=\u001b[39;49m\u001b[43mcopy\u001b[49m\u001b[43m)\u001b[49m\n\u001b[1;32m   1310\u001b[0m \u001b[38;5;28;01mexcept\u001b[39;00m (\u001b[38;5;167;01mValueError\u001b[39;00m, \u001b[38;5;167;01mTypeError\u001b[39;00m):\n\u001b[1;32m   1311\u001b[0m     \u001b[38;5;66;03m# e.g. astype_nansafe can fail on object-dtype of strings\u001b[39;00m\n\u001b[1;32m   1312\u001b[0m     \u001b[38;5;66;03m#  trying to convert to float\u001b[39;00m\n\u001b[1;32m   1313\u001b[0m     \u001b[38;5;28;01mif\u001b[39;00m errors \u001b[38;5;241m==\u001b[39m \u001b[38;5;124m\"\u001b[39m\u001b[38;5;124mignore\u001b[39m\u001b[38;5;124m\"\u001b[39m:\n",
      "File \u001b[0;32m/opt/conda/lib/python3.9/site-packages/pandas/core/dtypes/cast.py:1257\u001b[0m, in \u001b[0;36mastype_array\u001b[0;34m(values, dtype, copy)\u001b[0m\n\u001b[1;32m   1254\u001b[0m     values \u001b[38;5;241m=\u001b[39m values\u001b[38;5;241m.\u001b[39mastype(dtype, copy\u001b[38;5;241m=\u001b[39mcopy)\n\u001b[1;32m   1256\u001b[0m \u001b[38;5;28;01melse\u001b[39;00m:\n\u001b[0;32m-> 1257\u001b[0m     values \u001b[38;5;241m=\u001b[39m \u001b[43mastype_nansafe\u001b[49m\u001b[43m(\u001b[49m\u001b[43mvalues\u001b[49m\u001b[43m,\u001b[49m\u001b[43m \u001b[49m\u001b[43mdtype\u001b[49m\u001b[43m,\u001b[49m\u001b[43m \u001b[49m\u001b[43mcopy\u001b[49m\u001b[38;5;241;43m=\u001b[39;49m\u001b[43mcopy\u001b[49m\u001b[43m)\u001b[49m\n\u001b[1;32m   1259\u001b[0m \u001b[38;5;66;03m# in pandas we don't store numpy str dtypes, so convert to object\u001b[39;00m\n\u001b[1;32m   1260\u001b[0m \u001b[38;5;28;01mif\u001b[39;00m \u001b[38;5;28misinstance\u001b[39m(dtype, np\u001b[38;5;241m.\u001b[39mdtype) \u001b[38;5;129;01mand\u001b[39;00m \u001b[38;5;28missubclass\u001b[39m(values\u001b[38;5;241m.\u001b[39mdtype\u001b[38;5;241m.\u001b[39mtype, \u001b[38;5;28mstr\u001b[39m):\n",
      "File \u001b[0;32m/opt/conda/lib/python3.9/site-packages/pandas/core/dtypes/cast.py:1201\u001b[0m, in \u001b[0;36mastype_nansafe\u001b[0;34m(arr, dtype, copy, skipna)\u001b[0m\n\u001b[1;32m   1197\u001b[0m     \u001b[38;5;28;01mraise\u001b[39;00m \u001b[38;5;167;01mValueError\u001b[39;00m(msg)\n\u001b[1;32m   1199\u001b[0m \u001b[38;5;28;01mif\u001b[39;00m copy \u001b[38;5;129;01mor\u001b[39;00m is_object_dtype(arr\u001b[38;5;241m.\u001b[39mdtype) \u001b[38;5;129;01mor\u001b[39;00m is_object_dtype(dtype):\n\u001b[1;32m   1200\u001b[0m     \u001b[38;5;66;03m# Explicit copy, or required since NumPy can't view from / to object.\u001b[39;00m\n\u001b[0;32m-> 1201\u001b[0m     \u001b[38;5;28;01mreturn\u001b[39;00m \u001b[43marr\u001b[49m\u001b[38;5;241;43m.\u001b[39;49m\u001b[43mastype\u001b[49m\u001b[43m(\u001b[49m\u001b[43mdtype\u001b[49m\u001b[43m,\u001b[49m\u001b[43m \u001b[49m\u001b[43mcopy\u001b[49m\u001b[38;5;241;43m=\u001b[39;49m\u001b[38;5;28;43;01mTrue\u001b[39;49;00m\u001b[43m)\u001b[49m\n\u001b[1;32m   1203\u001b[0m \u001b[38;5;28;01mreturn\u001b[39;00m arr\u001b[38;5;241m.\u001b[39mastype(dtype, copy\u001b[38;5;241m=\u001b[39mcopy)\n",
      "\u001b[0;31mValueError\u001b[0m: could not convert string to float: 'UNK'"
     ]
    }
   ],
   "source": [
    "# SOLUTION\n",
    "measurements['RL_clean'] = measurements['RL']\n",
    "\n",
    "measurements['RL_clean'] = measurements['RL_clean'].astype('float')"
   ]
  },
  {
   "cell_type": "markdown",
   "metadata": {},
   "source": [
    "The code above fails because one or more of the elements in the `RL_clean` column contain the string 'UNK', which cannot be converted to a float. Replace the 'UNK' entries in `RL_clean` with `np.nan` and try again to convert the column to float values."
   ]
  },
  {
   "cell_type": "code",
   "execution_count": null,
   "metadata": {},
   "outputs": [],
   "source": [
    "# YOUR CODE HERE"
   ]
  },
  {
   "cell_type": "code",
   "execution_count": 13,
   "metadata": {},
   "outputs": [],
   "source": [
    "# SOLUTION\n",
    "\n",
    "# Replace the 'UNK' values with np.nan\n",
    "measurements.loc[measurements['RL_clean']=='UNK','RL_clean'] = np.nan\n",
    "\n",
    "# Convert RL_clean to float values\n",
    "measurements['RL_clean'] = measurements['RL_clean'].astype('float')"
   ]
  },
  {
   "cell_type": "markdown",
   "metadata": {},
   "source": [
    "Next, use `.loc` to find all of the rows in which `RESULTS` exceed the reporting limit."
   ]
  },
  {
   "cell_type": "code",
   "execution_count": 14,
   "metadata": {},
   "outputs": [],
   "source": [
    "# YOUR CODE HERE"
   ]
  },
  {
   "cell_type": "code",
   "execution_count": 15,
   "metadata": {},
   "outputs": [
    {
     "data": {
      "text/html": [
       "<div>\n",
       "<style scoped>\n",
       "    .dataframe tbody tr th:only-of-type {\n",
       "        vertical-align: middle;\n",
       "    }\n",
       "\n",
       "    .dataframe tbody tr th {\n",
       "        vertical-align: top;\n",
       "    }\n",
       "\n",
       "    .dataframe thead th {\n",
       "        text-align: right;\n",
       "    }\n",
       "</style>\n",
       "<table border=\"1\" class=\"dataframe\">\n",
       "  <thead>\n",
       "    <tr style=\"text-align: right;\">\n",
       "      <th></th>\n",
       "      <th>WELL_ID</th>\n",
       "      <th>RESULTS</th>\n",
       "      <th>CHEMICAL</th>\n",
       "      <th>DATE</th>\n",
       "      <th>UNITS</th>\n",
       "      <th>QUALIFER</th>\n",
       "      <th>RL</th>\n",
       "      <th>RL_clean</th>\n",
       "    </tr>\n",
       "  </thead>\n",
       "  <tbody>\n",
       "    <tr>\n",
       "      <th>0</th>\n",
       "      <td>ANT-07</td>\n",
       "      <td>0.073</td>\n",
       "      <td>BR</td>\n",
       "      <td>1/29/2008</td>\n",
       "      <td>MG/L</td>\n",
       "      <td>NaN</td>\n",
       "      <td>0.02</td>\n",
       "      <td>0.020</td>\n",
       "    </tr>\n",
       "    <tr>\n",
       "      <th>1</th>\n",
       "      <td>ANT-07</td>\n",
       "      <td>0.100</td>\n",
       "      <td>CDS</td>\n",
       "      <td>1/29/2008</td>\n",
       "      <td>UG/L</td>\n",
       "      <td>&lt;</td>\n",
       "      <td>0.06</td>\n",
       "      <td>0.060</td>\n",
       "    </tr>\n",
       "    <tr>\n",
       "      <th>3</th>\n",
       "      <td>ANT-07</td>\n",
       "      <td>2.000</td>\n",
       "      <td>I</td>\n",
       "      <td>1/29/2008</td>\n",
       "      <td>UG/L</td>\n",
       "      <td>&lt;</td>\n",
       "      <td>0.002</td>\n",
       "      <td>0.002</td>\n",
       "    </tr>\n",
       "    <tr>\n",
       "      <th>4</th>\n",
       "      <td>ANT-07</td>\n",
       "      <td>6.790</td>\n",
       "      <td>MO</td>\n",
       "      <td>1/29/2008</td>\n",
       "      <td>UG/L</td>\n",
       "      <td>NaN</td>\n",
       "      <td>0.2</td>\n",
       "      <td>0.200</td>\n",
       "    </tr>\n",
       "    <tr>\n",
       "      <th>7</th>\n",
       "      <td>ANT-07</td>\n",
       "      <td>1.340</td>\n",
       "      <td>NO3NO2N</td>\n",
       "      <td>1/29/2008</td>\n",
       "      <td>MG/L</td>\n",
       "      <td>NaN</td>\n",
       "      <td>0.04</td>\n",
       "      <td>0.040</td>\n",
       "    </tr>\n",
       "    <tr>\n",
       "      <th>...</th>\n",
       "      <td>...</td>\n",
       "      <td>...</td>\n",
       "      <td>...</td>\n",
       "      <td>...</td>\n",
       "      <td>...</td>\n",
       "      <td>...</td>\n",
       "      <td>...</td>\n",
       "      <td>...</td>\n",
       "    </tr>\n",
       "    <tr>\n",
       "      <th>518885</th>\n",
       "      <td>SD 831</td>\n",
       "      <td>0.143</td>\n",
       "      <td>F</td>\n",
       "      <td>5/20/2008</td>\n",
       "      <td>MG/L</td>\n",
       "      <td>=</td>\n",
       "      <td>0.1</td>\n",
       "      <td>0.100</td>\n",
       "    </tr>\n",
       "    <tr>\n",
       "      <th>518898</th>\n",
       "      <td>TUL938</td>\n",
       "      <td>8.390</td>\n",
       "      <td>PH</td>\n",
       "      <td>4/26/2006</td>\n",
       "      <td>PH UNITS</td>\n",
       "      <td>=</td>\n",
       "      <td>0.01</td>\n",
       "      <td>0.010</td>\n",
       "    </tr>\n",
       "    <tr>\n",
       "      <th>518905</th>\n",
       "      <td>SD 868</td>\n",
       "      <td>147.000</td>\n",
       "      <td>NaN</td>\n",
       "      <td>6/11/2008</td>\n",
       "      <td>MG/L</td>\n",
       "      <td>=</td>\n",
       "      <td>20</td>\n",
       "      <td>20.000</td>\n",
       "    </tr>\n",
       "    <tr>\n",
       "      <th>518907</th>\n",
       "      <td>SD 868</td>\n",
       "      <td>99.500</td>\n",
       "      <td>SO4</td>\n",
       "      <td>6/11/2008</td>\n",
       "      <td>MG/L</td>\n",
       "      <td>=</td>\n",
       "      <td>2.5</td>\n",
       "      <td>2.500</td>\n",
       "    </tr>\n",
       "    <tr>\n",
       "      <th>518913</th>\n",
       "      <td>SD 831</td>\n",
       "      <td>1.440</td>\n",
       "      <td>AS</td>\n",
       "      <td>5/20/2008</td>\n",
       "      <td>UG/L</td>\n",
       "      <td>=</td>\n",
       "      <td>1</td>\n",
       "      <td>1.000</td>\n",
       "    </tr>\n",
       "  </tbody>\n",
       "</table>\n",
       "<p>99835 rows × 8 columns</p>\n",
       "</div>"
      ],
      "text/plain": [
       "       WELL_ID  RESULTS CHEMICAL       DATE     UNITS QUALIFER     RL  \\\n",
       "0       ANT-07    0.073       BR  1/29/2008      MG/L      NaN   0.02   \n",
       "1       ANT-07    0.100      CDS  1/29/2008      UG/L        <   0.06   \n",
       "3       ANT-07    2.000        I  1/29/2008      UG/L        <  0.002   \n",
       "4       ANT-07    6.790       MO  1/29/2008      UG/L      NaN    0.2   \n",
       "7       ANT-07    1.340  NO3NO2N  1/29/2008      MG/L      NaN   0.04   \n",
       "...        ...      ...      ...        ...       ...      ...    ...   \n",
       "518885  SD 831    0.143        F  5/20/2008      MG/L        =    0.1   \n",
       "518898  TUL938    8.390       PH  4/26/2006  PH UNITS        =   0.01   \n",
       "518905  SD 868  147.000      NaN  6/11/2008      MG/L        =     20   \n",
       "518907  SD 868   99.500      SO4  6/11/2008      MG/L        =    2.5   \n",
       "518913  SD 831    1.440       AS  5/20/2008      UG/L        =      1   \n",
       "\n",
       "        RL_clean  \n",
       "0          0.020  \n",
       "1          0.060  \n",
       "3          0.002  \n",
       "4          0.200  \n",
       "7          0.040  \n",
       "...          ...  \n",
       "518885     0.100  \n",
       "518898     0.010  \n",
       "518905    20.000  \n",
       "518907     2.500  \n",
       "518913     1.000  \n",
       "\n",
       "[99835 rows x 8 columns]"
      ]
     },
     "execution_count": 15,
     "metadata": {},
     "output_type": "execute_result"
    }
   ],
   "source": [
    "over_RL = measurements.loc[measurements['RESULTS']>measurements['RL_clean']]\n",
    "over_RL"
   ]
  },
  {
   "cell_type": "markdown",
   "metadata": {},
   "source": [
    "How many measurements exceeded the reporting limit?"
   ]
  },
  {
   "cell_type": "markdown",
   "metadata": {},
   "source": [
    "*YOUR ANSWER HERE*"
   ]
  },
  {
   "cell_type": "markdown",
   "metadata": {},
   "source": [
    "*SOLUTION*\n",
    "\n",
    "99,835"
   ]
  },
  {
   "cell_type": "markdown",
   "metadata": {},
   "source": [
    "## 2. Working with GeoDataFrames\n",
    "\n",
    "A GeoDataFrame contains a tabular, geospatial dataset:\n",
    "\n",
    "* It has a **'geometry' column** that holds the geometry information (or features in GeoJSON).\n",
    "* The other columns are the **attributes** (or properties in GeoJSON) that describe each of the geometries\n",
    "\n",
    "Such a `GeoDataFrame` is just like a pandas `DataFrame`, but with some additional functionality for working with geospatial data. For example GeoDataFrames include:\n",
    "\n",
    "* A `.geometry` attribute that always returns the column with the geometry information (returning a GeoSeries). The column name itself does not necessarily need to be 'geometry', but it will always be accessible as the `.geometry` attribute.\n",
    "* Extra methods for working with spatial data (area, distance, buffer, intersection, ...), some of which we'll see in later notebooks."
   ]
  },
  {
   "cell_type": "markdown",
   "metadata": {},
   "source": [
    "### Question 2.1 (1 pt)\n",
    "Import the Shapefile data stored in the folder `data/CA_Counties` and assign it to a GeoDataFrame named `counties`. Print the `head` of `counties`."
   ]
  },
  {
   "cell_type": "code",
   "execution_count": 15,
   "metadata": {},
   "outputs": [
    {
     "ename": "AttributeError",
     "evalue": "'ellipsis' object has no attribute 'head'",
     "output_type": "error",
     "traceback": [
      "\u001b[0;31m---------------------------------------------------------------------------\u001b[0m",
      "\u001b[0;31mAttributeError\u001b[0m                            Traceback (most recent call last)",
      "\u001b[0;32m/tmp/ipykernel_23/3703043335.py\u001b[0m in \u001b[0;36m<module>\u001b[0;34m\u001b[0m\n\u001b[1;32m      1\u001b[0m \u001b[0;31m#YOUR CODE HERE\u001b[0m\u001b[0;34m\u001b[0m\u001b[0;34m\u001b[0m\u001b[0m\n\u001b[1;32m      2\u001b[0m \u001b[0mcounties\u001b[0m \u001b[0;34m=\u001b[0m \u001b[0;34m...\u001b[0m\u001b[0;34m\u001b[0m\u001b[0;34m\u001b[0m\u001b[0m\n\u001b[0;32m----> 3\u001b[0;31m \u001b[0mcounties\u001b[0m\u001b[0;34m.\u001b[0m\u001b[0mhead\u001b[0m\u001b[0;34m(\u001b[0m\u001b[0;34m)\u001b[0m\u001b[0;34m\u001b[0m\u001b[0;34m\u001b[0m\u001b[0m\n\u001b[0m",
      "\u001b[0;31mAttributeError\u001b[0m: 'ellipsis' object has no attribute 'head'"
     ]
    }
   ],
   "source": [
    "#YOUR CODE HERE\n",
    "counties = ...\n",
    "counties.head()"
   ]
  },
  {
   "cell_type": "code",
   "execution_count": 16,
   "metadata": {},
   "outputs": [
    {
     "ename": "DriverError",
     "evalue": "data/CA_Counties/CA_Counties_TIGER2016.shp: No such file or directory",
     "output_type": "error",
     "traceback": [
      "\u001b[0;31m---------------------------------------------------------------------------\u001b[0m",
      "\u001b[0;31mCPLE_OpenFailedError\u001b[0m                      Traceback (most recent call last)",
      "File \u001b[0;32mfiona/ogrext.pyx:136\u001b[0m, in \u001b[0;36mfiona.ogrext.gdal_open_vector\u001b[0;34m()\u001b[0m\n",
      "File \u001b[0;32mfiona/_err.pyx:291\u001b[0m, in \u001b[0;36mfiona._err.exc_wrap_pointer\u001b[0;34m()\u001b[0m\n",
      "\u001b[0;31mCPLE_OpenFailedError\u001b[0m: data/CA_Counties/CA_Counties_TIGER2016.shp: No such file or directory",
      "\nDuring handling of the above exception, another exception occurred:\n",
      "\u001b[0;31mDriverError\u001b[0m                               Traceback (most recent call last)",
      "Cell \u001b[0;32mIn[16], line 2\u001b[0m\n\u001b[1;32m      1\u001b[0m \u001b[38;5;66;03m# Solution\u001b[39;00m\n\u001b[0;32m----> 2\u001b[0m counties \u001b[38;5;241m=\u001b[39m \u001b[43mgpd\u001b[49m\u001b[38;5;241;43m.\u001b[39;49m\u001b[43mread_file\u001b[49m\u001b[43m(\u001b[49m\u001b[38;5;124;43m'\u001b[39;49m\u001b[38;5;124;43mdata/CA_Counties/CA_Counties_TIGER2016.shp\u001b[39;49m\u001b[38;5;124;43m'\u001b[39;49m\u001b[43m)\u001b[49m\n\u001b[1;32m      3\u001b[0m counties\u001b[38;5;241m.\u001b[39mhead()\n",
      "File \u001b[0;32m/opt/conda/lib/python3.9/site-packages/geopandas/io/file.py:201\u001b[0m, in \u001b[0;36m_read_file\u001b[0;34m(filename, bbox, mask, rows, **kwargs)\u001b[0m\n\u001b[1;32m    198\u001b[0m     reader \u001b[38;5;241m=\u001b[39m fiona\u001b[38;5;241m.\u001b[39mopen\n\u001b[1;32m    200\u001b[0m \u001b[38;5;28;01mwith\u001b[39;00m fiona_env():\n\u001b[0;32m--> 201\u001b[0m     \u001b[38;5;28;01mwith\u001b[39;00m \u001b[43mreader\u001b[49m\u001b[43m(\u001b[49m\u001b[43mpath_or_bytes\u001b[49m\u001b[43m,\u001b[49m\u001b[43m \u001b[49m\u001b[38;5;241;43m*\u001b[39;49m\u001b[38;5;241;43m*\u001b[39;49m\u001b[43mkwargs\u001b[49m\u001b[43m)\u001b[49m \u001b[38;5;28;01mas\u001b[39;00m features:\n\u001b[1;32m    202\u001b[0m \n\u001b[1;32m    203\u001b[0m         \u001b[38;5;66;03m# In a future Fiona release the crs attribute of features will\u001b[39;00m\n\u001b[1;32m    204\u001b[0m         \u001b[38;5;66;03m# no longer be a dict, but will behave like a dict. So this should\u001b[39;00m\n\u001b[1;32m    205\u001b[0m         \u001b[38;5;66;03m# be forwards compatible\u001b[39;00m\n\u001b[1;32m    206\u001b[0m         crs \u001b[38;5;241m=\u001b[39m (\n\u001b[1;32m    207\u001b[0m             features\u001b[38;5;241m.\u001b[39mcrs[\u001b[38;5;124m\"\u001b[39m\u001b[38;5;124minit\u001b[39m\u001b[38;5;124m\"\u001b[39m]\n\u001b[1;32m    208\u001b[0m             \u001b[38;5;28;01mif\u001b[39;00m features\u001b[38;5;241m.\u001b[39mcrs \u001b[38;5;129;01mand\u001b[39;00m \u001b[38;5;124m\"\u001b[39m\u001b[38;5;124minit\u001b[39m\u001b[38;5;124m\"\u001b[39m \u001b[38;5;129;01min\u001b[39;00m features\u001b[38;5;241m.\u001b[39mcrs\n\u001b[1;32m    209\u001b[0m             \u001b[38;5;28;01melse\u001b[39;00m features\u001b[38;5;241m.\u001b[39mcrs_wkt\n\u001b[1;32m    210\u001b[0m         )\n\u001b[1;32m    212\u001b[0m         \u001b[38;5;66;03m# handle loading the bounding box\u001b[39;00m\n",
      "File \u001b[0;32m/opt/conda/lib/python3.9/site-packages/fiona/env.py:457\u001b[0m, in \u001b[0;36mensure_env_with_credentials.<locals>.wrapper\u001b[0;34m(*args, **kwds)\u001b[0m\n\u001b[1;32m    454\u001b[0m     session \u001b[38;5;241m=\u001b[39m DummySession()\n\u001b[1;32m    456\u001b[0m \u001b[38;5;28;01mwith\u001b[39;00m env_ctor(session\u001b[38;5;241m=\u001b[39msession):\n\u001b[0;32m--> 457\u001b[0m     \u001b[38;5;28;01mreturn\u001b[39;00m \u001b[43mf\u001b[49m\u001b[43m(\u001b[49m\u001b[38;5;241;43m*\u001b[39;49m\u001b[43margs\u001b[49m\u001b[43m,\u001b[49m\u001b[43m \u001b[49m\u001b[38;5;241;43m*\u001b[39;49m\u001b[38;5;241;43m*\u001b[39;49m\u001b[43mkwds\u001b[49m\u001b[43m)\u001b[49m\n",
      "File \u001b[0;32m/opt/conda/lib/python3.9/site-packages/fiona/__init__.py:292\u001b[0m, in \u001b[0;36mopen\u001b[0;34m(fp, mode, driver, schema, crs, encoding, layer, vfs, enabled_drivers, crs_wkt, allow_unsupported_drivers, **kwargs)\u001b[0m\n\u001b[1;32m    289\u001b[0m     path \u001b[38;5;241m=\u001b[39m parse_path(fp)\n\u001b[1;32m    291\u001b[0m \u001b[38;5;28;01mif\u001b[39;00m mode \u001b[38;5;129;01min\u001b[39;00m (\u001b[38;5;124m\"\u001b[39m\u001b[38;5;124ma\u001b[39m\u001b[38;5;124m\"\u001b[39m, \u001b[38;5;124m\"\u001b[39m\u001b[38;5;124mr\u001b[39m\u001b[38;5;124m\"\u001b[39m):\n\u001b[0;32m--> 292\u001b[0m     colxn \u001b[38;5;241m=\u001b[39m \u001b[43mCollection\u001b[49m\u001b[43m(\u001b[49m\n\u001b[1;32m    293\u001b[0m \u001b[43m        \u001b[49m\u001b[43mpath\u001b[49m\u001b[43m,\u001b[49m\n\u001b[1;32m    294\u001b[0m \u001b[43m        \u001b[49m\u001b[43mmode\u001b[49m\u001b[43m,\u001b[49m\n\u001b[1;32m    295\u001b[0m \u001b[43m        \u001b[49m\u001b[43mdriver\u001b[49m\u001b[38;5;241;43m=\u001b[39;49m\u001b[43mdriver\u001b[49m\u001b[43m,\u001b[49m\n\u001b[1;32m    296\u001b[0m \u001b[43m        \u001b[49m\u001b[43mencoding\u001b[49m\u001b[38;5;241;43m=\u001b[39;49m\u001b[43mencoding\u001b[49m\u001b[43m,\u001b[49m\n\u001b[1;32m    297\u001b[0m \u001b[43m        \u001b[49m\u001b[43mlayer\u001b[49m\u001b[38;5;241;43m=\u001b[39;49m\u001b[43mlayer\u001b[49m\u001b[43m,\u001b[49m\n\u001b[1;32m    298\u001b[0m \u001b[43m        \u001b[49m\u001b[43menabled_drivers\u001b[49m\u001b[38;5;241;43m=\u001b[39;49m\u001b[43menabled_drivers\u001b[49m\u001b[43m,\u001b[49m\n\u001b[1;32m    299\u001b[0m \u001b[43m        \u001b[49m\u001b[43mallow_unsupported_drivers\u001b[49m\u001b[38;5;241;43m=\u001b[39;49m\u001b[43mallow_unsupported_drivers\u001b[49m\u001b[43m,\u001b[49m\n\u001b[1;32m    300\u001b[0m \u001b[43m        \u001b[49m\u001b[38;5;241;43m*\u001b[39;49m\u001b[38;5;241;43m*\u001b[39;49m\u001b[43mkwargs\u001b[49m\n\u001b[1;32m    301\u001b[0m \u001b[43m    \u001b[49m\u001b[43m)\u001b[49m\n\u001b[1;32m    302\u001b[0m \u001b[38;5;28;01melif\u001b[39;00m mode \u001b[38;5;241m==\u001b[39m \u001b[38;5;124m\"\u001b[39m\u001b[38;5;124mw\u001b[39m\u001b[38;5;124m\"\u001b[39m:\n\u001b[1;32m    303\u001b[0m     colxn \u001b[38;5;241m=\u001b[39m Collection(\n\u001b[1;32m    304\u001b[0m         path,\n\u001b[1;32m    305\u001b[0m         mode,\n\u001b[0;32m   (...)\u001b[0m\n\u001b[1;32m    314\u001b[0m         \u001b[38;5;241m*\u001b[39m\u001b[38;5;241m*\u001b[39mkwargs\n\u001b[1;32m    315\u001b[0m     )\n",
      "File \u001b[0;32m/opt/conda/lib/python3.9/site-packages/fiona/collection.py:243\u001b[0m, in \u001b[0;36mCollection.__init__\u001b[0;34m(self, path, mode, driver, schema, crs, encoding, layer, vsi, archive, enabled_drivers, crs_wkt, ignore_fields, ignore_geometry, include_fields, wkt_version, allow_unsupported_drivers, **kwargs)\u001b[0m\n\u001b[1;32m    241\u001b[0m \u001b[38;5;28;01mif\u001b[39;00m \u001b[38;5;28mself\u001b[39m\u001b[38;5;241m.\u001b[39mmode \u001b[38;5;241m==\u001b[39m \u001b[38;5;124m\"\u001b[39m\u001b[38;5;124mr\u001b[39m\u001b[38;5;124m\"\u001b[39m:\n\u001b[1;32m    242\u001b[0m     \u001b[38;5;28mself\u001b[39m\u001b[38;5;241m.\u001b[39msession \u001b[38;5;241m=\u001b[39m Session()\n\u001b[0;32m--> 243\u001b[0m     \u001b[38;5;28;43mself\u001b[39;49m\u001b[38;5;241;43m.\u001b[39;49m\u001b[43msession\u001b[49m\u001b[38;5;241;43m.\u001b[39;49m\u001b[43mstart\u001b[49m\u001b[43m(\u001b[49m\u001b[38;5;28;43mself\u001b[39;49m\u001b[43m,\u001b[49m\u001b[43m \u001b[49m\u001b[38;5;241;43m*\u001b[39;49m\u001b[38;5;241;43m*\u001b[39;49m\u001b[43mkwargs\u001b[49m\u001b[43m)\u001b[49m\n\u001b[1;32m    244\u001b[0m \u001b[38;5;28;01melif\u001b[39;00m \u001b[38;5;28mself\u001b[39m\u001b[38;5;241m.\u001b[39mmode \u001b[38;5;129;01min\u001b[39;00m (\u001b[38;5;124m\"\u001b[39m\u001b[38;5;124ma\u001b[39m\u001b[38;5;124m\"\u001b[39m, \u001b[38;5;124m\"\u001b[39m\u001b[38;5;124mw\u001b[39m\u001b[38;5;124m\"\u001b[39m):\n\u001b[1;32m    245\u001b[0m     \u001b[38;5;28mself\u001b[39m\u001b[38;5;241m.\u001b[39msession \u001b[38;5;241m=\u001b[39m WritingSession()\n",
      "File \u001b[0;32mfiona/ogrext.pyx:588\u001b[0m, in \u001b[0;36mfiona.ogrext.Session.start\u001b[0;34m()\u001b[0m\n",
      "File \u001b[0;32mfiona/ogrext.pyx:143\u001b[0m, in \u001b[0;36mfiona.ogrext.gdal_open_vector\u001b[0;34m()\u001b[0m\n",
      "\u001b[0;31mDriverError\u001b[0m: data/CA_Counties/CA_Counties_TIGER2016.shp: No such file or directory"
     ]
    }
   ],
   "source": [
    "# Solution\n",
    "counties = gpd.read_file('data/CA_Counties/CA_Counties_TIGER2016.shp')\n",
    "counties.head()"
   ]
  },
  {
   "cell_type": "markdown",
   "metadata": {},
   "source": [
    "Because a GeoDataFrame is a Pandas dataframe, you can use all the Pandas dataframe methods with it:"
   ]
  },
  {
   "cell_type": "code",
   "execution_count": 17,
   "metadata": {},
   "outputs": [],
   "source": [
    "# Drop a column we don't need\n",
    "counties.drop('STATEFP',axis=1,inplace=True)"
   ]
  },
  {
   "cell_type": "markdown",
   "metadata": {},
   "source": [
    "GeoDataFrames also offer some functionalities specific to spatial data. For example, you can easily plot the data. "
   ]
  },
  {
   "cell_type": "code",
   "execution_count": 18,
   "metadata": {},
   "outputs": [
    {
     "data": {
      "image/png": "[encoded data removed]",
      "text/plain": [
       "<Figure size 432x288 with 1 Axes>"
      ]
     },
     "metadata": {
      "needs_background": "light"
     },
     "output_type": "display_data"
    }
   ],
   "source": [
    "# Create a map of the CA counties\n",
    "counties.plot();"
   ]
  },
  {
   "cell_type": "code",
   "execution_count": 21,
   "metadata": {},
   "outputs": [
    {
     "data": {
      "image/png": "[encoded data removed]",
      "text/plain": [
       "<Figure size 432x288 with 1 Axes>"
      ]
     },
     "metadata": {
      "needs_background": "light"
     },
     "output_type": "display_data"
    }
   ],
   "source": [
    "# Create a map of the GAMA wells\n",
    "wells.plot(color = 'orange');"
   ]
  },
  {
   "cell_type": "markdown",
   "metadata": {},
   "source": [
    "### Question 2.2 (1 pt)\n",
    "Examine the plots of the counties and wells above. What do the values on the x- and y- axes of the two plots above represent? Why do `wells` and `counties` have different axes? Would the wells and counties overlap if we were to place them both on the same map?"
   ]
  },
  {
   "cell_type": "markdown",
   "metadata": {},
   "source": [
    "*YOUR ANSWER HERE*"
   ]
  },
  {
   "cell_type": "markdown",
   "metadata": {},
   "source": [
    "*Solution*\n",
    "\n",
    "*The x- and y-axes represent positions within the coordinate reference system in which each dataset is defined. For example, for the `wells` data, it appears the x-axis represents longitude and the y-axis represents latitude. The two plots have different axes because the data use different coordinate reference systems to represent geographic location on a two-dimensional plane.*"
   ]
  },
  {
   "cell_type": "code",
   "execution_count": 25,
   "metadata": {},
   "outputs": [
    {
     "data": {
      "image/png": "[encoded data removed]",
      "text/plain": [
       "<Figure size 504x504 with 1 Axes>"
      ]
     },
     "metadata": {
      "needs_background": "light"
     },
     "output_type": "display_data"
    }
   ],
   "source": [
    "# SOLUTION scratch\n",
    "fig, ax = plt.subplots(figsize=(7,7))\n",
    "counties.plot(ax=ax)\n",
    "wells.plot(ax= ax, color = 'orange');"
   ]
  },
  {
   "cell_type": "markdown",
   "metadata": {},
   "source": [
    "### Geometries: Points, Linestrings and Polygons\n",
    "\n",
    "\n",
    "A GeoPandas GeoSeries supports three basic types of vector geometries, in [Well-Known Text ](https://en.wikipedia.org/wiki/Well-known_text_representation_of_geometry) format. In the examples below, the tuples contain point coordinates in two-dimensional space:\n",
    "- **Points / MultiPoints**\n",
    "    - POINT( -122 38)\n",
    "\n",
    "    - MULTIPOINT((-122 38), (-123 39))\n",
    "    \n",
    "    \n",
    "- **Lines / MultiLines***\n",
    "    - LINE (30 10, 10 30, 40 40)\n",
    "    \n",
    "    - MULTILINE((10 10, 20 20, 10 40),(40 40, 30 30, 40 20, 30 10))\n",
    "    \n",
    "    \n",
    "- **Polygons / MultiPolygons**\n",
    "    - POLYGON ((35 10, 45 45, 15 40, 10 20, 35 10), (20 30, 35 35, 30 20, 20 30))\n",
    "    - MULTIPOLYGON (((30 20, 45 40, 10 40, 30 20)), ((15 5, 40 10, 10 20, 5 10, 15 5)))\n",
    "\n",
    "Notes:\n",
    "- GeoPandas does not support raster geometries - check out the [Rasterio](https://rasterio.readthedocs.io/en/latest/) package for that.\n",
    "- A GeoSeries can contain mixed geometry types but it's not a great idea.\n",
    "\n",
    "(See https://shapely.readthedocs.io/en/stable/manual.html#geometric-objects for extensive overview)\n",
    "\n",
    "\n",
    "</br>\n",
    "\n"
   ]
  },
  {
   "cell_type": "markdown",
   "metadata": {},
   "source": [
    "### Question 2.3 (1 pt)\n",
    "What kind of geometry are the data in `wells`? What about `counties`? "
   ]
  },
  {
   "cell_type": "code",
   "execution_count": 27,
   "metadata": {},
   "outputs": [],
   "source": [
    "# YOUR CODE HERE"
   ]
  },
  {
   "cell_type": "code",
   "execution_count": 33,
   "metadata": {},
   "outputs": [
    {
     "name": "stdout",
     "output_type": "stream",
     "text": [
      "<class 'shapely.geometry.point.Point'>\n",
      "<class 'shapely.geometry.polygon.Polygon'>\n",
      "['Point']\n",
      "['Polygon' 'MultiPolygon']\n"
     ]
    }
   ],
   "source": [
    "# SOLUTION\n",
    "print(type(wells.iloc[0,-1]))\n",
    "print(type(counties.iloc[0,-1]))\n",
    "print(wells['geometry'].geom_type.unique())\n",
    "print(counties['geometry'].geom_type.unique())"
   ]
  },
  {
   "cell_type": "markdown",
   "metadata": {},
   "source": [
    "### Coordinate reference systems\n",
    "\n",
    "A **coordinate reference system (CRS)** determines how the two-dimensional (planar) coordinates of the geometry objects should be related to actual places on the (non-planar) earth.\n",
    "\n",
    "For a nice in-depth explanation, see https://docs.qgis.org/2.8/en/docs/gentle_gis_introduction/coordinate_reference_systems.html\n"
   ]
  },
  {
   "cell_type": "markdown",
   "metadata": {},
   "source": [
    "In order to reduce distortion in maps we apply a map projection (math) to transform 3D geographic coordinates to 2D projected map coordinates.\n",
    "<img src=\"https://www.e-education.psu.edu/natureofgeoinfo/sites/www.e-education.psu.edu.natureofgeoinfo/files/image/projection.gif\"></img>\n",
    "\n",
    "\n",
    "The output of spatial measurements depend on the CRS and is expressed in the units of the CRS. \n",
    "\n",
    "## Defining and Transforming a CRS\n",
    "\n",
    "There are sometimes good reasons you want to change the coordinate references system of your dataset, for example:\n",
    "\n",
    "- different sources with different crs -> need to convert to the same crs\n",
    "- distance-based operations -> you'll need a crs that has meter units (not degrees)\n",
    "- plotting in a certain crs (e.g., to preserve area)\n",
    "\n",
    "The process for transforming a CRS is:\n",
    "\n",
    "1. Make sure a **crs** is defined for the geopandas dataframe by checking the **crs** property. \n",
    "2. If it is not set, you can **define** it.\n",
    "3. Transform the coordinate geometry to a new CRS using the **to_crs** method.\n",
    "- This returns a new geodataframe with the new coordinate values and CRS.\n",
    "- You need to know what which CRS to use!!"
   ]
  },
  {
   "cell_type": "markdown",
   "metadata": {},
   "source": [
    "A GeoDataFrame or GeoSeries has a `.crs` attribute which holds (optionally) a description of the coordinate reference system of the geometries. In our case, the crs is defined for both `wells` and `counties`, but the two datasets use different crs. "
   ]
  },
  {
   "cell_type": "code",
   "execution_count": 34,
   "metadata": {},
   "outputs": [
    {
     "name": "stdout",
     "output_type": "stream",
     "text": [
      "epsg:4326\n",
      "epsg:3857\n"
     ]
    }
   ],
   "source": [
    "print(wells.crs)\n",
    "print(counties.crs)"
   ]
  },
  {
   "cell_type": "markdown",
   "metadata": {},
   "source": [
    "What does **epsg:4326** mean? This is an [EPSG](http://www.epsg.org/) code for the geographic CRS known as the [World Geodectic System of 1984](https://en.wikipedia.org/wiki/World_Geodetic_System#WGS84), or `WGS84`. This is the most commonly used CRS for latitude and longitude coordinate data and is the default CRS for most mapping software when the data does not have a defined CRS.\n",
    "\n",
    "The `counties` crs, epsg:3857, is known as \"Pseudo-Mercator.\" You can read about it at the link above."
   ]
  },
  {
   "cell_type": "markdown",
   "metadata": {},
   "source": [
    "### Question 2.4 (1 pt)\n",
    "So that we can better compare the `wells` and `counties` dataframes, let's transform the crs for `counties` data to epsg:4326. We can convert a GeoDataFrame to another reference system using the `to_crs` function. Make the transformation and save it to a new variable called `counties_wgs84`. You will need to decide if/how to specify the three parameters to `to_crs`."
   ]
  },
  {
   "cell_type": "code",
   "execution_count": null,
   "metadata": {},
   "outputs": [],
   "source": [
    "# YOUR CODE HERE\n",
    "counties_wgs84 = ..."
   ]
  },
  {
   "cell_type": "code",
   "execution_count": 35,
   "metadata": {},
   "outputs": [],
   "source": [
    "# SOLUTION\n",
    "counties_wgs84 = counties.to_crs(epsg=4326)"
   ]
  },
  {
   "cell_type": "code",
   "execution_count": 37,
   "metadata": {},
   "outputs": [],
   "source": [
    "assert counties_wgs84.crs == 'epsg:4326'"
   ]
  },
  {
   "cell_type": "markdown",
   "metadata": {},
   "source": [
    "### Question 2.5 (1 pt)\n",
    "Now that `counties` and `wells` are in the same coordinate reference system, we can (meaningfully) plot them on the same map. Run the code block below and make two \"artistic\" changes to the plot (for example, change the size or shape of the well markers or the weight of the county boundaries). "
   ]
  },
  {
   "cell_type": "code",
   "execution_count": 38,
   "metadata": {},
   "outputs": [
    {
     "data": {
      "image/png": "[encoded data removed]",
      "text/plain": [
       "<Figure size 576x864 with 1 Axes>"
      ]
     },
     "metadata": {
      "needs_background": "light"
     },
     "output_type": "display_data"
    }
   ],
   "source": [
    "fig, ax = plt.subplots(figsize=(8,12))\n",
    "\n",
    "wells.plot(ax=ax, color = 'blue', alpha = 0.7, markersize = 1)\n",
    "\n",
    "counties_wgs84.plot(ax=ax, color = 'white', edgecolor='gray', alpha = 0.3)\n",
    "\n",
    "ax.axis('off') # You can optionally omit the axes\n",
    "\n",
    "# Show a title\n",
    "ax.set_title('Monitored wells in California')\n",
    "\n",
    "plt.show()"
   ]
  },
  {
   "cell_type": "markdown",
   "metadata": {},
   "source": [
    "## Spatial relationships \n",
    "\n",
    "An important aspect of geospatial data is that we can look at *spatial relationships*: how two spatial objects relate to each other (whether they overlap, intersect, contain, .. one another).\n",
    "\n",
    "The topological, set-theoretic relationships in GIS are typically based on the DE-9IM model. See https://en.wikipedia.org/wiki/Spatial_relation for more information.\n",
    "\n",
    "<img src=\"images/TopologicSpatialRelations2.png\"><br>\n",
    "(Image by [Krauss, CC BY-SA 3.0](https://en.wikipedia.org/wiki/Spatial_relation#/media/File:TopologicSpatialRelarions2.png))\n",
    "\n",
    "#### Spatial relationships functions overview\n",
    "\n",
    "<ul>\n",
    "  <li>`equals`</li>\n",
    "  <li>`contains`</li>\n",
    "  <li>`crosses`</li>\n",
    "  <li>`disjoint`</li>\n",
    "  <li>`intersects`</li>\n",
    "  <li>`overlaps`</li>\n",
    "  <li>`touches`</li>\n",
    "  <li>`within`</li>\n",
    "  <li>`covers`</li>\n",
    "</ul>\n",
    "\n",
    "<p>\n",
    "See https://shapely.readthedocs.io/en/stable/manual.html#predicates-and-relationships for an overview of those methods.\n"
   ]
  },
  {
   "cell_type": "markdown",
   "metadata": {},
   "source": [
    "We can use the built-in methods in Geopandas to evaluate the spatial relationships between individual objects.\n",
    "\n",
    "For example, we can show that the first well (index 0) is located in Kern County. Note: we use `.squeeze()` here and elsewhere to to extract the geometry object when the GeoSeries only contains one entry."
   ]
  },
  {
   "cell_type": "code",
   "execution_count": 39,
   "metadata": {},
   "outputs": [
    {
     "data": {
      "text/plain": [
       "True"
      ]
     },
     "execution_count": 39,
     "metadata": {},
     "output_type": "execute_result"
    }
   ],
   "source": [
    "# extract the first well (a Point object)\n",
    "well0 = wells.loc[0,'geometry']\n",
    "\n",
    "# extract the Kern county Polygon\n",
    "kern = counties_wgs84.loc[counties['NAME']=='Kern','geometry'].squeeze()\n",
    "\n",
    "# use the `contains` method to determine whether well0 is located within Kern\n",
    "kern.contains(well0)"
   ]
  },
  {
   "cell_type": "markdown",
   "metadata": {},
   "source": [
    "The same methods that are available on individual `shapely` geometries as we have seen above, are also available as methods on `GeoSeries` / `GeoDataFrame` objects.\n",
    "\n",
    "For example, if we call the `contains` method on the `counties` dataframe with the `well0` point, Python check whether each county contains `well0`. We can then use the resulting series of Booleans to filter the dataframe."
   ]
  },
  {
   "cell_type": "code",
   "execution_count": 40,
   "metadata": {},
   "outputs": [
    {
     "data": {
      "text/html": [
       "<div>\n",
       "<style scoped>\n",
       "    .dataframe tbody tr th:only-of-type {\n",
       "        vertical-align: middle;\n",
       "    }\n",
       "\n",
       "    .dataframe tbody tr th {\n",
       "        vertical-align: top;\n",
       "    }\n",
       "\n",
       "    .dataframe thead th {\n",
       "        text-align: right;\n",
       "    }\n",
       "</style>\n",
       "<table border=\"1\" class=\"dataframe\">\n",
       "  <thead>\n",
       "    <tr style=\"text-align: right;\">\n",
       "      <th></th>\n",
       "      <th>COUNTYFP</th>\n",
       "      <th>COUNTYNS</th>\n",
       "      <th>GEOID</th>\n",
       "      <th>NAME</th>\n",
       "      <th>NAMELSAD</th>\n",
       "      <th>LSAD</th>\n",
       "      <th>CLASSFP</th>\n",
       "      <th>MTFCC</th>\n",
       "      <th>CSAFP</th>\n",
       "      <th>CBSAFP</th>\n",
       "      <th>METDIVFP</th>\n",
       "      <th>FUNCSTAT</th>\n",
       "      <th>ALAND</th>\n",
       "      <th>AWATER</th>\n",
       "      <th>INTPTLAT</th>\n",
       "      <th>INTPTLON</th>\n",
       "      <th>geometry</th>\n",
       "    </tr>\n",
       "  </thead>\n",
       "  <tbody>\n",
       "    <tr>\n",
       "      <th>32</th>\n",
       "      <td>029</td>\n",
       "      <td>02054176</td>\n",
       "      <td>06029</td>\n",
       "      <td>Kern</td>\n",
       "      <td>Kern County</td>\n",
       "      <td>06</td>\n",
       "      <td>H1</td>\n",
       "      <td>G4020</td>\n",
       "      <td>None</td>\n",
       "      <td>12540</td>\n",
       "      <td>None</td>\n",
       "      <td>A</td>\n",
       "      <td>21061589620</td>\n",
       "      <td>79574760</td>\n",
       "      <td>+35.3466288</td>\n",
       "      <td>-118.7295064</td>\n",
       "      <td>POLYGON ((-119.91367 35.43927, -119.92328 35.4...</td>\n",
       "    </tr>\n",
       "  </tbody>\n",
       "</table>\n",
       "</div>"
      ],
      "text/plain": [
       "   COUNTYFP  COUNTYNS  GEOID  NAME     NAMELSAD LSAD CLASSFP  MTFCC CSAFP  \\\n",
       "32      029  02054176  06029  Kern  Kern County   06      H1  G4020  None   \n",
       "\n",
       "   CBSAFP METDIVFP FUNCSTAT        ALAND    AWATER     INTPTLAT      INTPTLON  \\\n",
       "32  12540     None        A  21061589620  79574760  +35.3466288  -118.7295064   \n",
       "\n",
       "                                             geometry  \n",
       "32  POLYGON ((-119.91367 35.43927, -119.92328 35.4...  "
      ]
     },
     "execution_count": 40,
     "metadata": {},
     "output_type": "execute_result"
    }
   ],
   "source": [
    "well0_counties = counties_wgs84.contains(well0) # print this if you're not sure what form the output will take\n",
    "counties_wgs84[well0_counties]"
   ]
  },
  {
   "cell_type": "markdown",
   "metadata": {},
   "source": [
    "### Question 2.6 (1 pt)\n",
    "Filter `wells` to show only those wells that are located `within` Fresno county."
   ]
  },
  {
   "cell_type": "code",
   "execution_count": 41,
   "metadata": {},
   "outputs": [],
   "source": [
    "# YOUR CODE HERE\n",
    "\n",
    "...\n",
    "\n",
    "fresno_wells = ..."
   ]
  },
  {
   "cell_type": "code",
   "execution_count": 42,
   "metadata": {},
   "outputs": [],
   "source": [
    "# SOLUTION\n",
    "fresno = counties_wgs84.loc[counties_wgs84['NAME']=='Fresno','geometry'].squeeze()\n",
    "fresno_wells = wells[wells.within(fresno)]"
   ]
  },
  {
   "cell_type": "code",
   "execution_count": 43,
   "metadata": {},
   "outputs": [],
   "source": [
    "assert len(fresno_wells)==120"
   ]
  },
  {
   "cell_type": "markdown",
   "metadata": {},
   "source": [
    "## Question 3: Merging data\n",
    "For this question, we want to use the method [`.merge()`](https://pandas.pydata.org/pandas-docs/stable/reference/api/pandas.DataFrame.merge.html) to merge `fresno_wells` and `measurements`.<br>\n",
    "\n",
    "When you use `.merge()`, there are a few parameters that you'll have to set. The `DataFrame` in `DataFrame.merge()` is considered your left dataframe, or the set of data that will show up on the left side of your merged dataframe. The `right` field will contain your right dataframe (the set of data that will show up on the right side of your merged dataframe).<br>\n",
    "\n",
    "Two of the key fields that you'll have to fill out are `on = ` (the common field that both tables should be matched on when  you merge) and ` how = ` (the type of merge that you want to perform).<br>\n",
    "A visual of the different types of merges is shown below ([source](http://www.datasciencemadesimple.com/join-merge-data-frames-pandas-python/)).<br>\n",
    "\n",
    "<img src=\"images/joins.png\"><br>\n",
    "An inner merge retains only the records that both tables have in common, an outer merge keeps all records from both tables and fills in `NaN` values for non-overlapping records, and a right merge and a left merge keep all the records from the right or left table, respectively, filling in `NaN` if a particular record is not found in the other table."
   ]
  },
  {
   "cell_type": "markdown",
   "metadata": {},
   "source": [
    "### Question 3.1 (1 pt)\n",
    "If we want to link the well measurements in `measurement` to the well characteristics in `fresno_wells`, what field do we want to use for `on = `?"
   ]
  },
  {
   "cell_type": "markdown",
   "metadata": {},
   "source": [
    "*YOUR ANSWER HERE*"
   ]
  },
  {
   "cell_type": "markdown",
   "metadata": {},
   "source": [
    "*SOLUTION*\n",
    "\n",
    "*We want to merge on \"WELL_ID\", which will allow us to link measurements to well characteristics.*"
   ]
  },
  {
   "cell_type": "markdown",
   "metadata": {},
   "source": [
    "### Question 3.2 (1 pt)\n",
    "Which type of merge (inner, outer, left, right) should we use to merge the `measurements` and `fresno_wells` data? Why?"
   ]
  },
  {
   "cell_type": "code",
   "execution_count": 70,
   "metadata": {},
   "outputs": [],
   "source": [
    "# use this cell for scratch work"
   ]
  },
  {
   "cell_type": "markdown",
   "metadata": {},
   "source": [
    "*YOUR ANSWER HERE*"
   ]
  },
  {
   "cell_type": "code",
   "execution_count": 71,
   "metadata": {},
   "outputs": [
    {
     "name": "stdout",
     "output_type": "stream",
     "text": [
      "(16058, 18)\n",
      "(522615, 18)\n",
      "(16058, 18)\n",
      "(522615, 18)\n"
     ]
    }
   ],
   "source": [
    "# SOLUTION scratch work\n",
    "print(measurements.merge(fresno_wells, on = \"WELL_ID\", how = \"right\").shape)\n",
    "print(measurements.merge(fresno_wells, on = 'WELL_ID', how = 'left').shape)\n",
    "print(measurements.merge(fresno_wells, on = 'WELL_ID', how = 'inner').shape)\n",
    "print(measurements.merge(fresno_wells, on = 'WELL_ID', how = 'outer').shape)"
   ]
  },
  {
   "cell_type": "markdown",
   "metadata": {},
   "source": [
    "*SOLUTION*\n",
    "\n",
    "*An \"inner\" merge would definitely work because it would retain only those wells in Fresno with measurement data. \"Outer\" would not work because it would give us records for all wells, not just those in Fresno. Depending on how you structure the function, in this case, a \"right\" or \"left\" merge could also work, in the former case if fresno_wells were on the right (`measurements.merge(fresno_wells...`) and in the latter if fresno_wells were on the left (`fresno_wells.merge(measurements...`). This is true because all of the wells in `fresno_wells` are also in `measurements`.*"
   ]
  },
  {
   "cell_type": "markdown",
   "metadata": {},
   "source": [
    "### Question 3.3 (1 pt)\n",
    "Merge `measurements` and `fresno_wells`, keeping `measurements` as the left dataframe. Save the merged dataframe to `measurements_wells`."
   ]
  },
  {
   "cell_type": "code",
   "execution_count": 72,
   "metadata": {},
   "outputs": [],
   "source": [
    "# YOUR CODE HERE\n",
    "measurements_wells = measurements.merge(fresno_wells, on = \"WELL_ID\", how = \"inner\")"
   ]
  },
  {
   "cell_type": "code",
   "execution_count": 73,
   "metadata": {},
   "outputs": [
    {
     "data": {
      "text/html": [
       "<div>\n",
       "<style scoped>\n",
       "    .dataframe tbody tr th:only-of-type {\n",
       "        vertical-align: middle;\n",
       "    }\n",
       "\n",
       "    .dataframe tbody tr th {\n",
       "        vertical-align: top;\n",
       "    }\n",
       "\n",
       "    .dataframe thead th {\n",
       "        text-align: right;\n",
       "    }\n",
       "</style>\n",
       "<table border=\"1\" class=\"dataframe\">\n",
       "  <thead>\n",
       "    <tr style=\"text-align: right;\">\n",
       "      <th></th>\n",
       "      <th>WELL_ID</th>\n",
       "      <th>RESULTS</th>\n",
       "      <th>CHEMICAL</th>\n",
       "      <th>DATE</th>\n",
       "      <th>UNITS</th>\n",
       "      <th>QUALIFER</th>\n",
       "      <th>RL</th>\n",
       "      <th>RL_float</th>\n",
       "      <th>RL_clean</th>\n",
       "      <th>RL_CLEAN</th>\n",
       "      <th>WELL_TYPE</th>\n",
       "      <th>WELL_DEPTH</th>\n",
       "      <th>TOP_OF_SCR</th>\n",
       "      <th>SCREEN_LEN</th>\n",
       "      <th>SOURCE</th>\n",
       "      <th>SOURCE_NAM</th>\n",
       "      <th>OTHER_NAME</th>\n",
       "      <th>geometry</th>\n",
       "    </tr>\n",
       "  </thead>\n",
       "  <tbody>\n",
       "    <tr>\n",
       "      <th>0</th>\n",
       "      <td>MADCHOW-04</td>\n",
       "      <td>104.400</td>\n",
       "      <td>C-14</td>\n",
       "      <td>4/16/2008</td>\n",
       "      <td>PCT MODERN</td>\n",
       "      <td>NaN</td>\n",
       "      <td>UNK</td>\n",
       "      <td>NaN</td>\n",
       "      <td>NaN</td>\n",
       "      <td>NaN</td>\n",
       "      <td>MUNICIPAL</td>\n",
       "      <td>480.0</td>\n",
       "      <td>180.0</td>\n",
       "      <td>290.0</td>\n",
       "      <td>USGS</td>\n",
       "      <td>MADCHOW-04</td>\n",
       "      <td>MADCHOW-04</td>\n",
       "      <td>POINT (-119.82481 36.84489)</td>\n",
       "    </tr>\n",
       "    <tr>\n",
       "      <th>1</th>\n",
       "      <td>MADCHOW-04</td>\n",
       "      <td>3.990</td>\n",
       "      <td>CL</td>\n",
       "      <td>4/16/2008</td>\n",
       "      <td>MG/L</td>\n",
       "      <td>NaN</td>\n",
       "      <td>0.12</td>\n",
       "      <td>0.12</td>\n",
       "      <td>0.12</td>\n",
       "      <td>NaN</td>\n",
       "      <td>MUNICIPAL</td>\n",
       "      <td>480.0</td>\n",
       "      <td>180.0</td>\n",
       "      <td>290.0</td>\n",
       "      <td>USGS</td>\n",
       "      <td>MADCHOW-04</td>\n",
       "      <td>MADCHOW-04</td>\n",
       "      <td>POINT (-119.82481 36.84489)</td>\n",
       "    </tr>\n",
       "    <tr>\n",
       "      <th>2</th>\n",
       "      <td>MADCHOW-04</td>\n",
       "      <td>0.040</td>\n",
       "      <td>CLBZME4</td>\n",
       "      <td>4/16/2008</td>\n",
       "      <td>UG/L</td>\n",
       "      <td>&lt;</td>\n",
       "      <td>0.04</td>\n",
       "      <td>0.04</td>\n",
       "      <td>0.04</td>\n",
       "      <td>NaN</td>\n",
       "      <td>MUNICIPAL</td>\n",
       "      <td>480.0</td>\n",
       "      <td>180.0</td>\n",
       "      <td>290.0</td>\n",
       "      <td>USGS</td>\n",
       "      <td>MADCHOW-04</td>\n",
       "      <td>MADCHOW-04</td>\n",
       "      <td>POINT (-119.82481 36.84489)</td>\n",
       "    </tr>\n",
       "    <tr>\n",
       "      <th>3</th>\n",
       "      <td>MADCHOW-04</td>\n",
       "      <td>0.001</td>\n",
       "      <td>CU</td>\n",
       "      <td>4/16/2008</td>\n",
       "      <td>MG/L</td>\n",
       "      <td>&lt;</td>\n",
       "      <td>1</td>\n",
       "      <td>1</td>\n",
       "      <td>1.00</td>\n",
       "      <td>NaN</td>\n",
       "      <td>MUNICIPAL</td>\n",
       "      <td>480.0</td>\n",
       "      <td>180.0</td>\n",
       "      <td>290.0</td>\n",
       "      <td>USGS</td>\n",
       "      <td>MADCHOW-04</td>\n",
       "      <td>MADCHOW-04</td>\n",
       "      <td>POINT (-119.82481 36.84489)</td>\n",
       "    </tr>\n",
       "    <tr>\n",
       "      <th>4</th>\n",
       "      <td>MADCHOW-04</td>\n",
       "      <td>0.040</td>\n",
       "      <td>DCA11</td>\n",
       "      <td>4/16/2008</td>\n",
       "      <td>UG/L</td>\n",
       "      <td>&lt;</td>\n",
       "      <td>0.04</td>\n",
       "      <td>0.04</td>\n",
       "      <td>0.04</td>\n",
       "      <td>NaN</td>\n",
       "      <td>MUNICIPAL</td>\n",
       "      <td>480.0</td>\n",
       "      <td>180.0</td>\n",
       "      <td>290.0</td>\n",
       "      <td>USGS</td>\n",
       "      <td>MADCHOW-04</td>\n",
       "      <td>MADCHOW-04</td>\n",
       "      <td>POINT (-119.82481 36.84489)</td>\n",
       "    </tr>\n",
       "  </tbody>\n",
       "</table>\n",
       "</div>"
      ],
      "text/plain": [
       "      WELL_ID  RESULTS CHEMICAL       DATE       UNITS QUALIFER    RL  \\\n",
       "0  MADCHOW-04  104.400     C-14  4/16/2008  PCT MODERN      NaN   UNK   \n",
       "1  MADCHOW-04    3.990       CL  4/16/2008        MG/L      NaN  0.12   \n",
       "2  MADCHOW-04    0.040  CLBZME4  4/16/2008        UG/L        <  0.04   \n",
       "3  MADCHOW-04    0.001       CU  4/16/2008        MG/L        <     1   \n",
       "4  MADCHOW-04    0.040    DCA11  4/16/2008        UG/L        <  0.04   \n",
       "\n",
       "  RL_float  RL_clean  RL_CLEAN  WELL_TYPE  WELL_DEPTH  TOP_OF_SCR  SCREEN_LEN  \\\n",
       "0      NaN       NaN       NaN  MUNICIPAL       480.0       180.0       290.0   \n",
       "1     0.12      0.12       NaN  MUNICIPAL       480.0       180.0       290.0   \n",
       "2     0.04      0.04       NaN  MUNICIPAL       480.0       180.0       290.0   \n",
       "3        1      1.00       NaN  MUNICIPAL       480.0       180.0       290.0   \n",
       "4     0.04      0.04       NaN  MUNICIPAL       480.0       180.0       290.0   \n",
       "\n",
       "  SOURCE  SOURCE_NAM  OTHER_NAME                     geometry  \n",
       "0   USGS  MADCHOW-04  MADCHOW-04  POINT (-119.82481 36.84489)  \n",
       "1   USGS  MADCHOW-04  MADCHOW-04  POINT (-119.82481 36.84489)  \n",
       "2   USGS  MADCHOW-04  MADCHOW-04  POINT (-119.82481 36.84489)  \n",
       "3   USGS  MADCHOW-04  MADCHOW-04  POINT (-119.82481 36.84489)  \n",
       "4   USGS  MADCHOW-04  MADCHOW-04  POINT (-119.82481 36.84489)  "
      ]
     },
     "execution_count": 73,
     "metadata": {},
     "output_type": "execute_result"
    }
   ],
   "source": [
    "measurements_wells.head()"
   ]
  },
  {
   "cell_type": "markdown",
   "metadata": {},
   "source": [
    "# Hooray, you're done! \n",
    "\n",
    "Please remember to submit your lab work, after running all cells, in .pdf and .ipynb format on bCourses."
   ]
  },
  {
   "cell_type": "markdown",
   "metadata": {},
   "source": [
    "Credits: the Geopandas section of this notebook was adapted from content developed by UC Berkeley's D-Lab and Sergio Rey's tutorials. "
   ]
  }
 ],
 "metadata": {
  "kernelspec": {
   "display_name": "Python 3 (ipykernel)",
   "language": "python",
   "name": "python3"
  },
  "language_info": {
   "codemirror_mode": {
    "name": "ipython",
    "version": 3
   },
   "file_extension": ".py",
   "mimetype": "text/x-python",
   "name": "python",
   "nbconvert_exporter": "python",
   "pygments_lexer": "ipython3",
   "version": "3.9.15"
  }
 },
 "nbformat": 4,
 "nbformat_minor": 2
}
