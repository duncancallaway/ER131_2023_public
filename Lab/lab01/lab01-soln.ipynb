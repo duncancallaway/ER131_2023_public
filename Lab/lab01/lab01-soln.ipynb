{
 "cells": [
  {
   "cell_type": "markdown",
   "metadata": {},
   "source": [
    "After you've completed the lab, make sure everything runs as expected. First, **restart the kernel** (in the menubar, select Kernel$\\rightarrow$Restart) and then **run all cells** (in the menubar, select Cell$\\rightarrow$Run All).\n",
    "\n",
    "Make sure you fill in any place that says `YOUR CODE HERE` or \"YOUR ANSWER HERE\", as well as your name and collaborators below:"
   ]
  },
  {
   "cell_type": "code",
   "execution_count": 3,
   "metadata": {},
   "outputs": [],
   "source": [
    "NAME = \"\" # put your full name here\n",
    "COLLABORATORS = \"\" # put the name(s) of anyone you worked with here"
   ]
  },
  {
   "cell_type": "markdown",
   "metadata": {
    "Xeditable": false,
    "deletable": false,
    "nbgrader": {
     "cell_type": "markdown",
     "checksum": "f89c9efbdf91aac86d087227500a7d6b",
     "grade": false,
     "grade_id": "cell-72b8b977664e17a3",
     "locked": true,
     "schema_version": 2,
     "solution": false
    }
   },
   "source": [
    "# Lab 1: Getting started\n",
    "\n",
    "This is the first lab of ER 131 and is intended to ensure that you have your Jupyter Hub and/or local Notebook environments configured correctly."
   ]
  },
  {
   "cell_type": "markdown",
   "metadata": {
    "Xeditable": false,
    "deletable": false,
    "nbgrader": {
     "cell_type": "markdown",
     "checksum": "c9d6ddae02a48a0b2e1d9261bb73701e",
     "grade": false,
     "grade_id": "cell-c28e560df9dc2d15",
     "locked": true,
     "schema_version": 2,
     "solution": false
    }
   },
   "source": [
    "# Imports\n",
    "\n",
    "These packages will be used over and over in the course.  In your own coding you don't *have* to import `numpy` as `np` (and so on), but it is what most people use, and using those abbreviations will improve how well your code ports over to others' environments."
   ]
  },
  {
   "cell_type": "code",
   "execution_count": 4,
   "metadata": {
    "ExecuteTime": {
     "end_time": "2018-01-18T23:21:43.841930Z",
     "start_time": "2018-01-18T23:21:43.193583Z"
    },
    "Xeditable": false,
    "deletable": false,
    "nbgrader": {
     "cell_type": "code",
     "checksum": "883d54a6beda2925468fe34c5096dfd2",
     "grade": false,
     "grade_id": "cell-75cd191fea675c93",
     "locked": true,
     "schema_version": 2,
     "solution": false
    }
   },
   "outputs": [],
   "source": [
    "import numpy as np\n",
    "import matplotlib.pyplot as plt\n",
    "import pandas as pd\n",
    "import re\n",
    "%matplotlib inline"
   ]
  },
  {
   "cell_type": "markdown",
   "metadata": {},
   "source": [
    "# A few jupyter shortcuts\n",
    "`esc` --> command mode for cell\n",
    "\n",
    "`enter` --> edit mode for cell\n",
    "\n",
    "`shift-enter` --> run cell and select next cell\n",
    "\n",
    "`ctrl-enter` --> run cell and keep it selected\n",
    "\n",
    "in command mode, `a` creates a new cell above\n",
    "\n",
    "in command mode, `b` creates a new cell below\n",
    "\n",
    "in command mode, `dd` deletes cell\n",
    "\n",
    "in command mode, `m` turns cell into markdown\n",
    "\n",
    "in command mode, `y` turns cell to code\n",
    "\n",
    "in command mode, `h` shows keyboard shortcuts\n",
    "\n",
    "`shift-tab` gives information on a function or method\n",
    "\n",
    "`tab` gives options to add a method or function to an object."
   ]
  },
  {
   "cell_type": "markdown",
   "metadata": {
    "Xeditable": false,
    "deletable": false,
    "nbgrader": {
     "cell_type": "markdown",
     "checksum": "a3578b247d22f70bd15fd47ee29965e7",
     "grade": false,
     "grade_id": "cell-32ba5ce5b5f93e35",
     "locked": true,
     "schema_version": 2,
     "solution": false
    }
   },
   "source": [
    "# Exercises"
   ]
  },
  {
   "cell_type": "markdown",
   "metadata": {
    "Xeditable": false,
    "deletable": false,
    "nbgrader": {
     "cell_type": "markdown",
     "checksum": "e25d026b2b82755018e32c1070daf3af",
     "grade": false,
     "grade_id": "cell-13e40a1399707439",
     "locked": true,
     "schema_version": 2,
     "solution": false
    }
   },
   "source": [
    "## Part A\n",
    "\n",
    "Write a function that returns a list of numbers, such that $ x_i=ln(i) $ for $1\\leq i \\leq n$. \n",
    "\n",
    "* Don't worry about the case where $n <= 0$.\n",
    "* Round the outputs to the nearest three decimal places.\n",
    "* Hint: Use the NumPy functions [numpy.round](https://numpy.org/doc/stable/reference/generated/numpy.round_.html) and [numpy.log](https://numpy.org/doc/stable/reference/generated/numpy.log.html). \n",
    "* The assert statements below will be very picky on where spaces show up, and this narrows the range of solutions available to print out the list\n",
    "\n",
    "Additionally, write the function so that it raises the `NotImplementedError` *unless* you give the function something to return *before* the `NotImplementedError` statement appears. You can use the following syntax to raise an error:\n",
    "\n",
    "```python \n",
    "raise NotImplementedError()\n",
    "```\n",
    "If you finish early, try to come up with more than one way to code this."
   ]
  },
  {
   "cell_type": "code",
   "execution_count": 5,
   "metadata": {
    "ExecuteTime": {
     "end_time": "2018-01-18T23:32:44.865968Z",
     "start_time": "2018-01-18T23:32:44.861303Z"
    },
    "deletable": false,
    "nbgrader": {
     "cell_type": "code",
     "checksum": "f35253b43ffb11504e10901b9526e4ca",
     "grade": false,
     "grade_id": "cell-9388c587d0e639ff",
     "locked": false,
     "schema_version": 2,
     "solution": true
    }
   },
   "outputs": [],
   "source": [
    "def natlogs(n):\n",
    "    \"\"\"\n",
    "    This function takes an integer n>0 as input.\n",
    "    It takes the natural log of each integer from 1 to n and returns a list,\n",
    "    such that the ith element of the returned list equals ln(i), rounded to \n",
    "    three decimal places.\n",
    "    \"\"\"\n",
    "    \n",
    "    # this solution creates an empty list, loops through all values from 1 to n, \n",
    "    # and appends the natural log of each value to the list\n",
    "    \n",
    "    natlog_list = [] # a list that will contain the natural logs\n",
    "    \n",
    "    for i in range(1,n+1):\n",
    "        natlog_list.append(np.round(np.log(i),decimals=3))\n",
    "    \n",
    "    return natlog_list\n",
    "    \n",
    "    raise NotImplementedError()\n",
    "    \n",
    "def natlogs2(n):\n",
    "    \n",
    "    # This solution uses map(), which applies a function (the first argument) to \n",
    "    # every element of a list (the second argument), and a returns a list of results.\n",
    "    # lambda in the function argument is a kind of one-line function that lets you\n",
    "    # specify the arguments and expression. In the example below, the argument is x,\n",
    "    # the value in the range 1 to n+1, and the expression to be returned is ln(x),\n",
    "    # i.e., the natural log of x.\n",
    "    \n",
    "    return list(map(lambda x: np.round(np.log(x),decimals=3), range(1,n+1)))\n",
    "\n",
    "    raise NotImplementedError()\n",
    "\n",
    "\n",
    "\n",
    "def natlogs3(n):\n",
    "    \n",
    "    # this solution uses list comprehension syntax, which is a shorter way to write for\n",
    "    # loops, following this syntax:\n",
    "    # [expression for item in list if conditional]\n",
    "    # This syntax is equivalent to the following loop:\n",
    "    # for item in list:\n",
    "    #     if conditional:\n",
    "    #          expression\n",
    "    \n",
    "    return [np.round(np.log(i),decimals=3) for i in range(1,n+1)]\n",
    "    \n",
    "    raise NotImplementedError()"
   ]
  },
  {
   "cell_type": "markdown",
   "metadata": {
    "Xeditable": false,
    "deletable": false,
    "nbgrader": {
     "cell_type": "markdown",
     "checksum": "d4b24a6a9f827f13fc1b08fde9ac9375",
     "grade": false,
     "grade_id": "cell-b8e3b9b11b0f764c",
     "locked": true,
     "schema_version": 2,
     "solution": false
    }
   },
   "source": [
    "Your function should print `[0.0, 0.693, 1.099, 1.386, 1.609, 1.792, 1.946, 2.079, 2.197, 2.303]` for $n=10$.  \n",
    "Check that it does:"
   ]
  },
  {
   "cell_type": "code",
   "execution_count": 6,
   "metadata": {
    "ExecuteTime": {
     "end_time": "2018-01-18T23:35:11.019139Z",
     "start_time": "2018-01-18T23:35:11.010168Z"
    }
   },
   "outputs": [
    {
     "name": "stdout",
     "output_type": "stream",
     "text": [
      "[0.0, 0.693, 1.099, 1.386, 1.609, 1.792, 1.946, 2.079, 2.197, 2.303]\n",
      "[0.0, 0.693, 1.099, 1.386, 1.609, 1.792, 1.946, 2.079, 2.197, 2.303]\n",
      "[0.0, 0.693, 1.099, 1.386, 1.609, 1.792, 1.946, 2.079, 2.197, 2.303]\n"
     ]
    }
   ],
   "source": [
    "print(natlogs(10))\n",
    "print(natlogs2(10))\n",
    "print(natlogs3(10))"
   ]
  },
  {
   "cell_type": "markdown",
   "metadata": {
    "Xeditable": false,
    "deletable": false,
    "nbgrader": {
     "cell_type": "markdown",
     "checksum": "40f19656b0e717c06ecd3818ca0f6190",
     "grade": false,
     "grade_id": "cell-5beb02bc07017f6f",
     "locked": true,
     "schema_version": 2,
     "solution": false
    }
   },
   "source": [
    "Check that `natlogs` returns the correct output for several inputs.  \n",
    "\n",
    "Note, the `assert` syntax below will throw an `AssertionError` if the boolean statements evaluate to `False` and do nothing if the statements are `True`. (You want your statements to be true.)"
   ]
  },
  {
   "cell_type": "code",
   "execution_count": 7,
   "metadata": {
    "Xeditable": false,
    "deletable": false,
    "nbgrader": {
     "cell_type": "code",
     "checksum": "fc65774b807eee19f4b8f91cb9328951",
     "grade": true,
     "grade_id": "squares-tests",
     "locked": true,
     "points": 1,
     "schema_version": 2,
     "solution": false
    }
   },
   "outputs": [],
   "source": [
    "assert natlogs(1) == [0.0]\n",
    "assert natlogs(2) == [0.0, 0.693]\n",
    "assert natlogs(10) == [0.0, 0.693, 1.099, 1.386, 1.609, 1.792, 1.946, 2.079, 2.197, 2.303]"
   ]
  },
  {
   "cell_type": "markdown",
   "metadata": {
    "Xeditable": false,
    "deletable": false,
    "nbgrader": {
     "cell_type": "markdown",
     "checksum": "30a6af98005ec896f4a358531c8968a9",
     "grade": false,
     "grade_id": "cell-262690d3399a01a6",
     "locked": true,
     "schema_version": 2,
     "solution": false
    }
   },
   "source": [
    "## Part B\n",
    "Write a function that \"cleans\" a string by:\n",
    "1.  making all letters uppercase, and\n",
    "2.  trimming leading and ending spaces.\n",
    "\n",
    "The function should take in a \"raw\" string as input and return a \"clean\" string."
   ]
  },
  {
   "cell_type": "code",
   "execution_count": 8,
   "metadata": {
    "deletable": false,
    "nbgrader": {
     "cell_type": "code",
     "checksum": "d06b6f380c1f70a92591386e663ac1f1",
     "grade": false,
     "grade_id": "cell-b1fa3ce3a6566fbc",
     "locked": false,
     "schema_version": 2,
     "solution": true
    }
   },
   "outputs": [],
   "source": [
    "def clean(string):\n",
    "    \"\"\"Return cleaned string\"\"\"\n",
    "    # YOUR CODE HERE\n",
    "        \n",
    "    clean_string = string.upper() # make uppercase\n",
    "    clean_string = clean_string.strip() # remove leading and ending whitespace\n",
    "    \n",
    "    return clean_string\n",
    "\n",
    "    raise NotImplementedError()"
   ]
  },
  {
   "cell_type": "markdown",
   "metadata": {
    "Xeditable": false,
    "deletable": false,
    "nbgrader": {
     "cell_type": "markdown",
     "checksum": "d57d4cc3f4973cd41462666f9ec3729e",
     "grade": false,
     "grade_id": "cell-8511ab6086312dfb",
     "locked": true,
     "schema_version": 2,
     "solution": false
    }
   },
   "source": [
    "Your function should clean the address \" 12 Oak Street  \" to \"12 OAK STREET\":"
   ]
  },
  {
   "cell_type": "code",
   "execution_count": 9,
   "metadata": {},
   "outputs": [
    {
     "data": {
      "text/plain": [
       "'12 OAK STREET'"
      ]
     },
     "execution_count": 9,
     "metadata": {},
     "output_type": "execute_result"
    }
   ],
   "source": [
    "clean(\" 12 Oak Street \")"
   ]
  },
  {
   "cell_type": "markdown",
   "metadata": {
    "Xeditable": false,
    "deletable": false,
    "nbgrader": {
     "cell_type": "markdown",
     "checksum": "6a7d12bf6c75cd69339e825d94e2d744",
     "grade": false,
     "grade_id": "cell-a8e600015df76fb8",
     "locked": true,
     "schema_version": 2,
     "solution": false
    }
   },
   "source": [
    "Check that the function works as expected for several inputs."
   ]
  },
  {
   "cell_type": "code",
   "execution_count": 10,
   "metadata": {
    "Xeditable": false,
    "deletable": false,
    "nbgrader": {
     "cell_type": "code",
     "checksum": "39dd9a3fcfa1d29414c216d88c2f7c17",
     "grade": true,
     "grade_id": "test-is-palindrome",
     "locked": true,
     "points": 1,
     "schema_version": 2,
     "solution": false
    }
   },
   "outputs": [],
   "source": [
    "assert clean(\"ER 131-lab section 101\") == \"ER 131-LAB SECTION 101\"\n",
    "assert clean(\" 09/01/2020 \") == \"09/01/2020\"\n",
    "assert clean(\"$1500 Dollars \") == \"$1500 DOLLARS\""
   ]
  },
  {
   "cell_type": "markdown",
   "metadata": {},
   "source": [
    "### Bonus question\n",
    "Modify your `clean` function to also replace any non-alphanumeric characters (not A-Z or 0-9) with a space (hint: you'll have to use [regular expressions](https://docs.python.org/3/library/re.html) for this part. Check out sections 8.2 and 8.3 of the [DS 100 textbook](https://www.textbook.ds100.org/intro) for more explanation and examples of how to use \"regex\")."
   ]
  },
  {
   "cell_type": "code",
   "execution_count": 11,
   "metadata": {},
   "outputs": [],
   "source": [
    "def clean_bonus(string):\n",
    "    \"\"\"Return cleaned string\"\"\"\n",
    "    # OPTIONAL: YOUR CODE HERE\n",
    "        \n",
    "    clean_string = string.upper() # make uppercase\n",
    "    clean_string = re.sub('[^a-zA-Z0-9]+', ' ', clean_string) # replace non alpha-numeric characters\n",
    "    clean_string = clean_string.strip() # remove leading and ending whitespace\n",
    "    \n",
    "    return clean_string"
   ]
  },
  {
   "cell_type": "code",
   "execution_count": 14,
   "metadata": {},
   "outputs": [],
   "source": [
    "# # Uncomment this cell to test clean_bonus, if you attempted it\n",
    "\n",
    "assert clean_bonus(\"ER 131-lab section 101\") == \"ER 131 LAB SECTION 101\"\n",
    "assert clean_bonus(\" 09/01/2020 \") == \"09 01 2020\"\n",
    "assert clean_bonus(\"$1500 DOLLARS \") == \"1500 DOLLARS\""
   ]
  },
  {
   "cell_type": "markdown",
   "metadata": {
    "Xeditable": false,
    "deletable": false,
    "nbgrader": {
     "cell_type": "markdown",
     "checksum": "41f2f563094755fd6516c659af09cd84",
     "grade": false,
     "grade_id": "cell-eb403641adc12b74",
     "locked": true,
     "schema_version": 2,
     "solution": false
    }
   },
   "source": [
    "## Part C\n",
    "\n",
    "Run the following code to see a pretty plot."
   ]
  },
  {
   "cell_type": "code",
   "execution_count": 13,
   "metadata": {},
   "outputs": [
    {
     "data": {
      "image/png": "[encoded data removed]",
      "text/plain": [
       "<Figure size 432x288 with 1 Axes>"
      ]
     },
     "metadata": {
      "needs_background": "light"
     },
     "output_type": "display_data"
    }
   ],
   "source": [
    "from mpl_toolkits.mplot3d import axes3d\n",
    "import matplotlib.pyplot as plt\n",
    "\n",
    "\n",
    "# Create a plot\n",
    "u = np.linspace(1.5*np.pi, -1.5*np.pi, 100)\n",
    "[x,y] = np.meshgrid(u, u)\n",
    "z = np.cos( np.sqrt(x.flatten()**2 + y.flatten()**2) ).reshape(x.shape)\n",
    "\n",
    "\n",
    "fig = plt.figure()\n",
    "ax = fig.add_subplot(111, projection='3d')\n",
    "# Plot a basic wireframe.\n",
    "ax.plot_wireframe(x, y, z, rstride=10, cstride=10)\n",
    "ax.view_init(elev=30., azim=50)\n",
    "plt.savefig(\"figure1.pdf\")"
   ]
  },
  {
   "cell_type": "markdown",
   "metadata": {},
   "source": [
    "Summarize the purpose of each of the following numpy methods:\n",
    "\n",
    "* `np.linspace`: *YOUR ANSWER HERE*\n",
    "    * Creates an array of evenly spaced values. In this case, np.linspace is used to create an array of 100 values starting at $$1.5\\pi$$ and ending at $$-1.5\\pi$$.*\n",
    "* `np.pi`: *YOUR ANSWER HERE*\n",
    "    * Numpy notation for the number pi (3.141592653589793). \n",
    "* `np.meshgrid`: *YOUR ANSWER HERE*\n",
    "    * In this case, np.meshgrid takes two identical vectors of length 100 and creates two 2-dimensional arrays of size 100x100. These arrays allow (x,y) pairings between every value of the two input vectors. \n",
    "* `np.flatten`: *YOUR ANSWER HERE*\n",
    "    * Takes a multidimensional array and \"collapses\" it into a one-dimensional array. "
   ]
  },
  {
   "cell_type": "markdown",
   "metadata": {},
   "source": [
    "In line 12, what does the number '111' in the `add_subplot` function represent? Under what circumstances might you enter \"121\" here instead?"
   ]
  },
  {
   "cell_type": "markdown",
   "metadata": {},
   "source": [
    "*YOUR ANSWER HERE*\n",
    "\n",
    "The three-digit integer represents the position of the subplot. In this case, we only have one subplot, but if we had multiple subplots that we wanted to show on the same figure, we would need to tell Python how to arrange these subplots. The first and second digits represent the number of rows and columns to include in the figure; the third digit represents the position of the subplot within this grid. So, you would want to use \"121\" instead of \"111\" if you wished to plot two subplots arranged in one row and two columns. You would indicate \"121\" for the first (left-side) subplot, and \"122\" for the second (right-side) subplot. "
   ]
  },
  {
   "cell_type": "markdown",
   "metadata": {},
   "source": [
    "What is the purpose of the `rstride` and `cstride` parameters in the `plot_wireframe` function?"
   ]
  },
  {
   "cell_type": "markdown",
   "metadata": {},
   "source": [
    "*YOUR ANSWER HERE*\n",
    "\n",
    "These parameters adjust the resolution of the wireframe. A smaller value increases the resolution; a larger value lowers it."
   ]
  },
  {
   "cell_type": "markdown",
   "metadata": {},
   "source": [
    "In line 15, what happens when you change the `elev` parameter in the `view_init` function? How about `azim`?"
   ]
  },
  {
   "cell_type": "markdown",
   "metadata": {},
   "source": [
    "*YOUR ANSWER HERE*\n",
    "\n",
    "These two parameters change the \"view\" of the 3D figure. The `elev` parameter tilts the view at an angle relative to the z-axis; the `azim` rotates the view around the x-y origin."
   ]
  },
  {
   "cell_type": "markdown",
   "metadata": {},
   "source": [
    "The last line of code saves the figure as a pdf file. Can you find this file? Where is it stored?"
   ]
  },
  {
   "cell_type": "markdown",
   "metadata": {},
   "source": [
    "*YOUR ANSWER HERE*\n",
    "\n",
    "The figure saves to the same directory as this this notebook. In this case, it should have saved to your Datahub, in the Lab01 folder."
   ]
  },
  {
   "cell_type": "markdown",
   "metadata": {},
   "source": [
    "## Part D\n",
    "\n",
    "Submit your assignment on bCourses. Again, this lab will not be graded, but this exercise is intended to provide you with a \"low stakes\" way to familiarlize yourself with the bCourses interface you will use to submit assignments.\n",
    "\n",
    "**Step 1:** Save your assignment as a Jupyter notebook and as an html file. Click **Kernel** --> **Restart & Clear Output**. Then, click **Cell** --> **Run All**. Then, go to the toolbar and click **File** -> **Download as** -> **.html**. Now, click **File** -> **Download as** -> **notebook (.ipynb)**. Use the following naming convention for your files: [LAST NAME]_Lab01_ER131.\n",
    "\n",
    "**Step 2:** On bCourses, navigate to ENERES 131 > Assignments > Lab 1: Introduction. Click the box that says \"Submit Assignment.\"\n",
    "\n",
    "**Step 3:** Select \"Browse...\" and choose the lab files you have downloaded. You may need to do this more than once to upload both the html and the ipynb files.\n",
    "\n",
    "**Step 4:** Select \"Submit Assignment\""
   ]
  },
  {
   "cell_type": "markdown",
   "metadata": {},
   "source": [
    "## Hooray, you're done!"
   ]
  }
 ],
 "metadata": {
  "celltoolbar": "Edit Metadata",
  "kernelspec": {
   "display_name": "Python 3",
   "language": "python",
   "name": "python3"
  },
  "language_info": {
   "codemirror_mode": {
    "name": "ipython",
    "version": 3
   },
   "file_extension": ".py",
   "mimetype": "text/x-python",
   "name": "python",
   "nbconvert_exporter": "python",
   "pygments_lexer": "ipython3",
   "version": "3.7.3"
  },
  "toc": {
   "colors": {
    "hover_highlight": "#DAA520",
    "running_highlight": "#FF0000",
    "selected_highlight": "#FFD700"
   },
   "moveMenuLeft": true,
   "nav_menu": {
    "height": "156px",
    "width": "252px"
   },
   "navigate_menu": true,
   "number_sections": true,
   "sideBar": true,
   "threshold": 4,
   "toc_cell": true,
   "toc_section_display": "block",
   "toc_window_display": true
  }
 },
 "nbformat": 4,
 "nbformat_minor": 2
}
