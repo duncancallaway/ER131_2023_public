{
 "cells": [
  {
   "cell_type": "markdown",
   "metadata": {},
   "source": [
    "Before you turn this problem in, make sure everything runs as expected. First, **restart the kernel** (in the menubar, select Kernel$\\rightarrow$Restart) and then **run all cells** (in the menubar, select Cell$\\rightarrow$Run All).\n",
    "\n",
    "Make sure you fill in any place that says `YOUR CODE HERE` or \"YOUR ANSWER HERE\", as well as your name and collaborators below:"
   ]
  },
  {
   "cell_type": "code",
   "execution_count": null,
   "metadata": {},
   "outputs": [],
   "source": [
    "NAME = \"\" # put your full name here\n",
    "COLLABORATORS = [] # list anyone you collaborated with on this workbook"
   ]
  },
  {
   "cell_type": "markdown",
   "metadata": {},
   "source": [
    "---\n",
    "\n",
    "## Lab 6: Multiple Regression"
   ]
  },
  {
   "cell_type": "markdown",
   "metadata": {},
   "source": [
    "-------------------------------------------\n",
    "\n",
    "Welcome to your sixth lab of the semester!<br>\n",
    "\n",
    "This lab continues to build on the spatial analysis and modeling skills we have been developing in previous assignments. Specifically, we will use Geopandas and the `statsmodels` library to try to predict the area burned by large wildfires in the Sierra Nevada region of California. \n",
    "\n",
    "Feel free to refer to Lab 3 for the basic Geopandas methods we learned a few weeks ago, and to Lab 5 for linear regression (single variable) basics. "
   ]
  },
  {
   "cell_type": "markdown",
   "metadata": {},
   "source": [
    "## Setup & Review\n",
    "\n",
    "Let's begin by importing the packages we'll need."
   ]
  },
  {
   "cell_type": "code",
   "execution_count": 1,
   "metadata": {},
   "outputs": [
    {
     "name": "stderr",
     "output_type": "stream",
     "text": [
      "/opt/conda/lib/python3.9/site-packages/geopandas/_compat.py:106: UserWarning: The Shapely GEOS version (3.8.0-CAPI-1.13.1 ) is incompatible with the GEOS version PyGEOS was compiled with (3.9.1-CAPI-1.14.2). Conversions between both will be slow.\n",
      "  warnings.warn(\n"
     ]
    }
   ],
   "source": [
    "import numpy as np\n",
    "import matplotlib.pyplot as plt\n",
    "import pandas as pd\n",
    "import geopandas as gpd\n",
    "\n",
    "%matplotlib inline"
   ]
  },
  {
   "cell_type": "markdown",
   "metadata": {},
   "source": [
    "The first dataset we will examine is fire perimeter data from the [Monitoring Trends in Burn Severity (MTBS)](https://www.mtbs.gov/project-overview) database. The data are stored as shapefiles in the `data/mtbs_ca` folder. To reduce the file size, we pre-processed the original nationwide data to only include data for the Sierra Nevada region (as defined by [the Sierra Nevada Conservancy boundary](https://gis.data.ca.gov/datasets/f147fdc76a104484b9fa90baacf9462f_0?geometry=-133.799%2C35.544%2C-106.047%2C41.552)). The raw MTBS data includes information about prescribed fires and wildfires; in this lab, we have filtered out all fire types except for wildfires. \n",
    "\n",
    "**Question 1 (1pt):** Import the shapefile as a GeoDataFrame. Print the first few rows. "
   ]
  },
  {
   "cell_type": "code",
   "execution_count": 2,
   "metadata": {},
   "outputs": [
    {
     "data": {
      "text/plain": [
       "Ellipsis"
      ]
     },
     "execution_count": 2,
     "metadata": {},
     "output_type": "execute_result"
    }
   ],
   "source": [
    "# YOUR CODE HERE\n",
    "sn_wildfires = ...\n",
    "sn_wildfires"
   ]
  },
  {
   "cell_type": "code",
   "execution_count": 3,
   "metadata": {},
   "outputs": [
    {
     "data": {
      "text/html": [
       "<div>\n",
       "<style scoped>\n",
       "    .dataframe tbody tr th:only-of-type {\n",
       "        vertical-align: middle;\n",
       "    }\n",
       "\n",
       "    .dataframe tbody tr th {\n",
       "        vertical-align: top;\n",
       "    }\n",
       "\n",
       "    .dataframe thead th {\n",
       "        text-align: right;\n",
       "    }\n",
       "</style>\n",
       "<table border=\"1\" class=\"dataframe\">\n",
       "  <thead>\n",
       "    <tr style=\"text-align: right;\">\n",
       "      <th></th>\n",
       "      <th>Fire_ID</th>\n",
       "      <th>Fire_Name</th>\n",
       "      <th>Year</th>\n",
       "      <th>StartMonth</th>\n",
       "      <th>StartDay</th>\n",
       "      <th>Fire_Type</th>\n",
       "      <th>Acres</th>\n",
       "      <th>geometry</th>\n",
       "    </tr>\n",
       "  </thead>\n",
       "  <tbody>\n",
       "    <tr>\n",
       "      <th>0</th>\n",
       "      <td>CA3525911854920000802</td>\n",
       "      <td>PEAK</td>\n",
       "      <td>2000</td>\n",
       "      <td>8</td>\n",
       "      <td>2</td>\n",
       "      <td>Wildfire</td>\n",
       "      <td>1316.0</td>\n",
       "      <td>POLYGON ((-118.56981 35.26986, -118.56964 35.2...</td>\n",
       "    </tr>\n",
       "    <tr>\n",
       "      <th>1</th>\n",
       "      <td>CA3534111823820120810</td>\n",
       "      <td>JAWBONE COMPLEX</td>\n",
       "      <td>2012</td>\n",
       "      <td>8</td>\n",
       "      <td>10</td>\n",
       "      <td>Wildfire</td>\n",
       "      <td>12212.0</td>\n",
       "      <td>MULTIPOLYGON (((-118.22539 35.30764, -118.2253...</td>\n",
       "    </tr>\n",
       "    <tr>\n",
       "      <th>2</th>\n",
       "      <td>CA3541611826720060805</td>\n",
       "      <td>COTTONWOOD</td>\n",
       "      <td>2006</td>\n",
       "      <td>8</td>\n",
       "      <td>5</td>\n",
       "      <td>Wildfire</td>\n",
       "      <td>2386.0</td>\n",
       "      <td>POLYGON ((-118.29174 35.41341, -118.29188 35.4...</td>\n",
       "    </tr>\n",
       "    <tr>\n",
       "      <th>3</th>\n",
       "      <td>CA3543011843920030723</td>\n",
       "      <td>BASIN</td>\n",
       "      <td>2003</td>\n",
       "      <td>7</td>\n",
       "      <td>23</td>\n",
       "      <td>Wildfire</td>\n",
       "      <td>1051.0</td>\n",
       "      <td>POLYGON ((-118.42060 35.43559, -118.41990 35.4...</td>\n",
       "    </tr>\n",
       "    <tr>\n",
       "      <th>4</th>\n",
       "      <td>CA3545811870719850628</td>\n",
       "      <td>RICH BAR</td>\n",
       "      <td>1985</td>\n",
       "      <td>6</td>\n",
       "      <td>28</td>\n",
       "      <td>Wildfire</td>\n",
       "      <td>8141.0</td>\n",
       "      <td>POLYGON ((-118.74454 35.48176, -118.74371 35.4...</td>\n",
       "    </tr>\n",
       "  </tbody>\n",
       "</table>\n",
       "</div>"
      ],
      "text/plain": [
       "                 Fire_ID        Fire_Name  Year  StartMonth  StartDay  \\\n",
       "0  CA3525911854920000802             PEAK  2000           8         2   \n",
       "1  CA3534111823820120810  JAWBONE COMPLEX  2012           8        10   \n",
       "2  CA3541611826720060805       COTTONWOOD  2006           8         5   \n",
       "3  CA3543011843920030723            BASIN  2003           7        23   \n",
       "4  CA3545811870719850628         RICH BAR  1985           6        28   \n",
       "\n",
       "  Fire_Type    Acres                                           geometry  \n",
       "0  Wildfire   1316.0  POLYGON ((-118.56981 35.26986, -118.56964 35.2...  \n",
       "1  Wildfire  12212.0  MULTIPOLYGON (((-118.22539 35.30764, -118.2253...  \n",
       "2  Wildfire   2386.0  POLYGON ((-118.29174 35.41341, -118.29188 35.4...  \n",
       "3  Wildfire   1051.0  POLYGON ((-118.42060 35.43559, -118.41990 35.4...  \n",
       "4  Wildfire   8141.0  POLYGON ((-118.74454 35.48176, -118.74371 35.4...  "
      ]
     },
     "execution_count": 3,
     "metadata": {},
     "output_type": "execute_result"
    }
   ],
   "source": [
    "# YOUR CODE HERE\n",
    "sn_wildfires = gpd.read_file('data/mtbs_sn/mtbs_sn.shp')\n",
    "sn_wildfires.head()"
   ]
  },
  {
   "cell_type": "markdown",
   "metadata": {},
   "source": [
    "Let's do an abbreviatd EDA on `sn_wildfire`, focusing on granularity and scope. The documentation above indicates that the MTBS data include all fires that burned >= 1000 acres in the western U.S. and >=500 acres in the eastern U.S (reminder that we filtered the full dataset to focus only on the Sierra Nevada region). All land ownerships are included.\n",
    "\n",
    "Each record in `sn_wildfire` represents a unique fire incident. Take a look at the shape of the geodataframe. How many fire records do we have?"
   ]
  },
  {
   "cell_type": "code",
   "execution_count": 4,
   "metadata": {},
   "outputs": [
    {
     "data": {
      "text/plain": [
       "(420, 8)"
      ]
     },
     "execution_count": 4,
     "metadata": {},
     "output_type": "execute_result"
    }
   ],
   "source": [
    "sn_wildfires.shape"
   ]
  },
  {
   "cell_type": "markdown",
   "metadata": {},
   "source": [
    "We can see that the data are recorded according to the start date of the fire; we know the year, month, and day of each incident. To determine temporal scope, we can examine the Year column."
   ]
  },
  {
   "cell_type": "code",
   "execution_count": 5,
   "metadata": {},
   "outputs": [
    {
     "data": {
      "text/plain": [
       "array([1984, 1985, 1986, 1987, 1988, 1989, 1990, 1991, 1992, 1994, 1995,\n",
       "       1996, 1997, 1998, 1999, 2000, 2001, 2002, 2003, 2004, 2005, 2006,\n",
       "       2007, 2008, 2009, 2010, 2011, 2012, 2013, 2014, 2015, 2016, 2017])"
      ]
     },
     "execution_count": 5,
     "metadata": {},
     "output_type": "execute_result"
    }
   ],
   "source": [
    "sn_wildfires.sort_values(by = 'Year')['Year'].unique() # sort our data frame by year, then find the unique years"
   ]
  },
  {
   "cell_type": "markdown",
   "metadata": {},
   "source": [
    "Since we are working with spatial data, we also want to identify the coordinate reference system (CRS) in which our data are recorded."
   ]
  },
  {
   "cell_type": "code",
   "execution_count": 6,
   "metadata": {},
   "outputs": [
    {
     "data": {
      "text/plain": [
       "<Geographic 2D CRS: EPSG:4269>\n",
       "Name: NAD83\n",
       "Axis Info [ellipsoidal]:\n",
       "- Lat[north]: Geodetic latitude (degree)\n",
       "- Lon[east]: Geodetic longitude (degree)\n",
       "Area of Use:\n",
       "- name: North America - onshore and offshore: Canada - Alberta; British Columbia; Manitoba; New Brunswick; Newfoundland and Labrador; Northwest Territories; Nova Scotia; Nunavut; Ontario; Prince Edward Island; Quebec; Saskatchewan; Yukon. Puerto Rico. United States (USA) - Alabama; Alaska; Arizona; Arkansas; California; Colorado; Connecticut; Delaware; Florida; Georgia; Hawaii; Idaho; Illinois; Indiana; Iowa; Kansas; Kentucky; Louisiana; Maine; Maryland; Massachusetts; Michigan; Minnesota; Mississippi; Missouri; Montana; Nebraska; Nevada; New Hampshire; New Jersey; New Mexico; New York; North Carolina; North Dakota; Ohio; Oklahoma; Oregon; Pennsylvania; Rhode Island; South Carolina; South Dakota; Tennessee; Texas; Utah; Vermont; Virginia; Washington; West Virginia; Wisconsin; Wyoming. US Virgin Islands. British Virgin Islands.\n",
       "- bounds: (167.65, 14.92, -47.74, 86.46)\n",
       "Datum: North American Datum 1983\n",
       "- Ellipsoid: GRS 1980\n",
       "- Prime Meridian: Greenwich"
      ]
     },
     "execution_count": 6,
     "metadata": {},
     "output_type": "execute_result"
    }
   ],
   "source": [
    "sn_wildfires.crs"
   ]
  },
  {
   "cell_type": "markdown",
   "metadata": {},
   "source": [
    "Finally, let's check the `geometry` column and determine the types of geometries contained in our geodataframe."
   ]
  },
  {
   "cell_type": "code",
   "execution_count": 7,
   "metadata": {},
   "outputs": [
    {
     "data": {
      "text/plain": [
       "array(['Polygon', 'MultiPolygon'], dtype=object)"
      ]
     },
     "execution_count": 7,
     "metadata": {},
     "output_type": "execute_result"
    }
   ],
   "source": [
    "sn_wildfires.geometry.geom_type.unique()"
   ]
  },
  {
   "cell_type": "markdown",
   "metadata": {},
   "source": [
    "## More handy Geopandas operations\n",
    "\n",
    "Geopandas provides a veritable treasure trove of [methods and attributes for Geoseries](https://geopandas.org/docs/reference/geoseries.html#general-methods-and-attributes). As a reminder, in a GeoDataFrame, a Geoseries is the column that contains the `geometry` attribute. That column is often, but not always, named \"geometry\". \n",
    "\n",
    "In our `sn_wildfire` dataframe, each geometry represents the perimeter of the area burned by a wildfire incident. We can use Geopandas operations to explore different properties of these geometries. \n",
    "\n",
    "For example, we might want to know the **centroid** of each burned area:"
   ]
  },
  {
   "cell_type": "code",
   "execution_count": 8,
   "metadata": {},
   "outputs": [
    {
     "name": "stderr",
     "output_type": "stream",
     "text": [
      "/tmp/ipykernel_224/3291928805.py:1: UserWarning: Geometry is in a geographic CRS. Results from 'centroid' are likely incorrect. Use 'GeoSeries.to_crs()' to re-project geometries to a projected CRS before this operation.\n",
      "\n",
      "  sn_wildfires.geometry.centroid.head()\n"
     ]
    },
    {
     "data": {
      "text/plain": [
       "0    POINT (-118.54871 35.25947)\n",
       "1    POINT (-118.22728 35.28013)\n",
       "2    POINT (-118.26734 35.41600)\n",
       "3    POINT (-118.43934 35.43035)\n",
       "4    POINT (-118.70713 35.45845)\n",
       "dtype: geometry"
      ]
     },
     "execution_count": 8,
     "metadata": {},
     "output_type": "execute_result"
    }
   ],
   "source": [
    "sn_wildfires.geometry.centroid.head()\n",
    "\n",
    "# equivalently, we could have called sn_wildfires['geometry'].centroid"
   ]
  },
  {
   "cell_type": "markdown",
   "metadata": {},
   "source": [
    "**Question 2 (1 pt):** Your centroid call probably returned the following warning:  \n",
    "`Geometry is in a geographic CRS. Results from 'length' are likely incorrect. Use 'GeoSeries.to_crs()' to re-project geometries to a projected CRS before this operation.`\n",
    "\n",
    "Why does Python give you this warning? What are the units of area and length returned by the Geopandas built-in methods? *Hint:* it might be helpful to [look up the CRS](https://epsg.org/home.html) for this dataset. "
   ]
  },
  {
   "cell_type": "markdown",
   "metadata": {},
   "source": [
    "*YOUR ANSWER HERE*"
   ]
  },
  {
   "cell_type": "markdown",
   "metadata": {},
   "source": [
    "*SOLUTION*\n",
    "\n",
    "\n",
    "*The units of measure depend on the CRS! In this case, we are working the NAD83 projection, whose unit of measurement is the degree. So, our area is expressed in radian degrees squared, and our perimeter in radian degrees. Not very intuitive units in which to work! If we wanted to remove the warning, we could reproject our dataframe into an equal area or equal distance CRS.*"
   ]
  },
  {
   "cell_type": "markdown",
   "metadata": {},
   "source": [
    "**Question 3 (1pt):** Transform the `sn_wildfires` data to the CONUS Albers equal area projection (EPSG:5070), which uses the meter as its unit of measure."
   ]
  },
  {
   "cell_type": "code",
   "execution_count": null,
   "metadata": {},
   "outputs": [],
   "source": [
    "# YOUR CODE HERE\n",
    "sn_wildfires = ..."
   ]
  },
  {
   "cell_type": "code",
   "execution_count": 9,
   "metadata": {},
   "outputs": [],
   "source": [
    "# SOLUTION\n",
    "sn_wildfires = sn_wildfires.to_crs(epsg=5070)"
   ]
  },
  {
   "cell_type": "markdown",
   "metadata": {},
   "source": [
    "In this lab, we will try to predict the area burned by a wildfire (using `Acres` as our response variable), using start month and (relative) distance to the nearest highway as independent variables. For the latter, we will need [data on the locations of primary roads (i.e., interstates and highways) in the U.S](https://catalog.data.gov/dataset/tiger-line-shapefile-2016-nation-u-s-primary-roads-national-shapefile). "
   ]
  },
  {
   "cell_type": "markdown",
   "metadata": {},
   "source": [
    "**Question 4 (1pt):** Open the shapefile in `data/tl_2016_us_primaryroads/` as a GeoDataFrame named ` sn_roads`. If needed, transform the CRS to match that of `sn_wildfires`."
   ]
  },
  {
   "cell_type": "code",
   "execution_count": 10,
   "metadata": {},
   "outputs": [],
   "source": [
    "# YOUR CODE HERE\n",
    "sn_roads = ..."
   ]
  },
  {
   "cell_type": "code",
   "execution_count": 11,
   "metadata": {},
   "outputs": [
    {
     "name": "stdout",
     "output_type": "stream",
     "text": [
      "epsg:4269\n"
     ]
    }
   ],
   "source": [
    "# SOLUTION\n",
    "sn_roads = gpd.read_file('data/tl_2016_us_primaryroads/tl_2016_us_primaryroads_sn.shp')\n",
    "print(sn_roads.crs)\n",
    "sn_roads = sn_roads.to_crs(epsg=5070)"
   ]
  },
  {
   "cell_type": "markdown",
   "metadata": {},
   "source": [
    "Take a look at the records in `sn_roads`. In this case, roads are represented as Linestrings. Each record represents a segment of a state or interstate highway that intersects with the Sierra Nevada boundary."
   ]
  },
  {
   "cell_type": "code",
   "execution_count": 12,
   "metadata": {},
   "outputs": [
    {
     "name": "stdout",
     "output_type": "stream",
     "text": [
      "['LineString']\n",
      "(12, 5)\n"
     ]
    },
    {
     "data": {
      "text/html": [
       "<div>\n",
       "<style scoped>\n",
       "    .dataframe tbody tr th:only-of-type {\n",
       "        vertical-align: middle;\n",
       "    }\n",
       "\n",
       "    .dataframe tbody tr th {\n",
       "        vertical-align: top;\n",
       "    }\n",
       "\n",
       "    .dataframe thead th {\n",
       "        text-align: right;\n",
       "    }\n",
       "</style>\n",
       "<table border=\"1\" class=\"dataframe\">\n",
       "  <thead>\n",
       "    <tr style=\"text-align: right;\">\n",
       "      <th></th>\n",
       "      <th>LINEARID</th>\n",
       "      <th>FULLNAME</th>\n",
       "      <th>RTTYP</th>\n",
       "      <th>MTFCC</th>\n",
       "      <th>geometry</th>\n",
       "    </tr>\n",
       "  </thead>\n",
       "  <tbody>\n",
       "    <tr>\n",
       "      <th>0</th>\n",
       "      <td>1102217388786</td>\n",
       "      <td>I- 80</td>\n",
       "      <td>I</td>\n",
       "      <td>S1100</td>\n",
       "      <td>LINESTRING (-2064708.872 2077283.613, -2064680...</td>\n",
       "    </tr>\n",
       "    <tr>\n",
       "      <th>1</th>\n",
       "      <td>110434220835</td>\n",
       "      <td>I- 80</td>\n",
       "      <td>I</td>\n",
       "      <td>S1100</td>\n",
       "      <td>LINESTRING (-2025812.726 2082080.386, -2025796...</td>\n",
       "    </tr>\n",
       "    <tr>\n",
       "      <th>2</th>\n",
       "      <td>110434220836</td>\n",
       "      <td>I- 80</td>\n",
       "      <td>I</td>\n",
       "      <td>S1100</td>\n",
       "      <td>LINESTRING (-2025825.442 2082083.668, -2025770...</td>\n",
       "    </tr>\n",
       "    <tr>\n",
       "      <th>3</th>\n",
       "      <td>110809146095</td>\n",
       "      <td>State Rte 89</td>\n",
       "      <td>S</td>\n",
       "      <td>S1100</td>\n",
       "      <td>LINESTRING (-2045555.944 2073081.664, -2045550...</td>\n",
       "    </tr>\n",
       "    <tr>\n",
       "      <th>4</th>\n",
       "      <td>110687705699</td>\n",
       "      <td>State Rte 193</td>\n",
       "      <td>S</td>\n",
       "      <td>S1100</td>\n",
       "      <td>LINESTRING (-2129501.978 2046312.604, -2129505...</td>\n",
       "    </tr>\n",
       "    <tr>\n",
       "      <th>5</th>\n",
       "      <td>1104259561602</td>\n",
       "      <td>State Rte 193</td>\n",
       "      <td>S</td>\n",
       "      <td>S1100</td>\n",
       "      <td>LINESTRING (-2134389.618 2045060.711, -2134356...</td>\n",
       "    </tr>\n",
       "    <tr>\n",
       "      <th>6</th>\n",
       "      <td>1103017265103</td>\n",
       "      <td>I- 80</td>\n",
       "      <td>I</td>\n",
       "      <td>S1100</td>\n",
       "      <td>LINESTRING (-2080238.906 2081293.806, -2080207...</td>\n",
       "    </tr>\n",
       "    <tr>\n",
       "      <th>7</th>\n",
       "      <td>1104469669293</td>\n",
       "      <td>I- 80</td>\n",
       "      <td>I</td>\n",
       "      <td>S1100</td>\n",
       "      <td>LINESTRING (-2064561.777 2077245.397, -2064084...</td>\n",
       "    </tr>\n",
       "    <tr>\n",
       "      <th>8</th>\n",
       "      <td>1104748193081</td>\n",
       "      <td>I- 80</td>\n",
       "      <td>I</td>\n",
       "      <td>S1100</td>\n",
       "      <td>LINESTRING (-2074601.090 2079823.305, -2074571...</td>\n",
       "    </tr>\n",
       "    <tr>\n",
       "      <th>9</th>\n",
       "      <td>1104748193082</td>\n",
       "      <td>I- 80</td>\n",
       "      <td>I</td>\n",
       "      <td>S1100</td>\n",
       "      <td>LINESTRING (-2074601.090 2079823.305, -2074624...</td>\n",
       "    </tr>\n",
       "    <tr>\n",
       "      <th>10</th>\n",
       "      <td>1104259613518</td>\n",
       "      <td>I- 80</td>\n",
       "      <td>I</td>\n",
       "      <td>S1100</td>\n",
       "      <td>LINESTRING (-2074487.568 2079794.460, -2074485...</td>\n",
       "    </tr>\n",
       "    <tr>\n",
       "      <th>11</th>\n",
       "      <td>1104375087000</td>\n",
       "      <td>State Rte 89</td>\n",
       "      <td>S</td>\n",
       "      <td>S1100</td>\n",
       "      <td>LINESTRING (-2041898.599 2073834.919, -2041952...</td>\n",
       "    </tr>\n",
       "  </tbody>\n",
       "</table>\n",
       "</div>"
      ],
      "text/plain": [
       "         LINEARID       FULLNAME RTTYP  MTFCC  \\\n",
       "0   1102217388786          I- 80     I  S1100   \n",
       "1    110434220835          I- 80     I  S1100   \n",
       "2    110434220836          I- 80     I  S1100   \n",
       "3    110809146095   State Rte 89     S  S1100   \n",
       "4    110687705699  State Rte 193     S  S1100   \n",
       "5   1104259561602  State Rte 193     S  S1100   \n",
       "6   1103017265103          I- 80     I  S1100   \n",
       "7   1104469669293          I- 80     I  S1100   \n",
       "8   1104748193081          I- 80     I  S1100   \n",
       "9   1104748193082          I- 80     I  S1100   \n",
       "10  1104259613518          I- 80     I  S1100   \n",
       "11  1104375087000   State Rte 89     S  S1100   \n",
       "\n",
       "                                             geometry  \n",
       "0   LINESTRING (-2064708.872 2077283.613, -2064680...  \n",
       "1   LINESTRING (-2025812.726 2082080.386, -2025796...  \n",
       "2   LINESTRING (-2025825.442 2082083.668, -2025770...  \n",
       "3   LINESTRING (-2045555.944 2073081.664, -2045550...  \n",
       "4   LINESTRING (-2129501.978 2046312.604, -2129505...  \n",
       "5   LINESTRING (-2134389.618 2045060.711, -2134356...  \n",
       "6   LINESTRING (-2080238.906 2081293.806, -2080207...  \n",
       "7   LINESTRING (-2064561.777 2077245.397, -2064084...  \n",
       "8   LINESTRING (-2074601.090 2079823.305, -2074571...  \n",
       "9   LINESTRING (-2074601.090 2079823.305, -2074624...  \n",
       "10  LINESTRING (-2074487.568 2079794.460, -2074485...  \n",
       "11  LINESTRING (-2041898.599 2073834.919, -2041952...  "
      ]
     },
     "execution_count": 12,
     "metadata": {},
     "output_type": "execute_result"
    }
   ],
   "source": [
    "print(sn_roads.geometry.geom_type.unique())\n",
    "print(sn_roads.shape)\n",
    "sn_roads"
   ]
  },
  {
   "cell_type": "markdown",
   "metadata": {},
   "source": [
    "**Question 5 (1pt):** Use Geopandas operations to find the length of each road in `sn_roads`."
   ]
  },
  {
   "cell_type": "code",
   "execution_count": 13,
   "metadata": {},
   "outputs": [],
   "source": [
    "# YOUR CODE HERE"
   ]
  },
  {
   "cell_type": "code",
   "execution_count": 14,
   "metadata": {},
   "outputs": [
    {
     "data": {
      "text/plain": [
       "0     50093.702962\n",
       "1      2687.106153\n",
       "2      2715.134362\n",
       "3      3872.369901\n",
       "4      5198.777313\n",
       "5      5205.853580\n",
       "6      7295.653778\n",
       "7     49986.419038\n",
       "8     11371.331226\n",
       "9      6337.284092\n",
       "10    11076.429869\n",
       "11     3877.501274\n",
       "dtype: float64"
      ]
     },
     "execution_count": 14,
     "metadata": {},
     "output_type": "execute_result"
    }
   ],
   "source": [
    "# YOUR CODE HERE\n",
    "sn_roads.geometry.length"
   ]
  },
  {
   "cell_type": "markdown",
   "metadata": {},
   "source": [
    "Geopandas can also calculate the distance between geometries. The code below finds the nearest distance between each road in `sn_roads` and the centroid of the first wildfire listed in `sn_wildfires`. "
   ]
  },
  {
   "cell_type": "code",
   "execution_count": 15,
   "metadata": {},
   "outputs": [
    {
     "data": {
      "text/plain": [
       "0     477841.988893\n",
       "1     486168.349063\n",
       "2     486171.910832\n",
       "3     477841.988893\n",
       "4     464136.715076\n",
       "5     464121.117097\n",
       "6     487393.686756\n",
       "7     477819.330430\n",
       "8     483748.749938\n",
       "9     487436.156137\n",
       "10    483801.819765\n",
       "11    477819.330430\n",
       "dtype: float64"
      ]
     },
     "execution_count": 15,
     "metadata": {},
     "output_type": "execute_result"
    }
   ],
   "source": [
    "dsts = sn_roads.distance(sn_wildfires.centroid.loc[0])\n",
    "dsts"
   ]
  },
  {
   "cell_type": "markdown",
   "metadata": {},
   "source": [
    "**Question 6 (1 pt):** Write a function `min_distance` that takes in a single Point geometry (\"point\") and a series of Linestring geometries (\"lines\") and returns the distance (in kilometers) between that point and the nearest line."
   ]
  },
  {
   "cell_type": "code",
   "execution_count": null,
   "metadata": {},
   "outputs": [],
   "source": [
    "# YOUR CODE HERE\n",
    "def min_distance(point, lines):\n",
    "    return ..."
   ]
  },
  {
   "cell_type": "code",
   "execution_count": 16,
   "metadata": {},
   "outputs": [],
   "source": [
    "# SOLUTION\n",
    "def min_distance(point, lines):\n",
    "    return lines.distance(point).min()/1000"
   ]
  },
  {
   "cell_type": "code",
   "execution_count": 17,
   "metadata": {},
   "outputs": [],
   "source": [
    "assert min_distance(sn_wildfires.centroid[0], sn_roads) == dsts.min()/1000"
   ]
  },
  {
   "cell_type": "markdown",
   "metadata": {},
   "source": [
    "**Question 7 (1 pt):** Using your `min_distance` function, add a new column to `sn_wildfires`, each of whose elements represents the distance between the centroid of the burned area and the nearest major road in `sn_roads`. Name this column \"dst_to_rd.\""
   ]
  },
  {
   "cell_type": "code",
   "execution_count": 18,
   "metadata": {},
   "outputs": [],
   "source": [
    "# YOUR CODE HERE"
   ]
  },
  {
   "cell_type": "code",
   "execution_count": 19,
   "metadata": {},
   "outputs": [],
   "source": [
    "# SOLUTION\n",
    "sn_wildfires['dist_to_rd']=[min_distance(sn_wildfires.centroid[i],sn_roads) for i in sn_wildfires.index]"
   ]
  },
  {
   "cell_type": "code",
   "execution_count": 20,
   "metadata": {},
   "outputs": [
    {
     "data": {
      "text/html": [
       "<div>\n",
       "<style scoped>\n",
       "    .dataframe tbody tr th:only-of-type {\n",
       "        vertical-align: middle;\n",
       "    }\n",
       "\n",
       "    .dataframe tbody tr th {\n",
       "        vertical-align: top;\n",
       "    }\n",
       "\n",
       "    .dataframe thead th {\n",
       "        text-align: right;\n",
       "    }\n",
       "</style>\n",
       "<table border=\"1\" class=\"dataframe\">\n",
       "  <thead>\n",
       "    <tr style=\"text-align: right;\">\n",
       "      <th></th>\n",
       "      <th>Fire_ID</th>\n",
       "      <th>Fire_Name</th>\n",
       "      <th>Year</th>\n",
       "      <th>StartMonth</th>\n",
       "      <th>StartDay</th>\n",
       "      <th>Fire_Type</th>\n",
       "      <th>Acres</th>\n",
       "      <th>geometry</th>\n",
       "      <th>dist_to_rd</th>\n",
       "    </tr>\n",
       "  </thead>\n",
       "  <tbody>\n",
       "    <tr>\n",
       "      <th>0</th>\n",
       "      <td>CA3525911854920000802</td>\n",
       "      <td>PEAK</td>\n",
       "      <td>2000</td>\n",
       "      <td>8</td>\n",
       "      <td>2</td>\n",
       "      <td>Wildfire</td>\n",
       "      <td>1316.000000</td>\n",
       "      <td>POLYGON ((-2016700.220 1597606.920, -2016677.0...</td>\n",
       "      <td>464.121117</td>\n",
       "    </tr>\n",
       "    <tr>\n",
       "      <th>1</th>\n",
       "      <td>CA3534111823820120810</td>\n",
       "      <td>JAWBONE COMPLEX</td>\n",
       "      <td>2012</td>\n",
       "      <td>8</td>\n",
       "      <td>10</td>\n",
       "      <td>Wildfire</td>\n",
       "      <td>12212.000000</td>\n",
       "      <td>MULTIPOLYGON (((-1985512.433 1594466.258, -198...</td>\n",
       "      <td>476.441597</td>\n",
       "    </tr>\n",
       "    <tr>\n",
       "      <th>2</th>\n",
       "      <td>CA3541611826720060805</td>\n",
       "      <td>COTTONWOOD</td>\n",
       "      <td>2006</td>\n",
       "      <td>8</td>\n",
       "      <td>5</td>\n",
       "      <td>Wildfire</td>\n",
       "      <td>2386.000000</td>\n",
       "      <td>POLYGON ((-1988579.821 1607368.550, -1988579.8...</td>\n",
       "      <td>461.578551</td>\n",
       "    </tr>\n",
       "    <tr>\n",
       "      <th>3</th>\n",
       "      <td>CA3543011843920030723</td>\n",
       "      <td>BASIN</td>\n",
       "      <td>2003</td>\n",
       "      <td>7</td>\n",
       "      <td>23</td>\n",
       "      <td>Wildfire</td>\n",
       "      <td>1051.000000</td>\n",
       "      <td>POLYGON ((-1999281.139 1612486.518, -1999225.3...</td>\n",
       "      <td>452.233765</td>\n",
       "    </tr>\n",
       "    <tr>\n",
       "      <th>4</th>\n",
       "      <td>CA3545811870719850628</td>\n",
       "      <td>RICH BAR</td>\n",
       "      <td>1985</td>\n",
       "      <td>6</td>\n",
       "      <td>28</td>\n",
       "      <td>Wildfire</td>\n",
       "      <td>8141.000000</td>\n",
       "      <td>POLYGON ((-2026392.343 1624370.373, -2026325.3...</td>\n",
       "      <td>437.750161</td>\n",
       "    </tr>\n",
       "    <tr>\n",
       "      <th>...</th>\n",
       "      <td>...</td>\n",
       "      <td>...</td>\n",
       "      <td>...</td>\n",
       "      <td>...</td>\n",
       "      <td>...</td>\n",
       "      <td>...</td>\n",
       "      <td>...</td>\n",
       "      <td>...</td>\n",
       "      <td>...</td>\n",
       "    </tr>\n",
       "    <tr>\n",
       "      <th>415</th>\n",
       "      <td>CA3978012014320170806</td>\n",
       "      <td>CHILCOOT</td>\n",
       "      <td>2017</td>\n",
       "      <td>8</td>\n",
       "      <td>6</td>\n",
       "      <td>Wildfire</td>\n",
       "      <td>1032.032282</td>\n",
       "      <td>POLYGON ((-2027754.953 2119669.096, -2027778.7...</td>\n",
       "      <td>36.804625</td>\n",
       "    </tr>\n",
       "    <tr>\n",
       "      <th>416</th>\n",
       "      <td>CA3990612097220170729</td>\n",
       "      <td>MINERVA 5</td>\n",
       "      <td>2017</td>\n",
       "      <td>7</td>\n",
       "      <td>29</td>\n",
       "      <td>Wildfire</td>\n",
       "      <td>4545.743496</td>\n",
       "      <td>POLYGON ((-2087598.917 2153628.788, -2087551.2...</td>\n",
       "      <td>70.668710</td>\n",
       "    </tr>\n",
       "    <tr>\n",
       "      <th>417</th>\n",
       "      <td>CA4039512024220170829</td>\n",
       "      <td>MUD</td>\n",
       "      <td>2017</td>\n",
       "      <td>8</td>\n",
       "      <td>29</td>\n",
       "      <td>Wildfire</td>\n",
       "      <td>6041.121008</td>\n",
       "      <td>POLYGON ((-2014780.127 2197153.280, -2014740.4...</td>\n",
       "      <td>110.278633</td>\n",
       "    </tr>\n",
       "    <tr>\n",
       "      <th>418</th>\n",
       "      <td>CA4130712105620170725</td>\n",
       "      <td>COVE</td>\n",
       "      <td>2017</td>\n",
       "      <td>7</td>\n",
       "      <td>25</td>\n",
       "      <td>Wildfire</td>\n",
       "      <td>30884.670066</td>\n",
       "      <td>POLYGON ((-2052233.708 2308337.344, -2052187.4...</td>\n",
       "      <td>219.984051</td>\n",
       "    </tr>\n",
       "    <tr>\n",
       "      <th>419</th>\n",
       "      <td>CA4146612032120170803</td>\n",
       "      <td>PARKER2</td>\n",
       "      <td>2017</td>\n",
       "      <td>8</td>\n",
       "      <td>3</td>\n",
       "      <td>Wildfire</td>\n",
       "      <td>7648.498737</td>\n",
       "      <td>POLYGON ((-1989799.065 2309058.997, -1989749.1...</td>\n",
       "      <td>224.657002</td>\n",
       "    </tr>\n",
       "  </tbody>\n",
       "</table>\n",
       "<p>420 rows × 9 columns</p>\n",
       "</div>"
      ],
      "text/plain": [
       "                   Fire_ID        Fire_Name  Year  StartMonth  StartDay  \\\n",
       "0    CA3525911854920000802             PEAK  2000           8         2   \n",
       "1    CA3534111823820120810  JAWBONE COMPLEX  2012           8        10   \n",
       "2    CA3541611826720060805       COTTONWOOD  2006           8         5   \n",
       "3    CA3543011843920030723            BASIN  2003           7        23   \n",
       "4    CA3545811870719850628         RICH BAR  1985           6        28   \n",
       "..                     ...              ...   ...         ...       ...   \n",
       "415  CA3978012014320170806         CHILCOOT  2017           8         6   \n",
       "416  CA3990612097220170729        MINERVA 5  2017           7        29   \n",
       "417  CA4039512024220170829              MUD  2017           8        29   \n",
       "418  CA4130712105620170725             COVE  2017           7        25   \n",
       "419  CA4146612032120170803          PARKER2  2017           8         3   \n",
       "\n",
       "    Fire_Type         Acres  \\\n",
       "0    Wildfire   1316.000000   \n",
       "1    Wildfire  12212.000000   \n",
       "2    Wildfire   2386.000000   \n",
       "3    Wildfire   1051.000000   \n",
       "4    Wildfire   8141.000000   \n",
       "..        ...           ...   \n",
       "415  Wildfire   1032.032282   \n",
       "416  Wildfire   4545.743496   \n",
       "417  Wildfire   6041.121008   \n",
       "418  Wildfire  30884.670066   \n",
       "419  Wildfire   7648.498737   \n",
       "\n",
       "                                              geometry  dist_to_rd  \n",
       "0    POLYGON ((-2016700.220 1597606.920, -2016677.0...  464.121117  \n",
       "1    MULTIPOLYGON (((-1985512.433 1594466.258, -198...  476.441597  \n",
       "2    POLYGON ((-1988579.821 1607368.550, -1988579.8...  461.578551  \n",
       "3    POLYGON ((-1999281.139 1612486.518, -1999225.3...  452.233765  \n",
       "4    POLYGON ((-2026392.343 1624370.373, -2026325.3...  437.750161  \n",
       "..                                                 ...         ...  \n",
       "415  POLYGON ((-2027754.953 2119669.096, -2027778.7...   36.804625  \n",
       "416  POLYGON ((-2087598.917 2153628.788, -2087551.2...   70.668710  \n",
       "417  POLYGON ((-2014780.127 2197153.280, -2014740.4...  110.278633  \n",
       "418  POLYGON ((-2052233.708 2308337.344, -2052187.4...  219.984051  \n",
       "419  POLYGON ((-1989799.065 2309058.997, -1989749.1...  224.657002  \n",
       "\n",
       "[420 rows x 9 columns]"
      ]
     },
     "execution_count": 20,
     "metadata": {},
     "output_type": "execute_result"
    }
   ],
   "source": [
    "sn_wildfires"
   ]
  },
  {
   "cell_type": "markdown",
   "metadata": {},
   "source": [
    "## Multi-Variable Regression\n",
    "\n",
    "In addition to distance to the nearest highway, we want to use the month in which the fire starts as an independent variable. Before we fit a regression model, let's visualize the data and qualitatively try to identify any patterns or trends that emerge between our independent and dependent variables. "
   ]
  },
  {
   "cell_type": "markdown",
   "metadata": {},
   "source": [
    "**Question 8 (1 pt):** Run the code below to generate a pair of scatter plots showing the relationship between `Acres` burned (the target variable, represented on the y-axis), and each of the independent variables (`StartMonth` and `dist_to_rd`, represented on the x-axes). What trends do you notice? "
   ]
  },
  {
   "cell_type": "code",
   "execution_count": 21,
   "metadata": {},
   "outputs": [
    {
     "data": {
      "image/png": "[encoded data removed]",
      "text/plain": [
       "<Figure size 864x360 with 2 Axes>"
      ]
     },
     "metadata": {
      "needs_background": "light"
     },
     "output_type": "display_data"
    }
   ],
   "source": [
    "# This time using a logarithmic scale for area burned\n",
    "fig, (ax0, ax1) = plt.subplots(ncols=2, sharey=True, figsize=(12,5))\n",
    "\n",
    "ax0.scatter(sn_wildfires['StartMonth'],sn_wildfires['Acres'])\n",
    "ax0.set_xlabel('Start month')\n",
    "ax0.set_ylabel('Acres burned per fire')\n",
    "\n",
    "ax1.scatter(sn_wildfires['dist_to_rd'],sn_wildfires['Acres'])\n",
    "ax1.set_xlabel('Distance to nearest highway')\n",
    "\n",
    "plt.suptitle('Acres burned versus fire start month and distance to nearest highway');"
   ]
  },
  {
   "cell_type": "markdown",
   "metadata": {},
   "source": [
    "*YOUR OBSERVATION HERE*\n",
    "\n",
    "*We can already see that the data are pretty noisy, making it difficult to identify clear trends. There seems to be somewhat of a trend of burned area peaking around months 7-8, and area burned seems to decrease somewhat as distance to the nearest highways grows.*"
   ]
  },
  {
   "cell_type": "markdown",
   "metadata": {},
   "source": [
    "We are ready at last to create our linear regression model, using **two features** (start month and distance to nearest highway) to predict acres burned. \n",
    "\n",
    "This time, instead of `scikit-learn`, we'll use a library called `statsmodels`. One nice feature of `statsmodels` is its clean, informative summary of regression results and statistics."
   ]
  },
  {
   "cell_type": "code",
   "execution_count": 22,
   "metadata": {},
   "outputs": [],
   "source": [
    "# Run this cell to import the statsmodels library\n",
    "import statsmodels.api as sm"
   ]
  },
  {
   "cell_type": "markdown",
   "metadata": {},
   "source": [
    "Estimating a model with `statsmodels` uses a similar process to model estimation in `scikit-learn`. We first initialize a model, in this case using the `sm.OLS()` method, which takes **X** and **y** (in dataframe form) as arguments. We then `.fit()` the model and can view information about the coefficients and model performance using `.summary()`. \n",
    "\n",
    "**Question 9 (1pt):** Create a dataframe **X**, which holds our two independent variables, each as a column of observations. In addition, create a dataframe **y** that holds the response variable."
   ]
  },
  {
   "cell_type": "code",
   "execution_count": 23,
   "metadata": {},
   "outputs": [],
   "source": [
    "# YOUR CODE HERE\n",
    "X = ...\n",
    "y = ..."
   ]
  },
  {
   "cell_type": "code",
   "execution_count": 24,
   "metadata": {},
   "outputs": [],
   "source": [
    "# SOLUTION\n",
    "X = sn_wildfires.loc[:,['dist_to_rd','StartMonth']]\n",
    "y = sn_wildfires[['Acres']]"
   ]
  },
  {
   "cell_type": "markdown",
   "metadata": {},
   "source": [
    "Unlike `scikit-learn`, statsmodels expects a column of 1's in the **X** dataframe in order to fit an intercept. One way to achieve this is to apply `statsmodel`'s built-in `add_constant` function to your dataframe of **X** values."
   ]
  },
  {
   "cell_type": "code",
   "execution_count": 25,
   "metadata": {},
   "outputs": [
    {
     "name": "stderr",
     "output_type": "stream",
     "text": [
      "/opt/conda/lib/python3.9/site-packages/statsmodels/tsa/tsatools.py:142: FutureWarning: In a future version of pandas all arguments of concat except for the argument 'objs' will be keyword-only\n",
      "  x = pd.concat(x[::order], 1)\n"
     ]
    },
    {
     "data": {
      "text/html": [
       "<div>\n",
       "<style scoped>\n",
       "    .dataframe tbody tr th:only-of-type {\n",
       "        vertical-align: middle;\n",
       "    }\n",
       "\n",
       "    .dataframe tbody tr th {\n",
       "        vertical-align: top;\n",
       "    }\n",
       "\n",
       "    .dataframe thead th {\n",
       "        text-align: right;\n",
       "    }\n",
       "</style>\n",
       "<table border=\"1\" class=\"dataframe\">\n",
       "  <thead>\n",
       "    <tr style=\"text-align: right;\">\n",
       "      <th></th>\n",
       "      <th>const</th>\n",
       "      <th>dist_to_rd</th>\n",
       "      <th>StartMonth</th>\n",
       "    </tr>\n",
       "  </thead>\n",
       "  <tbody>\n",
       "    <tr>\n",
       "      <th>0</th>\n",
       "      <td>1.0</td>\n",
       "      <td>464.121117</td>\n",
       "      <td>8</td>\n",
       "    </tr>\n",
       "    <tr>\n",
       "      <th>1</th>\n",
       "      <td>1.0</td>\n",
       "      <td>476.441597</td>\n",
       "      <td>8</td>\n",
       "    </tr>\n",
       "    <tr>\n",
       "      <th>2</th>\n",
       "      <td>1.0</td>\n",
       "      <td>461.578551</td>\n",
       "      <td>8</td>\n",
       "    </tr>\n",
       "    <tr>\n",
       "      <th>3</th>\n",
       "      <td>1.0</td>\n",
       "      <td>452.233765</td>\n",
       "      <td>7</td>\n",
       "    </tr>\n",
       "    <tr>\n",
       "      <th>4</th>\n",
       "      <td>1.0</td>\n",
       "      <td>437.750161</td>\n",
       "      <td>6</td>\n",
       "    </tr>\n",
       "  </tbody>\n",
       "</table>\n",
       "</div>"
      ],
      "text/plain": [
       "   const  dist_to_rd  StartMonth\n",
       "0    1.0  464.121117           8\n",
       "1    1.0  476.441597           8\n",
       "2    1.0  461.578551           8\n",
       "3    1.0  452.233765           7\n",
       "4    1.0  437.750161           6"
      ]
     },
     "execution_count": 25,
     "metadata": {},
     "output_type": "execute_result"
    }
   ],
   "source": [
    "# run this cell\n",
    "X_const = sm.add_constant(X)\n",
    "X_const.head()"
   ]
  },
  {
   "cell_type": "markdown",
   "metadata": {},
   "source": [
    "Run the cell below to fit a model to **X** and **y** and view the results."
   ]
  },
  {
   "cell_type": "code",
   "execution_count": 26,
   "metadata": {},
   "outputs": [
    {
     "data": {
      "text/html": [
       "<table class=\"simpletable\">\n",
       "<caption>OLS Regression Results</caption>\n",
       "<tr>\n",
       "  <th>Dep. Variable:</th>          <td>Acres</td>      <th>  R-squared:         </th> <td>   0.004</td>\n",
       "</tr>\n",
       "<tr>\n",
       "  <th>Model:</th>                   <td>OLS</td>       <th>  Adj. R-squared:    </th> <td>  -0.000</td>\n",
       "</tr>\n",
       "<tr>\n",
       "  <th>Method:</th>             <td>Least Squares</td>  <th>  F-statistic:       </th> <td>  0.9329</td>\n",
       "</tr>\n",
       "<tr>\n",
       "  <th>Date:</th>             <td>Fri, 01 Oct 2021</td> <th>  Prob (F-statistic):</th>  <td> 0.394</td> \n",
       "</tr>\n",
       "<tr>\n",
       "  <th>Time:</th>                 <td>17:36:01</td>     <th>  Log-Likelihood:    </th> <td> -4767.3</td>\n",
       "</tr>\n",
       "<tr>\n",
       "  <th>No. Observations:</th>      <td>   420</td>      <th>  AIC:               </th> <td>   9541.</td>\n",
       "</tr>\n",
       "<tr>\n",
       "  <th>Df Residuals:</th>          <td>   417</td>      <th>  BIC:               </th> <td>   9553.</td>\n",
       "</tr>\n",
       "<tr>\n",
       "  <th>Df Model:</th>              <td>     2</td>      <th>                     </th>     <td> </td>   \n",
       "</tr>\n",
       "<tr>\n",
       "  <th>Covariance Type:</th>      <td>nonrobust</td>    <th>                     </th>     <td> </td>   \n",
       "</tr>\n",
       "</table>\n",
       "<table class=\"simpletable\">\n",
       "<tr>\n",
       "       <td></td>         <th>coef</th>     <th>std err</th>      <th>t</th>      <th>P>|t|</th>  <th>[0.025</th>    <th>0.975]</th>  \n",
       "</tr>\n",
       "<tr>\n",
       "  <th>const</th>      <td>  982.9900</td> <td> 6773.586</td> <td>    0.145</td> <td> 0.885</td> <td>-1.23e+04</td> <td> 1.43e+04</td>\n",
       "</tr>\n",
       "<tr>\n",
       "  <th>dist_to_rd</th> <td>   -0.5710</td> <td>    8.307</td> <td>   -0.069</td> <td> 0.945</td> <td>  -16.900</td> <td>   15.758</td>\n",
       "</tr>\n",
       "<tr>\n",
       "  <th>StartMonth</th> <td> 1124.7097</td> <td>  837.103</td> <td>    1.344</td> <td> 0.180</td> <td> -520.759</td> <td> 2770.178</td>\n",
       "</tr>\n",
       "</table>\n",
       "<table class=\"simpletable\">\n",
       "<tr>\n",
       "  <th>Omnibus:</th>       <td>552.815</td> <th>  Durbin-Watson:     </th> <td>   2.085</td> \n",
       "</tr>\n",
       "<tr>\n",
       "  <th>Prob(Omnibus):</th> <td> 0.000</td>  <th>  Jarque-Bera (JB):  </th> <td>63619.373</td>\n",
       "</tr>\n",
       "<tr>\n",
       "  <th>Skew:</th>          <td> 6.449</td>  <th>  Prob(JB):          </th> <td>    0.00</td> \n",
       "</tr>\n",
       "<tr>\n",
       "  <th>Kurtosis:</th>      <td>61.898</td>  <th>  Cond. No.          </th> <td>1.57e+03</td> \n",
       "</tr>\n",
       "</table><br/><br/>Notes:<br/>[1] Standard Errors assume that the covariance matrix of the errors is correctly specified.<br/>[2] The condition number is large, 1.57e+03. This might indicate that there are<br/>strong multicollinearity or other numerical problems."
      ],
      "text/plain": [
       "<class 'statsmodels.iolib.summary.Summary'>\n",
       "\"\"\"\n",
       "                            OLS Regression Results                            \n",
       "==============================================================================\n",
       "Dep. Variable:                  Acres   R-squared:                       0.004\n",
       "Model:                            OLS   Adj. R-squared:                 -0.000\n",
       "Method:                 Least Squares   F-statistic:                    0.9329\n",
       "Date:                Fri, 01 Oct 2021   Prob (F-statistic):              0.394\n",
       "Time:                        17:36:01   Log-Likelihood:                -4767.3\n",
       "No. Observations:                 420   AIC:                             9541.\n",
       "Df Residuals:                     417   BIC:                             9553.\n",
       "Df Model:                           2                                         \n",
       "Covariance Type:            nonrobust                                         \n",
       "==============================================================================\n",
       "                 coef    std err          t      P>|t|      [0.025      0.975]\n",
       "------------------------------------------------------------------------------\n",
       "const        982.9900   6773.586      0.145      0.885   -1.23e+04    1.43e+04\n",
       "dist_to_rd    -0.5710      8.307     -0.069      0.945     -16.900      15.758\n",
       "StartMonth  1124.7097    837.103      1.344      0.180    -520.759    2770.178\n",
       "==============================================================================\n",
       "Omnibus:                      552.815   Durbin-Watson:                   2.085\n",
       "Prob(Omnibus):                  0.000   Jarque-Bera (JB):            63619.373\n",
       "Skew:                           6.449   Prob(JB):                         0.00\n",
       "Kurtosis:                      61.898   Cond. No.                     1.57e+03\n",
       "==============================================================================\n",
       "\n",
       "Notes:\n",
       "[1] Standard Errors assume that the covariance matrix of the errors is correctly specified.\n",
       "[2] The condition number is large, 1.57e+03. This might indicate that there are\n",
       "strong multicollinearity or other numerical problems.\n",
       "\"\"\""
      ]
     },
     "execution_count": 26,
     "metadata": {},
     "output_type": "execute_result"
    }
   ],
   "source": [
    "# Run this cell\n",
    "sn_wf_model = sm.OLS(y,X_const)\n",
    "sn_wf_results = sn_wf_model.fit()\n",
    "sn_wf_results.summary()"
   ]
  },
  {
   "cell_type": "markdown",
   "metadata": {},
   "source": [
    "**Question 10 (1pt):** What are the values and 95% confidence intervals of the three coefficients? What do the confidence intervals imply about the model we've built?"
   ]
  },
  {
   "cell_type": "markdown",
   "metadata": {},
   "source": [
    "*YOUR ANSWER HERE* \n",
    "\n",
    "*The confidence intervals are extremely wide and include 0. This means there is a >5% probability that there is actually no relationship between our independent and dependent variables.*"
   ]
  },
  {
   "cell_type": "markdown",
   "metadata": {},
   "source": [
    "## Feature Engineering"
   ]
  },
  {
   "cell_type": "markdown",
   "metadata": {},
   "source": [
    "Let's try to improve our model by adding more features. Instead of using new sources of data, we will transform the two independent variables we already have and add these transformations as additional features. This process is known as \"feature engineering.\"\n",
    "\n",
    "**Question 11 (1pt)** To make it easy to test different sets of features, write a function `fit_OLS` that takes in a dataframe containing the independent variables ($X$) and another dataframe containing response variable ($y$). The function should fit a linear regression model and output the `statsmodels` summary for the model. Feel free to use the code in the previous section as a template. Test your model on the $X$ and $y$ dataframes you created in Question 9."
   ]
  },
  {
   "cell_type": "code",
   "execution_count": null,
   "metadata": {},
   "outputs": [],
   "source": [
    "# Replace ellipses with your code* \n",
    "\n",
    "def fit_OLS(X,y):\n",
    "    X_const = sm.add_constant(...)\n",
    "    ols_model = sm.OLS(...)\n",
    "    results = ...\n",
    "    return results.summary()"
   ]
  },
  {
   "cell_type": "code",
   "execution_count": 27,
   "metadata": {},
   "outputs": [],
   "source": [
    "# SOLUTION \n",
    "\n",
    "def fit_OLS(X,y):\n",
    "    X_const = sm.add_constant(X)\n",
    "    ols_model = sm.OLS(y,X_const)\n",
    "    results = ols_model.fit()\n",
    "    return results.summary()"
   ]
  },
  {
   "cell_type": "code",
   "execution_count": 28,
   "metadata": {},
   "outputs": [
    {
     "name": "stderr",
     "output_type": "stream",
     "text": [
      "/opt/conda/lib/python3.9/site-packages/statsmodels/tsa/tsatools.py:142: FutureWarning: In a future version of pandas all arguments of concat except for the argument 'objs' will be keyword-only\n",
      "  x = pd.concat(x[::order], 1)\n"
     ]
    },
    {
     "data": {
      "text/html": [
       "<table class=\"simpletable\">\n",
       "<caption>OLS Regression Results</caption>\n",
       "<tr>\n",
       "  <th>Dep. Variable:</th>          <td>Acres</td>      <th>  R-squared:         </th> <td>   0.004</td>\n",
       "</tr>\n",
       "<tr>\n",
       "  <th>Model:</th>                   <td>OLS</td>       <th>  Adj. R-squared:    </th> <td>  -0.000</td>\n",
       "</tr>\n",
       "<tr>\n",
       "  <th>Method:</th>             <td>Least Squares</td>  <th>  F-statistic:       </th> <td>  0.9329</td>\n",
       "</tr>\n",
       "<tr>\n",
       "  <th>Date:</th>             <td>Fri, 01 Oct 2021</td> <th>  Prob (F-statistic):</th>  <td> 0.394</td> \n",
       "</tr>\n",
       "<tr>\n",
       "  <th>Time:</th>                 <td>17:36:13</td>     <th>  Log-Likelihood:    </th> <td> -4767.3</td>\n",
       "</tr>\n",
       "<tr>\n",
       "  <th>No. Observations:</th>      <td>   420</td>      <th>  AIC:               </th> <td>   9541.</td>\n",
       "</tr>\n",
       "<tr>\n",
       "  <th>Df Residuals:</th>          <td>   417</td>      <th>  BIC:               </th> <td>   9553.</td>\n",
       "</tr>\n",
       "<tr>\n",
       "  <th>Df Model:</th>              <td>     2</td>      <th>                     </th>     <td> </td>   \n",
       "</tr>\n",
       "<tr>\n",
       "  <th>Covariance Type:</th>      <td>nonrobust</td>    <th>                     </th>     <td> </td>   \n",
       "</tr>\n",
       "</table>\n",
       "<table class=\"simpletable\">\n",
       "<tr>\n",
       "       <td></td>         <th>coef</th>     <th>std err</th>      <th>t</th>      <th>P>|t|</th>  <th>[0.025</th>    <th>0.975]</th>  \n",
       "</tr>\n",
       "<tr>\n",
       "  <th>const</th>      <td>  982.9900</td> <td> 6773.586</td> <td>    0.145</td> <td> 0.885</td> <td>-1.23e+04</td> <td> 1.43e+04</td>\n",
       "</tr>\n",
       "<tr>\n",
       "  <th>dist_to_rd</th> <td>   -0.5710</td> <td>    8.307</td> <td>   -0.069</td> <td> 0.945</td> <td>  -16.900</td> <td>   15.758</td>\n",
       "</tr>\n",
       "<tr>\n",
       "  <th>StartMonth</th> <td> 1124.7097</td> <td>  837.103</td> <td>    1.344</td> <td> 0.180</td> <td> -520.759</td> <td> 2770.178</td>\n",
       "</tr>\n",
       "</table>\n",
       "<table class=\"simpletable\">\n",
       "<tr>\n",
       "  <th>Omnibus:</th>       <td>552.815</td> <th>  Durbin-Watson:     </th> <td>   2.085</td> \n",
       "</tr>\n",
       "<tr>\n",
       "  <th>Prob(Omnibus):</th> <td> 0.000</td>  <th>  Jarque-Bera (JB):  </th> <td>63619.373</td>\n",
       "</tr>\n",
       "<tr>\n",
       "  <th>Skew:</th>          <td> 6.449</td>  <th>  Prob(JB):          </th> <td>    0.00</td> \n",
       "</tr>\n",
       "<tr>\n",
       "  <th>Kurtosis:</th>      <td>61.898</td>  <th>  Cond. No.          </th> <td>1.57e+03</td> \n",
       "</tr>\n",
       "</table><br/><br/>Notes:<br/>[1] Standard Errors assume that the covariance matrix of the errors is correctly specified.<br/>[2] The condition number is large, 1.57e+03. This might indicate that there are<br/>strong multicollinearity or other numerical problems."
      ],
      "text/plain": [
       "<class 'statsmodels.iolib.summary.Summary'>\n",
       "\"\"\"\n",
       "                            OLS Regression Results                            \n",
       "==============================================================================\n",
       "Dep. Variable:                  Acres   R-squared:                       0.004\n",
       "Model:                            OLS   Adj. R-squared:                 -0.000\n",
       "Method:                 Least Squares   F-statistic:                    0.9329\n",
       "Date:                Fri, 01 Oct 2021   Prob (F-statistic):              0.394\n",
       "Time:                        17:36:13   Log-Likelihood:                -4767.3\n",
       "No. Observations:                 420   AIC:                             9541.\n",
       "Df Residuals:                     417   BIC:                             9553.\n",
       "Df Model:                           2                                         \n",
       "Covariance Type:            nonrobust                                         \n",
       "==============================================================================\n",
       "                 coef    std err          t      P>|t|      [0.025      0.975]\n",
       "------------------------------------------------------------------------------\n",
       "const        982.9900   6773.586      0.145      0.885   -1.23e+04    1.43e+04\n",
       "dist_to_rd    -0.5710      8.307     -0.069      0.945     -16.900      15.758\n",
       "StartMonth  1124.7097    837.103      1.344      0.180    -520.759    2770.178\n",
       "==============================================================================\n",
       "Omnibus:                      552.815   Durbin-Watson:                   2.085\n",
       "Prob(Omnibus):                  0.000   Jarque-Bera (JB):            63619.373\n",
       "Skew:                           6.449   Prob(JB):                         0.00\n",
       "Kurtosis:                      61.898   Cond. No.                     1.57e+03\n",
       "==============================================================================\n",
       "\n",
       "Notes:\n",
       "[1] Standard Errors assume that the covariance matrix of the errors is correctly specified.\n",
       "[2] The condition number is large, 1.57e+03. This might indicate that there are\n",
       "strong multicollinearity or other numerical problems.\n",
       "\"\"\""
      ]
     },
     "execution_count": 28,
     "metadata": {},
     "output_type": "execute_result"
    }
   ],
   "source": [
    "fit_OLS(X,y)"
   ]
  },
  {
   "cell_type": "markdown",
   "metadata": {},
   "source": [
    "The first new feature we will add to our model is the natural log of the `dist_to_rd` variable. The code block below provides an approach to expanding our $X$ dataframe to include this new feature."
   ]
  },
  {
   "cell_type": "code",
   "execution_count": 29,
   "metadata": {},
   "outputs": [
    {
     "data": {
      "text/html": [
       "<div>\n",
       "<style scoped>\n",
       "    .dataframe tbody tr th:only-of-type {\n",
       "        vertical-align: middle;\n",
       "    }\n",
       "\n",
       "    .dataframe tbody tr th {\n",
       "        vertical-align: top;\n",
       "    }\n",
       "\n",
       "    .dataframe thead th {\n",
       "        text-align: right;\n",
       "    }\n",
       "</style>\n",
       "<table border=\"1\" class=\"dataframe\">\n",
       "  <thead>\n",
       "    <tr style=\"text-align: right;\">\n",
       "      <th></th>\n",
       "      <th>dist_to_rd</th>\n",
       "      <th>StartMonth</th>\n",
       "      <th>log_dist</th>\n",
       "    </tr>\n",
       "  </thead>\n",
       "  <tbody>\n",
       "    <tr>\n",
       "      <th>0</th>\n",
       "      <td>464.121117</td>\n",
       "      <td>8</td>\n",
       "      <td>6.140146</td>\n",
       "    </tr>\n",
       "    <tr>\n",
       "      <th>1</th>\n",
       "      <td>476.441597</td>\n",
       "      <td>8</td>\n",
       "      <td>6.166345</td>\n",
       "    </tr>\n",
       "    <tr>\n",
       "      <th>2</th>\n",
       "      <td>461.578551</td>\n",
       "      <td>8</td>\n",
       "      <td>6.134652</td>\n",
       "    </tr>\n",
       "    <tr>\n",
       "      <th>3</th>\n",
       "      <td>452.233765</td>\n",
       "      <td>7</td>\n",
       "      <td>6.114199</td>\n",
       "    </tr>\n",
       "    <tr>\n",
       "      <th>4</th>\n",
       "      <td>437.750161</td>\n",
       "      <td>6</td>\n",
       "      <td>6.081648</td>\n",
       "    </tr>\n",
       "  </tbody>\n",
       "</table>\n",
       "</div>"
      ],
      "text/plain": [
       "   dist_to_rd  StartMonth  log_dist\n",
       "0  464.121117           8  6.140146\n",
       "1  476.441597           8  6.166345\n",
       "2  461.578551           8  6.134652\n",
       "3  452.233765           7  6.114199\n",
       "4  437.750161           6  6.081648"
      ]
     },
     "execution_count": 29,
     "metadata": {},
     "output_type": "execute_result"
    }
   ],
   "source": [
    "X['log_dist'] = np.log(sn_wildfires['dist_to_rd'])\n",
    "X.head()"
   ]
  },
  {
   "cell_type": "markdown",
   "metadata": {},
   "source": [
    "**Question 12 (2pts)** Add two more features to $X$: a) the `StartMonth` variable squared, and b) `dist_to_rd`/`StartMonth`.   \n",
    "\n",
    "*Note:* These new features don't necessarily have any intuitive meaning in the real world. We're just experimenting to see if we can come up with some new transformations that improve our model's performance. Since we are focusing on prediction and not inference, we don't have to understand the physical reasons why a particular transformation might work or not."
   ]
  },
  {
   "cell_type": "code",
   "execution_count": 30,
   "metadata": {},
   "outputs": [],
   "source": [
    "# YOUR ANSWER HERE\n"
   ]
  },
  {
   "cell_type": "code",
   "execution_count": 31,
   "metadata": {},
   "outputs": [
    {
     "data": {
      "text/html": [
       "<div>\n",
       "<style scoped>\n",
       "    .dataframe tbody tr th:only-of-type {\n",
       "        vertical-align: middle;\n",
       "    }\n",
       "\n",
       "    .dataframe tbody tr th {\n",
       "        vertical-align: top;\n",
       "    }\n",
       "\n",
       "    .dataframe thead th {\n",
       "        text-align: right;\n",
       "    }\n",
       "</style>\n",
       "<table border=\"1\" class=\"dataframe\">\n",
       "  <thead>\n",
       "    <tr style=\"text-align: right;\">\n",
       "      <th></th>\n",
       "      <th>dist_to_rd</th>\n",
       "      <th>StartMonth</th>\n",
       "      <th>log_dist</th>\n",
       "      <th>month^2</th>\n",
       "      <th>dist/month</th>\n",
       "    </tr>\n",
       "  </thead>\n",
       "  <tbody>\n",
       "    <tr>\n",
       "      <th>0</th>\n",
       "      <td>464.121117</td>\n",
       "      <td>8</td>\n",
       "      <td>6.140146</td>\n",
       "      <td>64</td>\n",
       "      <td>58.015140</td>\n",
       "    </tr>\n",
       "    <tr>\n",
       "      <th>1</th>\n",
       "      <td>476.441597</td>\n",
       "      <td>8</td>\n",
       "      <td>6.166345</td>\n",
       "      <td>64</td>\n",
       "      <td>59.555200</td>\n",
       "    </tr>\n",
       "    <tr>\n",
       "      <th>2</th>\n",
       "      <td>461.578551</td>\n",
       "      <td>8</td>\n",
       "      <td>6.134652</td>\n",
       "      <td>64</td>\n",
       "      <td>57.697319</td>\n",
       "    </tr>\n",
       "    <tr>\n",
       "      <th>3</th>\n",
       "      <td>452.233765</td>\n",
       "      <td>7</td>\n",
       "      <td>6.114199</td>\n",
       "      <td>49</td>\n",
       "      <td>64.604824</td>\n",
       "    </tr>\n",
       "    <tr>\n",
       "      <th>4</th>\n",
       "      <td>437.750161</td>\n",
       "      <td>6</td>\n",
       "      <td>6.081648</td>\n",
       "      <td>36</td>\n",
       "      <td>72.958360</td>\n",
       "    </tr>\n",
       "  </tbody>\n",
       "</table>\n",
       "</div>"
      ],
      "text/plain": [
       "   dist_to_rd  StartMonth  log_dist  month^2  dist/month\n",
       "0  464.121117           8  6.140146       64   58.015140\n",
       "1  476.441597           8  6.166345       64   59.555200\n",
       "2  461.578551           8  6.134652       64   57.697319\n",
       "3  452.233765           7  6.114199       49   64.604824\n",
       "4  437.750161           6  6.081648       36   72.958360"
      ]
     },
     "execution_count": 31,
     "metadata": {},
     "output_type": "execute_result"
    }
   ],
   "source": [
    "# YOUR ANSWER HERE\n",
    "\n",
    "X['month^2'] = sn_wildfires['StartMonth']**2\n",
    "X['dist/month'] = sn_wildfires['dist_to_rd']/sn_wildfires['StartMonth']\n",
    "X.head()"
   ]
  },
  {
   "cell_type": "markdown",
   "metadata": {},
   "source": [
    "**Question 13 (1pt)** Use your `fit_OLS` function to estimate a model for your expanded $X$ feature set. Did the addtion of the transformed features improve the model? *Hint:* compare the AIC value for the model you estimated in the previous section to this one."
   ]
  },
  {
   "cell_type": "code",
   "execution_count": 32,
   "metadata": {},
   "outputs": [],
   "source": [
    "# YOUR CODE HERE"
   ]
  },
  {
   "cell_type": "code",
   "execution_count": 33,
   "metadata": {},
   "outputs": [
    {
     "name": "stderr",
     "output_type": "stream",
     "text": [
      "/opt/conda/lib/python3.9/site-packages/statsmodels/tsa/tsatools.py:142: FutureWarning: In a future version of pandas all arguments of concat except for the argument 'objs' will be keyword-only\n",
      "  x = pd.concat(x[::order], 1)\n"
     ]
    },
    {
     "data": {
      "text/html": [
       "<table class=\"simpletable\">\n",
       "<caption>OLS Regression Results</caption>\n",
       "<tr>\n",
       "  <th>Dep. Variable:</th>          <td>Acres</td>      <th>  R-squared:         </th> <td>   0.020</td>\n",
       "</tr>\n",
       "<tr>\n",
       "  <th>Model:</th>                   <td>OLS</td>       <th>  Adj. R-squared:    </th> <td>   0.008</td>\n",
       "</tr>\n",
       "<tr>\n",
       "  <th>Method:</th>             <td>Least Squares</td>  <th>  F-statistic:       </th> <td>   1.695</td>\n",
       "</tr>\n",
       "<tr>\n",
       "  <th>Date:</th>             <td>Fri, 01 Oct 2021</td> <th>  Prob (F-statistic):</th>  <td> 0.135</td> \n",
       "</tr>\n",
       "<tr>\n",
       "  <th>Time:</th>                 <td>17:36:29</td>     <th>  Log-Likelihood:    </th> <td> -4764.0</td>\n",
       "</tr>\n",
       "<tr>\n",
       "  <th>No. Observations:</th>      <td>   420</td>      <th>  AIC:               </th> <td>   9540.</td>\n",
       "</tr>\n",
       "<tr>\n",
       "  <th>Df Residuals:</th>          <td>   414</td>      <th>  BIC:               </th> <td>   9564.</td>\n",
       "</tr>\n",
       "<tr>\n",
       "  <th>Df Model:</th>              <td>     5</td>      <th>                     </th>     <td> </td>   \n",
       "</tr>\n",
       "<tr>\n",
       "  <th>Covariance Type:</th>      <td>nonrobust</td>    <th>                     </th>     <td> </td>   \n",
       "</tr>\n",
       "</table>\n",
       "<table class=\"simpletable\">\n",
       "<tr>\n",
       "       <td></td>         <th>coef</th>     <th>std err</th>      <th>t</th>      <th>P>|t|</th>  <th>[0.025</th>    <th>0.975]</th>  \n",
       "</tr>\n",
       "<tr>\n",
       "  <th>const</th>      <td>-1.031e+05</td> <td> 4.12e+04</td> <td>   -2.503</td> <td> 0.013</td> <td>-1.84e+05</td> <td>-2.21e+04</td>\n",
       "</tr>\n",
       "<tr>\n",
       "  <th>dist_to_rd</th> <td>  -90.0631</td> <td>   42.734</td> <td>   -2.108</td> <td> 0.036</td> <td> -174.067</td> <td>   -6.060</td>\n",
       "</tr>\n",
       "<tr>\n",
       "  <th>StartMonth</th> <td> 2.529e+04</td> <td> 9625.847</td> <td>    2.627</td> <td> 0.009</td> <td> 6364.085</td> <td> 4.42e+04</td>\n",
       "</tr>\n",
       "<tr>\n",
       "  <th>log_dist</th>   <td> 1415.6409</td> <td> 2609.532</td> <td>    0.542</td> <td> 0.588</td> <td>-3713.945</td> <td> 6545.226</td>\n",
       "</tr>\n",
       "<tr>\n",
       "  <th>month^2</th>    <td>-1437.7676</td> <td>  576.271</td> <td>   -2.495</td> <td> 0.013</td> <td>-2570.549</td> <td> -304.986</td>\n",
       "</tr>\n",
       "<tr>\n",
       "  <th>dist/month</th> <td>  591.4309</td> <td>  276.922</td> <td>    2.136</td> <td> 0.033</td> <td>   47.083</td> <td> 1135.779</td>\n",
       "</tr>\n",
       "</table>\n",
       "<table class=\"simpletable\">\n",
       "<tr>\n",
       "  <th>Omnibus:</th>       <td>551.103</td> <th>  Durbin-Watson:     </th> <td>   2.081</td> \n",
       "</tr>\n",
       "<tr>\n",
       "  <th>Prob(Omnibus):</th> <td> 0.000</td>  <th>  Jarque-Bera (JB):  </th> <td>63408.209</td>\n",
       "</tr>\n",
       "<tr>\n",
       "  <th>Skew:</th>          <td> 6.411</td>  <th>  Prob(JB):          </th> <td>    0.00</td> \n",
       "</tr>\n",
       "<tr>\n",
       "  <th>Kurtosis:</th>      <td>61.813</td>  <th>  Cond. No.          </th> <td>1.01e+04</td> \n",
       "</tr>\n",
       "</table><br/><br/>Notes:<br/>[1] Standard Errors assume that the covariance matrix of the errors is correctly specified.<br/>[2] The condition number is large, 1.01e+04. This might indicate that there are<br/>strong multicollinearity or other numerical problems."
      ],
      "text/plain": [
       "<class 'statsmodels.iolib.summary.Summary'>\n",
       "\"\"\"\n",
       "                            OLS Regression Results                            \n",
       "==============================================================================\n",
       "Dep. Variable:                  Acres   R-squared:                       0.020\n",
       "Model:                            OLS   Adj. R-squared:                  0.008\n",
       "Method:                 Least Squares   F-statistic:                     1.695\n",
       "Date:                Fri, 01 Oct 2021   Prob (F-statistic):              0.135\n",
       "Time:                        17:36:29   Log-Likelihood:                -4764.0\n",
       "No. Observations:                 420   AIC:                             9540.\n",
       "Df Residuals:                     414   BIC:                             9564.\n",
       "Df Model:                           5                                         \n",
       "Covariance Type:            nonrobust                                         \n",
       "==============================================================================\n",
       "                 coef    std err          t      P>|t|      [0.025      0.975]\n",
       "------------------------------------------------------------------------------\n",
       "const      -1.031e+05   4.12e+04     -2.503      0.013   -1.84e+05   -2.21e+04\n",
       "dist_to_rd   -90.0631     42.734     -2.108      0.036    -174.067      -6.060\n",
       "StartMonth  2.529e+04   9625.847      2.627      0.009    6364.085    4.42e+04\n",
       "log_dist    1415.6409   2609.532      0.542      0.588   -3713.945    6545.226\n",
       "month^2    -1437.7676    576.271     -2.495      0.013   -2570.549    -304.986\n",
       "dist/month   591.4309    276.922      2.136      0.033      47.083    1135.779\n",
       "==============================================================================\n",
       "Omnibus:                      551.103   Durbin-Watson:                   2.081\n",
       "Prob(Omnibus):                  0.000   Jarque-Bera (JB):            63408.209\n",
       "Skew:                           6.411   Prob(JB):                         0.00\n",
       "Kurtosis:                      61.813   Cond. No.                     1.01e+04\n",
       "==============================================================================\n",
       "\n",
       "Notes:\n",
       "[1] Standard Errors assume that the covariance matrix of the errors is correctly specified.\n",
       "[2] The condition number is large, 1.01e+04. This might indicate that there are\n",
       "strong multicollinearity or other numerical problems.\n",
       "\"\"\""
      ]
     },
     "execution_count": 33,
     "metadata": {},
     "output_type": "execute_result"
    }
   ],
   "source": [
    "# SOLUTION\n",
    "fit_OLS(X,y)"
   ]
  },
  {
   "cell_type": "markdown",
   "metadata": {},
   "source": [
    "*YOUR ANSWER HERE*\n",
    "\n",
    "*We did improve our model (AIC decreased by 1), but it's still pretty bad!*"
   ]
  },
  {
   "cell_type": "markdown",
   "metadata": {},
   "source": [
    "**Question 14 (1pt):** Besides feature engineering, what else might you be able to do to build a model that better predicts burned area in the Sierra Nevada?"
   ]
  },
  {
   "cell_type": "markdown",
   "metadata": {},
   "source": [
    "*YOUR ANSWER HERE*\n",
    "\n",
    "*Answers may vary, but some ideas include: adding features based on other data sources (e.g., vegetation type, time since last fire,...), transforming the CRS to get more accurate measurements of centroid and distance, further narrowing the regional scope (e.g., to only look at mixed conifer ecosystems in the Sierra Nevada), etc.*"
   ]
  },
  {
   "cell_type": "markdown",
   "metadata": {},
   "source": [
    "**EXTRA CREDIT (2pts):** Take a stab at engineering at least one new feature of your own, using different transformations and/or combinations of the features in the $X$ dataframe. Fit your model and view the results. Did your new feature(s) improve the model? (1 pt for attempting this problem; 1 pt for improving AIC over our baseline.)"
   ]
  },
  {
   "cell_type": "code",
   "execution_count": null,
   "metadata": {},
   "outputs": [],
   "source": [
    "# YOUR CODE HERE"
   ]
  },
  {
   "cell_type": "markdown",
   "metadata": {},
   "source": [
    "*YOUR ANSWER HERE*"
   ]
  },
  {
   "cell_type": "markdown",
   "metadata": {},
   "source": [
    "# Hooray, you're done! \n",
    "\n",
    "Please remember to submit your lab work, after clicking Kernel -> Restart & Run All, in .html and .ipynb format on bCourses."
   ]
  },
  {
   "cell_type": "code",
   "execution_count": null,
   "metadata": {},
   "outputs": [],
   "source": []
  }
 ],
 "metadata": {
  "kernelspec": {
   "display_name": "Python 3 (ipykernel)",
   "language": "python",
   "name": "python3"
  },
  "language_info": {
   "codemirror_mode": {
    "name": "ipython",
    "version": 3
   },
   "file_extension": ".py",
   "mimetype": "text/x-python",
   "name": "python",
   "nbconvert_exporter": "python",
   "pygments_lexer": "ipython3",
   "version": "3.9.7"
  }
 },
 "nbformat": 4,
 "nbformat_minor": 2
}
