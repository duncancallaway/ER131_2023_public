{
 "cells": [
  {
   "cell_type": "code",
   "execution_count": 1,
   "metadata": {},
   "outputs": [],
   "source": [
    "NAME = \"\" # put your full name here\n",
    "COLLABORATORS = [] # list names of anyone you worked with on this homework."
   ]
  },
  {
   "cell_type": "markdown",
   "metadata": {},
   "source": [
    "# [ERG-131] Homework 2: Pandas EPA Air Quality\n",
    "\n",
    "---\n",
    "\n",
    "## Table of Contents\n",
    "[Introduction](#intro)<br>\n",
    "1 - [Downloading the Data](#data)<br>\n",
    "2 - [Preparing the Data](#prep)<br>\n",
    "3 - [Exploring Data with Pandas](#explore)<br>\n",
    "4 - [California Data](#cadata)<br>\n",
    "\n",
    "# Introduction <a id='intro'></a>\n",
    "\n",
    "In this homework, we will investigate air quality data retreived from the EPA, focusing on using Pandas to analyze particulate matter (PM2.5) levels. This homework is graded based on the total number of correct answers. Each question receives 1 or 2 points. 1 point questions receive full credit if answered correctly.  Otherwise they receive 0 points. 2 point questions receive full credit if answered correctly.  If students make progress on the question but don’t answer correctly they receive 1 point.  Otherwise they receive 0 points.\n",
    "\n",
    "\n",
    "### Learning Objectives\n",
    "\n",
    "As we clean and explore these data, by the end of this homework you should be able to:\n",
    "* Manipulate tables and parts of the table (column, index) using pandas\n",
    "* Identify the type of data collected, missing values, anomalies, etc. and explain the provenance \n",
    "* Compute numeric operations (mean, max, standard deviation) and be able to explain their significance\n",
    "* Merge data sets and analyze their combined outputs\n"
   ]
  },
  {
   "cell_type": "markdown",
   "metadata": {},
   "source": [
    "----\n",
    "\n",
    "## Section 1: Downloading the Data<a id='data'></a>"
   ]
  },
  {
   "cell_type": "markdown",
   "metadata": {},
   "source": [
    "Run the cell below to import some of the packages we will need for this assignment:"
   ]
  },
  {
   "cell_type": "code",
   "execution_count": 2,
   "metadata": {},
   "outputs": [],
   "source": [
    "#Run this cell\n",
    "from pathlib import Path\n",
    "import sys\n",
    "import math\n",
    "import zipfile\n",
    "%matplotlib inline\n",
    "import matplotlib.pyplot as plt"
   ]
  },
  {
   "cell_type": "markdown",
   "metadata": {},
   "source": [
    "**Question 1.1 (1pt):** Import the Pandas and NumPy libraries `as` their commonly used abbreviations (i.e., `pd`, `np`).   "
   ]
  },
  {
   "cell_type": "code",
   "execution_count": 3,
   "metadata": {},
   "outputs": [],
   "source": [
    "## YOUR CODE HERE\n",
    "\n",
    "# Solution\n",
    "import numpy as np\n",
    "import pandas as pd"
   ]
  },
  {
   "cell_type": "markdown",
   "metadata": {},
   "source": [
    "We'll be working with air quality data from the EPA. Have a look at the description of the data  [here](https://aqs.epa.gov/aqsweb/airdata/FileFormats.html#_hourly_data_files).\n",
    "\n",
    "For this homework, we'll focus on hourly PM2.5 Mass data from 2021. Although it's possible to download the dataset exclusively through the notebook environment, the dataset is too large (over 5.7 million rows!) to load and process in DataHub given the memory constraint. Thus, we'll work with a preprocessed, reduced version of this dataset that removes readings from certain states that we will not be working with.**\n",
    "\n",
    "\n",
    "** *For your future reference, the raw data can be downloaded from [this website](https://aqs.epa.gov/aqsweb/airdata/download_files.html#Raw). Alternatively, you can directly download a zipfile using a URL in the following form:*\n",
    "\n",
    "*https://aqs.epa.gov/aqsweb/airdata/hourly_TYPE_YEAR.zip*\n",
    "\n",
    "...replacing \"TYPE\" and \"YEAR\" with the pollutant code and year, respectively, that you want to analyze.\n",
    "\n",
    "**Measurement | (TYPE)**  \n",
    "Ozone | (44201)  \n",
    "SO2 | (42401)  \n",
    "CO | (42101)  \n",
    "NO2 | (42602)  \n",
    "PM2.5 FRM/FEM Mass | (88101)  \n",
    "PM2.5 non FRM/FEM Mass | (88502)  \n",
    "PM10 Mass | (81102)  \n",
    "PM2.5 Speciation | (SPEC)  \n",
    "PM10 Speciation | (PM10SPEC)"
   ]
  },
  {
   "cell_type": "markdown",
   "metadata": {},
   "source": [
    "---\n",
    "\n",
    "Let's start by taking a closer look at the origins of this dataset. Skim the websites above as well as the [documentation for EPA's Air Quality System Database](https://aqs.epa.gov/aqsweb/documents/about_aqs_data.html). Then, answer the following questions:"
   ]
  },
  {
   "cell_type": "markdown",
   "metadata": {},
   "source": [
    "**Question 1.2 (2 pts):** Do the hourly particulate data from 2021 represent a population or a sample? Justify your answer. "
   ]
  },
  {
   "cell_type": "markdown",
   "metadata": {},
   "source": [
    "*YOUR ANSWER HERE*"
   ]
  },
  {
   "cell_type": "markdown",
   "metadata": {},
   "source": [
    "*Solution*\n",
    "\n",
    "*These data comprise a **sample** of particulate matter measurements. The documentation indicates that air quality samples are collected via a network of (over 4,000!) sites across the United States, but we don't have observations for locations that are not monitored. In addition, we are only using one year of data (2021), a relatively short snapshot in time.*"
   ]
  },
  {
   "cell_type": "markdown",
   "metadata": {},
   "source": [
    "**Question 1.3 (2pt):** In 3-5 sentences, summarize the provenance of the hourly particulate data. What can you infer about how the data were collected? What mechanism generated the data? Were the data manipulated (e.g., cleaned, transformed) to before being packaged for download on EPA's website?"
   ]
  },
  {
   "cell_type": "markdown",
   "metadata": {},
   "source": [
    "*YOUR ANSWER HERE*"
   ]
  },
  {
   "cell_type": "markdown",
   "metadata": {},
   "source": [
    "*Solution*\n",
    "\n",
    "*Particulate data are collected by a national network of monitors managed by various state, local, and tribal agencies and reported to the EPA.  The data are observations of local conditions (they are not the result of an experiment or industrial process per se). While the documentation linked above does not describe the data manipulation process specifically for the hourly PM2.5 data, it does reference a \"data reduction and aggregation\" process that EPA conducts for the AQS data it collects. It is likely the data we are using in this lab have undergone some data handling and manipulation from the raw measurements.*"
   ]
  },
  {
   "cell_type": "markdown",
   "metadata": {},
   "source": [
    "Now let's take a look at the data itself, using Python to unzip the folder and see how many files it contains:"
   ]
  },
  {
   "cell_type": "code",
   "execution_count": 4,
   "metadata": {},
   "outputs": [
    {
     "name": "stdout",
     "output_type": "stream",
     "text": [
      "['reduced_PM25_2021.csv', '__MACOSX/._reduced_PM25_2021.csv']\n"
     ]
    }
   ],
   "source": [
    "air_quality_path = Path('data/reduced_PM25_2021.zip')\n",
    "zf = zipfile.ZipFile(air_quality_path, 'r')\n",
    "print([f.filename for f in zf.filelist])"
   ]
  },
  {
   "cell_type": "markdown",
   "metadata": {},
   "source": [
    "We see that there is one visible CSV file within the zip file, and one hidden CSV file (preceded by a \".\"). Let's ignore this hidden file and focus on the visible CSV.  From here, we want to then get a sense of the structure of the data within the CSV.\n",
    "\n",
    "**Question 1.4 (1pt):** Read the CSV file from the zip."
   ]
  },
  {
   "cell_type": "code",
   "execution_count": 5,
   "metadata": {
    "scrolled": true
   },
   "outputs": [
    {
     "name": "stdout",
     "output_type": "stream",
     "text": [
      "\"State Code\",\"County Code\",\"Site Num\",\"Parameter Code\",\"POC\",\"Latitude\",\"Longitude\",\"Datum\",\"Parameter Name\",\"Date Local\",\"Time Local\",\"Date GMT\",\"Time GMT\",\"Sample Measurement\",\"Units of Measure\",\"MDL\",\"Uncertainty\",\"Qualifier\",\"Method Type\",\"Method Code\",\"Method Name\",\"State Name\",\"County Name\",\"Date of Last Change\"\n",
      "\"06\",\"001\",\"0007\",\"88101\",3,37.687526,-121.784217,\"WGS84\",\"PM2.5 - Local Conditions\",\"2021-01-01\",\"00:00\",\"2021-01-01\",\"08:00\",72,\"Micrograms/cubic meter (LC)\",5,\"\",\"\",\"FEM\",\"170\",\"Met One BAM-1020 Mass Monitor w/VSCC - Beta Attenuation\",\"California\",\"Alameda\",\"2021-05-21\"\n"
     ]
    }
   ],
   "source": [
    "# f_name = ...  # REPLACE ELLIPSIS WITH YOUR CODE\n",
    "\n",
    "#Solution\n",
    "f_name = 'reduced_PM25_2021.csv'\n",
    "\n",
    "with zf.open(f_name) as f:\n",
    "    for i in range(2):\n",
    "        print(f.readline().rstrip().decode())"
   ]
  },
  {
   "cell_type": "markdown",
   "metadata": {},
   "source": [
    "**Question 1.5 (1pt):** The output of the code above gives us a long list of items. What does this list represent?"
   ]
  },
  {
   "cell_type": "markdown",
   "metadata": {},
   "source": [
    "*YOUR ANSWER HERE*"
   ]
  },
  {
   "cell_type": "markdown",
   "metadata": {},
   "source": [
    "SOLUTION:\n",
    "*The output represents the first two rows of the csv file (the first row is the header).*"
   ]
  },
  {
   "cell_type": "markdown",
   "metadata": {},
   "source": [
    "#### We can then organize this data and read it more easily by putting it in a table! We will go over this in the next section."
   ]
  },
  {
   "cell_type": "markdown",
   "metadata": {},
   "source": [
    "----\n",
    "\n",
    "## Section 2: Preparing the Data<a id='prep'></a>\n",
    "\n",
    "We can see that the file contains a pretty descriptive header, and in fact the columns are explained in detail [in the EPA's documentation](https://aqs.epa.gov/aqsweb/airdata/FileFormats.html#_hourly_data_files). Let's extract the data into a Pandas dataframe. We will keep using `zf` to read the file and extract the information.  "
   ]
  },
  {
   "cell_type": "code",
   "execution_count": 6,
   "metadata": {
    "scrolled": false
   },
   "outputs": [],
   "source": [
    "# This cell might take a moment to run.\n",
    "with zf.open(f_name) as fh:\n",
    "    PM25_2021 = pd.read_csv(fh, low_memory = False)"
   ]
  },
  {
   "cell_type": "code",
   "execution_count": 7,
   "metadata": {},
   "outputs": [
    {
     "data": {
      "text/html": [
       "<div>\n",
       "<style scoped>\n",
       "    .dataframe tbody tr th:only-of-type {\n",
       "        vertical-align: middle;\n",
       "    }\n",
       "\n",
       "    .dataframe tbody tr th {\n",
       "        vertical-align: top;\n",
       "    }\n",
       "\n",
       "    .dataframe thead th {\n",
       "        text-align: right;\n",
       "    }\n",
       "</style>\n",
       "<table border=\"1\" class=\"dataframe\">\n",
       "  <thead>\n",
       "    <tr style=\"text-align: right;\">\n",
       "      <th></th>\n",
       "      <th>State Code</th>\n",
       "      <th>County Code</th>\n",
       "      <th>Site Num</th>\n",
       "      <th>Parameter Code</th>\n",
       "      <th>POC</th>\n",
       "      <th>Latitude</th>\n",
       "      <th>Longitude</th>\n",
       "      <th>Datum</th>\n",
       "      <th>Parameter Name</th>\n",
       "      <th>Date Local</th>\n",
       "      <th>...</th>\n",
       "      <th>Units of Measure</th>\n",
       "      <th>MDL</th>\n",
       "      <th>Uncertainty</th>\n",
       "      <th>Qualifier</th>\n",
       "      <th>Method Type</th>\n",
       "      <th>Method Code</th>\n",
       "      <th>Method Name</th>\n",
       "      <th>State Name</th>\n",
       "      <th>County Name</th>\n",
       "      <th>Date of Last Change</th>\n",
       "    </tr>\n",
       "  </thead>\n",
       "  <tbody>\n",
       "    <tr>\n",
       "      <th>0</th>\n",
       "      <td>6</td>\n",
       "      <td>1</td>\n",
       "      <td>7</td>\n",
       "      <td>88101</td>\n",
       "      <td>3</td>\n",
       "      <td>37.687526</td>\n",
       "      <td>-121.784217</td>\n",
       "      <td>WGS84</td>\n",
       "      <td>PM2.5 - Local Conditions</td>\n",
       "      <td>2021-01-01</td>\n",
       "      <td>...</td>\n",
       "      <td>Micrograms/cubic meter (LC)</td>\n",
       "      <td>5.0</td>\n",
       "      <td>NaN</td>\n",
       "      <td>NaN</td>\n",
       "      <td>FEM</td>\n",
       "      <td>170</td>\n",
       "      <td>Met One BAM-1020 Mass Monitor w/VSCC - Beta At...</td>\n",
       "      <td>California</td>\n",
       "      <td>Alameda</td>\n",
       "      <td>2021-05-21</td>\n",
       "    </tr>\n",
       "    <tr>\n",
       "      <th>1</th>\n",
       "      <td>6</td>\n",
       "      <td>1</td>\n",
       "      <td>7</td>\n",
       "      <td>88101</td>\n",
       "      <td>3</td>\n",
       "      <td>37.687526</td>\n",
       "      <td>-121.784217</td>\n",
       "      <td>WGS84</td>\n",
       "      <td>PM2.5 - Local Conditions</td>\n",
       "      <td>2021-01-01</td>\n",
       "      <td>...</td>\n",
       "      <td>Micrograms/cubic meter (LC)</td>\n",
       "      <td>5.0</td>\n",
       "      <td>NaN</td>\n",
       "      <td>NaN</td>\n",
       "      <td>FEM</td>\n",
       "      <td>170</td>\n",
       "      <td>Met One BAM-1020 Mass Monitor w/VSCC - Beta At...</td>\n",
       "      <td>California</td>\n",
       "      <td>Alameda</td>\n",
       "      <td>2021-05-21</td>\n",
       "    </tr>\n",
       "    <tr>\n",
       "      <th>2</th>\n",
       "      <td>6</td>\n",
       "      <td>1</td>\n",
       "      <td>7</td>\n",
       "      <td>88101</td>\n",
       "      <td>3</td>\n",
       "      <td>37.687526</td>\n",
       "      <td>-121.784217</td>\n",
       "      <td>WGS84</td>\n",
       "      <td>PM2.5 - Local Conditions</td>\n",
       "      <td>2021-01-01</td>\n",
       "      <td>...</td>\n",
       "      <td>Micrograms/cubic meter (LC)</td>\n",
       "      <td>5.0</td>\n",
       "      <td>NaN</td>\n",
       "      <td>NaN</td>\n",
       "      <td>FEM</td>\n",
       "      <td>170</td>\n",
       "      <td>Met One BAM-1020 Mass Monitor w/VSCC - Beta At...</td>\n",
       "      <td>California</td>\n",
       "      <td>Alameda</td>\n",
       "      <td>2021-05-21</td>\n",
       "    </tr>\n",
       "    <tr>\n",
       "      <th>3</th>\n",
       "      <td>6</td>\n",
       "      <td>1</td>\n",
       "      <td>7</td>\n",
       "      <td>88101</td>\n",
       "      <td>3</td>\n",
       "      <td>37.687526</td>\n",
       "      <td>-121.784217</td>\n",
       "      <td>WGS84</td>\n",
       "      <td>PM2.5 - Local Conditions</td>\n",
       "      <td>2021-01-01</td>\n",
       "      <td>...</td>\n",
       "      <td>Micrograms/cubic meter (LC)</td>\n",
       "      <td>5.0</td>\n",
       "      <td>NaN</td>\n",
       "      <td>NaN</td>\n",
       "      <td>FEM</td>\n",
       "      <td>170</td>\n",
       "      <td>Met One BAM-1020 Mass Monitor w/VSCC - Beta At...</td>\n",
       "      <td>California</td>\n",
       "      <td>Alameda</td>\n",
       "      <td>2021-05-21</td>\n",
       "    </tr>\n",
       "    <tr>\n",
       "      <th>4</th>\n",
       "      <td>6</td>\n",
       "      <td>1</td>\n",
       "      <td>7</td>\n",
       "      <td>88101</td>\n",
       "      <td>3</td>\n",
       "      <td>37.687526</td>\n",
       "      <td>-121.784217</td>\n",
       "      <td>WGS84</td>\n",
       "      <td>PM2.5 - Local Conditions</td>\n",
       "      <td>2021-01-01</td>\n",
       "      <td>...</td>\n",
       "      <td>Micrograms/cubic meter (LC)</td>\n",
       "      <td>5.0</td>\n",
       "      <td>NaN</td>\n",
       "      <td>NaN</td>\n",
       "      <td>FEM</td>\n",
       "      <td>170</td>\n",
       "      <td>Met One BAM-1020 Mass Monitor w/VSCC - Beta At...</td>\n",
       "      <td>California</td>\n",
       "      <td>Alameda</td>\n",
       "      <td>2021-05-21</td>\n",
       "    </tr>\n",
       "  </tbody>\n",
       "</table>\n",
       "<p>5 rows × 24 columns</p>\n",
       "</div>"
      ],
      "text/plain": [
       "   State Code  County Code  Site Num  Parameter Code  POC   Latitude  \\\n",
       "0           6            1         7           88101    3  37.687526   \n",
       "1           6            1         7           88101    3  37.687526   \n",
       "2           6            1         7           88101    3  37.687526   \n",
       "3           6            1         7           88101    3  37.687526   \n",
       "4           6            1         7           88101    3  37.687526   \n",
       "\n",
       "    Longitude  Datum            Parameter Name  Date Local  ...  \\\n",
       "0 -121.784217  WGS84  PM2.5 - Local Conditions  2021-01-01  ...   \n",
       "1 -121.784217  WGS84  PM2.5 - Local Conditions  2021-01-01  ...   \n",
       "2 -121.784217  WGS84  PM2.5 - Local Conditions  2021-01-01  ...   \n",
       "3 -121.784217  WGS84  PM2.5 - Local Conditions  2021-01-01  ...   \n",
       "4 -121.784217  WGS84  PM2.5 - Local Conditions  2021-01-01  ...   \n",
       "\n",
       "              Units of Measure  MDL Uncertainty  Qualifier Method Type  \\\n",
       "0  Micrograms/cubic meter (LC)  5.0         NaN        NaN         FEM   \n",
       "1  Micrograms/cubic meter (LC)  5.0         NaN        NaN         FEM   \n",
       "2  Micrograms/cubic meter (LC)  5.0         NaN        NaN         FEM   \n",
       "3  Micrograms/cubic meter (LC)  5.0         NaN        NaN         FEM   \n",
       "4  Micrograms/cubic meter (LC)  5.0         NaN        NaN         FEM   \n",
       "\n",
       "   Method Code                                        Method Name  State Name  \\\n",
       "0          170  Met One BAM-1020 Mass Monitor w/VSCC - Beta At...  California   \n",
       "1          170  Met One BAM-1020 Mass Monitor w/VSCC - Beta At...  California   \n",
       "2          170  Met One BAM-1020 Mass Monitor w/VSCC - Beta At...  California   \n",
       "3          170  Met One BAM-1020 Mass Monitor w/VSCC - Beta At...  California   \n",
       "4          170  Met One BAM-1020 Mass Monitor w/VSCC - Beta At...  California   \n",
       "\n",
       "  County Name  Date of Last Change  \n",
       "0     Alameda           2021-05-21  \n",
       "1     Alameda           2021-05-21  \n",
       "2     Alameda           2021-05-21  \n",
       "3     Alameda           2021-05-21  \n",
       "4     Alameda           2021-05-21  \n",
       "\n",
       "[5 rows x 24 columns]"
      ]
     },
     "execution_count": 7,
     "metadata": {},
     "output_type": "execute_result"
    }
   ],
   "source": [
    "# Print out the first few rows. \n",
    "PM25_2021.head()"
   ]
  },
  {
   "cell_type": "markdown",
   "metadata": {},
   "source": [
    "**Question 2.1 (1 pt):** Name one column that contains the integer data, one column that contains the float data, and one column that contains string data. Explain what each of these datatypes are. (Hint: the [Pandas dtypes](https://pandas.pydata.org/docs/reference/api/pandas.DataFrame.dtypes.html) method might be useful here)."
   ]
  },
  {
   "cell_type": "markdown",
   "metadata": {},
   "source": [
    "*YOUR ANSWER HERE*\n",
    "Float:\n",
    "String:\n",
    "Integer:"
   ]
  },
  {
   "cell_type": "markdown",
   "metadata": {},
   "source": [
    "*Solution* \n",
    "\n",
    "*Many answers are acceptable, as long as they are consistent with the data types in the table.*\n",
    "Float: Number with decimals\n",
    "String: Anything with words\n",
    "Integer: Number without any decimals"
   ]
  },
  {
   "cell_type": "code",
   "execution_count": 8,
   "metadata": {},
   "outputs": [],
   "source": [
    "# Use this cell for scratch work"
   ]
  },
  {
   "cell_type": "code",
   "execution_count": 9,
   "metadata": {},
   "outputs": [
    {
     "name": "stdout",
     "output_type": "stream",
     "text": [
      "State Code               int64\n",
      "County Code              int64\n",
      "Site Num                 int64\n",
      "Parameter Code           int64\n",
      "POC                      int64\n",
      "Latitude               float64\n",
      "Longitude              float64\n",
      "Datum                   object\n",
      "Parameter Name          object\n",
      "Date Local              object\n",
      "Time Local              object\n",
      "Date GMT                object\n",
      "Time GMT                object\n",
      "Sample Measurement     float64\n",
      "Units of Measure        object\n",
      "MDL                    float64\n",
      "Uncertainty            float64\n",
      "Qualifier               object\n",
      "Method Type             object\n",
      "Method Code              int64\n",
      "Method Name             object\n",
      "State Name              object\n",
      "County Name             object\n",
      "Date of Last Change     object\n",
      "dtype: object\n",
      "<class 'str'>\n",
      "<class 'str'>\n"
     ]
    }
   ],
   "source": [
    "# Solution scratch work\n",
    "print(PM25_2021.dtypes) # Check the datatypes for each column.\n",
    "print(type(PM25_2021['Units of Measure'][0])) # Verify that one or more of the columns with \"object\" dtype contains strings.\n",
    "print(type(PM25_2021['Time Local'][0]))"
   ]
  },
  {
   "cell_type": "markdown",
   "metadata": {},
   "source": [
    "**Question 2.2 (2pt):** Identify at least one issue relating to questionable or missing data in the dataframe, and outline (in one sentence) how this data-related issue could impact an analyst's ability to draw conclusions from the data. Come up with at least one possible solution for this issue."
   ]
  },
  {
   "cell_type": "markdown",
   "metadata": {},
   "source": [
    "*YOUR ANSWER HERE*\n",
    "\n",
    "*Answers can vary, but one answer is: the air quality uncertainty field (\"Uncertainty\") contains a lot of NaNs, which would make it difficult to compare air quality at different times or in different locations with any certainty. It is possible to do this analysis without that uncertainty field, or to only work with data with known uncertainty.* "
   ]
  },
  {
   "cell_type": "markdown",
   "metadata": {},
   "source": [
    "**Question 2.3 (3 pts):** Answer the questions below. (*Hint*: the method `.shape` might be helpful for answering the first two questions.)\n",
    "\n",
    "1. How many records are present?\n",
    "2. How many fields are reported?\n",
    "3. What does each row represent?"
   ]
  },
  {
   "cell_type": "code",
   "execution_count": 10,
   "metadata": {},
   "outputs": [],
   "source": [
    "# use this cell for scratch work"
   ]
  },
  {
   "cell_type": "code",
   "execution_count": 11,
   "metadata": {},
   "outputs": [
    {
     "data": {
      "text/plain": [
       "(839365, 24)"
      ]
     },
     "execution_count": 11,
     "metadata": {},
     "output_type": "execute_result"
    }
   ],
   "source": [
    "# Solution scratch work\n",
    "PM25_2021.shape"
   ]
  },
  {
   "cell_type": "markdown",
   "metadata": {},
   "source": [
    "*YOUR ANSWER HERE*\n",
    "\n",
    "*There are 839,365 records and 24 fields (corresponding to the number of rows and columns in the dataframe). Each row is a PM2.5 measurement at a given hour and monitor location.*"
   ]
  },
  {
   "cell_type": "markdown",
   "metadata": {},
   "source": [
    "**Question 2.4 (1 pt):** After reading up on the metadata [here](https://aqs.epa.gov/aqsweb/airdata/FileFormats.html#_hourly_data_files), what does MDL stand for and what is it?  "
   ]
  },
  {
   "cell_type": "markdown",
   "metadata": {},
   "source": [
    "*YOUR ANSWER HERE*"
   ]
  },
  {
   "cell_type": "markdown",
   "metadata": {},
   "source": [
    "*MDL stands for Method Detection Limit, the minimum concentration that the monitor and method used at a given station can measure.*"
   ]
  },
  {
   "cell_type": "markdown",
   "metadata": {},
   "source": [
    "**Question 2.5 (2pts):** What percentage of the records in the `PM25_2021` dataframe have a smaller sample measurement than they do an MDL value? Are you more or less confident in those values than you are in the sample measurement values in the rest of the dataset? Why?"
   ]
  },
  {
   "cell_type": "code",
   "execution_count": 12,
   "metadata": {},
   "outputs": [],
   "source": [
    "# use this cell for scratch work"
   ]
  },
  {
   "cell_type": "code",
   "execution_count": 13,
   "metadata": {},
   "outputs": [
    {
     "data": {
      "text/plain": [
       "24.74716005551816"
      ]
     },
     "execution_count": 13,
     "metadata": {},
     "output_type": "execute_result"
    }
   ],
   "source": [
    "# Solution scratch work \n",
    "under_MDL = len(PM25_2021[PM25_2021[\"Sample Measurement\"]<PM25_2021[\"MDL\"]])\n",
    "under_MDL / len(PM25_2021) * 100"
   ]
  },
  {
   "cell_type": "markdown",
   "metadata": {},
   "source": [
    "*YOUR ANSWER HERE*\n",
    "\n",
    "*The sample measurement is lower than the MDL for about 25% of records. We would have less confidence in those values, since they fall below the lower limit for which the monitor can provide reliable information.*"
   ]
  },
  {
   "cell_type": "markdown",
   "metadata": {},
   "source": [
    "**Question 2.6 (1pt):** Let's look at some of the fields that identify location. \n",
    "1. How many unique states are represented in `PM25_2021`? Which ones are they?\n",
    "2. How many counties? \n",
    "3. How many unique values of the site-identifying variable `Site Num` are there? \n"
   ]
  },
  {
   "cell_type": "code",
   "execution_count": 14,
   "metadata": {},
   "outputs": [],
   "source": [
    "# scratch work here"
   ]
  },
  {
   "cell_type": "code",
   "execution_count": 15,
   "metadata": {},
   "outputs": [
    {
     "name": "stdout",
     "output_type": "stream",
     "text": [
      "1\n",
      "['California']\n",
      "43\n",
      "53\n",
      "53\n"
     ]
    }
   ],
   "source": [
    "# Solution scratch work\n",
    "unique_states = PM25_2021[\"State Name\"].unique()\n",
    "print(len(unique_states))\n",
    "print(unique_states)\n",
    "\n",
    "print(len(PM25_2021[\"County Name\"].unique()))\n",
    "\n",
    "print(len(PM25_2021[\"Site Num\"].unique()))\n",
    "# or \n",
    "print(len(PM25_2021[['Site Num']].value_counts().sort_values(ascending=False)))\n"
   ]
  },
  {
   "cell_type": "markdown",
   "metadata": {},
   "source": [
    "*YOUR ANSWER HERE*"
   ]
  },
  {
   "cell_type": "markdown",
   "metadata": {},
   "source": [
    "*Solution*\n",
    "\n",
    "*One state (California) is represented in the dataframe. There are 43 counties present, and 53 different Site Num values.*"
   ]
  },
  {
   "cell_type": "markdown",
   "metadata": {},
   "source": [
    "**Question 2.7 (2pt):** Revisit the metadata [here](https://aqs.epa.gov/aqsweb/airdata/FileFormats.html#_hourly_data_files) to look up the description of the `Site Num` variable. Is the number of monitoring site locations in this dataset necessarily the same as your answer to part 3 of the question above? How might you use additional variables to confirm the number of distinct monitoring site locations that this dataset contains? Hint: you may find the [.value_counts()](https://pandas.pydata.org/pandas-docs/stable/reference/api/pandas.DataFrame.value_counts.html) or [.drop_duplicates()](https://pandas.pydata.org/pandas-docs/stable/reference/api/pandas.DataFrame.drop_duplicates.html) methods useful). "
   ]
  },
  {
   "cell_type": "code",
   "execution_count": 16,
   "metadata": {},
   "outputs": [],
   "source": [
    "# scratch work here"
   ]
  },
  {
   "cell_type": "code",
   "execution_count": 17,
   "metadata": {},
   "outputs": [
    {
     "name": "stdout",
     "output_type": "stream",
     "text": [
      "53\n",
      "Site Num    103\n",
      "dtype: int64\n",
      "(103,)\n",
      "103\n",
      "103\n",
      "(103,)\n"
     ]
    }
   ],
   "source": [
    "# Solution scratch work\n",
    "\n",
    "# Number of unique Site Num \n",
    "print(len(PM25_2021['Site Num'].unique()))\n",
    "\n",
    "# One approach to get unique sites\n",
    "site_county = PM25_2021[['County Name','Site Num']]\n",
    "site_county = site_county.drop_duplicates()\n",
    "print(site_county.groupby('County Name').count().sum())\n",
    "\n",
    "# Another approach\n",
    "site_counts = PM25_2021[[\"County Name\",\"Site Num\"]].value_counts()\n",
    "site_counts.sort_values(ascending=False, inplace=True)\n",
    "print(site_counts.shape)\n",
    "\n",
    "# A third approach\n",
    "print(len(PM25_2021['Latitude'].unique()))\n",
    "print(len(PM25_2021['Longitude'].unique()))\n",
    "\n",
    "# A fourth approach: \n",
    "latlon_counts = PM25_2021[[\"Latitude\",\"Longitude\"]].value_counts()\n",
    "print(latlon_counts.shape)"
   ]
  },
  {
   "cell_type": "markdown",
   "metadata": {},
   "source": [
    "*YOUR ANSWER HERE*"
   ]
  },
  {
   "cell_type": "markdown",
   "metadata": {},
   "source": [
    "*Solution*\n",
    "\n",
    "*The `Site Num` values are county-specific, so if two different counties use the same `Site Num` value for different monitoring sites, those two sites will have the same `Site Num` value. To identify the number of distinct monitoring sites, you might count the number of unique `Site Num` values per county, and sum these across counties. You also might look at the distinct `Latitude` and `Longitude` values to estimate the number of distinct sites.*"
   ]
  },
  {
   "cell_type": "markdown",
   "metadata": {},
   "source": [
    "**Question 2.8 (2pts):** We are not going to need the `Site Num` column for this data analysis; indeed, many of these columns will be unnecessary for this analysis. Let's make a new dataframe (called `df`) with the information we need. Use pd.DataFrame to create a new table with 6 columns, ***named and ordered*** as follows:\n",
    "\n",
    "1. `County`: The **name** of the county where the monitoring site is located.\n",
    "1. `Time`: The time of day that sampling began on a 24-hour clock, corresponding to the `Time Local` column.\n",
    "1. `Date`: The column of dates corresponding to the `Date Local` column.\n",
    "1. `MDL`: the method detection limit for the measurement.\n",
    "1. `Measurement`: The measured value in the standard units of measure for the parameter corresponding to the `Sample Measurement` column.\n",
    "1. `Units`: The unit of measure for the parameter corresponding to the `Units of Measure` column."
   ]
  },
  {
   "cell_type": "code",
   "execution_count": 18,
   "metadata": {},
   "outputs": [],
   "source": [
    "df = ... # YOUR CODE HERE"
   ]
  },
  {
   "cell_type": "code",
   "execution_count": 19,
   "metadata": {},
   "outputs": [],
   "source": [
    "# Solution\n",
    "df = pd.DataFrame(columns = [\"County\",\"Time\", \"Date\",\"MDL\", \"Measurement\", \"Units\"])\n",
    "\n",
    "df[\"Date\"]= PM25_2021[\"Date Local\"]\n",
    "df[\"Time\"]= PM25_2021[\"Time Local\"]\n",
    "df[\"Measurement\"]= PM25_2021[\"Sample Measurement\"]\n",
    "df[\"Units\"]= PM25_2021[\"Units of Measure\"]\n",
    "df[\"County\"]= PM25_2021[\"County Name\"]\n",
    "df[\"MDL\"] = PM25_2021[\"MDL\"]"
   ]
  },
  {
   "cell_type": "code",
   "execution_count": 20,
   "metadata": {},
   "outputs": [
    {
     "data": {
      "text/html": [
       "<div>\n",
       "<style scoped>\n",
       "    .dataframe tbody tr th:only-of-type {\n",
       "        vertical-align: middle;\n",
       "    }\n",
       "\n",
       "    .dataframe tbody tr th {\n",
       "        vertical-align: top;\n",
       "    }\n",
       "\n",
       "    .dataframe thead th {\n",
       "        text-align: right;\n",
       "    }\n",
       "</style>\n",
       "<table border=\"1\" class=\"dataframe\">\n",
       "  <thead>\n",
       "    <tr style=\"text-align: right;\">\n",
       "      <th></th>\n",
       "      <th>County</th>\n",
       "      <th>Time</th>\n",
       "      <th>Date</th>\n",
       "      <th>MDL</th>\n",
       "      <th>Measurement</th>\n",
       "      <th>Units</th>\n",
       "    </tr>\n",
       "  </thead>\n",
       "  <tbody>\n",
       "    <tr>\n",
       "      <th>80</th>\n",
       "      <td>Alameda</td>\n",
       "      <td>08:00</td>\n",
       "      <td>2021-01-04</td>\n",
       "      <td>5.0</td>\n",
       "      <td>8.0</td>\n",
       "      <td>Micrograms/cubic meter (LC)</td>\n",
       "    </tr>\n",
       "    <tr>\n",
       "      <th>81</th>\n",
       "      <td>Alameda</td>\n",
       "      <td>09:00</td>\n",
       "      <td>2021-01-04</td>\n",
       "      <td>5.0</td>\n",
       "      <td>2.0</td>\n",
       "      <td>Micrograms/cubic meter (LC)</td>\n",
       "    </tr>\n",
       "    <tr>\n",
       "      <th>82</th>\n",
       "      <td>Alameda</td>\n",
       "      <td>10:00</td>\n",
       "      <td>2021-01-04</td>\n",
       "      <td>5.0</td>\n",
       "      <td>-1.0</td>\n",
       "      <td>Micrograms/cubic meter (LC)</td>\n",
       "    </tr>\n",
       "    <tr>\n",
       "      <th>83</th>\n",
       "      <td>Alameda</td>\n",
       "      <td>11:00</td>\n",
       "      <td>2021-01-04</td>\n",
       "      <td>5.0</td>\n",
       "      <td>0.0</td>\n",
       "      <td>Micrograms/cubic meter (LC)</td>\n",
       "    </tr>\n",
       "    <tr>\n",
       "      <th>84</th>\n",
       "      <td>Alameda</td>\n",
       "      <td>12:00</td>\n",
       "      <td>2021-01-04</td>\n",
       "      <td>5.0</td>\n",
       "      <td>9.0</td>\n",
       "      <td>Micrograms/cubic meter (LC)</td>\n",
       "    </tr>\n",
       "    <tr>\n",
       "      <th>85</th>\n",
       "      <td>Alameda</td>\n",
       "      <td>13:00</td>\n",
       "      <td>2021-01-04</td>\n",
       "      <td>5.0</td>\n",
       "      <td>7.0</td>\n",
       "      <td>Micrograms/cubic meter (LC)</td>\n",
       "    </tr>\n",
       "    <tr>\n",
       "      <th>86</th>\n",
       "      <td>Alameda</td>\n",
       "      <td>14:00</td>\n",
       "      <td>2021-01-04</td>\n",
       "      <td>5.0</td>\n",
       "      <td>3.0</td>\n",
       "      <td>Micrograms/cubic meter (LC)</td>\n",
       "    </tr>\n",
       "    <tr>\n",
       "      <th>87</th>\n",
       "      <td>Alameda</td>\n",
       "      <td>15:00</td>\n",
       "      <td>2021-01-04</td>\n",
       "      <td>5.0</td>\n",
       "      <td>4.0</td>\n",
       "      <td>Micrograms/cubic meter (LC)</td>\n",
       "    </tr>\n",
       "    <tr>\n",
       "      <th>88</th>\n",
       "      <td>Alameda</td>\n",
       "      <td>16:00</td>\n",
       "      <td>2021-01-04</td>\n",
       "      <td>5.0</td>\n",
       "      <td>4.0</td>\n",
       "      <td>Micrograms/cubic meter (LC)</td>\n",
       "    </tr>\n",
       "    <tr>\n",
       "      <th>89</th>\n",
       "      <td>Alameda</td>\n",
       "      <td>17:00</td>\n",
       "      <td>2021-01-04</td>\n",
       "      <td>5.0</td>\n",
       "      <td>7.0</td>\n",
       "      <td>Micrograms/cubic meter (LC)</td>\n",
       "    </tr>\n",
       "  </tbody>\n",
       "</table>\n",
       "</div>"
      ],
      "text/plain": [
       "     County   Time        Date  MDL  Measurement                        Units\n",
       "80  Alameda  08:00  2021-01-04  5.0          8.0  Micrograms/cubic meter (LC)\n",
       "81  Alameda  09:00  2021-01-04  5.0          2.0  Micrograms/cubic meter (LC)\n",
       "82  Alameda  10:00  2021-01-04  5.0         -1.0  Micrograms/cubic meter (LC)\n",
       "83  Alameda  11:00  2021-01-04  5.0          0.0  Micrograms/cubic meter (LC)\n",
       "84  Alameda  12:00  2021-01-04  5.0          9.0  Micrograms/cubic meter (LC)\n",
       "85  Alameda  13:00  2021-01-04  5.0          7.0  Micrograms/cubic meter (LC)\n",
       "86  Alameda  14:00  2021-01-04  5.0          3.0  Micrograms/cubic meter (LC)\n",
       "87  Alameda  15:00  2021-01-04  5.0          4.0  Micrograms/cubic meter (LC)\n",
       "88  Alameda  16:00  2021-01-04  5.0          4.0  Micrograms/cubic meter (LC)\n",
       "89  Alameda  17:00  2021-01-04  5.0          7.0  Micrograms/cubic meter (LC)"
      ]
     },
     "execution_count": 20,
     "metadata": {},
     "output_type": "execute_result"
    }
   ],
   "source": [
    "# Print a few rows. \n",
    "df.iloc[80:90,:]"
   ]
  },
  {
   "cell_type": "markdown",
   "metadata": {},
   "source": [
    "**Question 2.9a (1pt)** It appears that some rows of `Measurement` contain negative values; perhaps surprising for a physical quantity with units of \"Micrograms/cubic meter.\" Let's use the `MDL` variable to \"clean\" our `Measurement` variable. For all rows of `df` where `Measurement` is lower than `MDL`, replace the value of `Measurement` in those rows with `np.nan` (the `.loc` method is helpful here!).\n",
    "\n",
    "*Hint / Warning*: You may get a \"SettingWithCopyWarning\".  It's ok to ignore.  "
   ]
  },
  {
   "cell_type": "code",
   "execution_count": 21,
   "metadata": {},
   "outputs": [],
   "source": [
    "# YOUR CODE HERE"
   ]
  },
  {
   "cell_type": "code",
   "execution_count": 22,
   "metadata": {},
   "outputs": [],
   "source": [
    "# Solution\n",
    "df.loc[df['Measurement']<df['MDL'], 'Measurement'] = np.nan "
   ]
  },
  {
   "cell_type": "code",
   "execution_count": 23,
   "metadata": {},
   "outputs": [
    {
     "data": {
      "text/html": [
       "<div>\n",
       "<style scoped>\n",
       "    .dataframe tbody tr th:only-of-type {\n",
       "        vertical-align: middle;\n",
       "    }\n",
       "\n",
       "    .dataframe tbody tr th {\n",
       "        vertical-align: top;\n",
       "    }\n",
       "\n",
       "    .dataframe thead th {\n",
       "        text-align: right;\n",
       "    }\n",
       "</style>\n",
       "<table border=\"1\" class=\"dataframe\">\n",
       "  <thead>\n",
       "    <tr style=\"text-align: right;\">\n",
       "      <th></th>\n",
       "      <th>County</th>\n",
       "      <th>Time</th>\n",
       "      <th>Date</th>\n",
       "      <th>MDL</th>\n",
       "      <th>Measurement</th>\n",
       "      <th>Units</th>\n",
       "    </tr>\n",
       "  </thead>\n",
       "  <tbody>\n",
       "    <tr>\n",
       "      <th>80</th>\n",
       "      <td>Alameda</td>\n",
       "      <td>08:00</td>\n",
       "      <td>2021-01-04</td>\n",
       "      <td>5.0</td>\n",
       "      <td>8.0</td>\n",
       "      <td>Micrograms/cubic meter (LC)</td>\n",
       "    </tr>\n",
       "    <tr>\n",
       "      <th>81</th>\n",
       "      <td>Alameda</td>\n",
       "      <td>09:00</td>\n",
       "      <td>2021-01-04</td>\n",
       "      <td>5.0</td>\n",
       "      <td>NaN</td>\n",
       "      <td>Micrograms/cubic meter (LC)</td>\n",
       "    </tr>\n",
       "    <tr>\n",
       "      <th>82</th>\n",
       "      <td>Alameda</td>\n",
       "      <td>10:00</td>\n",
       "      <td>2021-01-04</td>\n",
       "      <td>5.0</td>\n",
       "      <td>NaN</td>\n",
       "      <td>Micrograms/cubic meter (LC)</td>\n",
       "    </tr>\n",
       "    <tr>\n",
       "      <th>83</th>\n",
       "      <td>Alameda</td>\n",
       "      <td>11:00</td>\n",
       "      <td>2021-01-04</td>\n",
       "      <td>5.0</td>\n",
       "      <td>NaN</td>\n",
       "      <td>Micrograms/cubic meter (LC)</td>\n",
       "    </tr>\n",
       "    <tr>\n",
       "      <th>84</th>\n",
       "      <td>Alameda</td>\n",
       "      <td>12:00</td>\n",
       "      <td>2021-01-04</td>\n",
       "      <td>5.0</td>\n",
       "      <td>9.0</td>\n",
       "      <td>Micrograms/cubic meter (LC)</td>\n",
       "    </tr>\n",
       "    <tr>\n",
       "      <th>85</th>\n",
       "      <td>Alameda</td>\n",
       "      <td>13:00</td>\n",
       "      <td>2021-01-04</td>\n",
       "      <td>5.0</td>\n",
       "      <td>7.0</td>\n",
       "      <td>Micrograms/cubic meter (LC)</td>\n",
       "    </tr>\n",
       "    <tr>\n",
       "      <th>86</th>\n",
       "      <td>Alameda</td>\n",
       "      <td>14:00</td>\n",
       "      <td>2021-01-04</td>\n",
       "      <td>5.0</td>\n",
       "      <td>NaN</td>\n",
       "      <td>Micrograms/cubic meter (LC)</td>\n",
       "    </tr>\n",
       "    <tr>\n",
       "      <th>87</th>\n",
       "      <td>Alameda</td>\n",
       "      <td>15:00</td>\n",
       "      <td>2021-01-04</td>\n",
       "      <td>5.0</td>\n",
       "      <td>NaN</td>\n",
       "      <td>Micrograms/cubic meter (LC)</td>\n",
       "    </tr>\n",
       "    <tr>\n",
       "      <th>88</th>\n",
       "      <td>Alameda</td>\n",
       "      <td>16:00</td>\n",
       "      <td>2021-01-04</td>\n",
       "      <td>5.0</td>\n",
       "      <td>NaN</td>\n",
       "      <td>Micrograms/cubic meter (LC)</td>\n",
       "    </tr>\n",
       "    <tr>\n",
       "      <th>89</th>\n",
       "      <td>Alameda</td>\n",
       "      <td>17:00</td>\n",
       "      <td>2021-01-04</td>\n",
       "      <td>5.0</td>\n",
       "      <td>7.0</td>\n",
       "      <td>Micrograms/cubic meter (LC)</td>\n",
       "    </tr>\n",
       "  </tbody>\n",
       "</table>\n",
       "</div>"
      ],
      "text/plain": [
       "     County   Time        Date  MDL  Measurement                        Units\n",
       "80  Alameda  08:00  2021-01-04  5.0          8.0  Micrograms/cubic meter (LC)\n",
       "81  Alameda  09:00  2021-01-04  5.0          NaN  Micrograms/cubic meter (LC)\n",
       "82  Alameda  10:00  2021-01-04  5.0          NaN  Micrograms/cubic meter (LC)\n",
       "83  Alameda  11:00  2021-01-04  5.0          NaN  Micrograms/cubic meter (LC)\n",
       "84  Alameda  12:00  2021-01-04  5.0          9.0  Micrograms/cubic meter (LC)\n",
       "85  Alameda  13:00  2021-01-04  5.0          7.0  Micrograms/cubic meter (LC)\n",
       "86  Alameda  14:00  2021-01-04  5.0          NaN  Micrograms/cubic meter (LC)\n",
       "87  Alameda  15:00  2021-01-04  5.0          NaN  Micrograms/cubic meter (LC)\n",
       "88  Alameda  16:00  2021-01-04  5.0          NaN  Micrograms/cubic meter (LC)\n",
       "89  Alameda  17:00  2021-01-04  5.0          7.0  Micrograms/cubic meter (LC)"
      ]
     },
     "execution_count": 23,
     "metadata": {},
     "output_type": "execute_result"
    }
   ],
   "source": [
    "# Print a few rows to check that your method worked.\n",
    "df.iloc[80:90,:]"
   ]
  },
  {
   "cell_type": "markdown",
   "metadata": {},
   "source": [
    "**Question 2.9b (1pt):** How many rows now have a valid numerical measurement? Hint: the [`.isnull()`](https://pandas.pydata.org/docs/reference/api/pandas.isnull.html) method might be useful here.)"
   ]
  },
  {
   "cell_type": "code",
   "execution_count": 24,
   "metadata": {},
   "outputs": [],
   "source": [
    "# scratch work here"
   ]
  },
  {
   "cell_type": "markdown",
   "metadata": {},
   "source": [
    "*YOUR ANSWER HERE*"
   ]
  },
  {
   "cell_type": "code",
   "execution_count": 25,
   "metadata": {},
   "outputs": [
    {
     "name": "stdout",
     "output_type": "stream",
     "text": [
      "631646\n"
     ]
    }
   ],
   "source": [
    "# Solution\n",
    "print(len(df) - len(df.loc[df['Measurement'].isnull()]))"
   ]
  },
  {
   "cell_type": "markdown",
   "metadata": {},
   "source": [
    "**Question 2.10 (2pts):** We could have used a different strategy to 'clean' the measurements with values below the MDL. Why might it be a good idea to replace these measurements with \"NaN\" rather than setting them to another value, e.g., 0 or to the MDL? Similarly, why might we want to use \"NaN\" instead of removing these rows from the table entirely?"
   ]
  },
  {
   "cell_type": "markdown",
   "metadata": {},
   "source": [
    "*YOUR ANSWER HERE*"
   ]
  },
  {
   "cell_type": "markdown",
   "metadata": {},
   "source": [
    "*SOLUTION*\n",
    "\n",
    "*By filling questionable measurements with np.nan instead another number, we avoid creating confusion between actual measurements and \"fill\" values that we manually impose on the dataset and preserve our ability take statistics such as mean, max, and min values. Similarly, by using np.nan instead of deleting these rows, we retain the record (as distinct from a failure by the sensor to record a measurement) but are able to exclude its value from any calculations.* "
   ]
  },
  {
   "cell_type": "markdown",
   "metadata": {},
   "source": [
    "<br>\n",
    "\n",
    "----\n",
    "\n",
    "## Section 3: Exploring Data with Pandas<a id='explore'></a>\n",
    "\n",
    "In this section we will analyze the EPA data to examine how air pollution in Sacramento varies over the course of the day."
   ]
  },
  {
   "cell_type": "markdown",
   "metadata": {},
   "source": [
    "**Question 3.1 (1pt):** Starting with the dataframe `df` from Question 2.6, create a new table containing just data from Sacramento county in California."
   ]
  },
  {
   "cell_type": "code",
   "execution_count": 26,
   "metadata": {},
   "outputs": [],
   "source": [
    "sac = ... # YOUR CODE HERE"
   ]
  },
  {
   "cell_type": "code",
   "execution_count": 27,
   "metadata": {},
   "outputs": [],
   "source": [
    "# Solution\n",
    "sac = df[(df['County']=='Sacramento')]"
   ]
  },
  {
   "cell_type": "code",
   "execution_count": 28,
   "metadata": {},
   "outputs": [
    {
     "data": {
      "text/html": [
       "<div>\n",
       "<style scoped>\n",
       "    .dataframe tbody tr th:only-of-type {\n",
       "        vertical-align: middle;\n",
       "    }\n",
       "\n",
       "    .dataframe tbody tr th {\n",
       "        vertical-align: top;\n",
       "    }\n",
       "\n",
       "    .dataframe thead th {\n",
       "        text-align: right;\n",
       "    }\n",
       "</style>\n",
       "<table border=\"1\" class=\"dataframe\">\n",
       "  <thead>\n",
       "    <tr style=\"text-align: right;\">\n",
       "      <th></th>\n",
       "      <th>County</th>\n",
       "      <th>Time</th>\n",
       "      <th>Date</th>\n",
       "      <th>MDL</th>\n",
       "      <th>Measurement</th>\n",
       "      <th>Units</th>\n",
       "    </tr>\n",
       "  </thead>\n",
       "  <tbody>\n",
       "    <tr>\n",
       "      <th>452590</th>\n",
       "      <td>Sacramento</td>\n",
       "      <td>00:00</td>\n",
       "      <td>2021-01-01</td>\n",
       "      <td>5.0</td>\n",
       "      <td>16.0</td>\n",
       "      <td>Micrograms/cubic meter (LC)</td>\n",
       "    </tr>\n",
       "    <tr>\n",
       "      <th>452591</th>\n",
       "      <td>Sacramento</td>\n",
       "      <td>01:00</td>\n",
       "      <td>2021-01-01</td>\n",
       "      <td>5.0</td>\n",
       "      <td>40.0</td>\n",
       "      <td>Micrograms/cubic meter (LC)</td>\n",
       "    </tr>\n",
       "    <tr>\n",
       "      <th>452592</th>\n",
       "      <td>Sacramento</td>\n",
       "      <td>02:00</td>\n",
       "      <td>2021-01-01</td>\n",
       "      <td>5.0</td>\n",
       "      <td>36.0</td>\n",
       "      <td>Micrograms/cubic meter (LC)</td>\n",
       "    </tr>\n",
       "    <tr>\n",
       "      <th>452593</th>\n",
       "      <td>Sacramento</td>\n",
       "      <td>03:00</td>\n",
       "      <td>2021-01-01</td>\n",
       "      <td>5.0</td>\n",
       "      <td>16.0</td>\n",
       "      <td>Micrograms/cubic meter (LC)</td>\n",
       "    </tr>\n",
       "    <tr>\n",
       "      <th>452594</th>\n",
       "      <td>Sacramento</td>\n",
       "      <td>04:00</td>\n",
       "      <td>2021-01-01</td>\n",
       "      <td>5.0</td>\n",
       "      <td>12.0</td>\n",
       "      <td>Micrograms/cubic meter (LC)</td>\n",
       "    </tr>\n",
       "    <tr>\n",
       "      <th>452595</th>\n",
       "      <td>Sacramento</td>\n",
       "      <td>05:00</td>\n",
       "      <td>2021-01-01</td>\n",
       "      <td>5.0</td>\n",
       "      <td>15.0</td>\n",
       "      <td>Micrograms/cubic meter (LC)</td>\n",
       "    </tr>\n",
       "    <tr>\n",
       "      <th>452596</th>\n",
       "      <td>Sacramento</td>\n",
       "      <td>06:00</td>\n",
       "      <td>2021-01-01</td>\n",
       "      <td>5.0</td>\n",
       "      <td>15.0</td>\n",
       "      <td>Micrograms/cubic meter (LC)</td>\n",
       "    </tr>\n",
       "    <tr>\n",
       "      <th>452597</th>\n",
       "      <td>Sacramento</td>\n",
       "      <td>07:00</td>\n",
       "      <td>2021-01-01</td>\n",
       "      <td>5.0</td>\n",
       "      <td>13.0</td>\n",
       "      <td>Micrograms/cubic meter (LC)</td>\n",
       "    </tr>\n",
       "    <tr>\n",
       "      <th>452598</th>\n",
       "      <td>Sacramento</td>\n",
       "      <td>08:00</td>\n",
       "      <td>2021-01-01</td>\n",
       "      <td>5.0</td>\n",
       "      <td>18.0</td>\n",
       "      <td>Micrograms/cubic meter (LC)</td>\n",
       "    </tr>\n",
       "    <tr>\n",
       "      <th>452599</th>\n",
       "      <td>Sacramento</td>\n",
       "      <td>09:00</td>\n",
       "      <td>2021-01-01</td>\n",
       "      <td>5.0</td>\n",
       "      <td>18.0</td>\n",
       "      <td>Micrograms/cubic meter (LC)</td>\n",
       "    </tr>\n",
       "  </tbody>\n",
       "</table>\n",
       "</div>"
      ],
      "text/plain": [
       "            County   Time        Date  MDL  Measurement  \\\n",
       "452590  Sacramento  00:00  2021-01-01  5.0         16.0   \n",
       "452591  Sacramento  01:00  2021-01-01  5.0         40.0   \n",
       "452592  Sacramento  02:00  2021-01-01  5.0         36.0   \n",
       "452593  Sacramento  03:00  2021-01-01  5.0         16.0   \n",
       "452594  Sacramento  04:00  2021-01-01  5.0         12.0   \n",
       "452595  Sacramento  05:00  2021-01-01  5.0         15.0   \n",
       "452596  Sacramento  06:00  2021-01-01  5.0         15.0   \n",
       "452597  Sacramento  07:00  2021-01-01  5.0         13.0   \n",
       "452598  Sacramento  08:00  2021-01-01  5.0         18.0   \n",
       "452599  Sacramento  09:00  2021-01-01  5.0         18.0   \n",
       "\n",
       "                              Units  \n",
       "452590  Micrograms/cubic meter (LC)  \n",
       "452591  Micrograms/cubic meter (LC)  \n",
       "452592  Micrograms/cubic meter (LC)  \n",
       "452593  Micrograms/cubic meter (LC)  \n",
       "452594  Micrograms/cubic meter (LC)  \n",
       "452595  Micrograms/cubic meter (LC)  \n",
       "452596  Micrograms/cubic meter (LC)  \n",
       "452597  Micrograms/cubic meter (LC)  \n",
       "452598  Micrograms/cubic meter (LC)  \n",
       "452599  Micrograms/cubic meter (LC)  "
      ]
     },
     "execution_count": 28,
     "metadata": {},
     "output_type": "execute_result"
    }
   ],
   "source": [
    "# Print the first few rows.\n",
    "sac.head(10)"
   ]
  },
  {
   "cell_type": "code",
   "execution_count": 29,
   "metadata": {},
   "outputs": [
    {
     "data": {
      "text/plain": [
       "50105"
      ]
     },
     "execution_count": 29,
     "metadata": {},
     "output_type": "execute_result"
    }
   ],
   "source": [
    "len(sac)"
   ]
  },
  {
   "cell_type": "code",
   "execution_count": 30,
   "metadata": {},
   "outputs": [],
   "source": [
    "assert len(sac) == 50105 "
   ]
  },
  {
   "cell_type": "markdown",
   "metadata": {},
   "source": [
    "**Question 3.2 (1pt):** Use the `.describe` method to print some statistics summarizing the measurements in Sacramento taken at 5:00am and the measurements taken at 5:00pm. Comment on the differences between 5am and 5pm using the output of the `.describe` method. "
   ]
  },
  {
   "cell_type": "code",
   "execution_count": 31,
   "metadata": {},
   "outputs": [],
   "source": [
    "# measurements at 6am\n",
    "\n",
    "#YOUR CODE HERE"
   ]
  },
  {
   "cell_type": "code",
   "execution_count": 32,
   "metadata": {},
   "outputs": [
    {
     "data": {
      "text/html": [
       "<div>\n",
       "<style scoped>\n",
       "    .dataframe tbody tr th:only-of-type {\n",
       "        vertical-align: middle;\n",
       "    }\n",
       "\n",
       "    .dataframe tbody tr th {\n",
       "        vertical-align: top;\n",
       "    }\n",
       "\n",
       "    .dataframe thead th {\n",
       "        text-align: right;\n",
       "    }\n",
       "</style>\n",
       "<table border=\"1\" class=\"dataframe\">\n",
       "  <thead>\n",
       "    <tr style=\"text-align: right;\">\n",
       "      <th></th>\n",
       "      <th>MDL</th>\n",
       "      <th>Measurement</th>\n",
       "    </tr>\n",
       "  </thead>\n",
       "  <tbody>\n",
       "    <tr>\n",
       "      <th>count</th>\n",
       "      <td>2101.000000</td>\n",
       "      <td>1478.000000</td>\n",
       "    </tr>\n",
       "    <tr>\n",
       "      <th>mean</th>\n",
       "      <td>4.487387</td>\n",
       "      <td>12.857307</td>\n",
       "    </tr>\n",
       "    <tr>\n",
       "      <th>std</th>\n",
       "      <td>1.129457</td>\n",
       "      <td>29.026047</td>\n",
       "    </tr>\n",
       "    <tr>\n",
       "      <th>min</th>\n",
       "      <td>2.000000</td>\n",
       "      <td>2.000000</td>\n",
       "    </tr>\n",
       "    <tr>\n",
       "      <th>25%</th>\n",
       "      <td>5.000000</td>\n",
       "      <td>6.000000</td>\n",
       "    </tr>\n",
       "    <tr>\n",
       "      <th>50%</th>\n",
       "      <td>5.000000</td>\n",
       "      <td>8.000000</td>\n",
       "    </tr>\n",
       "    <tr>\n",
       "      <th>75%</th>\n",
       "      <td>5.000000</td>\n",
       "      <td>13.000000</td>\n",
       "    </tr>\n",
       "    <tr>\n",
       "      <th>max</th>\n",
       "      <td>5.000000</td>\n",
       "      <td>628.000000</td>\n",
       "    </tr>\n",
       "  </tbody>\n",
       "</table>\n",
       "</div>"
      ],
      "text/plain": [
       "               MDL  Measurement\n",
       "count  2101.000000  1478.000000\n",
       "mean      4.487387    12.857307\n",
       "std       1.129457    29.026047\n",
       "min       2.000000     2.000000\n",
       "25%       5.000000     6.000000\n",
       "50%       5.000000     8.000000\n",
       "75%       5.000000    13.000000\n",
       "max       5.000000   628.000000"
      ]
     },
     "execution_count": 32,
     "metadata": {},
     "output_type": "execute_result"
    }
   ],
   "source": [
    "# Solution\n",
    "\n",
    "sac_am = sac[sac['Time']=='05:00']\n",
    "sac_am.describe()"
   ]
  },
  {
   "cell_type": "code",
   "execution_count": 33,
   "metadata": {},
   "outputs": [],
   "source": [
    "# Measurements at 6pm\n",
    "\n",
    "# YOUR CODE HERE"
   ]
  },
  {
   "cell_type": "code",
   "execution_count": 34,
   "metadata": {},
   "outputs": [
    {
     "data": {
      "text/html": [
       "<div>\n",
       "<style scoped>\n",
       "    .dataframe tbody tr th:only-of-type {\n",
       "        vertical-align: middle;\n",
       "    }\n",
       "\n",
       "    .dataframe tbody tr th {\n",
       "        vertical-align: top;\n",
       "    }\n",
       "\n",
       "    .dataframe thead th {\n",
       "        text-align: right;\n",
       "    }\n",
       "</style>\n",
       "<table border=\"1\" class=\"dataframe\">\n",
       "  <thead>\n",
       "    <tr style=\"text-align: right;\">\n",
       "      <th></th>\n",
       "      <th>MDL</th>\n",
       "      <th>Measurement</th>\n",
       "    </tr>\n",
       "  </thead>\n",
       "  <tbody>\n",
       "    <tr>\n",
       "      <th>count</th>\n",
       "      <td>2103.000000</td>\n",
       "      <td>1436.000000</td>\n",
       "    </tr>\n",
       "    <tr>\n",
       "      <th>mean</th>\n",
       "      <td>4.486448</td>\n",
       "      <td>12.056128</td>\n",
       "    </tr>\n",
       "    <tr>\n",
       "      <th>std</th>\n",
       "      <td>1.130278</td>\n",
       "      <td>12.196431</td>\n",
       "    </tr>\n",
       "    <tr>\n",
       "      <th>min</th>\n",
       "      <td>2.000000</td>\n",
       "      <td>2.000000</td>\n",
       "    </tr>\n",
       "    <tr>\n",
       "      <th>25%</th>\n",
       "      <td>5.000000</td>\n",
       "      <td>6.000000</td>\n",
       "    </tr>\n",
       "    <tr>\n",
       "      <th>50%</th>\n",
       "      <td>5.000000</td>\n",
       "      <td>8.000000</td>\n",
       "    </tr>\n",
       "    <tr>\n",
       "      <th>75%</th>\n",
       "      <td>5.000000</td>\n",
       "      <td>14.000000</td>\n",
       "    </tr>\n",
       "    <tr>\n",
       "      <th>max</th>\n",
       "      <td>5.000000</td>\n",
       "      <td>128.000000</td>\n",
       "    </tr>\n",
       "  </tbody>\n",
       "</table>\n",
       "</div>"
      ],
      "text/plain": [
       "               MDL  Measurement\n",
       "count  2103.000000  1436.000000\n",
       "mean      4.486448    12.056128\n",
       "std       1.130278    12.196431\n",
       "min       2.000000     2.000000\n",
       "25%       5.000000     6.000000\n",
       "50%       5.000000     8.000000\n",
       "75%       5.000000    14.000000\n",
       "max       5.000000   128.000000"
      ]
     },
     "execution_count": 34,
     "metadata": {},
     "output_type": "execute_result"
    }
   ],
   "source": [
    "# Solution\n",
    "sac_pm = sac[sac['Time']=='17:00']\n",
    "sac_pm.describe()"
   ]
  },
  {
   "cell_type": "markdown",
   "metadata": {},
   "source": [
    "YOUR ANSWER HERE"
   ]
  },
  {
   "cell_type": "markdown",
   "metadata": {},
   "source": [
    "*SOLUTION*\n",
    "\n",
    "*The values for MDL are almost identical, except for the mean. The measurement values are mo difference, with the maximum measurement at 5am being much high than the maximum measurement at 5pm, even though the mean values are the same.* "
   ]
  },
  {
   "cell_type": "markdown",
   "metadata": {},
   "source": [
    "**Question 3.3 (1pt):** We can also visualize this data and see how the PM2.5 concentrations fluctuate throughout the day. Start by using the `groupby` method to find the mean PM2.5 measurement for each hour of the day. The result should be a dataframe in which the indices are the 24 hours of the day (00:00 - 23:00) and the columns are `Measurement` and `MDL`."
   ]
  },
  {
   "cell_type": "code",
   "execution_count": 35,
   "metadata": {},
   "outputs": [],
   "source": [
    "# YOUR CODE HERE\n",
    "sac_hr = ..."
   ]
  },
  {
   "cell_type": "code",
   "execution_count": 36,
   "metadata": {},
   "outputs": [],
   "source": [
    "# Solution:\n",
    "sac_hr = sac.groupby('Time').mean()"
   ]
  },
  {
   "cell_type": "code",
   "execution_count": 37,
   "metadata": {},
   "outputs": [],
   "source": [
    "assert sac_hr.shape == (24, 2)"
   ]
  },
  {
   "cell_type": "markdown",
   "metadata": {},
   "source": [
    "**Question 3.4 (2pts):** Now, run the code in the cell below to plot the mean PM2.5 for each hour. The x-axis should be the hour of the day (00:00 - 23:00). Label the y-axis. Are there any noticeable trends in this plot?"
   ]
  },
  {
   "cell_type": "code",
   "execution_count": 38,
   "metadata": {},
   "outputs": [
    {
     "data": {
      "image/png": "[encoded data removed]",
      "text/plain": [
       "<Figure size 640x480 with 1 Axes>"
      ]
     },
     "metadata": {},
     "output_type": "display_data"
    }
   ],
   "source": [
    "plt.plot(sac_hr.index, sac_hr['Measurement'])\n",
    "plt.xticks(rotation=270)\n",
    "plt.title('Mean hourly PM2.5 concentration in Sacramento County, 2021')\n",
    "plt.xlabel('Hour')\n",
    "# Add a y-axis label\n",
    "\n",
    "# SOLUTION\n",
    "plt.ylabel('PM2.5 (Micrograms/cubic meter (LC))') \n",
    "# END SOLUTION\n",
    "\n",
    "plt.show()"
   ]
  },
  {
   "cell_type": "markdown",
   "metadata": {},
   "source": [
    "*YOUR OBSERVATIONS HERE*\n",
    "\n",
    "*One point for labeling the y-axis, one point for describing the curve. Notice that the morning PM2.5 is higher on average than the evening PM2.5.*"
   ]
  },
  {
   "cell_type": "markdown",
   "metadata": {},
   "source": [
    "**Question 3.5 (1pt):** Use the `groupby` method on the `sac` dataframe once again, but this time, use the standard deviation (`std()`) aggregation function. "
   ]
  },
  {
   "cell_type": "code",
   "execution_count": 39,
   "metadata": {},
   "outputs": [],
   "source": [
    "# YOUR CODE HERE\n",
    "sac_stdev = ..."
   ]
  },
  {
   "cell_type": "code",
   "execution_count": 40,
   "metadata": {},
   "outputs": [
    {
     "data": {
      "text/html": [
       "<div>\n",
       "<style scoped>\n",
       "    .dataframe tbody tr th:only-of-type {\n",
       "        vertical-align: middle;\n",
       "    }\n",
       "\n",
       "    .dataframe tbody tr th {\n",
       "        vertical-align: top;\n",
       "    }\n",
       "\n",
       "    .dataframe thead th {\n",
       "        text-align: right;\n",
       "    }\n",
       "</style>\n",
       "<table border=\"1\" class=\"dataframe\">\n",
       "  <thead>\n",
       "    <tr style=\"text-align: right;\">\n",
       "      <th></th>\n",
       "      <th>MDL</th>\n",
       "      <th>Measurement</th>\n",
       "    </tr>\n",
       "    <tr>\n",
       "      <th>Time</th>\n",
       "      <th></th>\n",
       "      <th></th>\n",
       "    </tr>\n",
       "  </thead>\n",
       "  <tbody>\n",
       "    <tr>\n",
       "      <th>00:00</th>\n",
       "      <td>1.131169</td>\n",
       "      <td>10.973390</td>\n",
       "    </tr>\n",
       "    <tr>\n",
       "      <th>01:00</th>\n",
       "      <td>1.129918</td>\n",
       "      <td>12.069768</td>\n",
       "    </tr>\n",
       "    <tr>\n",
       "      <th>02:00</th>\n",
       "      <td>1.131384</td>\n",
       "      <td>13.929170</td>\n",
       "    </tr>\n",
       "    <tr>\n",
       "      <th>03:00</th>\n",
       "      <td>1.128022</td>\n",
       "      <td>19.564312</td>\n",
       "    </tr>\n",
       "    <tr>\n",
       "      <th>04:00</th>\n",
       "      <td>1.127808</td>\n",
       "      <td>26.619212</td>\n",
       "    </tr>\n",
       "    <tr>\n",
       "      <th>05:00</th>\n",
       "      <td>1.129457</td>\n",
       "      <td>29.026047</td>\n",
       "    </tr>\n",
       "    <tr>\n",
       "      <th>06:00</th>\n",
       "      <td>1.130918</td>\n",
       "      <td>34.617750</td>\n",
       "    </tr>\n",
       "    <tr>\n",
       "      <th>07:00</th>\n",
       "      <td>1.130278</td>\n",
       "      <td>31.258366</td>\n",
       "    </tr>\n",
       "    <tr>\n",
       "      <th>08:00</th>\n",
       "      <td>1.125117</td>\n",
       "      <td>28.819182</td>\n",
       "    </tr>\n",
       "    <tr>\n",
       "      <th>09:00</th>\n",
       "      <td>1.117871</td>\n",
       "      <td>24.168054</td>\n",
       "    </tr>\n",
       "    <tr>\n",
       "      <th>10:00</th>\n",
       "      <td>1.125002</td>\n",
       "      <td>18.567870</td>\n",
       "    </tr>\n",
       "    <tr>\n",
       "      <th>11:00</th>\n",
       "      <td>1.135292</td>\n",
       "      <td>15.361227</td>\n",
       "    </tr>\n",
       "    <tr>\n",
       "      <th>12:00</th>\n",
       "      <td>1.135312</td>\n",
       "      <td>14.409049</td>\n",
       "    </tr>\n",
       "    <tr>\n",
       "      <th>13:00</th>\n",
       "      <td>1.128570</td>\n",
       "      <td>14.720539</td>\n",
       "    </tr>\n",
       "    <tr>\n",
       "      <th>14:00</th>\n",
       "      <td>1.123002</td>\n",
       "      <td>15.039857</td>\n",
       "    </tr>\n",
       "    <tr>\n",
       "      <th>15:00</th>\n",
       "      <td>1.125762</td>\n",
       "      <td>13.566331</td>\n",
       "    </tr>\n",
       "    <tr>\n",
       "      <th>16:00</th>\n",
       "      <td>1.126979</td>\n",
       "      <td>13.096700</td>\n",
       "    </tr>\n",
       "    <tr>\n",
       "      <th>17:00</th>\n",
       "      <td>1.130278</td>\n",
       "      <td>12.196431</td>\n",
       "    </tr>\n",
       "    <tr>\n",
       "      <th>18:00</th>\n",
       "      <td>1.129851</td>\n",
       "      <td>11.274188</td>\n",
       "    </tr>\n",
       "    <tr>\n",
       "      <th>19:00</th>\n",
       "      <td>1.130278</td>\n",
       "      <td>11.766981</td>\n",
       "    </tr>\n",
       "    <tr>\n",
       "      <th>20:00</th>\n",
       "      <td>1.128421</td>\n",
       "      <td>11.664999</td>\n",
       "    </tr>\n",
       "    <tr>\n",
       "      <th>21:00</th>\n",
       "      <td>1.131988</td>\n",
       "      <td>11.778611</td>\n",
       "    </tr>\n",
       "    <tr>\n",
       "      <th>22:00</th>\n",
       "      <td>1.132673</td>\n",
       "      <td>11.504160</td>\n",
       "    </tr>\n",
       "    <tr>\n",
       "      <th>23:00</th>\n",
       "      <td>1.133061</td>\n",
       "      <td>11.150634</td>\n",
       "    </tr>\n",
       "  </tbody>\n",
       "</table>\n",
       "</div>"
      ],
      "text/plain": [
       "            MDL  Measurement\n",
       "Time                        \n",
       "00:00  1.131169    10.973390\n",
       "01:00  1.129918    12.069768\n",
       "02:00  1.131384    13.929170\n",
       "03:00  1.128022    19.564312\n",
       "04:00  1.127808    26.619212\n",
       "05:00  1.129457    29.026047\n",
       "06:00  1.130918    34.617750\n",
       "07:00  1.130278    31.258366\n",
       "08:00  1.125117    28.819182\n",
       "09:00  1.117871    24.168054\n",
       "10:00  1.125002    18.567870\n",
       "11:00  1.135292    15.361227\n",
       "12:00  1.135312    14.409049\n",
       "13:00  1.128570    14.720539\n",
       "14:00  1.123002    15.039857\n",
       "15:00  1.125762    13.566331\n",
       "16:00  1.126979    13.096700\n",
       "17:00  1.130278    12.196431\n",
       "18:00  1.129851    11.274188\n",
       "19:00  1.130278    11.766981\n",
       "20:00  1.128421    11.664999\n",
       "21:00  1.131988    11.778611\n",
       "22:00  1.132673    11.504160\n",
       "23:00  1.133061    11.150634"
      ]
     },
     "execution_count": 40,
     "metadata": {},
     "output_type": "execute_result"
    }
   ],
   "source": [
    "# SOLUTION\n",
    "sac_stdev = sac.groupby('Time').std()\n",
    "sac_stdev"
   ]
  },
  {
   "cell_type": "markdown",
   "metadata": {},
   "source": [
    "**Question 3.6 (2pts):** Run the code below to plot the standard deviation on the same graph as the mean data. Label the y-axis and title the plot. Record your observations."
   ]
  },
  {
   "cell_type": "code",
   "execution_count": 41,
   "metadata": {},
   "outputs": [
    {
     "data": {
      "image/png": "[encoded data removed]",
      "text/plain": [
       "<Figure size 640x480 with 1 Axes>"
      ]
     },
     "metadata": {},
     "output_type": "display_data"
    }
   ],
   "source": [
    "plt.plot(sac_hr.index, sac_hr['Measurement'], label = 'Mean')\n",
    "plt.plot(sac_stdev.index, sac_stdev['Measurement'], 'k:', label = 'Standard Deviation')\n",
    "plt.xticks(rotation=270)\n",
    "plt.xlabel('Hour')\n",
    "# Add a y-axis label\n",
    "# Add a plot title\n",
    "\n",
    "# Solution\n",
    "plt.title('Average hourly PM2.5 concentration in Sacramento, 2021')\n",
    "plt.ylabel('PM2.5 (Micrograms/cubic meter (LC))') \n",
    "# Solution end\n",
    "\n",
    "plt.legend();"
   ]
  },
  {
   "cell_type": "markdown",
   "metadata": {},
   "source": [
    "*YOUR OBSERVATIONS HERE*\n",
    "\n",
    "*One point for labelling the title and y-axis, one point for making an accurate observation about the standard deviation.*"
   ]
  },
  {
   "cell_type": "markdown",
   "metadata": {},
   "source": [
    "**Question 3.7 (2pts):** Do the data support the hypothesis that PM2.5 concentrations follow a diurnal pattern? Why or why not? What are some of the limitations of either our data or the methods we've used to explore it so far in allowing us to observe hourly trends?"
   ]
  },
  {
   "cell_type": "markdown",
   "metadata": {},
   "source": [
    "*YOUR ANSWER HERE*\n",
    "\n",
    "*A variety of answers were accepted here. Key points: looking only at the means, there does appear to be a diurnal pattern (morning concentrations are higher than evening concentrations), but the high standard deviation calls into question any inference we could make looking at mean alone. Limitations: we aren't analyzing seasons, weekends versus weekdays, weather or fire conditions...*"
   ]
  },
  {
   "cell_type": "markdown",
   "metadata": {},
   "source": [
    "**Question 3.8 (2pts):** In Susan Athey's essay \"Beyond Prediction\", Athey defines the distinction between prediction problems and causal inference problems. Thinking about this air quality dataset, can you come up with one question that poses a prediction problem (also referred to as a resource allocation problem in the essay) and another that poses a causal inference problem? The two questions you come up with should be air quality related, but you don't have to limit yourself to this dataset (eg. it's totally fair to come up with a question that would also incorporate, for example, census or demographic data)."
   ]
  },
  {
   "cell_type": "markdown",
   "metadata": {},
   "source": [
    "*YOUR ANSWER HERE*\n",
    "\n",
    "*A variety of answers were accepted here, but the wording of the prediction question needed to make it clear that the focus is on the response variable (i.e., air pollution) rather than the predictor (e.g., traffic, point sources). Full credit answers asked a resource allocation question, e.g., \"Where and when should we target a program distributing free N95 masks?\"*"
   ]
  },
  {
   "cell_type": "markdown",
   "metadata": {},
   "source": [
    "## Section 4: California wildfire impacts \n",
    "\n",
    "Let's explore the dynamics of wildfire and air quality. In this section, we will use data analysis to see how a major wildfire impacted PM2.5 concentrations in Butte County in 2021. \n"
   ]
  },
  {
   "cell_type": "markdown",
   "metadata": {},
   "source": [
    "**Question 4.1 (1pt)** Using the dataframe `df` from above that contained PM2.5 information for many counties, use `group_by` to find the maximum PM2.5 concentration recorded in each county in 2021. "
   ]
  },
  {
   "cell_type": "code",
   "execution_count": 42,
   "metadata": {},
   "outputs": [],
   "source": [
    "# YOUR CODE HERE"
   ]
  },
  {
   "cell_type": "code",
   "execution_count": 43,
   "metadata": {},
   "outputs": [
    {
     "data": {
      "text/html": [
       "<div>\n",
       "<style scoped>\n",
       "    .dataframe tbody tr th:only-of-type {\n",
       "        vertical-align: middle;\n",
       "    }\n",
       "\n",
       "    .dataframe tbody tr th {\n",
       "        vertical-align: top;\n",
       "    }\n",
       "\n",
       "    .dataframe thead th {\n",
       "        text-align: right;\n",
       "    }\n",
       "</style>\n",
       "<table border=\"1\" class=\"dataframe\">\n",
       "  <thead>\n",
       "    <tr style=\"text-align: right;\">\n",
       "      <th></th>\n",
       "      <th>Time</th>\n",
       "      <th>Date</th>\n",
       "      <th>MDL</th>\n",
       "      <th>Measurement</th>\n",
       "      <th>Units</th>\n",
       "    </tr>\n",
       "    <tr>\n",
       "      <th>County</th>\n",
       "      <th></th>\n",
       "      <th></th>\n",
       "      <th></th>\n",
       "      <th></th>\n",
       "      <th></th>\n",
       "    </tr>\n",
       "  </thead>\n",
       "  <tbody>\n",
       "    <tr>\n",
       "      <th>Tulare</th>\n",
       "      <td>23:00</td>\n",
       "      <td>2021-12-31</td>\n",
       "      <td>5.0</td>\n",
       "      <td>733.0</td>\n",
       "      <td>Micrograms/cubic meter (LC)</td>\n",
       "    </tr>\n",
       "    <tr>\n",
       "      <th>Sacramento</th>\n",
       "      <td>23:00</td>\n",
       "      <td>2021-12-31</td>\n",
       "      <td>5.0</td>\n",
       "      <td>678.0</td>\n",
       "      <td>Micrograms/cubic meter (LC)</td>\n",
       "    </tr>\n",
       "    <tr>\n",
       "      <th>Nevada</th>\n",
       "      <td>23:00</td>\n",
       "      <td>2021-12-31</td>\n",
       "      <td>5.0</td>\n",
       "      <td>551.0</td>\n",
       "      <td>Micrograms/cubic meter (LC)</td>\n",
       "    </tr>\n",
       "    <tr>\n",
       "      <th>San Bernardino</th>\n",
       "      <td>23:00</td>\n",
       "      <td>2021-12-31</td>\n",
       "      <td>5.0</td>\n",
       "      <td>549.0</td>\n",
       "      <td>Micrograms/cubic meter (LC)</td>\n",
       "    </tr>\n",
       "    <tr>\n",
       "      <th>Inyo</th>\n",
       "      <td>23:00</td>\n",
       "      <td>2021-12-31</td>\n",
       "      <td>2.0</td>\n",
       "      <td>515.2</td>\n",
       "      <td>Micrograms/cubic meter (LC)</td>\n",
       "    </tr>\n",
       "    <tr>\n",
       "      <th>San Joaquin</th>\n",
       "      <td>23:00</td>\n",
       "      <td>2021-12-31</td>\n",
       "      <td>5.0</td>\n",
       "      <td>500.4</td>\n",
       "      <td>Micrograms/cubic meter (LC)</td>\n",
       "    </tr>\n",
       "    <tr>\n",
       "      <th>Shasta</th>\n",
       "      <td>23:00</td>\n",
       "      <td>2021-12-31</td>\n",
       "      <td>5.0</td>\n",
       "      <td>459.0</td>\n",
       "      <td>Micrograms/cubic meter (LC)</td>\n",
       "    </tr>\n",
       "    <tr>\n",
       "      <th>Calaveras</th>\n",
       "      <td>23:00</td>\n",
       "      <td>2021-12-31</td>\n",
       "      <td>2.0</td>\n",
       "      <td>433.0</td>\n",
       "      <td>Micrograms/cubic meter (LC)</td>\n",
       "    </tr>\n",
       "    <tr>\n",
       "      <th>Orange</th>\n",
       "      <td>23:00</td>\n",
       "      <td>2021-12-31</td>\n",
       "      <td>5.0</td>\n",
       "      <td>302.4</td>\n",
       "      <td>Micrograms/cubic meter (LC)</td>\n",
       "    </tr>\n",
       "    <tr>\n",
       "      <th>Colusa</th>\n",
       "      <td>23:00</td>\n",
       "      <td>2021-12-31</td>\n",
       "      <td>5.0</td>\n",
       "      <td>298.0</td>\n",
       "      <td>Micrograms/cubic meter (LC)</td>\n",
       "    </tr>\n",
       "    <tr>\n",
       "      <th>Los Angeles</th>\n",
       "      <td>23:00</td>\n",
       "      <td>2021-12-31</td>\n",
       "      <td>5.0</td>\n",
       "      <td>292.7</td>\n",
       "      <td>Micrograms/cubic meter (LC)</td>\n",
       "    </tr>\n",
       "    <tr>\n",
       "      <th>Tehama</th>\n",
       "      <td>23:00</td>\n",
       "      <td>2021-12-31</td>\n",
       "      <td>5.0</td>\n",
       "      <td>292.0</td>\n",
       "      <td>Micrograms/cubic meter (LC)</td>\n",
       "    </tr>\n",
       "    <tr>\n",
       "      <th>Sutter</th>\n",
       "      <td>23:00</td>\n",
       "      <td>2021-12-31</td>\n",
       "      <td>2.0</td>\n",
       "      <td>285.3</td>\n",
       "      <td>Micrograms/cubic meter (LC)</td>\n",
       "    </tr>\n",
       "    <tr>\n",
       "      <th>Placer</th>\n",
       "      <td>23:00</td>\n",
       "      <td>2021-12-31</td>\n",
       "      <td>5.0</td>\n",
       "      <td>282.0</td>\n",
       "      <td>Micrograms/cubic meter (LC)</td>\n",
       "    </tr>\n",
       "    <tr>\n",
       "      <th>Merced</th>\n",
       "      <td>23:00</td>\n",
       "      <td>2021-12-31</td>\n",
       "      <td>5.0</td>\n",
       "      <td>278.0</td>\n",
       "      <td>Micrograms/cubic meter (LC)</td>\n",
       "    </tr>\n",
       "    <tr>\n",
       "      <th>Siskiyou</th>\n",
       "      <td>23:00</td>\n",
       "      <td>2021-12-31</td>\n",
       "      <td>5.0</td>\n",
       "      <td>263.0</td>\n",
       "      <td>Micrograms/cubic meter (LC)</td>\n",
       "    </tr>\n",
       "    <tr>\n",
       "      <th>Kern</th>\n",
       "      <td>23:00</td>\n",
       "      <td>2021-12-31</td>\n",
       "      <td>5.0</td>\n",
       "      <td>260.0</td>\n",
       "      <td>Micrograms/cubic meter (LC)</td>\n",
       "    </tr>\n",
       "    <tr>\n",
       "      <th>Butte</th>\n",
       "      <td>23:00</td>\n",
       "      <td>2021-12-31</td>\n",
       "      <td>2.0</td>\n",
       "      <td>258.0</td>\n",
       "      <td>Micrograms/cubic meter (LC)</td>\n",
       "    </tr>\n",
       "    <tr>\n",
       "      <th>Mono</th>\n",
       "      <td>23:00</td>\n",
       "      <td>2021-12-31</td>\n",
       "      <td>0.1</td>\n",
       "      <td>252.3</td>\n",
       "      <td>Micrograms/cubic meter (LC)</td>\n",
       "    </tr>\n",
       "    <tr>\n",
       "      <th>Fresno</th>\n",
       "      <td>23:00</td>\n",
       "      <td>2021-12-31</td>\n",
       "      <td>5.0</td>\n",
       "      <td>252.0</td>\n",
       "      <td>Micrograms/cubic meter (LC)</td>\n",
       "    </tr>\n",
       "    <tr>\n",
       "      <th>Riverside</th>\n",
       "      <td>23:00</td>\n",
       "      <td>2021-12-31</td>\n",
       "      <td>5.0</td>\n",
       "      <td>201.0</td>\n",
       "      <td>Micrograms/cubic meter (LC)</td>\n",
       "    </tr>\n",
       "    <tr>\n",
       "      <th>Madera</th>\n",
       "      <td>23:00</td>\n",
       "      <td>2021-12-31</td>\n",
       "      <td>5.0</td>\n",
       "      <td>198.0</td>\n",
       "      <td>Micrograms/cubic meter (LC)</td>\n",
       "    </tr>\n",
       "    <tr>\n",
       "      <th>Imperial</th>\n",
       "      <td>23:00</td>\n",
       "      <td>2021-12-31</td>\n",
       "      <td>5.0</td>\n",
       "      <td>197.2</td>\n",
       "      <td>Micrograms/cubic meter (LC)</td>\n",
       "    </tr>\n",
       "    <tr>\n",
       "      <th>San Diego</th>\n",
       "      <td>23:26</td>\n",
       "      <td>2021-12-31</td>\n",
       "      <td>0.1</td>\n",
       "      <td>190.0</td>\n",
       "      <td>Micrograms/cubic meter (LC)</td>\n",
       "    </tr>\n",
       "    <tr>\n",
       "      <th>Mendocino</th>\n",
       "      <td>23:00</td>\n",
       "      <td>2021-12-31</td>\n",
       "      <td>5.0</td>\n",
       "      <td>187.0</td>\n",
       "      <td>Micrograms/cubic meter (LC)</td>\n",
       "    </tr>\n",
       "    <tr>\n",
       "      <th>Santa Clara</th>\n",
       "      <td>23:00</td>\n",
       "      <td>2021-12-31</td>\n",
       "      <td>5.0</td>\n",
       "      <td>182.0</td>\n",
       "      <td>Micrograms/cubic meter (LC)</td>\n",
       "    </tr>\n",
       "    <tr>\n",
       "      <th>Monterey</th>\n",
       "      <td>23:00</td>\n",
       "      <td>2021-12-31</td>\n",
       "      <td>5.0</td>\n",
       "      <td>154.0</td>\n",
       "      <td>Micrograms/cubic meter (LC)</td>\n",
       "    </tr>\n",
       "    <tr>\n",
       "      <th>Kings</th>\n",
       "      <td>23:00</td>\n",
       "      <td>2021-12-31</td>\n",
       "      <td>5.0</td>\n",
       "      <td>151.0</td>\n",
       "      <td>Micrograms/cubic meter (LC)</td>\n",
       "    </tr>\n",
       "    <tr>\n",
       "      <th>Stanislaus</th>\n",
       "      <td>23:00</td>\n",
       "      <td>2021-12-31</td>\n",
       "      <td>5.0</td>\n",
       "      <td>143.0</td>\n",
       "      <td>Micrograms/cubic meter (LC)</td>\n",
       "    </tr>\n",
       "    <tr>\n",
       "      <th>San Benito</th>\n",
       "      <td>23:00</td>\n",
       "      <td>2021-12-31</td>\n",
       "      <td>5.0</td>\n",
       "      <td>120.0</td>\n",
       "      <td>Micrograms/cubic meter (LC)</td>\n",
       "    </tr>\n",
       "    <tr>\n",
       "      <th>Alameda</th>\n",
       "      <td>23:00</td>\n",
       "      <td>2021-12-31</td>\n",
       "      <td>5.0</td>\n",
       "      <td>115.0</td>\n",
       "      <td>Micrograms/cubic meter (LC)</td>\n",
       "    </tr>\n",
       "    <tr>\n",
       "      <th>Santa Barbara</th>\n",
       "      <td>23:00</td>\n",
       "      <td>2021-12-31</td>\n",
       "      <td>5.0</td>\n",
       "      <td>113.0</td>\n",
       "      <td>Micrograms/cubic meter (LC)</td>\n",
       "    </tr>\n",
       "    <tr>\n",
       "      <th>San Luis Obispo</th>\n",
       "      <td>23:00</td>\n",
       "      <td>2021-12-31</td>\n",
       "      <td>5.0</td>\n",
       "      <td>105.0</td>\n",
       "      <td>Micrograms/cubic meter (LC)</td>\n",
       "    </tr>\n",
       "    <tr>\n",
       "      <th>Contra Costa</th>\n",
       "      <td>23:00</td>\n",
       "      <td>2021-12-31</td>\n",
       "      <td>5.0</td>\n",
       "      <td>97.0</td>\n",
       "      <td>Micrograms/cubic meter (LC)</td>\n",
       "    </tr>\n",
       "    <tr>\n",
       "      <th>Solano</th>\n",
       "      <td>23:00</td>\n",
       "      <td>2021-12-31</td>\n",
       "      <td>5.0</td>\n",
       "      <td>96.0</td>\n",
       "      <td>Micrograms/cubic meter (LC)</td>\n",
       "    </tr>\n",
       "    <tr>\n",
       "      <th>Ventura</th>\n",
       "      <td>23:00</td>\n",
       "      <td>2021-12-31</td>\n",
       "      <td>5.0</td>\n",
       "      <td>77.0</td>\n",
       "      <td>Micrograms/cubic meter (LC)</td>\n",
       "    </tr>\n",
       "    <tr>\n",
       "      <th>Yolo</th>\n",
       "      <td>23:00</td>\n",
       "      <td>2021-06-30</td>\n",
       "      <td>5.0</td>\n",
       "      <td>73.0</td>\n",
       "      <td>Micrograms/cubic meter (LC)</td>\n",
       "    </tr>\n",
       "    <tr>\n",
       "      <th>San Mateo</th>\n",
       "      <td>23:00</td>\n",
       "      <td>2021-12-31</td>\n",
       "      <td>5.0</td>\n",
       "      <td>68.0</td>\n",
       "      <td>Micrograms/cubic meter (LC)</td>\n",
       "    </tr>\n",
       "    <tr>\n",
       "      <th>Santa Cruz</th>\n",
       "      <td>23:00</td>\n",
       "      <td>2021-12-31</td>\n",
       "      <td>5.0</td>\n",
       "      <td>58.0</td>\n",
       "      <td>Micrograms/cubic meter (LC)</td>\n",
       "    </tr>\n",
       "    <tr>\n",
       "      <th>San Francisco</th>\n",
       "      <td>23:00</td>\n",
       "      <td>2021-12-31</td>\n",
       "      <td>5.0</td>\n",
       "      <td>57.0</td>\n",
       "      <td>Micrograms/cubic meter (LC)</td>\n",
       "    </tr>\n",
       "    <tr>\n",
       "      <th>Sonoma</th>\n",
       "      <td>23:00</td>\n",
       "      <td>2021-12-31</td>\n",
       "      <td>5.0</td>\n",
       "      <td>55.0</td>\n",
       "      <td>Micrograms/cubic meter (LC)</td>\n",
       "    </tr>\n",
       "    <tr>\n",
       "      <th>Marin</th>\n",
       "      <td>23:00</td>\n",
       "      <td>2021-12-31</td>\n",
       "      <td>5.0</td>\n",
       "      <td>52.0</td>\n",
       "      <td>Micrograms/cubic meter (LC)</td>\n",
       "    </tr>\n",
       "    <tr>\n",
       "      <th>Napa</th>\n",
       "      <td>23:00</td>\n",
       "      <td>2021-05-20</td>\n",
       "      <td>5.0</td>\n",
       "      <td>40.0</td>\n",
       "      <td>Micrograms/cubic meter (LC)</td>\n",
       "    </tr>\n",
       "  </tbody>\n",
       "</table>\n",
       "</div>"
      ],
      "text/plain": [
       "                  Time        Date  MDL  Measurement  \\\n",
       "County                                                 \n",
       "Tulare           23:00  2021-12-31  5.0        733.0   \n",
       "Sacramento       23:00  2021-12-31  5.0        678.0   \n",
       "Nevada           23:00  2021-12-31  5.0        551.0   \n",
       "San Bernardino   23:00  2021-12-31  5.0        549.0   \n",
       "Inyo             23:00  2021-12-31  2.0        515.2   \n",
       "San Joaquin      23:00  2021-12-31  5.0        500.4   \n",
       "Shasta           23:00  2021-12-31  5.0        459.0   \n",
       "Calaveras        23:00  2021-12-31  2.0        433.0   \n",
       "Orange           23:00  2021-12-31  5.0        302.4   \n",
       "Colusa           23:00  2021-12-31  5.0        298.0   \n",
       "Los Angeles      23:00  2021-12-31  5.0        292.7   \n",
       "Tehama           23:00  2021-12-31  5.0        292.0   \n",
       "Sutter           23:00  2021-12-31  2.0        285.3   \n",
       "Placer           23:00  2021-12-31  5.0        282.0   \n",
       "Merced           23:00  2021-12-31  5.0        278.0   \n",
       "Siskiyou         23:00  2021-12-31  5.0        263.0   \n",
       "Kern             23:00  2021-12-31  5.0        260.0   \n",
       "Butte            23:00  2021-12-31  2.0        258.0   \n",
       "Mono             23:00  2021-12-31  0.1        252.3   \n",
       "Fresno           23:00  2021-12-31  5.0        252.0   \n",
       "Riverside        23:00  2021-12-31  5.0        201.0   \n",
       "Madera           23:00  2021-12-31  5.0        198.0   \n",
       "Imperial         23:00  2021-12-31  5.0        197.2   \n",
       "San Diego        23:26  2021-12-31  0.1        190.0   \n",
       "Mendocino        23:00  2021-12-31  5.0        187.0   \n",
       "Santa Clara      23:00  2021-12-31  5.0        182.0   \n",
       "Monterey         23:00  2021-12-31  5.0        154.0   \n",
       "Kings            23:00  2021-12-31  5.0        151.0   \n",
       "Stanislaus       23:00  2021-12-31  5.0        143.0   \n",
       "San Benito       23:00  2021-12-31  5.0        120.0   \n",
       "Alameda          23:00  2021-12-31  5.0        115.0   \n",
       "Santa Barbara    23:00  2021-12-31  5.0        113.0   \n",
       "San Luis Obispo  23:00  2021-12-31  5.0        105.0   \n",
       "Contra Costa     23:00  2021-12-31  5.0         97.0   \n",
       "Solano           23:00  2021-12-31  5.0         96.0   \n",
       "Ventura          23:00  2021-12-31  5.0         77.0   \n",
       "Yolo             23:00  2021-06-30  5.0         73.0   \n",
       "San Mateo        23:00  2021-12-31  5.0         68.0   \n",
       "Santa Cruz       23:00  2021-12-31  5.0         58.0   \n",
       "San Francisco    23:00  2021-12-31  5.0         57.0   \n",
       "Sonoma           23:00  2021-12-31  5.0         55.0   \n",
       "Marin            23:00  2021-12-31  5.0         52.0   \n",
       "Napa             23:00  2021-05-20  5.0         40.0   \n",
       "\n",
       "                                       Units  \n",
       "County                                        \n",
       "Tulare           Micrograms/cubic meter (LC)  \n",
       "Sacramento       Micrograms/cubic meter (LC)  \n",
       "Nevada           Micrograms/cubic meter (LC)  \n",
       "San Bernardino   Micrograms/cubic meter (LC)  \n",
       "Inyo             Micrograms/cubic meter (LC)  \n",
       "San Joaquin      Micrograms/cubic meter (LC)  \n",
       "Shasta           Micrograms/cubic meter (LC)  \n",
       "Calaveras        Micrograms/cubic meter (LC)  \n",
       "Orange           Micrograms/cubic meter (LC)  \n",
       "Colusa           Micrograms/cubic meter (LC)  \n",
       "Los Angeles      Micrograms/cubic meter (LC)  \n",
       "Tehama           Micrograms/cubic meter (LC)  \n",
       "Sutter           Micrograms/cubic meter (LC)  \n",
       "Placer           Micrograms/cubic meter (LC)  \n",
       "Merced           Micrograms/cubic meter (LC)  \n",
       "Siskiyou         Micrograms/cubic meter (LC)  \n",
       "Kern             Micrograms/cubic meter (LC)  \n",
       "Butte            Micrograms/cubic meter (LC)  \n",
       "Mono             Micrograms/cubic meter (LC)  \n",
       "Fresno           Micrograms/cubic meter (LC)  \n",
       "Riverside        Micrograms/cubic meter (LC)  \n",
       "Madera           Micrograms/cubic meter (LC)  \n",
       "Imperial         Micrograms/cubic meter (LC)  \n",
       "San Diego        Micrograms/cubic meter (LC)  \n",
       "Mendocino        Micrograms/cubic meter (LC)  \n",
       "Santa Clara      Micrograms/cubic meter (LC)  \n",
       "Monterey         Micrograms/cubic meter (LC)  \n",
       "Kings            Micrograms/cubic meter (LC)  \n",
       "Stanislaus       Micrograms/cubic meter (LC)  \n",
       "San Benito       Micrograms/cubic meter (LC)  \n",
       "Alameda          Micrograms/cubic meter (LC)  \n",
       "Santa Barbara    Micrograms/cubic meter (LC)  \n",
       "San Luis Obispo  Micrograms/cubic meter (LC)  \n",
       "Contra Costa     Micrograms/cubic meter (LC)  \n",
       "Solano           Micrograms/cubic meter (LC)  \n",
       "Ventura          Micrograms/cubic meter (LC)  \n",
       "Yolo             Micrograms/cubic meter (LC)  \n",
       "San Mateo        Micrograms/cubic meter (LC)  \n",
       "Santa Cruz       Micrograms/cubic meter (LC)  \n",
       "San Francisco    Micrograms/cubic meter (LC)  \n",
       "Sonoma           Micrograms/cubic meter (LC)  \n",
       "Marin            Micrograms/cubic meter (LC)  \n",
       "Napa             Micrograms/cubic meter (LC)  "
      ]
     },
     "execution_count": 43,
     "metadata": {},
     "output_type": "execute_result"
    }
   ],
   "source": [
    "# Solution\n",
    "df.groupby(by = 'County').max().sort_values('Measurement',ascending=False)"
   ]
  },
  {
   "cell_type": "markdown",
   "metadata": {},
   "source": [
    "The [Dixie Fire](https://www.cbsnews.com/sacramento/news/dixie-fire-100-percent-contained-after-storm/) was the second largest wildfire in California history. It started on July 13, 2021 when a tree contacted PG&E electrical distribution lines in Butte county (see the [CAL FIRE news release](https://www.fire.ca.gov/programs/communications/) from January 2022: *CAL FIRE Investigators Determine Cause of the Dixie Fire*). The fire burned 963,309 acres across Butte, Plumas, Lassen, Shasta, and Tehama counties, and caused unhealthy air quality across the Western US."
   ]
  },
  {
   "cell_type": "markdown",
   "metadata": {},
   "source": [
    "**Question 4.2 (1pt)** Create a dataframe called `shasta` that is a subset of `df` and just contains PM2.5 data for Shasta County."
   ]
  },
  {
   "cell_type": "code",
   "execution_count": 44,
   "metadata": {},
   "outputs": [],
   "source": [
    "# YOUR CODE HERE\n",
    "shasta = ... "
   ]
  },
  {
   "cell_type": "code",
   "execution_count": 45,
   "metadata": {},
   "outputs": [],
   "source": [
    "# Solution\n",
    "shasta = df[df[\"County\"] == \"Shasta\"]"
   ]
  },
  {
   "cell_type": "code",
   "execution_count": 46,
   "metadata": {},
   "outputs": [],
   "source": [
    "assert shasta.shape == (8306,6)"
   ]
  },
  {
   "cell_type": "markdown",
   "metadata": {},
   "source": [
    "**Question 4.3 (1pt)** Use `groupby` to determine the date on which Shasta county experienced its worst air quality, i.e., the day with the highest mean concentration of PM2.5."
   ]
  },
  {
   "cell_type": "code",
   "execution_count": 47,
   "metadata": {},
   "outputs": [
    {
     "data": {
      "text/plain": [
       "Ellipsis"
      ]
     },
     "execution_count": 47,
     "metadata": {},
     "output_type": "execute_result"
    }
   ],
   "source": [
    "# YOUR CODE HERE\n",
    "daily_means = ... # Find the mean hourly PM2.5 concentration for every day of the year\n",
    "worst_day = ... # Determine the date with the highest mean PM2.5 concentration\n",
    "worst_day "
   ]
  },
  {
   "cell_type": "code",
   "execution_count": 48,
   "metadata": {},
   "outputs": [
    {
     "data": {
      "text/html": [
       "<div>\n",
       "<style scoped>\n",
       "    .dataframe tbody tr th:only-of-type {\n",
       "        vertical-align: middle;\n",
       "    }\n",
       "\n",
       "    .dataframe tbody tr th {\n",
       "        vertical-align: top;\n",
       "    }\n",
       "\n",
       "    .dataframe thead th {\n",
       "        text-align: right;\n",
       "    }\n",
       "</style>\n",
       "<table border=\"1\" class=\"dataframe\">\n",
       "  <thead>\n",
       "    <tr style=\"text-align: right;\">\n",
       "      <th></th>\n",
       "      <th>MDL</th>\n",
       "      <th>Measurement</th>\n",
       "    </tr>\n",
       "    <tr>\n",
       "      <th>Date</th>\n",
       "      <th></th>\n",
       "      <th></th>\n",
       "    </tr>\n",
       "  </thead>\n",
       "  <tbody>\n",
       "    <tr>\n",
       "      <th>2021-08-17</th>\n",
       "      <td>5.0</td>\n",
       "      <td>168.45</td>\n",
       "    </tr>\n",
       "  </tbody>\n",
       "</table>\n",
       "</div>"
      ],
      "text/plain": [
       "            MDL  Measurement\n",
       "Date                        \n",
       "2021-08-17  5.0       168.45"
      ]
     },
     "execution_count": 48,
     "metadata": {},
     "output_type": "execute_result"
    }
   ],
   "source": [
    "# SOLUTION\n",
    "daily_means = shasta.groupby('Date').mean()\n",
    "worst_day = daily_means.loc[daily_means['Measurement']==daily_means['Measurement'].max()]\n",
    "worst_day\n",
    "\n",
    "# # Calculate top 5 worst days\n",
    "# print(type(daily_means['Measurement'].sort_values(ascending=False)))"
   ]
  },
  {
   "cell_type": "markdown",
   "metadata": {},
   "source": [
    "**Question 4.4 (1pt)** Identify the daily mean PM2.5 concentration in Shasta county on the top 5 worst air quality days. How do these PM2.5 concentrations compare to the top 5 best air quality days?  (`sort_values` may be helpful): "
   ]
  },
  {
   "cell_type": "code",
   "execution_count": 49,
   "metadata": {},
   "outputs": [],
   "source": [
    "# YOUR CODE HERE"
   ]
  },
  {
   "cell_type": "markdown",
   "metadata": {},
   "source": [
    "YOUR ANSWER HERE"
   ]
  },
  {
   "cell_type": "code",
   "execution_count": 50,
   "metadata": {
    "scrolled": true
   },
   "outputs": [
    {
     "name": "stdout",
     "output_type": "stream",
     "text": [
      "            MDL  Measurement\n",
      "Date                        \n",
      "2021-08-17  5.0   168.450000\n",
      "2021-08-16  5.0   165.347826\n",
      "2021-08-15  5.0   151.208333\n",
      "2021-08-07  5.0   150.333333\n",
      "2021-08-06  5.0   126.333333\n",
      "            MDL  Measurement\n",
      "Date                        \n",
      "2021-10-15  5.0          5.0\n",
      "2021-06-14  5.0          5.0\n",
      "2021-10-18  5.0          5.0\n",
      "2021-06-11  5.0          5.0\n",
      "2021-09-28  5.0          5.0\n"
     ]
    }
   ],
   "source": [
    "# SOLUTION\n",
    "print(daily_means.sort_values(by=\"Measurement\",ascending=False).head(5))\n",
    "print(daily_means.sort_values(by=\"Measurement\",ascending=True).head(5))"
   ]
  },
  {
   "cell_type": "markdown",
   "metadata": {},
   "source": [
    "*SOLUTION*\n",
    "\n",
    "*The 5 worst air quality days have a concentration above 100, and the best days all have a concentration of 5.*"
   ]
  },
  {
   "cell_type": "markdown",
   "metadata": {},
   "source": [
    "Compare the hourly air quality in Shasta County just after the fire started (let's use July 15, 2021), with the hourly air quality in Shasta a month later on August 15, 2021. \n"
   ]
  },
  {
   "cell_type": "markdown",
   "metadata": {},
   "source": [
    "**Question 4.5 (1pt)** Using `shasta`, create one table `sc_jul15` containing just information from Shasta County on July 15, 2021, and another table `sc_aug15` containing just information from Shasta County on August 15, 2021."
   ]
  },
  {
   "cell_type": "code",
   "execution_count": 51,
   "metadata": {},
   "outputs": [],
   "source": [
    "# YOUR CODE HERE\n",
    "sc_jul15 = ...\n",
    "sc_aug15 = ..."
   ]
  },
  {
   "cell_type": "code",
   "execution_count": 52,
   "metadata": {},
   "outputs": [],
   "source": [
    "# SOLUTION\n",
    "sc_jul15 = shasta[(shasta['Date'] == '2021-07-15')]\n",
    "sc_aug15 = shasta[(shasta['Date'] == '2021-08-15')]"
   ]
  },
  {
   "cell_type": "code",
   "execution_count": 53,
   "metadata": {
    "scrolled": true
   },
   "outputs": [
    {
     "data": {
      "text/html": [
       "<div>\n",
       "<style scoped>\n",
       "    .dataframe tbody tr th:only-of-type {\n",
       "        vertical-align: middle;\n",
       "    }\n",
       "\n",
       "    .dataframe tbody tr th {\n",
       "        vertical-align: top;\n",
       "    }\n",
       "\n",
       "    .dataframe thead th {\n",
       "        text-align: right;\n",
       "    }\n",
       "</style>\n",
       "<table border=\"1\" class=\"dataframe\">\n",
       "  <thead>\n",
       "    <tr style=\"text-align: right;\">\n",
       "      <th></th>\n",
       "      <th>County</th>\n",
       "      <th>Time</th>\n",
       "      <th>Date</th>\n",
       "      <th>MDL</th>\n",
       "      <th>Measurement</th>\n",
       "      <th>Units</th>\n",
       "    </tr>\n",
       "  </thead>\n",
       "  <tbody>\n",
       "    <tr>\n",
       "      <th>690350</th>\n",
       "      <td>Shasta</td>\n",
       "      <td>00:00</td>\n",
       "      <td>2021-07-15</td>\n",
       "      <td>5.0</td>\n",
       "      <td>9.0</td>\n",
       "      <td>Micrograms/cubic meter (LC)</td>\n",
       "    </tr>\n",
       "    <tr>\n",
       "      <th>690351</th>\n",
       "      <td>Shasta</td>\n",
       "      <td>01:00</td>\n",
       "      <td>2021-07-15</td>\n",
       "      <td>5.0</td>\n",
       "      <td>8.0</td>\n",
       "      <td>Micrograms/cubic meter (LC)</td>\n",
       "    </tr>\n",
       "    <tr>\n",
       "      <th>690352</th>\n",
       "      <td>Shasta</td>\n",
       "      <td>02:00</td>\n",
       "      <td>2021-07-15</td>\n",
       "      <td>5.0</td>\n",
       "      <td>9.0</td>\n",
       "      <td>Micrograms/cubic meter (LC)</td>\n",
       "    </tr>\n",
       "    <tr>\n",
       "      <th>690353</th>\n",
       "      <td>Shasta</td>\n",
       "      <td>03:00</td>\n",
       "      <td>2021-07-15</td>\n",
       "      <td>5.0</td>\n",
       "      <td>7.0</td>\n",
       "      <td>Micrograms/cubic meter (LC)</td>\n",
       "    </tr>\n",
       "    <tr>\n",
       "      <th>690354</th>\n",
       "      <td>Shasta</td>\n",
       "      <td>04:00</td>\n",
       "      <td>2021-07-15</td>\n",
       "      <td>5.0</td>\n",
       "      <td>8.0</td>\n",
       "      <td>Micrograms/cubic meter (LC)</td>\n",
       "    </tr>\n",
       "  </tbody>\n",
       "</table>\n",
       "</div>"
      ],
      "text/plain": [
       "        County   Time        Date  MDL  Measurement  \\\n",
       "690350  Shasta  00:00  2021-07-15  5.0          9.0   \n",
       "690351  Shasta  01:00  2021-07-15  5.0          8.0   \n",
       "690352  Shasta  02:00  2021-07-15  5.0          9.0   \n",
       "690353  Shasta  03:00  2021-07-15  5.0          7.0   \n",
       "690354  Shasta  04:00  2021-07-15  5.0          8.0   \n",
       "\n",
       "                              Units  \n",
       "690350  Micrograms/cubic meter (LC)  \n",
       "690351  Micrograms/cubic meter (LC)  \n",
       "690352  Micrograms/cubic meter (LC)  \n",
       "690353  Micrograms/cubic meter (LC)  \n",
       "690354  Micrograms/cubic meter (LC)  "
      ]
     },
     "execution_count": 53,
     "metadata": {},
     "output_type": "execute_result"
    }
   ],
   "source": [
    "sc_jul15.head()"
   ]
  },
  {
   "cell_type": "code",
   "execution_count": 54,
   "metadata": {
    "scrolled": true
   },
   "outputs": [
    {
     "data": {
      "text/html": [
       "<div>\n",
       "<style scoped>\n",
       "    .dataframe tbody tr th:only-of-type {\n",
       "        vertical-align: middle;\n",
       "    }\n",
       "\n",
       "    .dataframe tbody tr th {\n",
       "        vertical-align: top;\n",
       "    }\n",
       "\n",
       "    .dataframe thead th {\n",
       "        text-align: right;\n",
       "    }\n",
       "</style>\n",
       "<table border=\"1\" class=\"dataframe\">\n",
       "  <thead>\n",
       "    <tr style=\"text-align: right;\">\n",
       "      <th></th>\n",
       "      <th>County</th>\n",
       "      <th>Time</th>\n",
       "      <th>Date</th>\n",
       "      <th>MDL</th>\n",
       "      <th>Measurement</th>\n",
       "      <th>Units</th>\n",
       "    </tr>\n",
       "  </thead>\n",
       "  <tbody>\n",
       "    <tr>\n",
       "      <th>691093</th>\n",
       "      <td>Shasta</td>\n",
       "      <td>00:00</td>\n",
       "      <td>2021-08-15</td>\n",
       "      <td>5.0</td>\n",
       "      <td>136.0</td>\n",
       "      <td>Micrograms/cubic meter (LC)</td>\n",
       "    </tr>\n",
       "    <tr>\n",
       "      <th>691094</th>\n",
       "      <td>Shasta</td>\n",
       "      <td>01:00</td>\n",
       "      <td>2021-08-15</td>\n",
       "      <td>5.0</td>\n",
       "      <td>141.0</td>\n",
       "      <td>Micrograms/cubic meter (LC)</td>\n",
       "    </tr>\n",
       "    <tr>\n",
       "      <th>691095</th>\n",
       "      <td>Shasta</td>\n",
       "      <td>02:00</td>\n",
       "      <td>2021-08-15</td>\n",
       "      <td>5.0</td>\n",
       "      <td>135.0</td>\n",
       "      <td>Micrograms/cubic meter (LC)</td>\n",
       "    </tr>\n",
       "    <tr>\n",
       "      <th>691096</th>\n",
       "      <td>Shasta</td>\n",
       "      <td>03:00</td>\n",
       "      <td>2021-08-15</td>\n",
       "      <td>5.0</td>\n",
       "      <td>131.0</td>\n",
       "      <td>Micrograms/cubic meter (LC)</td>\n",
       "    </tr>\n",
       "    <tr>\n",
       "      <th>691097</th>\n",
       "      <td>Shasta</td>\n",
       "      <td>04:00</td>\n",
       "      <td>2021-08-15</td>\n",
       "      <td>5.0</td>\n",
       "      <td>129.0</td>\n",
       "      <td>Micrograms/cubic meter (LC)</td>\n",
       "    </tr>\n",
       "  </tbody>\n",
       "</table>\n",
       "</div>"
      ],
      "text/plain": [
       "        County   Time        Date  MDL  Measurement  \\\n",
       "691093  Shasta  00:00  2021-08-15  5.0        136.0   \n",
       "691094  Shasta  01:00  2021-08-15  5.0        141.0   \n",
       "691095  Shasta  02:00  2021-08-15  5.0        135.0   \n",
       "691096  Shasta  03:00  2021-08-15  5.0        131.0   \n",
       "691097  Shasta  04:00  2021-08-15  5.0        129.0   \n",
       "\n",
       "                              Units  \n",
       "691093  Micrograms/cubic meter (LC)  \n",
       "691094  Micrograms/cubic meter (LC)  \n",
       "691095  Micrograms/cubic meter (LC)  \n",
       "691096  Micrograms/cubic meter (LC)  \n",
       "691097  Micrograms/cubic meter (LC)  "
      ]
     },
     "execution_count": 54,
     "metadata": {},
     "output_type": "execute_result"
    }
   ],
   "source": [
    "sc_aug15.head()"
   ]
  },
  {
   "cell_type": "markdown",
   "metadata": {},
   "source": [
    "**Question 4.6 (2pt):** Merge `sc_jul15` and `sc_aug15` on `Time` to compare their PM2.5 concentrations side by side. Rename your `Measurement` columns to make it clear which column responds to the July 15th values vs. the August 15th values. \n",
    "\n",
    "*Note:* If two dataframes have the same column names when pandas executes a merge, it will append a '_x' to the first dataframe's column names and a '_y' to the second dataframe's column names. The rename operation is meant to clarify things. Be sure that it's renaming correctly!"
   ]
  },
  {
   "cell_type": "code",
   "execution_count": 55,
   "metadata": {},
   "outputs": [],
   "source": [
    "# YOUR CODE HERE\n",
    "sc_merge = ... # Merge sc_jul15 and sc_aug15 on `Time`\n",
    " # rename columns\n",
    "# sc_merge.head()"
   ]
  },
  {
   "cell_type": "code",
   "execution_count": 56,
   "metadata": {},
   "outputs": [
    {
     "data": {
      "text/html": [
       "<div>\n",
       "<style scoped>\n",
       "    .dataframe tbody tr th:only-of-type {\n",
       "        vertical-align: middle;\n",
       "    }\n",
       "\n",
       "    .dataframe tbody tr th {\n",
       "        vertical-align: top;\n",
       "    }\n",
       "\n",
       "    .dataframe thead th {\n",
       "        text-align: right;\n",
       "    }\n",
       "</style>\n",
       "<table border=\"1\" class=\"dataframe\">\n",
       "  <thead>\n",
       "    <tr style=\"text-align: right;\">\n",
       "      <th></th>\n",
       "      <th>County_x</th>\n",
       "      <th>Time</th>\n",
       "      <th>Date_x</th>\n",
       "      <th>MDL_x</th>\n",
       "      <th>Jul15 PM2.5</th>\n",
       "      <th>Units_x</th>\n",
       "      <th>County_y</th>\n",
       "      <th>Date_y</th>\n",
       "      <th>MDL_y</th>\n",
       "      <th>Aug15 PM2.5</th>\n",
       "      <th>Units_y</th>\n",
       "    </tr>\n",
       "  </thead>\n",
       "  <tbody>\n",
       "    <tr>\n",
       "      <th>0</th>\n",
       "      <td>Shasta</td>\n",
       "      <td>00:00</td>\n",
       "      <td>2021-07-15</td>\n",
       "      <td>5.0</td>\n",
       "      <td>9.0</td>\n",
       "      <td>Micrograms/cubic meter (LC)</td>\n",
       "      <td>Shasta</td>\n",
       "      <td>2021-08-15</td>\n",
       "      <td>5.0</td>\n",
       "      <td>136.0</td>\n",
       "      <td>Micrograms/cubic meter (LC)</td>\n",
       "    </tr>\n",
       "    <tr>\n",
       "      <th>1</th>\n",
       "      <td>Shasta</td>\n",
       "      <td>01:00</td>\n",
       "      <td>2021-07-15</td>\n",
       "      <td>5.0</td>\n",
       "      <td>8.0</td>\n",
       "      <td>Micrograms/cubic meter (LC)</td>\n",
       "      <td>Shasta</td>\n",
       "      <td>2021-08-15</td>\n",
       "      <td>5.0</td>\n",
       "      <td>141.0</td>\n",
       "      <td>Micrograms/cubic meter (LC)</td>\n",
       "    </tr>\n",
       "    <tr>\n",
       "      <th>2</th>\n",
       "      <td>Shasta</td>\n",
       "      <td>02:00</td>\n",
       "      <td>2021-07-15</td>\n",
       "      <td>5.0</td>\n",
       "      <td>9.0</td>\n",
       "      <td>Micrograms/cubic meter (LC)</td>\n",
       "      <td>Shasta</td>\n",
       "      <td>2021-08-15</td>\n",
       "      <td>5.0</td>\n",
       "      <td>135.0</td>\n",
       "      <td>Micrograms/cubic meter (LC)</td>\n",
       "    </tr>\n",
       "    <tr>\n",
       "      <th>3</th>\n",
       "      <td>Shasta</td>\n",
       "      <td>03:00</td>\n",
       "      <td>2021-07-15</td>\n",
       "      <td>5.0</td>\n",
       "      <td>7.0</td>\n",
       "      <td>Micrograms/cubic meter (LC)</td>\n",
       "      <td>Shasta</td>\n",
       "      <td>2021-08-15</td>\n",
       "      <td>5.0</td>\n",
       "      <td>131.0</td>\n",
       "      <td>Micrograms/cubic meter (LC)</td>\n",
       "    </tr>\n",
       "    <tr>\n",
       "      <th>4</th>\n",
       "      <td>Shasta</td>\n",
       "      <td>04:00</td>\n",
       "      <td>2021-07-15</td>\n",
       "      <td>5.0</td>\n",
       "      <td>8.0</td>\n",
       "      <td>Micrograms/cubic meter (LC)</td>\n",
       "      <td>Shasta</td>\n",
       "      <td>2021-08-15</td>\n",
       "      <td>5.0</td>\n",
       "      <td>129.0</td>\n",
       "      <td>Micrograms/cubic meter (LC)</td>\n",
       "    </tr>\n",
       "    <tr>\n",
       "      <th>5</th>\n",
       "      <td>Shasta</td>\n",
       "      <td>05:00</td>\n",
       "      <td>2021-07-15</td>\n",
       "      <td>5.0</td>\n",
       "      <td>5.0</td>\n",
       "      <td>Micrograms/cubic meter (LC)</td>\n",
       "      <td>Shasta</td>\n",
       "      <td>2021-08-15</td>\n",
       "      <td>5.0</td>\n",
       "      <td>125.0</td>\n",
       "      <td>Micrograms/cubic meter (LC)</td>\n",
       "    </tr>\n",
       "    <tr>\n",
       "      <th>6</th>\n",
       "      <td>Shasta</td>\n",
       "      <td>06:00</td>\n",
       "      <td>2021-07-15</td>\n",
       "      <td>5.0</td>\n",
       "      <td>6.0</td>\n",
       "      <td>Micrograms/cubic meter (LC)</td>\n",
       "      <td>Shasta</td>\n",
       "      <td>2021-08-15</td>\n",
       "      <td>5.0</td>\n",
       "      <td>130.0</td>\n",
       "      <td>Micrograms/cubic meter (LC)</td>\n",
       "    </tr>\n",
       "    <tr>\n",
       "      <th>7</th>\n",
       "      <td>Shasta</td>\n",
       "      <td>07:00</td>\n",
       "      <td>2021-07-15</td>\n",
       "      <td>5.0</td>\n",
       "      <td>14.0</td>\n",
       "      <td>Micrograms/cubic meter (LC)</td>\n",
       "      <td>Shasta</td>\n",
       "      <td>2021-08-15</td>\n",
       "      <td>5.0</td>\n",
       "      <td>138.0</td>\n",
       "      <td>Micrograms/cubic meter (LC)</td>\n",
       "    </tr>\n",
       "    <tr>\n",
       "      <th>8</th>\n",
       "      <td>Shasta</td>\n",
       "      <td>08:00</td>\n",
       "      <td>2021-07-15</td>\n",
       "      <td>5.0</td>\n",
       "      <td>13.0</td>\n",
       "      <td>Micrograms/cubic meter (LC)</td>\n",
       "      <td>Shasta</td>\n",
       "      <td>2021-08-15</td>\n",
       "      <td>5.0</td>\n",
       "      <td>147.0</td>\n",
       "      <td>Micrograms/cubic meter (LC)</td>\n",
       "    </tr>\n",
       "    <tr>\n",
       "      <th>9</th>\n",
       "      <td>Shasta</td>\n",
       "      <td>09:00</td>\n",
       "      <td>2021-07-15</td>\n",
       "      <td>5.0</td>\n",
       "      <td>10.0</td>\n",
       "      <td>Micrograms/cubic meter (LC)</td>\n",
       "      <td>Shasta</td>\n",
       "      <td>2021-08-15</td>\n",
       "      <td>5.0</td>\n",
       "      <td>163.0</td>\n",
       "      <td>Micrograms/cubic meter (LC)</td>\n",
       "    </tr>\n",
       "    <tr>\n",
       "      <th>10</th>\n",
       "      <td>Shasta</td>\n",
       "      <td>10:00</td>\n",
       "      <td>2021-07-15</td>\n",
       "      <td>5.0</td>\n",
       "      <td>12.0</td>\n",
       "      <td>Micrograms/cubic meter (LC)</td>\n",
       "      <td>Shasta</td>\n",
       "      <td>2021-08-15</td>\n",
       "      <td>5.0</td>\n",
       "      <td>159.0</td>\n",
       "      <td>Micrograms/cubic meter (LC)</td>\n",
       "    </tr>\n",
       "    <tr>\n",
       "      <th>11</th>\n",
       "      <td>Shasta</td>\n",
       "      <td>11:00</td>\n",
       "      <td>2021-07-15</td>\n",
       "      <td>5.0</td>\n",
       "      <td>6.0</td>\n",
       "      <td>Micrograms/cubic meter (LC)</td>\n",
       "      <td>Shasta</td>\n",
       "      <td>2021-08-15</td>\n",
       "      <td>5.0</td>\n",
       "      <td>155.0</td>\n",
       "      <td>Micrograms/cubic meter (LC)</td>\n",
       "    </tr>\n",
       "    <tr>\n",
       "      <th>12</th>\n",
       "      <td>Shasta</td>\n",
       "      <td>12:00</td>\n",
       "      <td>2021-07-15</td>\n",
       "      <td>5.0</td>\n",
       "      <td>11.0</td>\n",
       "      <td>Micrograms/cubic meter (LC)</td>\n",
       "      <td>Shasta</td>\n",
       "      <td>2021-08-15</td>\n",
       "      <td>5.0</td>\n",
       "      <td>140.0</td>\n",
       "      <td>Micrograms/cubic meter (LC)</td>\n",
       "    </tr>\n",
       "    <tr>\n",
       "      <th>13</th>\n",
       "      <td>Shasta</td>\n",
       "      <td>13:00</td>\n",
       "      <td>2021-07-15</td>\n",
       "      <td>5.0</td>\n",
       "      <td>8.0</td>\n",
       "      <td>Micrograms/cubic meter (LC)</td>\n",
       "      <td>Shasta</td>\n",
       "      <td>2021-08-15</td>\n",
       "      <td>5.0</td>\n",
       "      <td>151.0</td>\n",
       "      <td>Micrograms/cubic meter (LC)</td>\n",
       "    </tr>\n",
       "    <tr>\n",
       "      <th>14</th>\n",
       "      <td>Shasta</td>\n",
       "      <td>14:00</td>\n",
       "      <td>2021-07-15</td>\n",
       "      <td>5.0</td>\n",
       "      <td>8.0</td>\n",
       "      <td>Micrograms/cubic meter (LC)</td>\n",
       "      <td>Shasta</td>\n",
       "      <td>2021-08-15</td>\n",
       "      <td>5.0</td>\n",
       "      <td>200.0</td>\n",
       "      <td>Micrograms/cubic meter (LC)</td>\n",
       "    </tr>\n",
       "    <tr>\n",
       "      <th>15</th>\n",
       "      <td>Shasta</td>\n",
       "      <td>15:00</td>\n",
       "      <td>2021-07-15</td>\n",
       "      <td>5.0</td>\n",
       "      <td>9.0</td>\n",
       "      <td>Micrograms/cubic meter (LC)</td>\n",
       "      <td>Shasta</td>\n",
       "      <td>2021-08-15</td>\n",
       "      <td>5.0</td>\n",
       "      <td>282.0</td>\n",
       "      <td>Micrograms/cubic meter (LC)</td>\n",
       "    </tr>\n",
       "    <tr>\n",
       "      <th>16</th>\n",
       "      <td>Shasta</td>\n",
       "      <td>16:00</td>\n",
       "      <td>2021-07-15</td>\n",
       "      <td>5.0</td>\n",
       "      <td>9.0</td>\n",
       "      <td>Micrograms/cubic meter (LC)</td>\n",
       "      <td>Shasta</td>\n",
       "      <td>2021-08-15</td>\n",
       "      <td>5.0</td>\n",
       "      <td>244.0</td>\n",
       "      <td>Micrograms/cubic meter (LC)</td>\n",
       "    </tr>\n",
       "    <tr>\n",
       "      <th>17</th>\n",
       "      <td>Shasta</td>\n",
       "      <td>17:00</td>\n",
       "      <td>2021-07-15</td>\n",
       "      <td>5.0</td>\n",
       "      <td>7.0</td>\n",
       "      <td>Micrograms/cubic meter (LC)</td>\n",
       "      <td>Shasta</td>\n",
       "      <td>2021-08-15</td>\n",
       "      <td>5.0</td>\n",
       "      <td>247.0</td>\n",
       "      <td>Micrograms/cubic meter (LC)</td>\n",
       "    </tr>\n",
       "    <tr>\n",
       "      <th>18</th>\n",
       "      <td>Shasta</td>\n",
       "      <td>18:00</td>\n",
       "      <td>2021-07-15</td>\n",
       "      <td>5.0</td>\n",
       "      <td>NaN</td>\n",
       "      <td>Micrograms/cubic meter (LC)</td>\n",
       "      <td>Shasta</td>\n",
       "      <td>2021-08-15</td>\n",
       "      <td>5.0</td>\n",
       "      <td>274.0</td>\n",
       "      <td>Micrograms/cubic meter (LC)</td>\n",
       "    </tr>\n",
       "    <tr>\n",
       "      <th>19</th>\n",
       "      <td>Shasta</td>\n",
       "      <td>19:00</td>\n",
       "      <td>2021-07-15</td>\n",
       "      <td>5.0</td>\n",
       "      <td>6.0</td>\n",
       "      <td>Micrograms/cubic meter (LC)</td>\n",
       "      <td>Shasta</td>\n",
       "      <td>2021-08-15</td>\n",
       "      <td>5.0</td>\n",
       "      <td>230.0</td>\n",
       "      <td>Micrograms/cubic meter (LC)</td>\n",
       "    </tr>\n",
       "    <tr>\n",
       "      <th>20</th>\n",
       "      <td>Shasta</td>\n",
       "      <td>20:00</td>\n",
       "      <td>2021-07-15</td>\n",
       "      <td>5.0</td>\n",
       "      <td>NaN</td>\n",
       "      <td>Micrograms/cubic meter (LC)</td>\n",
       "      <td>Shasta</td>\n",
       "      <td>2021-08-15</td>\n",
       "      <td>5.0</td>\n",
       "      <td>66.0</td>\n",
       "      <td>Micrograms/cubic meter (LC)</td>\n",
       "    </tr>\n",
       "    <tr>\n",
       "      <th>21</th>\n",
       "      <td>Shasta</td>\n",
       "      <td>21:00</td>\n",
       "      <td>2021-07-15</td>\n",
       "      <td>5.0</td>\n",
       "      <td>10.0</td>\n",
       "      <td>Micrograms/cubic meter (LC)</td>\n",
       "      <td>Shasta</td>\n",
       "      <td>2021-08-15</td>\n",
       "      <td>5.0</td>\n",
       "      <td>43.0</td>\n",
       "      <td>Micrograms/cubic meter (LC)</td>\n",
       "    </tr>\n",
       "    <tr>\n",
       "      <th>22</th>\n",
       "      <td>Shasta</td>\n",
       "      <td>22:00</td>\n",
       "      <td>2021-07-15</td>\n",
       "      <td>5.0</td>\n",
       "      <td>7.0</td>\n",
       "      <td>Micrograms/cubic meter (LC)</td>\n",
       "      <td>Shasta</td>\n",
       "      <td>2021-08-15</td>\n",
       "      <td>5.0</td>\n",
       "      <td>33.0</td>\n",
       "      <td>Micrograms/cubic meter (LC)</td>\n",
       "    </tr>\n",
       "    <tr>\n",
       "      <th>23</th>\n",
       "      <td>Shasta</td>\n",
       "      <td>23:00</td>\n",
       "      <td>2021-07-15</td>\n",
       "      <td>5.0</td>\n",
       "      <td>7.0</td>\n",
       "      <td>Micrograms/cubic meter (LC)</td>\n",
       "      <td>Shasta</td>\n",
       "      <td>2021-08-15</td>\n",
       "      <td>5.0</td>\n",
       "      <td>30.0</td>\n",
       "      <td>Micrograms/cubic meter (LC)</td>\n",
       "    </tr>\n",
       "  </tbody>\n",
       "</table>\n",
       "</div>"
      ],
      "text/plain": [
       "   County_x   Time      Date_x  MDL_x  Jul15 PM2.5  \\\n",
       "0    Shasta  00:00  2021-07-15    5.0          9.0   \n",
       "1    Shasta  01:00  2021-07-15    5.0          8.0   \n",
       "2    Shasta  02:00  2021-07-15    5.0          9.0   \n",
       "3    Shasta  03:00  2021-07-15    5.0          7.0   \n",
       "4    Shasta  04:00  2021-07-15    5.0          8.0   \n",
       "5    Shasta  05:00  2021-07-15    5.0          5.0   \n",
       "6    Shasta  06:00  2021-07-15    5.0          6.0   \n",
       "7    Shasta  07:00  2021-07-15    5.0         14.0   \n",
       "8    Shasta  08:00  2021-07-15    5.0         13.0   \n",
       "9    Shasta  09:00  2021-07-15    5.0         10.0   \n",
       "10   Shasta  10:00  2021-07-15    5.0         12.0   \n",
       "11   Shasta  11:00  2021-07-15    5.0          6.0   \n",
       "12   Shasta  12:00  2021-07-15    5.0         11.0   \n",
       "13   Shasta  13:00  2021-07-15    5.0          8.0   \n",
       "14   Shasta  14:00  2021-07-15    5.0          8.0   \n",
       "15   Shasta  15:00  2021-07-15    5.0          9.0   \n",
       "16   Shasta  16:00  2021-07-15    5.0          9.0   \n",
       "17   Shasta  17:00  2021-07-15    5.0          7.0   \n",
       "18   Shasta  18:00  2021-07-15    5.0          NaN   \n",
       "19   Shasta  19:00  2021-07-15    5.0          6.0   \n",
       "20   Shasta  20:00  2021-07-15    5.0          NaN   \n",
       "21   Shasta  21:00  2021-07-15    5.0         10.0   \n",
       "22   Shasta  22:00  2021-07-15    5.0          7.0   \n",
       "23   Shasta  23:00  2021-07-15    5.0          7.0   \n",
       "\n",
       "                        Units_x County_y      Date_y  MDL_y  Aug15 PM2.5  \\\n",
       "0   Micrograms/cubic meter (LC)   Shasta  2021-08-15    5.0        136.0   \n",
       "1   Micrograms/cubic meter (LC)   Shasta  2021-08-15    5.0        141.0   \n",
       "2   Micrograms/cubic meter (LC)   Shasta  2021-08-15    5.0        135.0   \n",
       "3   Micrograms/cubic meter (LC)   Shasta  2021-08-15    5.0        131.0   \n",
       "4   Micrograms/cubic meter (LC)   Shasta  2021-08-15    5.0        129.0   \n",
       "5   Micrograms/cubic meter (LC)   Shasta  2021-08-15    5.0        125.0   \n",
       "6   Micrograms/cubic meter (LC)   Shasta  2021-08-15    5.0        130.0   \n",
       "7   Micrograms/cubic meter (LC)   Shasta  2021-08-15    5.0        138.0   \n",
       "8   Micrograms/cubic meter (LC)   Shasta  2021-08-15    5.0        147.0   \n",
       "9   Micrograms/cubic meter (LC)   Shasta  2021-08-15    5.0        163.0   \n",
       "10  Micrograms/cubic meter (LC)   Shasta  2021-08-15    5.0        159.0   \n",
       "11  Micrograms/cubic meter (LC)   Shasta  2021-08-15    5.0        155.0   \n",
       "12  Micrograms/cubic meter (LC)   Shasta  2021-08-15    5.0        140.0   \n",
       "13  Micrograms/cubic meter (LC)   Shasta  2021-08-15    5.0        151.0   \n",
       "14  Micrograms/cubic meter (LC)   Shasta  2021-08-15    5.0        200.0   \n",
       "15  Micrograms/cubic meter (LC)   Shasta  2021-08-15    5.0        282.0   \n",
       "16  Micrograms/cubic meter (LC)   Shasta  2021-08-15    5.0        244.0   \n",
       "17  Micrograms/cubic meter (LC)   Shasta  2021-08-15    5.0        247.0   \n",
       "18  Micrograms/cubic meter (LC)   Shasta  2021-08-15    5.0        274.0   \n",
       "19  Micrograms/cubic meter (LC)   Shasta  2021-08-15    5.0        230.0   \n",
       "20  Micrograms/cubic meter (LC)   Shasta  2021-08-15    5.0         66.0   \n",
       "21  Micrograms/cubic meter (LC)   Shasta  2021-08-15    5.0         43.0   \n",
       "22  Micrograms/cubic meter (LC)   Shasta  2021-08-15    5.0         33.0   \n",
       "23  Micrograms/cubic meter (LC)   Shasta  2021-08-15    5.0         30.0   \n",
       "\n",
       "                        Units_y  \n",
       "0   Micrograms/cubic meter (LC)  \n",
       "1   Micrograms/cubic meter (LC)  \n",
       "2   Micrograms/cubic meter (LC)  \n",
       "3   Micrograms/cubic meter (LC)  \n",
       "4   Micrograms/cubic meter (LC)  \n",
       "5   Micrograms/cubic meter (LC)  \n",
       "6   Micrograms/cubic meter (LC)  \n",
       "7   Micrograms/cubic meter (LC)  \n",
       "8   Micrograms/cubic meter (LC)  \n",
       "9   Micrograms/cubic meter (LC)  \n",
       "10  Micrograms/cubic meter (LC)  \n",
       "11  Micrograms/cubic meter (LC)  \n",
       "12  Micrograms/cubic meter (LC)  \n",
       "13  Micrograms/cubic meter (LC)  \n",
       "14  Micrograms/cubic meter (LC)  \n",
       "15  Micrograms/cubic meter (LC)  \n",
       "16  Micrograms/cubic meter (LC)  \n",
       "17  Micrograms/cubic meter (LC)  \n",
       "18  Micrograms/cubic meter (LC)  \n",
       "19  Micrograms/cubic meter (LC)  \n",
       "20  Micrograms/cubic meter (LC)  \n",
       "21  Micrograms/cubic meter (LC)  \n",
       "22  Micrograms/cubic meter (LC)  \n",
       "23  Micrograms/cubic meter (LC)  "
      ]
     },
     "execution_count": 56,
     "metadata": {},
     "output_type": "execute_result"
    }
   ],
   "source": [
    "# SOLUTION\n",
    "sc_merge = sc_jul15.merge(sc_aug15,on='Time')\n",
    "sc_merge.rename(columns={'Measurement_x':'Jul15 PM2.5', 'Measurement_y':'Aug15 PM2.5'},inplace=True)\n",
    "sc_merge"
   ]
  },
  {
   "cell_type": "markdown",
   "metadata": {},
   "source": [
    "**Question 4.7 (2pt):** Calculate the mean PM2.5 measurement on both days. Using [EPA's air quality index](https://www.airnow.gov/aqi/aqi-basics/), comment on the relative level of health concern for each day.\n"
   ]
  },
  {
   "cell_type": "code",
   "execution_count": 57,
   "metadata": {},
   "outputs": [],
   "source": [
    "# YOUR CODE HERE"
   ]
  },
  {
   "cell_type": "code",
   "execution_count": 58,
   "metadata": {},
   "outputs": [
    {
     "name": "stdout",
     "output_type": "stream",
     "text": [
      "8.590909090909092\n",
      "151.20833333333334\n"
     ]
    }
   ],
   "source": [
    "# SOLUTION\n",
    "sc_jul15_mean = sc_merge['Jul15 PM2.5'].mean()\n",
    "sc_aug15_mean = sc_merge['Aug15 PM2.5'].mean()\n",
    "\n",
    "print(sc_jul15_mean)\n",
    "print(sc_aug15_mean)"
   ]
  },
  {
   "cell_type": "markdown",
   "metadata": {},
   "source": [
    "*YOUR ANSWER HERE*\n"
   ]
  },
  {
   "cell_type": "markdown",
   "metadata": {},
   "source": [
    "*SOLUTION* \n",
    "\n",
    "*EPA AQI measure on 15-Jul-2021 is in the green zone \"Level of Concern=Good\"; \"Air quality is satisfactory, and air pollution poses little or no risk.\"*\n",
    "\n",
    "*EPA AQI measure on 15-Aug-2021 is in the red zone \"Level of Concern=Unhealthy\"; \"Some members of the general public may experience health effects; members of sensitive groups may experience more serious health effects.\"*\n"
   ]
  },
  {
   "cell_type": "markdown",
   "metadata": {},
   "source": [
    "**Question 4.8 (2pts for completion):** Read this article [Managing the growing cost of wildfire](https://siepr.stanford.edu/publications/policy-brief/managing-growing-cost-wildfire), and answer the following questions:\n",
    "\n",
    "How should policymakers decide where and how to spend money to reduce PM2.5 pollution impacts due to wildfires? Provide one example of a prediction question you could answer that would help policy makers know if they are using their resources (money, time, etc.) effectively to reduce PM2.5 pollution from wildfires."
   ]
  },
  {
   "cell_type": "markdown",
   "metadata": {},
   "source": [
    "*YOUR ANSWER HERE*"
   ]
  },
  {
   "cell_type": "markdown",
   "metadata": {},
   "source": [
    "*SOLUTION*\n",
    "\n",
    "*Policymakers should create a comprehensive plan to evaluate when and where wildfire smoke is dispersed, and then study the individuals that are within range of PM2.5 pollution afterwards. One potential prediction question is – what level of PM2.5 pollution causes adverse effects on individuals?*"
   ]
  },
  {
   "cell_type": "markdown",
   "metadata": {},
   "source": [
    "----\n",
    "\n",
    "## Submission\n",
    "\n",
    "Congrats, you're done with homework 2!\n",
    "\n",
    "Before you submit, click **Kernel** --> **Restart & Clear Output**. Then, click **Cell** --> **Run All**. Then, go to the toolbar and click **File** -> **Download as** -> **.pdf** and submit the file through bCourses."
   ]
  },
  {
   "cell_type": "markdown",
   "metadata": {},
   "source": [
    "---\n",
    "Adapted from a notebook developed by: Melissa Ly\n",
    "\n",
    "Data Science Modules: http://data.berkeley.edu/education/modules"
   ]
  }
 ],
 "metadata": {
  "anaconda-cloud": {},
  "kernelspec": {
   "display_name": "Python 3 (ipykernel)",
   "language": "python",
   "name": "python3"
  },
  "language_info": {
   "codemirror_mode": {
    "name": "ipython",
    "version": 3
   },
   "file_extension": ".py",
   "mimetype": "text/x-python",
   "name": "python",
   "nbconvert_exporter": "python",
   "pygments_lexer": "ipython3",
   "version": "3.8.8"
  }
 },
 "nbformat": 4,
 "nbformat_minor": 2
}
